{
 "cells": [
  {
   "cell_type": "code",
   "execution_count": 1,
   "metadata": {},
   "outputs": [],
   "source": [
    "import pandas as pd\n",
    "import pickle\n",
    "import numpy as np\n",
    "import seaborn as sns\n",
    "import matplotlib.pyplot as plt\n",
    "%matplotlib inline"
   ]
  },
  {
   "cell_type": "code",
   "execution_count": 48,
   "metadata": {},
   "outputs": [],
   "source": [
    "with open('fulldataframe.pickle', 'rb') as f:\n",
    "    df = pickle.load(f)"
   ]
  },
  {
   "cell_type": "markdown",
   "metadata": {},
   "source": [
    "# Need to get brands in the dataframe too: more scraping TO DO"
   ]
  },
  {
   "cell_type": "code",
   "execution_count": 42,
   "metadata": {
    "scrolled": true
   },
   "outputs": [],
   "source": [
    "for p in df.price:\n",
    "    if len(p)<5:\n",
    "        p+='0'\n",
    "rates,prices=[],[]\n",
    "for r,p in zip(df.rating, df.price):\n",
    "    rates.append(float(r))\n",
    "    prices.append(float(p))\n",
    "df['price']=prices\n",
    "df['rating']=rates"
   ]
  },
  {
   "cell_type": "code",
   "execution_count": 49,
   "metadata": {},
   "outputs": [],
   "source": [
    "with open('df.pickle', 'wb') as f:\n",
    "    pickle.dump(df, f, pickle.HIGHEST_PROTOCOL)"
   ]
  },
  {
   "cell_type": "code",
   "execution_count": 45,
   "metadata": {},
   "outputs": [
    {
     "data": {
      "text/plain": [
       "<matplotlib.axes._subplots.AxesSubplot at 0x7fa8188ea630>"
      ]
     },
     "execution_count": 45,
     "metadata": {},
     "output_type": "execute_result"
    },
    {
     "data": {
      "image/png": "[encoded data removed]",
      "text/plain": [
       "<Figure size 432x288 with 1 Axes>"
      ]
     },
     "metadata": {
      "needs_background": "light"
     },
     "output_type": "display_data"
    }
   ],
   "source": [
    "sns.distplot(list(df.rating))"
   ]
  },
  {
   "cell_type": "code",
   "execution_count": 47,
   "metadata": {
    "scrolled": true
   },
   "outputs": [
    {
     "data": {
      "text/html": [
       "<div>\n",
       "<style scoped>\n",
       "    .dataframe tbody tr th:only-of-type {\n",
       "        vertical-align: middle;\n",
       "    }\n",
       "\n",
       "    .dataframe tbody tr th {\n",
       "        vertical-align: top;\n",
       "    }\n",
       "\n",
       "    .dataframe thead th {\n",
       "        text-align: right;\n",
       "    }\n",
       "</style>\n",
       "<table border=\"1\" class=\"dataframe\">\n",
       "  <thead>\n",
       "    <tr style=\"text-align: right;\">\n",
       "      <th></th>\n",
       "      <th>price</th>\n",
       "      <th>prodName</th>\n",
       "      <th>rating</th>\n",
       "      <th>age</th>\n",
       "      <th>darkcircles</th>\n",
       "      <th>acne</th>\n",
       "      <th>dry</th>\n",
       "      <th>redness</th>\n",
       "      <th>sensitive</th>\n",
       "      <th>oil</th>\n",
       "      <th>normal</th>\n",
       "      <th>treats</th>\n",
       "      <th>type</th>\n",
       "    </tr>\n",
       "    <tr>\n",
       "      <th>url</th>\n",
       "      <th></th>\n",
       "      <th></th>\n",
       "      <th></th>\n",
       "      <th></th>\n",
       "      <th></th>\n",
       "      <th></th>\n",
       "      <th></th>\n",
       "      <th></th>\n",
       "      <th></th>\n",
       "      <th></th>\n",
       "      <th></th>\n",
       "      <th></th>\n",
       "      <th></th>\n",
       "    </tr>\n",
       "  </thead>\n",
       "  <tbody>\n",
       "    <tr>\n",
       "      <th>11401318</th>\n",
       "      <td>425.0</td>\n",
       "      <td>3LAB Anti-Ageing Eye Lift 15ml</td>\n",
       "      <td>3.67</td>\n",
       "      <td>0</td>\n",
       "      <td>1</td>\n",
       "      <td>0</td>\n",
       "      <td>0</td>\n",
       "      <td>0</td>\n",
       "      <td>0</td>\n",
       "      <td>0</td>\n",
       "      <td>0</td>\n",
       "      <td>7</td>\n",
       "      <td>[eye]</td>\n",
       "    </tr>\n",
       "    <tr>\n",
       "      <th>11805860</th>\n",
       "      <td>520.0</td>\n",
       "      <td>SkinMedica Award Winning System (Worth $613.00)</td>\n",
       "      <td>4.00</td>\n",
       "      <td>1</td>\n",
       "      <td>0</td>\n",
       "      <td>0</td>\n",
       "      <td>0</td>\n",
       "      <td>0</td>\n",
       "      <td>0</td>\n",
       "      <td>0</td>\n",
       "      <td>0</td>\n",
       "      <td>8</td>\n",
       "      <td>[serum, moisturizer]</td>\n",
       "    </tr>\n",
       "    <tr>\n",
       "      <th>11401312</th>\n",
       "      <td>900.0</td>\n",
       "      <td>3LAB Super Cream 50ml</td>\n",
       "      <td>3.00</td>\n",
       "      <td>1</td>\n",
       "      <td>0</td>\n",
       "      <td>0</td>\n",
       "      <td>0</td>\n",
       "      <td>0</td>\n",
       "      <td>0</td>\n",
       "      <td>0</td>\n",
       "      <td>0</td>\n",
       "      <td>8</td>\n",
       "      <td>[moisturizer]</td>\n",
       "    </tr>\n",
       "    <tr>\n",
       "      <th>11401316</th>\n",
       "      <td>475.0</td>\n",
       "      <td>3LAB Super Eye Treatment 20ml</td>\n",
       "      <td>5.00</td>\n",
       "      <td>1</td>\n",
       "      <td>0</td>\n",
       "      <td>0</td>\n",
       "      <td>0</td>\n",
       "      <td>0</td>\n",
       "      <td>0</td>\n",
       "      <td>0</td>\n",
       "      <td>0</td>\n",
       "      <td>8</td>\n",
       "      <td>[eye]</td>\n",
       "    </tr>\n",
       "    <tr>\n",
       "      <th>10997777</th>\n",
       "      <td>410.0</td>\n",
       "      <td>Omorovicza Blue Diamond Concentrate (1 oz.)</td>\n",
       "      <td>5.00</td>\n",
       "      <td>1</td>\n",
       "      <td>0</td>\n",
       "      <td>0</td>\n",
       "      <td>0</td>\n",
       "      <td>0</td>\n",
       "      <td>0</td>\n",
       "      <td>0</td>\n",
       "      <td>0</td>\n",
       "      <td>8</td>\n",
       "      <td>[]</td>\n",
       "    </tr>\n",
       "  </tbody>\n",
       "</table>\n",
       "</div>"
      ],
      "text/plain": [
       "          price                                         prodName  rating  age  \\\n",
       "url                                                                             \n",
       "11401318  425.0                   3LAB Anti-Ageing Eye Lift 15ml    3.67    0   \n",
       "11805860  520.0  SkinMedica Award Winning System (Worth $613.00)    4.00    1   \n",
       "11401312  900.0                            3LAB Super Cream 50ml    3.00    1   \n",
       "11401316  475.0                    3LAB Super Eye Treatment 20ml    5.00    1   \n",
       "10997777  410.0      Omorovicza Blue Diamond Concentrate (1 oz.)    5.00    1   \n",
       "\n",
       "          darkcircles  acne  dry  redness  sensitive  oil  normal  treats  \\\n",
       "url                                                                         \n",
       "11401318            1     0    0        0          0    0       0       7   \n",
       "11805860            0     0    0        0          0    0       0       8   \n",
       "11401312            0     0    0        0          0    0       0       8   \n",
       "11401316            0     0    0        0          0    0       0       8   \n",
       "10997777            0     0    0        0          0    0       0       8   \n",
       "\n",
       "                          type  \n",
       "url                             \n",
       "11401318                 [eye]  \n",
       "11805860  [serum, moisturizer]  \n",
       "11401312         [moisturizer]  \n",
       "11401316                 [eye]  \n",
       "10997777                    []  "
      ]
     },
     "execution_count": 47,
     "metadata": {},
     "output_type": "execute_result"
    },
    {
     "data": {
      "image/png": "[encoded data removed]",
      "text/plain": [
       "<Figure size 432x288 with 1 Axes>"
      ]
     },
     "metadata": {
      "needs_background": "light"
     },
     "output_type": "display_data"
    }
   ],
   "source": [
    "sns.distplot(df.price)\n",
    "df[df['price']>400]"
   ]
  },
  {
   "cell_type": "code",
   "execution_count": 2,
   "metadata": {},
   "outputs": [],
   "source": [
    "import requests\n",
    "from bs4 import BeautifulSoup"
   ]
  },
  {
   "cell_type": "code",
   "execution_count": 25,
   "metadata": {},
   "outputs": [],
   "source": [
    "response=requests.get('https://www.skinstore.com/skin-care/makeup-removers.list')\n",
    "soup=BeautifulSoup(response.content,'html.parser')\n",
    "images=soup.findAll('div',{'class':'productBlock_imageContainer'},{'src':True})"
   ]
  },
  {
   "cell_type": "code",
   "execution_count": 36,
   "metadata": {},
   "outputs": [],
   "source": [
    "imgs=[]\n",
    "for i in images:\n",
    "     imgs.append(str(i).split('\"')[-2])"
   ]
  },
  {
   "cell_type": "code",
   "execution_count": 29,
   "metadata": {},
   "outputs": [
    {
     "data": {
      "text/plain": [
       "'\"https://s4.thcdn.com/productimg/300/300/10364667-1974493647737453.jpg\">\\n</img></div>'"
      ]
     },
     "execution_count": 29,
     "metadata": {},
     "output_type": "execute_result"
    }
   ],
   "source": [
    "str(i).split('src=\"')[1].replace('\">\\n</img></div>','')"
   ]
  },
  {
   "cell_type": "code",
   "execution_count": 37,
   "metadata": {
    "scrolled": true
   },
   "outputs": [
    {
     "data": {
      "text/plain": [
       "['https://s4.thcdn.com/productimg/300/300/10364667-1974493647737453.jpg',\n",
       " 'https://s3.thcdn.com/productimg/300/300/11254613-1864385546303325.jpg',\n",
       " 'https://s4.thcdn.com/productimg/0/300/300/30/10941230-1397494493-297980.jpg',\n",
       " 'https://s3.thcdn.com/productimg/300/300/10363611-6764608721615863.jpg',\n",
       " 'https://s2.thcdn.com/productimg/300/300/11207442-2484587225629865.jpg',\n",
       " 'https://s3.thcdn.com/productimg/300/300/10727688-1724577813934678.jpg',\n",
       " 'https://s3.thcdn.com/productimg/300/300/10365659-8594643145222687.jpg',\n",
       " 'https://s3.thcdn.com/productimg/300/300/11207526-1684587225697641.jpg',\n",
       " 'https://s2.thcdn.com/productimg/300/300/11331872-6324587226660296.jpg',\n",
       " 'https://s3.thcdn.com/productimg/300/300/11305289-1554405025178294.jpg',\n",
       " 'https://s2.thcdn.com/productimg/300/300/11207547-1674587225759249.jpg',\n",
       " 'https://s1.thcdn.com/productimg/300/300/11207546-8124648071391272.jpg',\n",
       " 'https://s1.thcdn.com/productimg/300/300/11597712-1474684887592728.jpg',\n",
       " 'https://s4.thcdn.com/productimg/300/300/11752275-1194597288878801.jpg',\n",
       " 'https://s1.thcdn.com/productimg/300/300/11207565-1094588789919871.jpg',\n",
       " 'https://s2.thcdn.com/productimg/300/300/11117670-1264517491866459.jpg',\n",
       " 'https://s2.thcdn.com/productimg/300/300/11318068-6754587226064439.jpg',\n",
       " 'https://s1.thcdn.com/productimg/300/300/11653766-2444555601673084.jpg',\n",
       " 'https://s2.thcdn.com/productimg/300/300/11518959-5624514319502095.jpg',\n",
       " 'https://s2.thcdn.com/productimg/300/300/11117583-9644303920411012.jpg',\n",
       " 'https://s4.thcdn.com/productimg/300/300/11279345-1504389439928241.jpg',\n",
       " 'https://s2.thcdn.com/productimg/300/300/11305290-3194405025190444.jpg',\n",
       " 'https://s2.thcdn.com/productimg/300/300/11207560-1194456568020353.jpg',\n",
       " 'https://s4.thcdn.com/productimg/300/300/11576495-3194525210560999.jpg',\n",
       " 'https://s2.thcdn.com/productimg/300/300/11724032-1994659505415007.jpg',\n",
       " 'https://s4.thcdn.com/productimg/300/300/11307235-1704477800000831.jpg',\n",
       " 'https://s4.thcdn.com/productimg/300/300/11536648-1034530987257574.jpg',\n",
       " 'https://s3.thcdn.com/productimg/300/300/11759908-1304599100019148.jpg',\n",
       " 'https://s4.thcdn.com/productimg/300/300/11423365-1324475982635817.jpg',\n",
       " 'https://s1.thcdn.com/productimg/300/300/11419244-1104467186036024.jpg',\n",
       " 'https://s4.thcdn.com/productimg/300/300/11689518-1144554290351739.jpg',\n",
       " 'https://s3.thcdn.com/productimg/300/300/11352183-9724432773382329.jpg',\n",
       " 'https://s4.thcdn.com/productimg/300/300/11289049-1644649964905061.jpg',\n",
       " 'https://s3.thcdn.com/productimg/300/300/11576496-9224525205645157.jpg',\n",
       " 'https://s3.thcdn.com/productimg/300/300/11317039-7784501911028629.jpg',\n",
       " 'https://s4.thcdn.com/productimg/300/300/11117584-1574441838431269.jpg',\n",
       " 'https://s1.thcdn.com/productimg/300/300/11317038-1654501910931000.jpg',\n",
       " 'https://s3.thcdn.com/productimg/300/300/12281536-9284708772878521.jpg',\n",
       " 'https://s1.thcdn.com/productimg/0/300/300/40/10729940-1366122482-705595.jpg',\n",
       " 'https://s1.thcdn.com/productimg/0/300/300/34/10304634-1307442586-650261.jpg',\n",
       " 'https://s3.thcdn.com/productimg/300/300/11434209-1924472683401576.jpg',\n",
       " 'https://s3.thcdn.com/productimg/300/300/11117672-1534517492050692.jpg',\n",
       " 'https://s1.thcdn.com/productimg/300/300/11480966-1854491073206354.jpg',\n",
       " 'https://s2.thcdn.com/productimg/300/300/11728663-1284570362525165.jpg',\n",
       " 'https://s1.thcdn.com/productimg/300/300/11759904-1614586382704109.jpg',\n",
       " 'https://s3.thcdn.com/productimg/300/300/11553558-1584539502679787.jpg',\n",
       " 'https://s4.thcdn.com/productimg/300/300/11288402-5364517492632494.jpg',\n",
       " 'https://s1.thcdn.com/productimg/300/300/11286336-4924394380796148.jpg']"
      ]
     },
     "execution_count": 37,
     "metadata": {},
     "output_type": "execute_result"
    }
   ],
   "source": [
    "imgs"
   ]
  },
  {
   "cell_type": "code",
   "execution_count": 35,
   "metadata": {},
   "outputs": [
    {
     "data": {
      "text/plain": [
       "'https://s4.thcdn.com/productimg/300/300/10364667-1974493647737453.jpg'"
      ]
     },
     "execution_count": 35,
     "metadata": {},
     "output_type": "execute_result"
    }
   ],
   "source": [
    "str(i).split('\"')[-2]"
   ]
  },
  {
   "cell_type": "code",
   "execution_count": null,
   "metadata": {},
   "outputs": [],
   "source": []
  }
 ],
 "metadata": {
  "kernelspec": {
   "display_name": "Python 3",
   "language": "python",
   "name": "python3"
  },
  "language_info": {
   "codemirror_mode": {
    "name": "ipython",
    "version": 3
   },
   "file_extension": ".py",
   "mimetype": "text/x-python",
   "name": "python",
   "nbconvert_exporter": "python",
   "pygments_lexer": "ipython3",
   "version": "3.7.3"
  }
 },
 "nbformat": 4,
 "nbformat_minor": 2
}
