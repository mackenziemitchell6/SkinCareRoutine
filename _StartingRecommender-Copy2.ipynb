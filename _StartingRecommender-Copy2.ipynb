{
 "cells": [
  {
   "cell_type": "code",
   "execution_count": 1,
   "metadata": {},
   "outputs": [],
   "source": [
    "import nltk\n",
    "from nltk.corpus import stopwords\n",
    "import pandas as pd\n",
    "import pickle\n",
    "import numpy as np\n",
    "from nltk import word_tokenize, FreqDist\n",
    "import string\n",
    "from os import path\n",
    "from PIL import Image\n",
    "import matplotlib.pyplot as plt\n",
    "# from wordcloud import WordCloud, STOPWORDS,ImageColorGenerator\n",
    "# from nltk.sentiment.sentiment_analyzer import SentimentAnalyzer as sa\n",
    "# from nltk.classify.scikitlearn import SklearnClassifier\n",
    "# from nltk.classify import ClassifierI\n",
    "from vaderSentiment.vaderSentiment import SentimentIntensityAnalyzer\n",
    "import spacy\n",
    "from surprise.prediction_algorithms import knns\n",
    "from surprise.similarities import cosine, msd, pearson\n",
    "from surprise.model_selection import train_test_split, cross_validate\n",
    "from surprise import Dataset, Reader, accuracy, SVD, NMF\n",
    "reader= Reader(rating_scale=(1, 5.0))\n",
    "from surprise.prediction_algorithms import KNNWithMeans, KNNBasic, KNNBaseline\n",
    "from surprise.model_selection import cross_validate, GridSearchCV\n",
    "from surprise import Trainset\n",
    "import requests\n",
    "\n",
    "from sklearn.feature_extraction.text import TfidfVectorizer, CountVectorizer\n",
    "from sklearn.metrics.pairwise import linear_kernel, cosine_similarity\n",
    "\n",
    "with open('userratingsDF.pickle', 'rb') as f:\n",
    "    dfr = pickle.load(f)\n",
    "with open('CategoricalItemDF.pickle', 'rb') as f:\n",
    "    full = pickle.load(f)\n",
    "with open('_SENT&RATINGDF.pickle', 'rb') as f:\n",
    "    df1 = pickle.load(f)\n",
    "with open('recdf.pickle', 'rb') as f:\n",
    "    rec = pickle.load(f)\n",
    "with open('ratingsmeandf.pickle', 'rb') as f:\n",
    "    ratemean = pickle.load(f)"
   ]
  },
  {
   "cell_type": "markdown",
   "metadata": {},
   "source": [
    "# Beginning Recommender System Using Just UserId, ItemID, and Rating"
   ]
  },
  {
   "cell_type": "markdown",
   "metadata": {},
   "source": [
    "#### Item Based Collaborative Filtering probably better than User Based bc we have more users than items"
   ]
  },
  {
   "cell_type": "code",
   "execution_count": 2,
   "metadata": {},
   "outputs": [],
   "source": [
    "toadd=full[['url','prodName','age','darkcircles','dry','redness','sensitive', 'oily', 'normal', 'cleanser',\n",
    "       'exfoliator', 'makeup-removers', 'toner', 'mist', 'treatment', 'serum',\n",
    "       'lotion', 'moisturizer', 'balm', 'oil', 'mask', 'peel', 'lip', 'eye',\n",
    "       'supplement', 'tool']]"
   ]
  },
  {
   "cell_type": "code",
   "execution_count": 3,
   "metadata": {
    "scrolled": false
   },
   "outputs": [
    {
     "data": {
      "text/html": [
       "<div>\n",
       "<style scoped>\n",
       "    .dataframe tbody tr th:only-of-type {\n",
       "        vertical-align: middle;\n",
       "    }\n",
       "\n",
       "    .dataframe tbody tr th {\n",
       "        vertical-align: top;\n",
       "    }\n",
       "\n",
       "    .dataframe thead th {\n",
       "        text-align: right;\n",
       "    }\n",
       "</style>\n",
       "<table border=\"1\" class=\"dataframe\">\n",
       "  <thead>\n",
       "    <tr style=\"text-align: right;\">\n",
       "      <th></th>\n",
       "      <th>brandName</th>\n",
       "      <th>rating</th>\n",
       "      <th>url</th>\n",
       "      <th>user</th>\n",
       "      <th>prodName</th>\n",
       "      <th>age</th>\n",
       "      <th>darkcircles</th>\n",
       "      <th>dry</th>\n",
       "      <th>redness</th>\n",
       "      <th>sensitive</th>\n",
       "      <th>...</th>\n",
       "      <th>moisturizer</th>\n",
       "      <th>balm</th>\n",
       "      <th>oil</th>\n",
       "      <th>mask</th>\n",
       "      <th>peel</th>\n",
       "      <th>lip</th>\n",
       "      <th>eye</th>\n",
       "      <th>supplement</th>\n",
       "      <th>tool</th>\n",
       "      <th>rating_count</th>\n",
       "    </tr>\n",
       "  </thead>\n",
       "  <tbody>\n",
       "    <tr>\n",
       "      <th>0</th>\n",
       "      <td>Paula's Choice</td>\n",
       "      <td>5</td>\n",
       "      <td>11174178</td>\n",
       "      <td>becky c</td>\n",
       "      <td>Paula's Choice Skin Perfecting 2% BHA Liquid E...</td>\n",
       "      <td>1</td>\n",
       "      <td>0</td>\n",
       "      <td>0</td>\n",
       "      <td>1</td>\n",
       "      <td>0</td>\n",
       "      <td>...</td>\n",
       "      <td>0</td>\n",
       "      <td>0</td>\n",
       "      <td>0</td>\n",
       "      <td>0</td>\n",
       "      <td>0</td>\n",
       "      <td>0</td>\n",
       "      <td>0</td>\n",
       "      <td>0</td>\n",
       "      <td>0</td>\n",
       "      <td>60</td>\n",
       "    </tr>\n",
       "    <tr>\n",
       "      <th>1</th>\n",
       "      <td>Paula's Choice</td>\n",
       "      <td>5</td>\n",
       "      <td>11174178</td>\n",
       "      <td>jess</td>\n",
       "      <td>Paula's Choice Skin Perfecting 2% BHA Liquid E...</td>\n",
       "      <td>1</td>\n",
       "      <td>0</td>\n",
       "      <td>0</td>\n",
       "      <td>1</td>\n",
       "      <td>0</td>\n",
       "      <td>...</td>\n",
       "      <td>0</td>\n",
       "      <td>0</td>\n",
       "      <td>0</td>\n",
       "      <td>0</td>\n",
       "      <td>0</td>\n",
       "      <td>0</td>\n",
       "      <td>0</td>\n",
       "      <td>0</td>\n",
       "      <td>0</td>\n",
       "      <td>60</td>\n",
       "    </tr>\n",
       "    <tr>\n",
       "      <th>2</th>\n",
       "      <td>Paula's Choice</td>\n",
       "      <td>5</td>\n",
       "      <td>11174178</td>\n",
       "      <td>lisa</td>\n",
       "      <td>Paula's Choice Skin Perfecting 2% BHA Liquid E...</td>\n",
       "      <td>1</td>\n",
       "      <td>0</td>\n",
       "      <td>0</td>\n",
       "      <td>1</td>\n",
       "      <td>0</td>\n",
       "      <td>...</td>\n",
       "      <td>0</td>\n",
       "      <td>0</td>\n",
       "      <td>0</td>\n",
       "      <td>0</td>\n",
       "      <td>0</td>\n",
       "      <td>0</td>\n",
       "      <td>0</td>\n",
       "      <td>0</td>\n",
       "      <td>0</td>\n",
       "      <td>60</td>\n",
       "    </tr>\n",
       "    <tr>\n",
       "      <th>3</th>\n",
       "      <td>Paula's Choice</td>\n",
       "      <td>5</td>\n",
       "      <td>11174178</td>\n",
       "      <td>stella2</td>\n",
       "      <td>Paula's Choice Skin Perfecting 2% BHA Liquid E...</td>\n",
       "      <td>1</td>\n",
       "      <td>0</td>\n",
       "      <td>0</td>\n",
       "      <td>1</td>\n",
       "      <td>0</td>\n",
       "      <td>...</td>\n",
       "      <td>0</td>\n",
       "      <td>0</td>\n",
       "      <td>0</td>\n",
       "      <td>0</td>\n",
       "      <td>0</td>\n",
       "      <td>0</td>\n",
       "      <td>0</td>\n",
       "      <td>0</td>\n",
       "      <td>0</td>\n",
       "      <td>60</td>\n",
       "    </tr>\n",
       "    <tr>\n",
       "      <th>4</th>\n",
       "      <td>Paula's Choice</td>\n",
       "      <td>5</td>\n",
       "      <td>11174178</td>\n",
       "      <td>carli</td>\n",
       "      <td>Paula's Choice Skin Perfecting 2% BHA Liquid E...</td>\n",
       "      <td>1</td>\n",
       "      <td>0</td>\n",
       "      <td>0</td>\n",
       "      <td>1</td>\n",
       "      <td>0</td>\n",
       "      <td>...</td>\n",
       "      <td>0</td>\n",
       "      <td>0</td>\n",
       "      <td>0</td>\n",
       "      <td>0</td>\n",
       "      <td>0</td>\n",
       "      <td>0</td>\n",
       "      <td>0</td>\n",
       "      <td>0</td>\n",
       "      <td>0</td>\n",
       "      <td>60</td>\n",
       "    </tr>\n",
       "  </tbody>\n",
       "</table>\n",
       "<p>5 rows × 30 columns</p>\n",
       "</div>"
      ],
      "text/plain": [
       "        brandName  rating       url     user  \\\n",
       "0  Paula's Choice       5  11174178  becky c   \n",
       "1  Paula's Choice       5  11174178     jess   \n",
       "2  Paula's Choice       5  11174178     lisa   \n",
       "3  Paula's Choice       5  11174178  stella2   \n",
       "4  Paula's Choice       5  11174178    carli   \n",
       "\n",
       "                                            prodName  age  darkcircles  dry  \\\n",
       "0  Paula's Choice Skin Perfecting 2% BHA Liquid E...    1            0    0   \n",
       "1  Paula's Choice Skin Perfecting 2% BHA Liquid E...    1            0    0   \n",
       "2  Paula's Choice Skin Perfecting 2% BHA Liquid E...    1            0    0   \n",
       "3  Paula's Choice Skin Perfecting 2% BHA Liquid E...    1            0    0   \n",
       "4  Paula's Choice Skin Perfecting 2% BHA Liquid E...    1            0    0   \n",
       "\n",
       "   redness  sensitive  ...  moisturizer  balm  oil  mask  peel  lip  eye  \\\n",
       "0        1          0  ...            0     0    0     0     0    0    0   \n",
       "1        1          0  ...            0     0    0     0     0    0    0   \n",
       "2        1          0  ...            0     0    0     0     0    0    0   \n",
       "3        1          0  ...            0     0    0     0     0    0    0   \n",
       "4        1          0  ...            0     0    0     0     0    0    0   \n",
       "\n",
       "   supplement  tool  rating_count  \n",
       "0           0     0            60  \n",
       "1           0     0            60  \n",
       "2           0     0            60  \n",
       "3           0     0            60  \n",
       "4           0     0            60  \n",
       "\n",
       "[5 rows x 30 columns]"
      ]
     },
     "execution_count": 3,
     "metadata": {},
     "output_type": "execute_result"
    }
   ],
   "source": [
    "rec=rec.merge(toadd,on='url').drop_duplicates()\n",
    "rec=rec.merge(ratemean,on='url').drop_duplicates()\n",
    "rec.rename(columns={'rating_x':'rating','prodName_x':'brandName','prodName_y':'prodName'},inplace=True)\n",
    "rec.drop(columns='rating_y',inplace=True)\n",
    "rec.head()"
   ]
  },
  {
   "cell_type": "code",
   "execution_count": 4,
   "metadata": {},
   "outputs": [],
   "source": [
    "data = Dataset.load_from_df(rec[['user','url','rating']],reader)"
   ]
  },
  {
   "cell_type": "code",
   "execution_count": 5,
   "metadata": {},
   "outputs": [
    {
     "name": "stdout",
     "output_type": "stream",
     "text": [
      "Number of users:  1378 \n",
      "\n",
      "Number of items:  514\n"
     ]
    }
   ],
   "source": [
    "dataset = data.build_full_trainset()\n",
    "print('Number of users: ',dataset.n_users,'\\n')\n",
    "print('Number of items: ',dataset.n_items)"
   ]
  },
  {
   "cell_type": "markdown",
   "metadata": {},
   "source": [
    "## Trying to Minimize RMSE"
   ]
  },
  {
   "cell_type": "markdown",
   "metadata": {},
   "source": [
    "#### SVD Grid Search"
   ]
  },
  {
   "cell_type": "code",
   "execution_count": 6,
   "metadata": {},
   "outputs": [],
   "source": [
    "params = {'n_factors' :[10,20,30,40,50,60,70,80,90,100,200],\n",
    "         'reg_all':[0.02,0.05,0.1,0.4,0.5,0.6],'n_epochs': [5, 10],\n",
    "         'lr_all': [0.002, 0.005],'reg_all': [0.4, 0.6]}\n",
    "g_s_svd = GridSearchCV(SVD,param_grid=params,n_jobs=-1)\n",
    "g_s_svd.fit(data)"
   ]
  },
  {
   "cell_type": "code",
   "execution_count": 7,
   "metadata": {},
   "outputs": [
    {
     "name": "stdout",
     "output_type": "stream",
     "text": [
      "0.9633888298748428\n",
      "{'n_factors': 40, 'reg_all': 0.4, 'n_epochs': 10, 'lr_all': 0.005}\n"
     ]
    }
   ],
   "source": [
    "print(g_s_svd.best_score['rmse'])\n",
    "print(g_s_svd.best_params['rmse'])"
   ]
  },
  {
   "cell_type": "markdown",
   "metadata": {},
   "source": [
    "#### NMF Grid Search"
   ]
  },
  {
   "cell_type": "code",
   "execution_count": 8,
   "metadata": {},
   "outputs": [],
   "source": [
    "params = {'n_factors' :[5,10,20,30,40,50,60,70,80,90,100,200],\n",
    "          'n_epochs': [5, 10]}\n",
    "g_s_nmf = GridSearchCV(NMF,param_grid=params,n_jobs=-1)\n",
    "g_s_nmf.fit(data)"
   ]
  },
  {
   "cell_type": "code",
   "execution_count": 9,
   "metadata": {},
   "outputs": [
    {
     "name": "stdout",
     "output_type": "stream",
     "text": [
      "0.9922151538829374\n",
      "{'n_factors': 200, 'n_epochs': 10}\n"
     ]
    }
   ],
   "source": [
    "print(g_s_nmf.best_score['rmse'])\n",
    "print(g_s_nmf.best_params['rmse'])"
   ]
  },
  {
   "cell_type": "markdown",
   "metadata": {},
   "source": [
    "## KNN"
   ]
  },
  {
   "cell_type": "markdown",
   "metadata": {},
   "source": [
    "### SIM_OPTIONS: Cosine Item Based"
   ]
  },
  {
   "cell_type": "markdown",
   "metadata": {},
   "source": [
    "#### KNN Basic"
   ]
  },
  {
   "cell_type": "code",
   "execution_count": 160,
   "metadata": {
    "collapsed": true
   },
   "outputs": [
    {
     "name": "stdout",
     "output_type": "stream",
     "text": [
      "('test_rmse', array([1.00668756, 0.99505168, 0.90076885, 1.08352872, 0.89960236]))\n",
      "('test_mae', array([0.69376143, 0.69034835, 0.64098749, 0.72584173, 0.63419717]))\n",
      "('fit_time', (0.005627870559692383, 0.005323886871337891, 0.005083799362182617, 0.005198955535888672, 0.004731893539428711))\n",
      "('test_time', (0.0017137527465820312, 0.0016748905181884766, 0.0016651153564453125, 0.0017728805541992188, 0.0018031597137451172))\n",
      "-----------------------\n",
      "0.9771278351356145\n"
     ]
    }
   ],
   "source": [
    "knn_basic = KNNBasic(sim_options={'name':'cosine','user_based':False})\n",
    "cv_knn_basic= cross_validate(knn_basic,data,n_jobs=-1)\n",
    "for i in cv_knn_basic.items():\n",
    "    print(i)\n",
    "print('-----------------------')\n",
    "print(np.mean(cv_knn_basic['test_rmse']))"
   ]
  },
  {
   "cell_type": "markdown",
   "metadata": {},
   "source": [
    "#### KNN Baseline"
   ]
  },
  {
   "cell_type": "code",
   "execution_count": 163,
   "metadata": {
    "collapsed": true
   },
   "outputs": [
    {
     "name": "stdout",
     "output_type": "stream",
     "text": [
      "Estimating biases using als...\n",
      "Computing the cosine similarity matrix...\n",
      "Done computing similarity matrix.\n",
      "Estimating biases using als...\n",
      "Computing the cosine similarity matrix...\n",
      "Done computing similarity matrix.\n",
      "Estimating biases using als...\n",
      "Computing the cosine similarity matrix...\n",
      "Done computing similarity matrix.\n",
      "Estimating biases using als...\n",
      "Computing the cosine similarity matrix...\n",
      "Done computing similarity matrix.\n",
      "Estimating biases using als...\n",
      "Computing the cosine similarity matrix...\n",
      "Done computing similarity matrix.\n",
      "('test_rmse', array([0.99657255, 0.95340813, 1.0189458 , 0.98019162, 0.9073236 ]))\n",
      "('test_mae', array([0.67919473, 0.67039211, 0.69639837, 0.67608548, 0.63110021]))\n",
      "('fit_time', (0.012480974197387695, 0.012412786483764648, 0.009212017059326172, 0.010272026062011719, 0.010171175003051758))\n",
      "('test_time', (0.002516031265258789, 0.0021598339080810547, 0.001950979232788086, 0.0018680095672607422, 0.0019690990447998047))\n",
      "-----------------------\n",
      "0.9712883383716051\n"
     ]
    }
   ],
   "source": [
    "knn_baseline = KNNBaseline(sim_options={'name':'cosine','user_based':False})\n",
    "cv_knn_baseline = cross_validate(knn_baseline,data)\n",
    "for i in cv_knn_baseline.items():\n",
    "    print(i)\n",
    "print('-----------------------')\n",
    "print(np.mean(cv_knn_baseline['test_rmse']))"
   ]
  },
  {
   "cell_type": "markdown",
   "metadata": {},
   "source": [
    "#### KNN With Means"
   ]
  },
  {
   "cell_type": "code",
   "execution_count": 178,
   "metadata": {
    "collapsed": true
   },
   "outputs": [
    {
     "name": "stdout",
     "output_type": "stream",
     "text": [
      "Computing the cosine similarity matrix...\n",
      "Done computing similarity matrix.\n",
      "Computing the cosine similarity matrix...\n",
      "Done computing similarity matrix.\n",
      "Computing the cosine similarity matrix...\n",
      "Done computing similarity matrix.\n",
      "Computing the cosine similarity matrix...\n",
      "Done computing similarity matrix.\n",
      "Computing the cosine similarity matrix...\n",
      "Done computing similarity matrix.\n",
      "('test_rmse', array([0.96048315, 1.05057543, 1.04637594, 0.92844599, 0.99753315]))\n",
      "('test_mae', array([0.65257879, 0.69738957, 0.68658064, 0.63740162, 0.67350202]))\n",
      "('fit_time', (0.012176036834716797, 0.012534856796264648, 0.01201009750366211, 0.010139226913452148, 0.008389949798583984))\n",
      "('test_time', (0.0024878978729248047, 0.0023200511932373047, 0.002270936965942383, 0.002065896987915039, 0.002001047134399414))\n",
      "-----------------------\n",
      "0.9966827339456261\n"
     ]
    }
   ],
   "source": [
    "knn_means = KNNWithMeans(sim_options={'name':'cosine','user_based':False})\n",
    "cv_knn_means = cross_validate(knn_means,data)\n",
    "for i in cv_knn_means.items():\n",
    "    print(i)\n",
    "print('-----------------------')\n",
    "print(np.mean(cv_knn_means['test_rmse']))"
   ]
  },
  {
   "cell_type": "markdown",
   "metadata": {},
   "source": [
    "### SIM_OPTIONS: Cosine USer Based"
   ]
  },
  {
   "cell_type": "markdown",
   "metadata": {},
   "source": [
    "#### KNN Basic"
   ]
  },
  {
   "cell_type": "code",
   "execution_count": 164,
   "metadata": {
    "collapsed": true
   },
   "outputs": [
    {
     "name": "stdout",
     "output_type": "stream",
     "text": [
      "('test_rmse', array([1.02947006, 0.97202445, 0.96806476, 0.94829387, 0.97347879]))\n",
      "('test_mae', array([0.70727482, 0.66659346, 0.67929112, 0.6617394 , 0.67282127]))\n",
      "('fit_time', (0.03415393829345703, 0.034859657287597656, 0.03474569320678711, 0.032071828842163086, 0.03397202491760254))\n",
      "('test_time', (0.0023200511932373047, 0.0019750595092773438, 0.0021491050720214844, 0.0019021034240722656, 0.0018661022186279297))\n",
      "-----------------------\n",
      "0.9782663863348275\n"
     ]
    }
   ],
   "source": [
    "knn_basic = KNNBasic(sim_options={'name':'cosine','user_based':True})\n",
    "cv_knn_basic= cross_validate(knn_basic,data,n_jobs=-1)\n",
    "for i in cv_knn_basic.items():\n",
    "    print(i)\n",
    "print('-----------------------')\n",
    "print(np.mean(cv_knn_basic['test_rmse']))"
   ]
  },
  {
   "cell_type": "markdown",
   "metadata": {},
   "source": [
    "#### KNN Baseline"
   ]
  },
  {
   "cell_type": "code",
   "execution_count": 165,
   "metadata": {
    "collapsed": true
   },
   "outputs": [
    {
     "name": "stdout",
     "output_type": "stream",
     "text": [
      "Estimating biases using als...\n",
      "Computing the cosine similarity matrix...\n",
      "Done computing similarity matrix.\n",
      "Estimating biases using als...\n",
      "Computing the cosine similarity matrix...\n",
      "Done computing similarity matrix.\n",
      "Estimating biases using als...\n",
      "Computing the cosine similarity matrix...\n",
      "Done computing similarity matrix.\n",
      "Estimating biases using als...\n",
      "Computing the cosine similarity matrix...\n",
      "Done computing similarity matrix.\n",
      "Estimating biases using als...\n",
      "Computing the cosine similarity matrix...\n",
      "Done computing similarity matrix.\n",
      "('test_rmse', array([0.90616494, 1.10353407, 0.85771825, 0.99883143, 0.98322041]))\n",
      "('test_mae', array([0.64120325, 0.72741781, 0.61913925, 0.6982636 , 0.67150947]))\n",
      "('fit_time', (0.050257205963134766, 0.0318598747253418, 0.02761101722717285, 0.029393911361694336, 0.04259991645812988))\n",
      "('test_time', (0.0021359920501708984, 0.0020210742950439453, 0.0019791126251220703, 0.002002239227294922, 0.0018858909606933594))\n",
      "-----------------------\n",
      "0.9698938215232413\n"
     ]
    }
   ],
   "source": [
    "knn_baseline = KNNBaseline(sim_options={'name':'cosine','user_based':True})\n",
    "cv_knn_baseline = cross_validate(knn_baseline,data)\n",
    "for i in cv_knn_baseline.items():\n",
    "    print(i)\n",
    "print('-----------------------')\n",
    "print(np.mean(cv_knn_baseline['test_rmse']))"
   ]
  },
  {
   "cell_type": "markdown",
   "metadata": {},
   "source": [
    "#### KNN With Means"
   ]
  },
  {
   "cell_type": "code",
   "execution_count": 179,
   "metadata": {
    "collapsed": true
   },
   "outputs": [
    {
     "name": "stdout",
     "output_type": "stream",
     "text": [
      "Computing the cosine similarity matrix...\n",
      "Done computing similarity matrix.\n",
      "Computing the cosine similarity matrix...\n",
      "Done computing similarity matrix.\n",
      "Computing the cosine similarity matrix...\n",
      "Done computing similarity matrix.\n",
      "Computing the cosine similarity matrix...\n",
      "Done computing similarity matrix.\n",
      "Computing the cosine similarity matrix...\n",
      "Done computing similarity matrix.\n",
      "('test_rmse', array([1.17846214, 0.95436375, 0.99328449, 1.02427175, 0.92085753]))\n",
      "('test_mae', array([0.74239993, 0.65674161, 0.66069284, 0.69144495, 0.60341413]))\n",
      "('fit_time', (0.04790687561035156, 0.03203082084655762, 0.032475948333740234, 0.03106093406677246, 0.03368401527404785))\n",
      "('test_time', (0.0022640228271484375, 0.00199127197265625, 0.002045869827270508, 0.0019681453704833984, 0.0020809173583984375))\n",
      "-----------------------\n",
      "1.0142479335806986\n"
     ]
    }
   ],
   "source": [
    "knn_means = KNNWithMeans(sim_options={'name':'cosine','user_based':True})\n",
    "cv_knn_means = cross_validate(knn_means,data)\n",
    "for i in cv_knn_means.items():\n",
    "    print(i)\n",
    "print('-----------------------')\n",
    "print(np.mean(cv_knn_means['test_rmse']))"
   ]
  },
  {
   "cell_type": "markdown",
   "metadata": {},
   "source": [
    "### SIM_OPTIONS Peasrson Item Based"
   ]
  },
  {
   "cell_type": "markdown",
   "metadata": {},
   "source": [
    "#### KNN Basic"
   ]
  },
  {
   "cell_type": "code",
   "execution_count": 166,
   "metadata": {
    "collapsed": true
   },
   "outputs": [
    {
     "name": "stdout",
     "output_type": "stream",
     "text": [
      "('test_rmse', array([1.04111251, 1.03871506, 0.96678572, 1.00103062, 0.83363746]))\n",
      "('test_mae', array([0.70244541, 0.70764459, 0.66601976, 0.6868882 , 0.62915486]))\n",
      "('fit_time', (0.008600711822509766, 0.008198022842407227, 0.007836341857910156, 0.00902700424194336, 0.0051670074462890625))\n",
      "('test_time', (0.0020520687103271484, 0.0019009113311767578, 0.0018107891082763672, 0.0019309520721435547, 0.0017290115356445312))\n",
      "-----------------------\n",
      "0.976256272730178\n"
     ]
    }
   ],
   "source": [
    "knn_basic = KNNBasic(sim_options={'name':'pearson','user_based':False})\n",
    "cv_knn_basic= cross_validate(knn_basic,data,n_jobs=-1)\n",
    "for i in cv_knn_basic.items():\n",
    "    print(i)\n",
    "print('-----------------------')\n",
    "print(np.mean(cv_knn_basic['test_rmse']))"
   ]
  },
  {
   "cell_type": "markdown",
   "metadata": {},
   "source": [
    "#### KNN Baseline"
   ]
  },
  {
   "cell_type": "code",
   "execution_count": 167,
   "metadata": {
    "collapsed": true
   },
   "outputs": [
    {
     "name": "stdout",
     "output_type": "stream",
     "text": [
      "Estimating biases using als...\n",
      "Computing the pearson similarity matrix...\n",
      "Done computing similarity matrix.\n",
      "Estimating biases using als...\n",
      "Computing the pearson similarity matrix...\n",
      "Done computing similarity matrix.\n",
      "Estimating biases using als...\n",
      "Computing the pearson similarity matrix...\n",
      "Done computing similarity matrix.\n",
      "Estimating biases using als...\n",
      "Computing the pearson similarity matrix...\n",
      "Done computing similarity matrix.\n",
      "Estimating biases using als...\n",
      "Computing the pearson similarity matrix...\n",
      "Done computing similarity matrix.\n",
      "('test_rmse', array([0.953247  , 0.90237868, 1.04123358, 0.98036736, 0.93852743]))\n",
      "('test_mae', array([0.66678094, 0.64986059, 0.7036908 , 0.66638486, 0.6517893 ]))\n",
      "('fit_time', (0.014440774917602539, 0.013377904891967773, 0.01069498062133789, 0.011998891830444336, 0.008732795715332031))\n",
      "('test_time', (0.002279043197631836, 0.0019481182098388672, 0.0019159317016601562, 0.0018358230590820312, 0.0019192695617675781))\n",
      "-----------------------\n",
      "0.9631508085672573\n"
     ]
    }
   ],
   "source": [
    "knn_baseline = KNNBaseline(sim_options={'name':'pearson','user_based':False})\n",
    "cv_knn_baseline = cross_validate(knn_baseline,data)\n",
    "for i in cv_knn_baseline.items():\n",
    "    print(i)\n",
    "print('-----------------------')\n",
    "print(np.mean(cv_knn_baseline['test_rmse']))"
   ]
  },
  {
   "cell_type": "markdown",
   "metadata": {},
   "source": [
    "#### KNN With Means"
   ]
  },
  {
   "cell_type": "code",
   "execution_count": 180,
   "metadata": {
    "collapsed": true
   },
   "outputs": [
    {
     "name": "stdout",
     "output_type": "stream",
     "text": [
      "Computing the pearson similarity matrix...\n",
      "Done computing similarity matrix.\n",
      "Computing the pearson similarity matrix...\n",
      "Done computing similarity matrix.\n",
      "Computing the pearson similarity matrix...\n",
      "Done computing similarity matrix.\n",
      "Computing the pearson similarity matrix...\n",
      "Done computing similarity matrix.\n",
      "Computing the pearson similarity matrix...\n",
      "Done computing similarity matrix.\n",
      "('test_rmse', array([0.88727882, 0.97497212, 0.94923614, 1.06099029, 1.12059445]))\n",
      "('test_mae', array([0.62925003, 0.67164012, 0.63346716, 0.69347224, 0.71916346]))\n",
      "('fit_time', (0.016582012176513672, 0.014825105667114258, 0.010214090347290039, 0.009563922882080078, 0.010123014450073242))\n",
      "('test_time', (0.0025670528411865234, 0.002286195755004883, 0.002138853073120117, 0.002012968063354492, 0.0020041465759277344))\n",
      "-----------------------\n",
      "0.9986143649873206\n"
     ]
    }
   ],
   "source": [
    "knn_means = KNNWithMeans(sim_options={'name':'pearson','user_based':False})\n",
    "cv_knn_means = cross_validate(knn_means,data)\n",
    "for i in cv_knn_means.items():\n",
    "    print(i)\n",
    "print('-----------------------')\n",
    "print(np.mean(cv_knn_means['test_rmse']))"
   ]
  },
  {
   "cell_type": "markdown",
   "metadata": {},
   "source": [
    "### SIM_OPTIONS Pearson User Based"
   ]
  },
  {
   "cell_type": "markdown",
   "metadata": {},
   "source": [
    "#### KNN Basic"
   ]
  },
  {
   "cell_type": "code",
   "execution_count": 168,
   "metadata": {
    "collapsed": true
   },
   "outputs": [
    {
     "name": "stdout",
     "output_type": "stream",
     "text": [
      "('test_rmse', array([0.89994467, 1.03028195, 0.98292124, 0.93622735, 1.03921655]))\n",
      "('test_mae', array([0.65185198, 0.69744792, 0.68166212, 0.66203521, 0.70006992]))\n",
      "('fit_time', (0.047106027603149414, 0.03520488739013672, 0.03540992736816406, 0.049690961837768555, 0.04812908172607422))\n",
      "('test_time', (0.0020258426666259766, 0.002270936965942383, 0.002148151397705078, 0.0022161006927490234, 0.0020170211791992188))\n",
      "-----------------------\n",
      "0.9777183528170559\n"
     ]
    }
   ],
   "source": [
    "knn_basic = KNNBasic(sim_options={'name':'pearson','user_based':True})\n",
    "cv_knn_basic= cross_validate(knn_basic,data,n_jobs=-1)\n",
    "for i in cv_knn_basic.items():\n",
    "    print(i)\n",
    "print('-----------------------')\n",
    "print(np.mean(cv_knn_basic['test_rmse']))"
   ]
  },
  {
   "cell_type": "markdown",
   "metadata": {},
   "source": [
    "#### KNN Basline"
   ]
  },
  {
   "cell_type": "code",
   "execution_count": 169,
   "metadata": {
    "collapsed": true
   },
   "outputs": [
    {
     "name": "stdout",
     "output_type": "stream",
     "text": [
      "Estimating biases using als...\n",
      "Computing the pearson similarity matrix...\n",
      "Done computing similarity matrix.\n",
      "Estimating biases using als...\n",
      "Computing the pearson similarity matrix...\n",
      "Done computing similarity matrix.\n",
      "Estimating biases using als...\n",
      "Computing the pearson similarity matrix...\n",
      "Done computing similarity matrix.\n",
      "Estimating biases using als...\n",
      "Computing the pearson similarity matrix...\n",
      "Done computing similarity matrix.\n",
      "Estimating biases using als...\n",
      "Computing the pearson similarity matrix...\n",
      "Done computing similarity matrix.\n",
      "('test_rmse', array([1.00966243, 0.96518488, 0.90872037, 0.97788387, 0.96350045]))\n",
      "('test_mae', array([0.68850616, 0.69046209, 0.63864346, 0.66575563, 0.66410403]))\n",
      "('fit_time', (0.06789612770080566, 0.03771686553955078, 0.054840087890625, 0.033451080322265625, 0.031995296478271484))\n",
      "('test_time', (0.0022788047790527344, 0.0021610260009765625, 0.002151966094970703, 0.0021021366119384766, 0.0020418167114257812))\n",
      "-----------------------\n",
      "0.9649903990713978\n"
     ]
    }
   ],
   "source": [
    "knn_baseline = KNNBaseline(sim_options={'name':'pearson','user_based':True})\n",
    "cv_knn_baseline = cross_validate(knn_baseline,data)\n",
    "for i in cv_knn_baseline.items():\n",
    "    print(i)\n",
    "print('-----------------------')\n",
    "print(np.mean(cv_knn_baseline['test_rmse']))"
   ]
  },
  {
   "cell_type": "markdown",
   "metadata": {},
   "source": [
    "#### KNN With Means"
   ]
  },
  {
   "cell_type": "code",
   "execution_count": 181,
   "metadata": {
    "collapsed": true
   },
   "outputs": [
    {
     "name": "stdout",
     "output_type": "stream",
     "text": [
      "Computing the pearson similarity matrix...\n",
      "Done computing similarity matrix.\n",
      "Computing the pearson similarity matrix...\n",
      "Done computing similarity matrix.\n",
      "Computing the pearson similarity matrix...\n",
      "Done computing similarity matrix.\n",
      "Computing the pearson similarity matrix...\n",
      "Done computing similarity matrix.\n",
      "Computing the pearson similarity matrix...\n",
      "Done computing similarity matrix.\n",
      "('test_rmse', array([1.0572003 , 1.11626738, 0.98923093, 0.98275035, 0.9225197 ]))\n",
      "('test_mae', array([0.70804349, 0.71925655, 0.65750624, 0.63128683, 0.63137946]))\n",
      "('fit_time', (0.04231595993041992, 0.03513479232788086, 0.04136991500854492, 0.04080772399902344, 0.03638315200805664))\n",
      "('test_time', (0.002267122268676758, 0.001992940902709961, 0.002068042755126953, 0.0020580291748046875, 0.0020570755004882812))\n",
      "-----------------------\n",
      "1.0135937303324263\n"
     ]
    }
   ],
   "source": [
    "knn_means = KNNWithMeans(sim_options={'name':'pearson','user_based':True})\n",
    "cv_knn_means = cross_validate(knn_means,data)\n",
    "for i in cv_knn_means.items():\n",
    "    print(i)\n",
    "print('-----------------------')\n",
    "print(np.mean(cv_knn_means['test_rmse']))"
   ]
  },
  {
   "cell_type": "markdown",
   "metadata": {},
   "source": [
    "### SIM_OPTIONS MSD Item Based"
   ]
  },
  {
   "cell_type": "markdown",
   "metadata": {},
   "source": [
    "#### KNN Basic"
   ]
  },
  {
   "cell_type": "code",
   "execution_count": 170,
   "metadata": {
    "collapsed": true
   },
   "outputs": [
    {
     "name": "stdout",
     "output_type": "stream",
     "text": [
      "('test_rmse', array([1.03411959, 0.96936912, 0.94287448, 1.01224547, 0.9321553 ]))\n",
      "('test_mae', array([0.69995339, 0.67132203, 0.66767139, 0.68783391, 0.65565277]))\n",
      "('fit_time', (0.0053670406341552734, 0.004289150238037109, 0.004187822341918945, 0.004263162612915039, 0.0028450489044189453))\n",
      "('test_time', (0.0020008087158203125, 0.001889944076538086, 0.0017838478088378906, 0.0017600059509277344, 0.0020117759704589844))\n",
      "-----------------------\n",
      "0.9781527927730167\n"
     ]
    }
   ],
   "source": [
    "knn_basic = KNNBasic(sim_options={'name':'msd','user_based':False})\n",
    "cv_knn_basic= cross_validate(knn_basic,data,n_jobs=-1)\n",
    "for i in cv_knn_basic.items():\n",
    "    print(i)\n",
    "print('-----------------------')\n",
    "print(np.mean(cv_knn_basic['test_rmse']))"
   ]
  },
  {
   "cell_type": "markdown",
   "metadata": {},
   "source": [
    "#### KNN Baseline"
   ]
  },
  {
   "cell_type": "code",
   "execution_count": 171,
   "metadata": {
    "collapsed": true
   },
   "outputs": [
    {
     "name": "stdout",
     "output_type": "stream",
     "text": [
      "Estimating biases using als...\n",
      "Computing the msd similarity matrix...\n",
      "Done computing similarity matrix.\n",
      "Estimating biases using als...\n",
      "Computing the msd similarity matrix...\n",
      "Done computing similarity matrix.\n",
      "Estimating biases using als...\n",
      "Computing the msd similarity matrix...\n",
      "Done computing similarity matrix.\n",
      "Estimating biases using als...\n",
      "Computing the msd similarity matrix...\n",
      "Done computing similarity matrix.\n",
      "Estimating biases using als...\n",
      "Computing the msd similarity matrix...\n",
      "Done computing similarity matrix.\n",
      "('test_rmse', array([1.06071802, 0.91976907, 1.00552527, 0.8073787 , 1.0119366 ]))\n",
      "('test_mae', array([0.70436286, 0.63781604, 0.69272798, 0.60127685, 0.69121273]))\n",
      "('fit_time', (0.009452104568481445, 0.009010791778564453, 0.008800029754638672, 0.0069561004638671875, 0.007444858551025391))\n",
      "('test_time', (0.0025141239166259766, 0.002216815948486328, 0.0019638538360595703, 0.0018341541290283203, 0.0018551349639892578))\n",
      "-----------------------\n",
      "0.961065532895623\n"
     ]
    }
   ],
   "source": [
    "knn_baseline = KNNBaseline(sim_options={'name':'msd','user_based':False})\n",
    "cv_knn_baseline = cross_validate(knn_baseline,data)\n",
    "for i in cv_knn_baseline.items():\n",
    "    print(i)\n",
    "print('-----------------------')\n",
    "print(np.mean(cv_knn_baseline['test_rmse']))"
   ]
  },
  {
   "cell_type": "markdown",
   "metadata": {},
   "source": [
    "#### KNN With Means"
   ]
  },
  {
   "cell_type": "code",
   "execution_count": 182,
   "metadata": {
    "collapsed": true
   },
   "outputs": [
    {
     "name": "stdout",
     "output_type": "stream",
     "text": [
      "Computing the msd similarity matrix...\n",
      "Done computing similarity matrix.\n",
      "Computing the msd similarity matrix...\n",
      "Done computing similarity matrix.\n",
      "Computing the msd similarity matrix...\n",
      "Done computing similarity matrix.\n",
      "Computing the msd similarity matrix...\n",
      "Done computing similarity matrix.\n",
      "Computing the msd similarity matrix...\n",
      "Done computing similarity matrix.\n",
      "('test_rmse', array([1.12188373, 0.86931771, 0.96506838, 0.99536495, 1.02359539]))\n",
      "('test_mae', array([0.7459268 , 0.60625738, 0.66040044, 0.66526108, 0.66939955]))\n",
      "('fit_time', (0.008738994598388672, 0.009012937545776367, 0.008905887603759766, 0.010341167449951172, 0.00745391845703125))\n",
      "('test_time', (0.002782106399536133, 0.002331256866455078, 0.002315044403076172, 0.0022940635681152344, 0.0019571781158447266))\n",
      "-----------------------\n",
      "0.9950460327830474\n"
     ]
    }
   ],
   "source": [
    "knn_means = KNNWithMeans(sim_options={'name':'msd','user_based':False})\n",
    "cv_knn_means = cross_validate(knn_means,data)\n",
    "for i in cv_knn_means.items():\n",
    "    print(i)\n",
    "print('-----------------------')\n",
    "print(np.mean(cv_knn_means['test_rmse']))"
   ]
  },
  {
   "cell_type": "markdown",
   "metadata": {},
   "source": [
    "### SIM_OPTIONS MSD USER BASED"
   ]
  },
  {
   "cell_type": "markdown",
   "metadata": {},
   "source": [
    "#### KNN Basic"
   ]
  },
  {
   "cell_type": "code",
   "execution_count": 172,
   "metadata": {
    "collapsed": true
   },
   "outputs": [
    {
     "name": "stdout",
     "output_type": "stream",
     "text": [
      "('test_rmse', array([0.98720192, 1.0063807 , 1.00265125, 1.00515674, 0.89843609]))\n",
      "('test_mae', array([0.68556151, 0.69933486, 0.69381073, 0.67917458, 0.6322811 ]))\n",
      "('fit_time', (0.02790522575378418, 0.02241992950439453, 0.020099163055419922, 0.018820762634277344, 0.018208980560302734))\n",
      "('test_time', (0.0022149085998535156, 0.003343820571899414, 0.0018491744995117188, 0.0021162033081054688, 0.0018188953399658203))\n",
      "-----------------------\n",
      "0.9799653392449839\n"
     ]
    }
   ],
   "source": [
    "knn_basic = KNNBasic(sim_options={'name':'msd','user_based':True})\n",
    "cv_knn_basic= cross_validate(knn_basic,data,n_jobs=-1)\n",
    "for i in cv_knn_basic.items():\n",
    "    print(i)\n",
    "print('-----------------------')\n",
    "print(np.mean(cv_knn_basic['test_rmse']))"
   ]
  },
  {
   "cell_type": "markdown",
   "metadata": {},
   "source": [
    "#### KNN Baseline"
   ]
  },
  {
   "cell_type": "code",
   "execution_count": 173,
   "metadata": {
    "collapsed": true
   },
   "outputs": [
    {
     "name": "stdout",
     "output_type": "stream",
     "text": [
      "Estimating biases using als...\n",
      "Computing the msd similarity matrix...\n",
      "Done computing similarity matrix.\n",
      "Estimating biases using als...\n",
      "Computing the msd similarity matrix...\n",
      "Done computing similarity matrix.\n",
      "Estimating biases using als...\n",
      "Computing the msd similarity matrix...\n",
      "Done computing similarity matrix.\n",
      "Estimating biases using als...\n",
      "Computing the msd similarity matrix...\n",
      "Done computing similarity matrix.\n",
      "Estimating biases using als...\n",
      "Computing the msd similarity matrix...\n",
      "Done computing similarity matrix.\n",
      "('test_rmse', array([0.91782599, 0.96559899, 1.10288513, 0.8757128 , 0.96845038]))\n",
      "('test_mae', array([0.66141492, 0.67388105, 0.73202743, 0.62093307, 0.65772308]))\n",
      "('fit_time', (0.03564596176147461, 0.03364706039428711, 0.02142810821533203, 0.03197622299194336, 0.020447254180908203))\n",
      "('test_time', (0.0024008750915527344, 0.0019941329956054688, 0.0020079612731933594, 0.0021347999572753906, 0.002004384994506836))\n",
      "-----------------------\n",
      "0.9660946560028156\n"
     ]
    }
   ],
   "source": [
    "knn_baseline = KNNBaseline(sim_options={'name':'msd','user_based':True})\n",
    "cv_knn_baseline = cross_validate(knn_baseline,data)\n",
    "for i in cv_knn_baseline.items():\n",
    "    print(i)\n",
    "print('-----------------------')\n",
    "print(np.mean(cv_knn_baseline['test_rmse']))"
   ]
  },
  {
   "cell_type": "markdown",
   "metadata": {},
   "source": [
    "#### KNN With Means"
   ]
  },
  {
   "cell_type": "code",
   "execution_count": 183,
   "metadata": {
    "collapsed": true
   },
   "outputs": [
    {
     "name": "stdout",
     "output_type": "stream",
     "text": [
      "Computing the msd similarity matrix...\n",
      "Done computing similarity matrix.\n",
      "Computing the msd similarity matrix...\n",
      "Done computing similarity matrix.\n",
      "Computing the msd similarity matrix...\n",
      "Done computing similarity matrix.\n",
      "Computing the msd similarity matrix...\n",
      "Done computing similarity matrix.\n",
      "Computing the msd similarity matrix...\n",
      "Done computing similarity matrix.\n",
      "('test_rmse', array([0.99554736, 0.99535769, 1.10797529, 0.99434918, 1.05355276]))\n",
      "('test_mae', array([0.67310369, 0.6685566 , 0.70870654, 0.65106703, 0.70899264]))\n",
      "('fit_time', (0.030163288116455078, 0.026775836944580078, 0.02669978141784668, 0.027655839920043945, 0.027059078216552734))\n",
      "('test_time', (0.002402782440185547, 0.002025127410888672, 0.0020821094512939453, 0.0020999908447265625, 0.0020627975463867188))\n",
      "-----------------------\n",
      "1.0293564553251282\n"
     ]
    }
   ],
   "source": [
    "knn_means = KNNWithMeans(sim_options={'name':'msd','user_based':True})\n",
    "cv_knn_means = cross_validate(knn_means,data)\n",
    "for i in cv_knn_means.items():\n",
    "    print(i)\n",
    "print('-----------------------')\n",
    "print(np.mean(cv_knn_means['test_rmse']))"
   ]
  },
  {
   "cell_type": "markdown",
   "metadata": {},
   "source": [
    "### SIM_OPTIONS Pearson Baseline Item Based"
   ]
  },
  {
   "cell_type": "markdown",
   "metadata": {},
   "source": [
    "#### KNN Basic"
   ]
  },
  {
   "cell_type": "code",
   "execution_count": 174,
   "metadata": {
    "collapsed": true
   },
   "outputs": [
    {
     "name": "stdout",
     "output_type": "stream",
     "text": [
      "('test_rmse', array([0.9969231 , 0.92427028, 1.05836774, 1.04629287, 0.85834334]))\n",
      "('test_mae', array([0.68457098, 0.65852128, 0.70811521, 0.71824465, 0.62407221]))\n",
      "('fit_time', (0.010994911193847656, 0.009063243865966797, 0.008513927459716797, 0.009830951690673828, 0.008569717407226562))\n",
      "('test_time', (0.0016722679138183594, 0.0016198158264160156, 0.0014390945434570312, 0.001644134521484375, 0.0014200210571289062))\n",
      "-----------------------\n",
      "0.9768394654093149\n"
     ]
    }
   ],
   "source": [
    "knn_basic = KNNBasic(sim_options={'name':'pearson_baseline','user_based':False})\n",
    "cv_knn_basic= cross_validate(knn_basic,data,n_jobs=-1)\n",
    "for i in cv_knn_basic.items():\n",
    "    print(i)\n",
    "print('-----------------------')\n",
    "print(np.mean(cv_knn_basic['test_rmse']))"
   ]
  },
  {
   "cell_type": "markdown",
   "metadata": {},
   "source": [
    "### ** KNN Baseline !!!! BEST RMSE"
   ]
  },
  {
   "cell_type": "code",
   "execution_count": 175,
   "metadata": {
    "collapsed": true
   },
   "outputs": [
    {
     "name": "stdout",
     "output_type": "stream",
     "text": [
      "Estimating biases using als...\n",
      "Computing the pearson_baseline similarity matrix...\n",
      "Done computing similarity matrix.\n",
      "Estimating biases using als...\n",
      "Computing the pearson_baseline similarity matrix...\n",
      "Done computing similarity matrix.\n",
      "Estimating biases using als...\n",
      "Computing the pearson_baseline similarity matrix...\n",
      "Done computing similarity matrix.\n",
      "Estimating biases using als...\n",
      "Computing the pearson_baseline similarity matrix...\n",
      "Done computing similarity matrix.\n",
      "Estimating biases using als...\n",
      "Computing the pearson_baseline similarity matrix...\n",
      "Done computing similarity matrix.\n",
      "('test_rmse', array([0.97926163, 0.87623109, 0.96970176, 0.96479831, 1.00857411]))\n",
      "('test_mae', array([0.6777355 , 0.63316169, 0.66862343, 0.66778598, 0.6866294 ]))\n",
      "('fit_time', (0.012312173843383789, 0.011269092559814453, 0.010456085205078125, 0.00926828384399414, 0.010927915573120117))\n",
      "('test_time', (0.0024509429931640625, 0.0019788742065429688, 0.001992940902709961, 0.001795053482055664, 0.0018260478973388672))\n",
      "-----------------------\n",
      "0.959713380563562\n"
     ]
    }
   ],
   "source": [
    "knn_baseline = KNNBaseline(sim_options={'name':'pearson_baseline','user_based':False})\n",
    "cv_knn_baseline = cross_validate(knn_baseline,data)\n",
    "for i in cv_knn_baseline.items():\n",
    "    print(i)\n",
    "print('-----------------------')\n",
    "print(np.mean(cv_knn_baseline['test_rmse']))"
   ]
  },
  {
   "cell_type": "markdown",
   "metadata": {},
   "source": [
    "#### KNN With Means"
   ]
  },
  {
   "cell_type": "code",
   "execution_count": 184,
   "metadata": {
    "collapsed": true
   },
   "outputs": [
    {
     "name": "stdout",
     "output_type": "stream",
     "text": [
      "Estimating biases using als...\n",
      "Computing the pearson_baseline similarity matrix...\n",
      "Done computing similarity matrix.\n",
      "Estimating biases using als...\n",
      "Computing the pearson_baseline similarity matrix...\n",
      "Done computing similarity matrix.\n",
      "Estimating biases using als...\n",
      "Computing the pearson_baseline similarity matrix...\n",
      "Done computing similarity matrix.\n",
      "Estimating biases using als...\n",
      "Computing the pearson_baseline similarity matrix...\n",
      "Done computing similarity matrix.\n",
      "Estimating biases using als...\n",
      "Computing the pearson_baseline similarity matrix...\n",
      "Done computing similarity matrix.\n",
      "('test_rmse', array([1.03932539, 1.11346106, 0.89850938, 1.04320803, 0.95089436]))\n",
      "('test_mae', array([0.69259128, 0.71826159, 0.63631641, 0.69066909, 0.65312325]))\n",
      "('fit_time', (0.014931917190551758, 0.013577938079833984, 0.012480020523071289, 0.011180877685546875, 0.01148223876953125))\n",
      "('test_time', (0.0020689964294433594, 0.002034902572631836, 0.001811981201171875, 0.001622915267944336, 0.001596212387084961))\n",
      "-----------------------\n",
      "1.0090796449385435\n"
     ]
    }
   ],
   "source": [
    "knn_means = KNNWithMeans(sim_options={'name':'pearson_baseline','user_based':False})\n",
    "cv_knn_means = cross_validate(knn_means,data)\n",
    "for i in cv_knn_means.items():\n",
    "    print(i)\n",
    "print('-----------------------')\n",
    "print(np.mean(cv_knn_means['test_rmse']))"
   ]
  },
  {
   "cell_type": "markdown",
   "metadata": {},
   "source": [
    "### SIM_OPTIONS Pearson Baseline User Based"
   ]
  },
  {
   "cell_type": "markdown",
   "metadata": {},
   "source": [
    "#### KNN Basic"
   ]
  },
  {
   "cell_type": "code",
   "execution_count": 176,
   "metadata": {
    "collapsed": true
   },
   "outputs": [
    {
     "name": "stdout",
     "output_type": "stream",
     "text": [
      "('test_rmse', array([1.11421503, 0.95657628, 1.02930919, 0.85511938, 0.92133908]))\n",
      "('test_mae', array([0.73381979, 0.67953315, 0.69726864, 0.63109111, 0.65039532]))\n",
      "('fit_time', (0.025043010711669922, 0.036263227462768555, 0.039808034896850586, 0.029501914978027344, 0.026002883911132812))\n",
      "('test_time', (0.0021092891693115234, 0.001729726791381836, 0.0017011165618896484, 0.0016560554504394531, 0.001764059066772461))\n",
      "-----------------------\n",
      "0.9753117943916694\n"
     ]
    }
   ],
   "source": [
    "knn_basic = KNNBasic(sim_options={'name':'pearson_baseline','user_based':True})\n",
    "cv_knn_basic= cross_validate(knn_basic,data,n_jobs=-1)\n",
    "for i in cv_knn_basic.items():\n",
    "    print(i)\n",
    "print('-----------------------')\n",
    "print(np.mean(cv_knn_basic['test_rmse']))"
   ]
  },
  {
   "cell_type": "markdown",
   "metadata": {},
   "source": [
    "#### KNN Baseline"
   ]
  },
  {
   "cell_type": "code",
   "execution_count": 177,
   "metadata": {
    "collapsed": true
   },
   "outputs": [
    {
     "name": "stdout",
     "output_type": "stream",
     "text": [
      "Estimating biases using als...\n",
      "Computing the pearson_baseline similarity matrix...\n",
      "Done computing similarity matrix.\n",
      "Estimating biases using als...\n",
      "Computing the pearson_baseline similarity matrix...\n",
      "Done computing similarity matrix.\n",
      "Estimating biases using als...\n",
      "Computing the pearson_baseline similarity matrix...\n",
      "Done computing similarity matrix.\n",
      "Estimating biases using als...\n",
      "Computing the pearson_baseline similarity matrix...\n",
      "Done computing similarity matrix.\n",
      "Estimating biases using als...\n",
      "Computing the pearson_baseline similarity matrix...\n",
      "Done computing similarity matrix.\n",
      "('test_rmse', array([0.87313227, 1.00678901, 0.90559295, 0.93213092, 1.1045207 ]))\n",
      "('test_mae', array([0.62885345, 0.68727673, 0.63377427, 0.65928471, 0.74042353]))\n",
      "('fit_time', (0.04716897010803223, 0.03551912307739258, 0.027496814727783203, 0.02474188804626465, 0.04282188415527344))\n",
      "('test_time', (0.0022509098052978516, 0.0020427703857421875, 0.0018951892852783203, 0.0019490718841552734, 0.0019609928131103516))\n",
      "-----------------------\n",
      "0.9644331705123333\n"
     ]
    }
   ],
   "source": [
    "knn_baseline = KNNBaseline(sim_options={'name':'pearson_baseline','user_based':True})\n",
    "cv_knn_baseline = cross_validate(knn_baseline,data)\n",
    "for i in cv_knn_baseline.items():\n",
    "    print(i)\n",
    "print('-----------------------')\n",
    "print(np.mean(cv_knn_baseline['test_rmse']))"
   ]
  },
  {
   "cell_type": "markdown",
   "metadata": {},
   "source": [
    "#### KNN With Means"
   ]
  },
  {
   "cell_type": "code",
   "execution_count": 185,
   "metadata": {
    "collapsed": true
   },
   "outputs": [
    {
     "name": "stdout",
     "output_type": "stream",
     "text": [
      "Estimating biases using als...\n",
      "Computing the pearson_baseline similarity matrix...\n",
      "Done computing similarity matrix.\n",
      "Estimating biases using als...\n",
      "Computing the pearson_baseline similarity matrix...\n",
      "Done computing similarity matrix.\n",
      "Estimating biases using als...\n",
      "Computing the pearson_baseline similarity matrix...\n",
      "Done computing similarity matrix.\n",
      "Estimating biases using als...\n",
      "Computing the pearson_baseline similarity matrix...\n",
      "Done computing similarity matrix.\n",
      "Estimating biases using als...\n",
      "Computing the pearson_baseline similarity matrix...\n",
      "Done computing similarity matrix.\n",
      "('test_rmse', array([0.94932918, 1.07861286, 0.98616397, 1.06842821, 0.98857138]))\n",
      "('test_mae', array([0.63575065, 0.70899668, 0.65507996, 0.6944046 , 0.6550695 ]))\n",
      "('fit_time', (0.03914022445678711, 0.033740997314453125, 0.03273916244506836, 0.03462409973144531, 0.0338749885559082))\n",
      "('test_time', (0.0020737648010253906, 0.0016651153564453125, 0.001725912094116211, 0.0017719268798828125, 0.0018591880798339844))\n",
      "-----------------------\n",
      "1.0142211221347648\n"
     ]
    }
   ],
   "source": [
    "knn_means = KNNWithMeans(sim_options={'name':'pearson_baseline','user_based':True})\n",
    "cv_knn_means = cross_validate(knn_means,data)\n",
    "for i in cv_knn_means.items():\n",
    "    print(i)\n",
    "print('-----------------------')\n",
    "print(np.mean(cv_knn_means['test_rmse']))"
   ]
  },
  {
   "cell_type": "markdown",
   "metadata": {},
   "source": [
    "# Looking at predictions for best classification model"
   ]
  },
  {
   "cell_type": "code",
   "execution_count": 448,
   "metadata": {
    "scrolled": true
   },
   "outputs": [
    {
     "name": "stdout",
     "output_type": "stream",
     "text": [
      "Estimating biases using als...\n",
      "Computing the pearson_baseline similarity matrix...\n",
      "Done computing similarity matrix.\n",
      "RMSE: 0.2019\n",
      "0.20191515211398295\n"
     ]
    }
   ],
   "source": [
    "sim_options={'name':'pearson_baseline','user_based':False}\n",
    "knn_baseline = knns.KNNBaseline(sim_options=sim_options)\n",
    "knn_baseline.fit(dataset)\n",
    "predictions = knn_baseline.test(test)\n",
    "print(accuracy.rmse(predictions))"
   ]
  },
  {
   "cell_type": "code",
   "execution_count": 41,
   "metadata": {},
   "outputs": [],
   "source": [
    "# knn_baseline.test(test)"
   ]
  },
  {
   "cell_type": "markdown",
   "metadata": {},
   "source": [
    "# Collaborative Filtering, Item Based"
   ]
  },
  {
   "cell_type": "markdown",
   "metadata": {},
   "source": [
    "## Trying to Predict for New Users"
   ]
  },
  {
   "cell_type": "code",
   "execution_count": 20,
   "metadata": {},
   "outputs": [],
   "source": [
    "def skin_rater(df,num, typ=None):\n",
    "    rating_list = []\n",
    "    movie_df=pd.DataFrame()\n",
    "    raw_uid=input('type username: ')\n",
    "    skintype=input('what is your skin type? (oily, dry, sensitive, normal, combination): ')\n",
    "    if 'oily':\n",
    "        movie_df.append(df[df['oily']==1])\n",
    "    elif skintype=='sensitive':\n",
    "        movie_df=df[df['sensitive']==1]\n",
    "    elif skintype=='dry':\n",
    "        movie_df=df[df['dry']==1]\n",
    "    elif skintype=='normal' or skintype=='combination':\n",
    "        movie_df=df[df['normal']==1]\n",
    "    else:\n",
    "        movie_df=rec\n",
    "    while num > 0:\n",
    "        if typ:\n",
    "            p = movie_df[movie_df['types'].str.contains(genre)].sample(1)\n",
    "        else:\n",
    "            p = movie_df.sample(1)\n",
    "        print(p[['brandName','prodName','url']])\n",
    "        rating = input('How do you rate this movie on a scale of 1-5, press n if you have not seen :\\n')\n",
    "        if rating == 'n':\n",
    "            continue\n",
    "        else:\n",
    "            rating_one_movie = {'user':raw_uid,'url':p['url'].values[0],'rating':rating}\n",
    "            rating_list.append(rating_one_movie) \n",
    "            num -= 1\n",
    "    return(rating_list,raw_uid)\n",
    "def rank_prods_for_user(df,raw_uid):\n",
    "    list_of_prods=[]\n",
    "    for u in df['url'].unique():\n",
    "            list_of_prods.append((u,knn_baseline.predict(raw_uid,u)[3]))\n",
    "    ranked_prods = sorted(list_of_prods,key=lambda x:x[1],reverse=True)\n",
    "    return (ranked_prods)\n",
    "def recommended_products(user_ratings,df,n):\n",
    "    for idx, re in enumerate(user_ratings):\n",
    "        title = df.loc[df['url'] == int(re[0])]['prodName']\n",
    "        u=re[0]\n",
    "        print('Recommendation # ',idx+1,'|| ', 'url:', u, '||','product: ', rec[rec['url']==u]['prodName'].drop_duplicates(),'\\n')\n",
    "        n-= 1\n",
    "        if n == 0:\n",
    "            break"
   ]
  },
  {
   "cell_type": "code",
   "execution_count": 27,
   "metadata": {},
   "outputs": [
    {
     "name": "stdout",
     "output_type": "stream",
     "text": [
      "type username: m\n",
      "what is your skin type? (oily, dry, sensitive, normal, combination): normal\n",
      "        brandName                                        prodName       url\n",
      "1458  Erno Laszlo  Erno Laszlo Phelityl Pre Cleansing Oil (6.8oz)  10941207\n",
      "How do you rate this movie on a scale of 1-5, press n if you have not seen :\n",
      "1\n",
      "         brandName                        prodName       url\n",
      "538  SkinCeuticals  SkinCeuticals Phloretin CF Gel  11292113\n",
      "How do you rate this movie on a scale of 1-5, press n if you have not seen :\n",
      "1\n",
      "       brandName                                   prodName       url\n",
      "1419  SkinMedica  SkinMedica Rejuvenative Moisturizer (2oz)  11289673\n",
      "How do you rate this movie on a scale of 1-5, press n if you have not seen :\n",
      "1\n"
     ]
    }
   ],
   "source": [
    "r,raw_uid=skin_rater(rec,3)"
   ]
  },
  {
   "cell_type": "code",
   "execution_count": 28,
   "metadata": {},
   "outputs": [
    {
     "name": "stdout",
     "output_type": "stream",
     "text": [
      "Estimating biases using als...\n",
      "Computing the pearson_baseline similarity matrix...\n",
      "Done computing similarity matrix.\n"
     ]
    },
    {
     "data": {
      "text/plain": [
       "<surprise.prediction_algorithms.knns.KNNBaseline at 0x7fd1a01576d8>"
      ]
     },
     "execution_count": 28,
     "metadata": {},
     "output_type": "execute_result"
    }
   ],
   "source": [
    "new_df=rec[['user','url','rating']]\n",
    "new_ratings_df = new_df.append(r,ignore_index=True)\n",
    "new_data = Dataset.load_from_df(new_ratings_df,reader)\n",
    "new_data=new_data.build_full_trainset()\n",
    "sim_options={'name':'pearson_baseline','user_based':False}\n",
    "knn_baseline=knns.KNNBaseline(sim_options=sim_options)\n",
    "knn_baseline.fit(new_data)"
   ]
  },
  {
   "cell_type": "code",
   "execution_count": 30,
   "metadata": {
    "scrolled": false
   },
   "outputs": [
    {
     "name": "stdout",
     "output_type": "stream",
     "text": [
      "Recommendation #  1 ||  url: 11286360 || product:  1061    Avène Thermal Spring Water 10.58oz\n",
      "Name: prodName, dtype: object \n",
      "\n",
      "Recommendation #  2 ||  url: 10375555 || product:  174    Murad Pure Skin Clarifying Dietary Supplement ...\n",
      "Name: prodName, dtype: object \n",
      "\n",
      "Recommendation #  3 ||  url: 11524845 || product:  1140    FOREO LUNA™ mini 2 - Fuchsia\n",
      "Name: prodName, dtype: object \n",
      "\n"
     ]
    }
   ],
   "source": [
    "recommended_products(ranked,rec,3)"
   ]
  },
  {
   "cell_type": "markdown",
   "metadata": {},
   "source": [
    "## Description TFIDF and Cosine Similarity !?!??!?!?!??! LOOKING AT REVIEW CONTENT AND TITLES"
   ]
  },
  {
   "cell_type": "code",
   "execution_count": 57,
   "metadata": {},
   "outputs": [],
   "source": [
    "df1['description']=df1['title']+df1['content']"
   ]
  },
  {
   "cell_type": "code",
   "execution_count": 58,
   "metadata": {},
   "outputs": [],
   "source": [
    "tf = TfidfVectorizer(analyzer='word',ngram_range=(1, 2),min_df=0, stop_words='english')\n",
    "tfidf_matrix = tf.fit_transform(df1['description'])"
   ]
  },
  {
   "cell_type": "code",
   "execution_count": 59,
   "metadata": {},
   "outputs": [
    {
     "data": {
      "text/plain": [
       "(1685, 39382)"
      ]
     },
     "execution_count": 59,
     "metadata": {},
     "output_type": "execute_result"
    }
   ],
   "source": [
    "tfidf_matrix.shape"
   ]
  },
  {
   "cell_type": "code",
   "execution_count": 60,
   "metadata": {},
   "outputs": [
    {
     "data": {
      "text/plain": [
       "(1701, 30)"
      ]
     },
     "execution_count": 60,
     "metadata": {},
     "output_type": "execute_result"
    }
   ],
   "source": [
    "full.shape"
   ]
  },
  {
   "cell_type": "code",
   "execution_count": 61,
   "metadata": {},
   "outputs": [],
   "source": [
    "cosine_sim = linear_kernel(tfidf_matrix, tfidf_matrix)"
   ]
  },
  {
   "cell_type": "code",
   "execution_count": 62,
   "metadata": {},
   "outputs": [
    {
     "data": {
      "text/plain": [
       "array([[1.        , 0.03513622, 0.02979474, ..., 0.00730602, 0.        ,\n",
       "        0.00399307],\n",
       "       [0.03513622, 1.        , 0.02854128, ..., 0.        , 0.        ,\n",
       "        0.        ],\n",
       "       [0.02979474, 0.02854128, 1.        , ..., 0.        , 0.        ,\n",
       "        0.00425702],\n",
       "       ...,\n",
       "       [0.00730602, 0.        , 0.        , ..., 1.        , 0.        ,\n",
       "        0.05258715],\n",
       "       [0.        , 0.        , 0.        , ..., 0.        , 1.        ,\n",
       "        0.00154483],\n",
       "       [0.00399307, 0.        , 0.00425702, ..., 0.05258715, 0.00154483,\n",
       "        1.        ]])"
      ]
     },
     "execution_count": 62,
     "metadata": {},
     "output_type": "execute_result"
    }
   ],
   "source": [
    "cosine_sim"
   ]
  },
  {
   "cell_type": "code",
   "execution_count": 63,
   "metadata": {},
   "outputs": [],
   "source": [
    "# def item(id):  \n",
    "#     return df1.loc[df1['url'] == id]['description'].tolist()\n",
    "# # Just reads the results out of the dictionary.def \n",
    "# def recommend(item_id, num):\n",
    "#     print(\"Recommending \" + str(num) + \" products similar to \" + item(item_id) + \"...\")   \n",
    "#     print(\"-------\")    \n",
    "#     recs = results[item_id][:num]   \n",
    "#     for rec in recs: \n",
    "#         print(\"Recommended: \" + item(rec[1]) + \" (score:\" +      str(rec[0]) + \")\")"
   ]
  },
  {
   "cell_type": "code",
   "execution_count": 64,
   "metadata": {},
   "outputs": [],
   "source": [
    "# df1.reset_index(inplace=True)\n",
    "# products = df1['url']\n",
    "# indices = pd.Series(df1.index, index=df1['url'])"
   ]
  },
  {
   "cell_type": "code",
   "execution_count": 65,
   "metadata": {},
   "outputs": [],
   "source": [
    "# def get_recommendations(product):\n",
    "#     idx = indices[products]\n",
    "#     sim_scores = list(enumerate(cosine_sim[idx]))\n",
    "# #     sim_scores = sorted(sim_scores, key=lambda x: x[1], reverse=True)\n",
    "#     sim_scores = sim_scores[1:31]\n",
    "#     prod_indices = [i[0] for i in sim_scores]\n",
    "#     return products.iloc[prod_indices]"
   ]
  },
  {
   "cell_type": "code",
   "execution_count": 67,
   "metadata": {},
   "outputs": [],
   "source": [
    "# get_recommendations(11429304).drop_duplicates()"
   ]
  },
  {
   "cell_type": "code",
   "execution_count": 68,
   "metadata": {},
   "outputs": [],
   "source": [
    "# recommend(10362879,5)"
   ]
  },
  {
   "cell_type": "code",
   "execution_count": 69,
   "metadata": {},
   "outputs": [],
   "source": [
    "alldf=dfr[['url','prodName','rating','user']]"
   ]
  },
  {
   "cell_type": "code",
   "execution_count": 70,
   "metadata": {
    "collapsed": true
   },
   "outputs": [
    {
     "data": {
      "text/html": [
       "<div>\n",
       "<style scoped>\n",
       "    .dataframe tbody tr th:only-of-type {\n",
       "        vertical-align: middle;\n",
       "    }\n",
       "\n",
       "    .dataframe tbody tr th {\n",
       "        vertical-align: top;\n",
       "    }\n",
       "\n",
       "    .dataframe thead th {\n",
       "        text-align: right;\n",
       "    }\n",
       "</style>\n",
       "<table border=\"1\" class=\"dataframe\">\n",
       "  <thead>\n",
       "    <tr style=\"text-align: right;\">\n",
       "      <th></th>\n",
       "      <th></th>\n",
       "      <th></th>\n",
       "      <th>rating</th>\n",
       "    </tr>\n",
       "    <tr>\n",
       "      <th>url</th>\n",
       "      <th>user</th>\n",
       "      <th>prodName</th>\n",
       "      <th></th>\n",
       "    </tr>\n",
       "  </thead>\n",
       "  <tbody>\n",
       "    <tr>\n",
       "      <th rowspan=\"5\" valign=\"top\">10236357</th>\n",
       "      <th>adrian</th>\n",
       "      <th>Anthony</th>\n",
       "      <td>5</td>\n",
       "    </tr>\n",
       "    <tr>\n",
       "      <th>george</th>\n",
       "      <th>Anthony</th>\n",
       "      <td>5</td>\n",
       "    </tr>\n",
       "    <tr>\n",
       "      <th>kimber</th>\n",
       "      <th>Anthony</th>\n",
       "      <td>5</td>\n",
       "    </tr>\n",
       "    <tr>\n",
       "      <th>mike</th>\n",
       "      <th>Anthony</th>\n",
       "      <td>5</td>\n",
       "    </tr>\n",
       "    <tr>\n",
       "      <th>westtexas</th>\n",
       "      <th>Anthony</th>\n",
       "      <td>5</td>\n",
       "    </tr>\n",
       "  </tbody>\n",
       "</table>\n",
       "</div>"
      ],
      "text/plain": [
       "                             rating\n",
       "url      user      prodName        \n",
       "10236357 adrian    Anthony        5\n",
       "         george    Anthony        5\n",
       "         kimber    Anthony        5\n",
       "         mike      Anthony        5\n",
       "         westtexas Anthony        5"
      ]
     },
     "execution_count": 70,
     "metadata": {},
     "output_type": "execute_result"
    }
   ],
   "source": [
    "alldf.groupby(['url','user','prodName']).mean().head()"
   ]
  },
  {
   "cell_type": "code",
   "execution_count": 44,
   "metadata": {},
   "outputs": [],
   "source": [
    "train, test = train_test_split(data,test_size=0.2)"
   ]
  },
  {
   "cell_type": "markdown",
   "metadata": {},
   "source": [
    "## Does this produce recommendations or is it messed up?"
   ]
  },
  {
   "cell_type": "code",
   "execution_count": 169,
   "metadata": {},
   "outputs": [],
   "source": [
    "# def skincare_rater(df,num, typ=None, problem=None):\n",
    "#     userID = 1000\n",
    "#     rating_list = []\n",
    "#     while num > 0:\n",
    "#         if typ:\n",
    "#             prod = df[df[''].str.contains(typ)].sample(1)\n",
    "#         else:\n",
    "#             sample=df.sample(1)\n",
    "#             brand=sample[['brandName']]\n",
    "#             product=sample[['prodName']]\n",
    "#             url=sample[['url']]\n",
    "#             prod = sample[['brandName','prodName','url']]\n",
    "#         print(prod)\n",
    "#         rating = input('How do you rate this product on a scale of 1-5, press n if you have not used :\\n')\n",
    "#         if rating == 'n':\n",
    "#             continue\n",
    "#         else:\n",
    "#             rating_one_prod=df.sample(1)[['url','prodName']]\n",
    "#             rating_one_prod['user']=1000\n",
    "#             rating_one_prod['rating']=rating\n",
    "#             ratedict={'url':url,'brandName':brand,'prodName':product}\n",
    "#             rating_list.append(rating_one_prod) \n",
    "#             num -= 1\n",
    "#     return rating_list"
   ]
  }
 ],
 "metadata": {
  "kernelspec": {
   "display_name": "Python 3",
   "language": "python",
   "name": "python3"
  },
  "language_info": {
   "codemirror_mode": {
    "name": "ipython",
    "version": 3
   },
   "file_extension": ".py",
   "mimetype": "text/x-python",
   "name": "python",
   "nbconvert_exporter": "python",
   "pygments_lexer": "ipython3",
   "version": "3.7.3"
  }
 },
 "nbformat": 4,
 "nbformat_minor": 2
}
