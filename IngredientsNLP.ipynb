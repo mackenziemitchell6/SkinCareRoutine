{
 "cells": [
  {
   "cell_type": "code",
   "execution_count": 115,
   "metadata": {},
   "outputs": [],
   "source": [
    "import nltk\n",
    "from nltk.corpus import stopwords\n",
    "import pandas as pd\n",
    "import pickle\n",
    "import numpy as np\n",
    "from nltk import word_tokenize, FreqDist\n",
    "import string\n",
    "from os import path\n",
    "from PIL import Image\n",
    "import matplotlib.pyplot as plt\n",
    "from wordcloud import WordCloud, STOPWORDS,ImageColorGenerator\n",
    "from nltk.sentiment.sentiment_analyzer import SentimentAnalyzer as sa\n",
    "from nltk.classify.scikitlearn import SklearnClassifier\n",
    "from nltk.classify import ClassifierI\n",
    "from sklearn.feature_extraction.text import TfidfVectorizer\n",
    "from vaderSentiment.vaderSentiment import SentimentIntensityAnalyzer\n",
    "import spacy"
   ]
  },
  {
   "cell_type": "code",
   "execution_count": 116,
   "metadata": {},
   "outputs": [],
   "source": [
    "with open('IngredientsDF.pickle', 'rb') as f:\n",
    "    dfi = pickle.load(f)"
   ]
  },
  {
   "cell_type": "code",
   "execution_count": 145,
   "metadata": {},
   "outputs": [
    {
     "data": {
      "text/html": [
       "<div>\n",
       "<style scoped>\n",
       "    .dataframe tbody tr th:only-of-type {\n",
       "        vertical-align: middle;\n",
       "    }\n",
       "\n",
       "    .dataframe tbody tr th {\n",
       "        vertical-align: top;\n",
       "    }\n",
       "\n",
       "    .dataframe thead th {\n",
       "        text-align: right;\n",
       "    }\n",
       "</style>\n",
       "<table border=\"1\" class=\"dataframe\">\n",
       "  <thead>\n",
       "    <tr style=\"text-align: right;\">\n",
       "      <th></th>\n",
       "      <th>brand</th>\n",
       "      <th>ingredients</th>\n",
       "      <th>url</th>\n",
       "    </tr>\n",
       "  </thead>\n",
       "  <tbody>\n",
       "    <tr>\n",
       "      <th>0</th>\n",
       "      <td>Paula's Choice</td>\n",
       "      <td>[Aqua,  Methylpropanediol (hydration),  Butyle...</td>\n",
       "      <td>11174178</td>\n",
       "    </tr>\n",
       "    <tr>\n",
       "      <th>1</th>\n",
       "      <td>SkinCeuticals</td>\n",
       "      <td>[Aqua / Water / Eau,  Glycerin,  Propylene Gly...</td>\n",
       "      <td>11289629</td>\n",
       "    </tr>\n",
       "    <tr>\n",
       "      <th>2</th>\n",
       "      <td>Sunday Riley</td>\n",
       "      <td>[Opuntia Tuna Fruit (Prickly Pear) Extract,  A...</td>\n",
       "      <td>10915787</td>\n",
       "    </tr>\n",
       "    <tr>\n",
       "      <th>3</th>\n",
       "      <td>Paula's Choice</td>\n",
       "      <td>[Water,  Glycerin,  Butylene Glycol,  Niacinam...</td>\n",
       "      <td>11174171</td>\n",
       "    </tr>\n",
       "    <tr>\n",
       "      <th>4</th>\n",
       "      <td>Dermalogica</td>\n",
       "      <td>[Key Ingredients:Quillaja Saponaria: Bark puri...</td>\n",
       "      <td>10364095</td>\n",
       "    </tr>\n",
       "  </tbody>\n",
       "</table>\n",
       "</div>"
      ],
      "text/plain": [
       "            brand                                        ingredients       url\n",
       "0  Paula's Choice  [Aqua,  Methylpropanediol (hydration),  Butyle...  11174178\n",
       "1   SkinCeuticals  [Aqua / Water / Eau,  Glycerin,  Propylene Gly...  11289629\n",
       "2    Sunday Riley  [Opuntia Tuna Fruit (Prickly Pear) Extract,  A...  10915787\n",
       "3  Paula's Choice  [Water,  Glycerin,  Butylene Glycol,  Niacinam...  11174171\n",
       "4     Dermalogica  [Key Ingredients:Quillaja Saponaria: Bark puri...  10364095"
      ]
     },
     "execution_count": 145,
     "metadata": {},
     "output_type": "execute_result"
    }
   ],
   "source": [
    "dfi.head()"
   ]
  },
  {
   "cell_type": "code",
   "execution_count": 195,
   "metadata": {},
   "outputs": [],
   "source": [
    "GA=[]\n",
    "for lis,u,b in zip(list(dfi.ingredients),list(dfi.url),list(dfi.brand)):\n",
    "    for word in lis:\n",
    "        if u not in GA:\n",
    "            if word==' Glycolic Acid'  or 'Glycolic Acid':\n",
    "                if u not in GA:\n",
    "                    GA.append({'brand':b,'ingredients':lis,'warning':'Glycolic Acid','url':u})"
   ]
  },
  {
   "cell_type": "code",
   "execution_count": 197,
   "metadata": {},
   "outputs": [],
   "source": [
    "notforred=pd.DataFrame(GA)"
   ]
  },
  {
   "cell_type": "code",
   "execution_count": 200,
   "metadata": {},
   "outputs": [],
   "source": [
    "notforred.drop_duplicates(subset='url',inplace=True)"
   ]
  },
  {
   "cell_type": "code",
   "execution_count": 203,
   "metadata": {
    "scrolled": true
   },
   "outputs": [
    {
     "data": {
      "text/html": [
       "<div>\n",
       "<style scoped>\n",
       "    .dataframe tbody tr th:only-of-type {\n",
       "        vertical-align: middle;\n",
       "    }\n",
       "\n",
       "    .dataframe tbody tr th {\n",
       "        vertical-align: top;\n",
       "    }\n",
       "\n",
       "    .dataframe thead th {\n",
       "        text-align: right;\n",
       "    }\n",
       "</style>\n",
       "<table border=\"1\" class=\"dataframe\">\n",
       "  <thead>\n",
       "    <tr style=\"text-align: right;\">\n",
       "      <th></th>\n",
       "      <th>brand</th>\n",
       "      <th>ingredients</th>\n",
       "      <th>url</th>\n",
       "      <th>warning</th>\n",
       "    </tr>\n",
       "  </thead>\n",
       "  <tbody>\n",
       "    <tr>\n",
       "      <th>0</th>\n",
       "      <td>Paula's Choice</td>\n",
       "      <td>[Aqua,  Methylpropanediol (hydration),  Butyle...</td>\n",
       "      <td>11174178</td>\n",
       "      <td>Glycolic Acid</td>\n",
       "    </tr>\n",
       "    <tr>\n",
       "      <th>9</th>\n",
       "      <td>SkinCeuticals</td>\n",
       "      <td>[Aqua / Water / Eau,  Glycerin,  Propylene Gly...</td>\n",
       "      <td>11289629</td>\n",
       "      <td>Glycolic Acid</td>\n",
       "    </tr>\n",
       "    <tr>\n",
       "      <th>34</th>\n",
       "      <td>Sunday Riley</td>\n",
       "      <td>[Opuntia Tuna Fruit (Prickly Pear) Extract,  A...</td>\n",
       "      <td>10915787</td>\n",
       "      <td>Glycolic Acid</td>\n",
       "    </tr>\n",
       "    <tr>\n",
       "      <th>58</th>\n",
       "      <td>Paula's Choice</td>\n",
       "      <td>[Water,  Glycerin,  Butylene Glycol,  Niacinam...</td>\n",
       "      <td>11174171</td>\n",
       "      <td>Glycolic Acid</td>\n",
       "    </tr>\n",
       "    <tr>\n",
       "      <th>88</th>\n",
       "      <td>Dermalogica</td>\n",
       "      <td>[Key Ingredients:Quillaja Saponaria: Bark puri...</td>\n",
       "      <td>10364095</td>\n",
       "      <td>Glycolic Acid</td>\n",
       "    </tr>\n",
       "  </tbody>\n",
       "</table>\n",
       "</div>"
      ],
      "text/plain": [
       "             brand                                        ingredients  \\\n",
       "0   Paula's Choice  [Aqua,  Methylpropanediol (hydration),  Butyle...   \n",
       "9    SkinCeuticals  [Aqua / Water / Eau,  Glycerin,  Propylene Gly...   \n",
       "34    Sunday Riley  [Opuntia Tuna Fruit (Prickly Pear) Extract,  A...   \n",
       "58  Paula's Choice  [Water,  Glycerin,  Butylene Glycol,  Niacinam...   \n",
       "88     Dermalogica  [Key Ingredients:Quillaja Saponaria: Bark puri...   \n",
       "\n",
       "         url        warning  \n",
       "0   11174178  Glycolic Acid  \n",
       "9   11289629  Glycolic Acid  \n",
       "34  10915787  Glycolic Acid  \n",
       "58  11174171  Glycolic Acid  \n",
       "88  10364095  Glycolic Acid  "
      ]
     },
     "execution_count": 203,
     "metadata": {},
     "output_type": "execute_result"
    }
   ],
   "source": [
    "notforred.head()"
   ]
  }
 ],
 "metadata": {
  "kernelspec": {
   "display_name": "Python 3",
   "language": "python",
   "name": "python3"
  },
  "language_info": {
   "codemirror_mode": {
    "name": "ipython",
    "version": 3
   },
   "file_extension": ".py",
   "mimetype": "text/x-python",
   "name": "python",
   "nbconvert_exporter": "python",
   "pygments_lexer": "ipython3",
   "version": "3.7.3"
  }
 },
 "nbformat": 4,
 "nbformat_minor": 2
}
