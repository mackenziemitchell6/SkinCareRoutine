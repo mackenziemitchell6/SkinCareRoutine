{
 "cells": [
  {
   "cell_type": "code",
   "execution_count": 384,
   "metadata": {},
   "outputs": [],
   "source": [
    "import nltk\n",
    "from nltk.corpus import stopwords\n",
    "import pandas as pd\n",
    "import pickle\n",
    "import numpy as np\n",
    "from nltk import word_tokenize, FreqDist\n",
    "import string\n",
    "from os import path\n",
    "from PIL import Image\n",
    "import matplotlib.pyplot as plt\n",
    "# from wordcloud import WordCloud, STOPWORDS,ImageColorGenerator\n",
    "# from nltk.sentiment.sentiment_analyzer import SentimentAnalyzer as sa\n",
    "# from nltk.classify.scikitlearn import SklearnClassifier\n",
    "# from nltk.classify import ClassifierI\n",
    "from vaderSentiment.vaderSentiment import SentimentIntensityAnalyzer\n",
    "import spacy\n",
    "from surprise.prediction_algorithms import knns\n",
    "from surprise.similarities import cosine, msd, pearson\n",
    "from surprise.model_selection import train_test_split, cross_validate\n",
    "reader= Reader(rating_scale=(-5.0, 5.0))\n",
    "from surprise import Dataset, Reader, accuracy, SVD\n",
    "from surprise.prediction_algorithms import SVD, KNNWithMeans, KNNBasic, KNNBaseline\n",
    "from surprise.model_selection import cross_validate, GridSearchCV\n",
    "import requests\n",
    "\n",
    "from sklearn.feature_extraction.text import TfidfVectorizer, CountVectorizer\n",
    "from sklearn.metrics.pairwise import linear_kernel, cosine_similarity\n",
    "\n",
    "with open('userratingsDF.pickle', 'rb') as f:\n",
    "    dfr = pickle.load(f)\n",
    "with open('CategoricalItemDF.pickle', 'rb') as f:\n",
    "    full = pickle.load(f)\n",
    "with open('_SENT&RATINGDF.pickle', 'rb') as f:\n",
    "    df1 = pickle.load(f)\n",
    "with open('recdf.pickle', 'rb') as f:\n",
    "    rec = pickle.load(f)\n",
    "with open('ratingsmeandf.pickle', 'rb') as f:\n",
    "    ratemean = pickle.load(f)"
   ]
  },
  {
   "cell_type": "code",
   "execution_count": 318,
   "metadata": {},
   "outputs": [],
   "source": [
    "toadd=full[['url','prodName']]"
   ]
  },
  {
   "cell_type": "code",
   "execution_count": 319,
   "metadata": {},
   "outputs": [],
   "source": [
    "rec.rename(columns={'prodName':'brandName'},inplace=True)"
   ]
  },
  {
   "cell_type": "code",
   "execution_count": 320,
   "metadata": {},
   "outputs": [
    {
     "data": {
      "text/html": [
       "<div>\n",
       "<style scoped>\n",
       "    .dataframe tbody tr th:only-of-type {\n",
       "        vertical-align: middle;\n",
       "    }\n",
       "\n",
       "    .dataframe tbody tr th {\n",
       "        vertical-align: top;\n",
       "    }\n",
       "\n",
       "    .dataframe thead th {\n",
       "        text-align: right;\n",
       "    }\n",
       "</style>\n",
       "<table border=\"1\" class=\"dataframe\">\n",
       "  <thead>\n",
       "    <tr style=\"text-align: right;\">\n",
       "      <th></th>\n",
       "      <th>brandName</th>\n",
       "      <th>rating</th>\n",
       "      <th>url</th>\n",
       "      <th>user</th>\n",
       "      <th>prodName</th>\n",
       "      <th>rating_count</th>\n",
       "    </tr>\n",
       "  </thead>\n",
       "  <tbody>\n",
       "    <tr>\n",
       "      <th>0</th>\n",
       "      <td>Paula's Choice</td>\n",
       "      <td>5</td>\n",
       "      <td>11174178</td>\n",
       "      <td>becky c</td>\n",
       "      <td>Paula's Choice Skin Perfecting 2% BHA Liquid E...</td>\n",
       "      <td>60</td>\n",
       "    </tr>\n",
       "    <tr>\n",
       "      <th>1</th>\n",
       "      <td>Paula's Choice</td>\n",
       "      <td>5</td>\n",
       "      <td>11174178</td>\n",
       "      <td>jess</td>\n",
       "      <td>Paula's Choice Skin Perfecting 2% BHA Liquid E...</td>\n",
       "      <td>60</td>\n",
       "    </tr>\n",
       "    <tr>\n",
       "      <th>2</th>\n",
       "      <td>Paula's Choice</td>\n",
       "      <td>5</td>\n",
       "      <td>11174178</td>\n",
       "      <td>lisa</td>\n",
       "      <td>Paula's Choice Skin Perfecting 2% BHA Liquid E...</td>\n",
       "      <td>60</td>\n",
       "    </tr>\n",
       "    <tr>\n",
       "      <th>3</th>\n",
       "      <td>Paula's Choice</td>\n",
       "      <td>5</td>\n",
       "      <td>11174178</td>\n",
       "      <td>stella2</td>\n",
       "      <td>Paula's Choice Skin Perfecting 2% BHA Liquid E...</td>\n",
       "      <td>60</td>\n",
       "    </tr>\n",
       "    <tr>\n",
       "      <th>4</th>\n",
       "      <td>Paula's Choice</td>\n",
       "      <td>5</td>\n",
       "      <td>11174178</td>\n",
       "      <td>carli</td>\n",
       "      <td>Paula's Choice Skin Perfecting 2% BHA Liquid E...</td>\n",
       "      <td>60</td>\n",
       "    </tr>\n",
       "  </tbody>\n",
       "</table>\n",
       "</div>"
      ],
      "text/plain": [
       "        brandName  rating       url     user  \\\n",
       "0  Paula's Choice       5  11174178  becky c   \n",
       "1  Paula's Choice       5  11174178     jess   \n",
       "2  Paula's Choice       5  11174178     lisa   \n",
       "3  Paula's Choice       5  11174178  stella2   \n",
       "4  Paula's Choice       5  11174178    carli   \n",
       "\n",
       "                                            prodName  rating_count  \n",
       "0  Paula's Choice Skin Perfecting 2% BHA Liquid E...            60  \n",
       "1  Paula's Choice Skin Perfecting 2% BHA Liquid E...            60  \n",
       "2  Paula's Choice Skin Perfecting 2% BHA Liquid E...            60  \n",
       "3  Paula's Choice Skin Perfecting 2% BHA Liquid E...            60  \n",
       "4  Paula's Choice Skin Perfecting 2% BHA Liquid E...            60  "
      ]
     },
     "execution_count": 320,
     "metadata": {},
     "output_type": "execute_result"
    }
   ],
   "source": [
    "rec=rec.merge(toadd,on='url').drop_duplicates()\n",
    "rec=rec.merge(ratemean,on='url')\n",
    "rec.rename(columns={'rating_x':'rating'},inplace=True)\n",
    "rec.drop(columns='rating_y',inplace=True)\n",
    "rec.head()"
   ]
  },
  {
   "cell_type": "code",
   "execution_count": 322,
   "metadata": {},
   "outputs": [],
   "source": [
    "reader = Reader()\n",
    "data = Dataset.load_from_df(rec[['user','url','rating']],reader)"
   ]
  },
  {
   "cell_type": "code",
   "execution_count": 324,
   "metadata": {
    "scrolled": true
   },
   "outputs": [
    {
     "name": "stdout",
     "output_type": "stream",
     "text": [
      "Number of users:  1378 \n",
      "\n",
      "Number of items:  514\n"
     ]
    }
   ],
   "source": [
    "dataset = data.build_full_trainset()\n",
    "print('Number of users: ',dataset.n_users,'\\n')\n",
    "print('Number of items: ',dataset.n_items)"
   ]
  },
  {
   "cell_type": "markdown",
   "metadata": {},
   "source": [
    "## SVD/Grid Search ???!!!??!?!?!"
   ]
  },
  {
   "cell_type": "code",
   "execution_count": 335,
   "metadata": {},
   "outputs": [
    {
     "name": "stderr",
     "output_type": "stream",
     "text": [
      "/Users/mackenziemitchell/anaconda3/lib/python3.7/site-packages/joblib/externals/loky/process_executor.py:706: UserWarning: A worker stopped while some jobs were given to the executor. This can be caused by a too short worker timeout or by a memory leak.\n",
      "  \"timeout or by a memory leak.\", UserWarning\n"
     ]
    }
   ],
   "source": [
    "params = {'n_factors' :[10,20,30,40,50,60,70,80,90,100,200],\n",
    "         'reg_all':[0.02,0.05,0.1,0.5]}\n",
    "g_s_svd = GridSearchCV(SVD,param_grid=params,n_jobs=-1)\n",
    "g_s_svd.fit(data)"
   ]
  },
  {
   "cell_type": "code",
   "execution_count": 336,
   "metadata": {
    "scrolled": true
   },
   "outputs": [
    {
     "name": "stdout",
     "output_type": "stream",
     "text": [
      "{'rmse': 0.9636548214343789, 'mae': 0.6639878362747851}\n",
      "{'rmse': {'n_factors': 70, 'reg_all': 0.1}, 'mae': {'n_factors': 70, 'reg_all': 0.02}}\n"
     ]
    }
   ],
   "source": [
    "print(g_s_svd.best_score)\n",
    "print(g_s_svd.best_params)"
   ]
  },
  {
   "cell_type": "markdown",
   "metadata": {},
   "source": [
    "## Seeing what classification model is best/Cross Validation !!!??!?1/!?!?!??!?!\n"
   ]
  },
  {
   "cell_type": "code",
   "execution_count": 337,
   "metadata": {},
   "outputs": [],
   "source": [
    "# cross validating with KNNBasic\n",
    "knn_basic = KNNBasic(sim_options={'name':'pearson','user_based':True})\n",
    "cv_knn_basic= cross_validate(knn_basic,data,n_jobs=-1)"
   ]
  },
  {
   "cell_type": "code",
   "execution_count": 338,
   "metadata": {},
   "outputs": [
    {
     "name": "stdout",
     "output_type": "stream",
     "text": [
      "('test_rmse', array([0.83406781, 0.95413201, 0.93217687, 1.14529959, 1.00957739]))\n",
      "('test_mae', array([0.62510757, 0.66341568, 0.65852128, 0.75986052, 0.68958191]))\n",
      "('fit_time', (0.0511019229888916, 0.04958796501159668, 0.04799604415893555, 0.055422067642211914, 0.05212593078613281))\n",
      "('test_time', (0.002173185348510742, 0.0023238658905029297, 0.0020699501037597656, 0.0022420883178710938, 0.0021560192108154297))\n",
      "-----------------------\n",
      "0.975050731600222\n"
     ]
    }
   ],
   "source": [
    "for i in cv_knn_basic.items():\n",
    "    print(i)\n",
    "print('-----------------------')\n",
    "print(np.mean(cv_knn_basic['test_rmse']))"
   ]
  },
  {
   "cell_type": "code",
   "execution_count": 345,
   "metadata": {},
   "outputs": [],
   "source": [
    "# cross validating with KNNBasic\n",
    "nknn_basic = KNNBasic(sim_options={'name':'pearson','user_based':False})\n",
    "ncv_knn_basic= cross_validate(nknn_basic,data,n_jobs=-1)"
   ]
  },
  {
   "cell_type": "code",
   "execution_count": 346,
   "metadata": {},
   "outputs": [
    {
     "name": "stdout",
     "output_type": "stream",
     "text": [
      "('test_rmse', array([0.93043739, 1.09713101, 0.8761668 , 1.02863049, 0.94821475]))\n",
      "('test_mae', array([0.65870953, 0.73356431, 0.63586002, 0.69981893, 0.66337086]))\n",
      "('fit_time', (0.01104593276977539, 0.009692907333374023, 0.00887298583984375, 0.008912801742553711, 0.009455204010009766))\n",
      "('test_time', (0.0028519630432128906, 0.0020720958709716797, 0.00191497802734375, 0.0018391609191894531, 0.0019881725311279297))\n",
      "-----------------------\n",
      "0.9761160896774775\n"
     ]
    }
   ],
   "source": [
    "for i in ncv_knn_basic.items():\n",
    "    print(i)\n",
    "print('-----------------------')\n",
    "print(np.mean(ncv_knn_basic['test_rmse']))"
   ]
  },
  {
   "cell_type": "code",
   "execution_count": 344,
   "metadata": {},
   "outputs": [
    {
     "name": "stdout",
     "output_type": "stream",
     "text": [
      "Estimating biases using als...\n",
      "Computing the pearson similarity matrix...\n",
      "Done computing similarity matrix.\n",
      "Estimating biases using als...\n",
      "Computing the pearson similarity matrix...\n",
      "Done computing similarity matrix.\n",
      "Estimating biases using als...\n",
      "Computing the pearson similarity matrix...\n",
      "Done computing similarity matrix.\n",
      "Estimating biases using als...\n",
      "Computing the pearson similarity matrix...\n",
      "Done computing similarity matrix.\n",
      "Estimating biases using als...\n",
      "Computing the pearson similarity matrix...\n",
      "Done computing similarity matrix.\n",
      "('test_rmse', array([0.90899229, 0.91428427, 0.86416265, 1.019977  , 1.11242536]))\n",
      "('test_mae', array([0.65004662, 0.65338825, 0.63150447, 0.68702091, 0.73408563]))\n",
      "('fit_time', (0.041764020919799805, 0.03380703926086426, 0.0325620174407959, 0.03156590461730957, 0.03202033042907715))\n",
      "('test_time', (0.0020961761474609375, 0.0021262168884277344, 0.0020198822021484375, 0.0021021366119384766, 0.0019991397857666016))\n"
     ]
    },
    {
     "data": {
      "text/plain": [
       "0.9639683120139555"
      ]
     },
     "execution_count": 344,
     "metadata": {},
     "output_type": "execute_result"
    }
   ],
   "source": [
    "# cross validating with KNNBaseline\n",
    "knn_baseline = KNNBaseline(sim_options={'name':'pearson','user_based':True})\n",
    "cv_knn_baseline = cross_validate(knn_baseline,data)\n",
    "for i in cv_knn_baseline.items():\n",
    "    print(i)\n",
    "\n",
    "np.mean(cv_knn_baseline['test_rmse'])"
   ]
  },
  {
   "cell_type": "code",
   "execution_count": 347,
   "metadata": {},
   "outputs": [
    {
     "name": "stdout",
     "output_type": "stream",
     "text": [
      "Estimating biases using als...\n",
      "Computing the pearson similarity matrix...\n",
      "Done computing similarity matrix.\n",
      "Estimating biases using als...\n",
      "Computing the pearson similarity matrix...\n",
      "Done computing similarity matrix.\n",
      "Estimating biases using als...\n",
      "Computing the pearson similarity matrix...\n",
      "Done computing similarity matrix.\n",
      "Estimating biases using als...\n",
      "Computing the pearson similarity matrix...\n",
      "Done computing similarity matrix.\n",
      "Estimating biases using als...\n",
      "Computing the pearson similarity matrix...\n",
      "Done computing similarity matrix.\n",
      "('test_rmse', array([0.95128352, 0.89507063, 0.90778273, 1.11707132, 0.94462029]))\n",
      "('test_mae', array([0.66732507, 0.64196982, 0.63807522, 0.7341412 , 0.65966026]))\n",
      "('fit_time', (0.015108823776245117, 0.01285099983215332, 0.012653827667236328, 0.012573003768920898, 0.014127016067504883))\n",
      "('test_time', (0.0027451515197753906, 0.0020499229431152344, 0.0019960403442382812, 0.001961946487426758, 0.0019099712371826172))\n"
     ]
    },
    {
     "data": {
      "text/plain": [
       "0.963165698563273"
      ]
     },
     "execution_count": 347,
     "metadata": {},
     "output_type": "execute_result"
    }
   ],
   "source": [
    "# cross validating with KNNBaseline\n",
    "nknn_baseline = KNNBaseline(sim_options={'name':'pearson','user_based':False})\n",
    "ncv_knn_baseline = cross_validate(nknn_baseline,data)\n",
    "for i in ncv_knn_baseline.items():\n",
    "    print(i)\n",
    "\n",
    "np.mean(ncv_knn_baseline['test_rmse'])"
   ]
  },
  {
   "cell_type": "markdown",
   "metadata": {},
   "source": [
    "## Description TFIDF and Cosine Similarity !?!??!?!?!??!"
   ]
  },
  {
   "cell_type": "code",
   "execution_count": 350,
   "metadata": {},
   "outputs": [],
   "source": [
    "df1['description']=df1['title']+df1['content']"
   ]
  },
  {
   "cell_type": "code",
   "execution_count": 351,
   "metadata": {},
   "outputs": [],
   "source": [
    "tf = TfidfVectorizer(analyzer='word',ngram_range=(1, 2),min_df=0, stop_words='english')\n",
    "tfidf_matrix = tf.fit_transform(df1['description'])"
   ]
  },
  {
   "cell_type": "code",
   "execution_count": 352,
   "metadata": {},
   "outputs": [
    {
     "data": {
      "text/plain": [
       "(1685, 39382)"
      ]
     },
     "execution_count": 352,
     "metadata": {},
     "output_type": "execute_result"
    }
   ],
   "source": [
    "tfidf_matrix.shape"
   ]
  },
  {
   "cell_type": "code",
   "execution_count": 353,
   "metadata": {},
   "outputs": [
    {
     "data": {
      "text/plain": [
       "(1701, 30)"
      ]
     },
     "execution_count": 353,
     "metadata": {},
     "output_type": "execute_result"
    }
   ],
   "source": [
    "full.shape"
   ]
  },
  {
   "cell_type": "code",
   "execution_count": 354,
   "metadata": {},
   "outputs": [],
   "source": [
    "cosine_sim = linear_kernel(tfidf_matrix, tfidf_matrix)"
   ]
  },
  {
   "cell_type": "code",
   "execution_count": 403,
   "metadata": {},
   "outputs": [
    {
     "data": {
      "text/plain": [
       "array([[1.        , 0.03513622, 0.02979474, ..., 0.00730602, 0.        ,\n",
       "        0.00399307],\n",
       "       [0.03513622, 1.        , 0.02854128, ..., 0.        , 0.        ,\n",
       "        0.        ],\n",
       "       [0.02979474, 0.02854128, 1.        , ..., 0.        , 0.        ,\n",
       "        0.00425702],\n",
       "       ...,\n",
       "       [0.00730602, 0.        , 0.        , ..., 1.        , 0.        ,\n",
       "        0.05258715],\n",
       "       [0.        , 0.        , 0.        , ..., 0.        , 1.        ,\n",
       "        0.00154483],\n",
       "       [0.00399307, 0.        , 0.00425702, ..., 0.05258715, 0.00154483,\n",
       "        1.        ]])"
      ]
     },
     "execution_count": 403,
     "metadata": {},
     "output_type": "execute_result"
    }
   ],
   "source": [
    "cosine_sim"
   ]
  },
  {
   "cell_type": "code",
   "execution_count": 356,
   "metadata": {},
   "outputs": [],
   "source": [
    "# def item(id):  \n",
    "#     return df1.loc[df1['url'] == id]['description'].tolist()\n",
    "# # Just reads the results out of the dictionary.def \n",
    "# def recommend(item_id, num):\n",
    "#     print(\"Recommending \" + str(num) + \" products similar to \" + item(item_id) + \"...\")   \n",
    "#     print(\"-------\")    \n",
    "#     recs = results[item_id][:num]   \n",
    "#     for rec in recs: \n",
    "#         print(\"Recommended: \" + item(rec[1]) + \" (score:\" +      str(rec[0]) + \")\")"
   ]
  },
  {
   "cell_type": "code",
   "execution_count": 357,
   "metadata": {},
   "outputs": [],
   "source": [
    "# df1.reset_index(inplace=True)\n",
    "# products = df1['url']\n",
    "# indices = pd.Series(df1.index, index=df1['url'])"
   ]
  },
  {
   "cell_type": "code",
   "execution_count": 358,
   "metadata": {},
   "outputs": [],
   "source": [
    "# def get_recommendations(product):\n",
    "#     idx = indices[products]\n",
    "#     sim_scores = list(enumerate(cosine_sim[idx]))\n",
    "# #     sim_scores = sorted(sim_scores, key=lambda x: x[1], reverse=True)\n",
    "#     sim_scores = sim_scores[1:31]\n",
    "#     prod_indices = [i[0] for i in sim_scores]\n",
    "#     return products.iloc[prod_indices]"
   ]
  },
  {
   "cell_type": "code",
   "execution_count": 359,
   "metadata": {},
   "outputs": [
    {
     "data": {
      "text/plain": [
       "1     10236357\n",
       "5     10305907\n",
       "7     10305956\n",
       "11    10306437\n",
       "15    10306558\n",
       "25    10362821\n",
       "28    10362879\n",
       "Name: url, dtype: object"
      ]
     },
     "execution_count": 359,
     "metadata": {},
     "output_type": "execute_result"
    }
   ],
   "source": [
    "get_recommendations(11429304).drop_duplicates()"
   ]
  },
  {
   "cell_type": "code",
   "execution_count": 360,
   "metadata": {},
   "outputs": [],
   "source": [
    "# recommend(10362879,5)"
   ]
  },
  {
   "cell_type": "code",
   "execution_count": 361,
   "metadata": {},
   "outputs": [],
   "source": [
    "alldf=dfr[['url','prodName','rating','user']]"
   ]
  },
  {
   "cell_type": "code",
   "execution_count": 381,
   "metadata": {},
   "outputs": [
    {
     "data": {
      "text/html": [
       "<div>\n",
       "<style scoped>\n",
       "    .dataframe tbody tr th:only-of-type {\n",
       "        vertical-align: middle;\n",
       "    }\n",
       "\n",
       "    .dataframe tbody tr th {\n",
       "        vertical-align: top;\n",
       "    }\n",
       "\n",
       "    .dataframe thead th {\n",
       "        text-align: right;\n",
       "    }\n",
       "</style>\n",
       "<table border=\"1\" class=\"dataframe\">\n",
       "  <thead>\n",
       "    <tr style=\"text-align: right;\">\n",
       "      <th></th>\n",
       "      <th></th>\n",
       "      <th></th>\n",
       "      <th>rating</th>\n",
       "    </tr>\n",
       "    <tr>\n",
       "      <th>url</th>\n",
       "      <th>user</th>\n",
       "      <th>prodName</th>\n",
       "      <th></th>\n",
       "    </tr>\n",
       "  </thead>\n",
       "  <tbody>\n",
       "    <tr>\n",
       "      <th rowspan=\"5\" valign=\"top\">10236357</th>\n",
       "      <th>adrian</th>\n",
       "      <th>Anthony</th>\n",
       "      <td>5</td>\n",
       "    </tr>\n",
       "    <tr>\n",
       "      <th>george</th>\n",
       "      <th>Anthony</th>\n",
       "      <td>5</td>\n",
       "    </tr>\n",
       "    <tr>\n",
       "      <th>kimber</th>\n",
       "      <th>Anthony</th>\n",
       "      <td>5</td>\n",
       "    </tr>\n",
       "    <tr>\n",
       "      <th>mike</th>\n",
       "      <th>Anthony</th>\n",
       "      <td>5</td>\n",
       "    </tr>\n",
       "    <tr>\n",
       "      <th>westtexas</th>\n",
       "      <th>Anthony</th>\n",
       "      <td>5</td>\n",
       "    </tr>\n",
       "  </tbody>\n",
       "</table>\n",
       "</div>"
      ],
      "text/plain": [
       "                             rating\n",
       "url      user      prodName        \n",
       "10236357 adrian    Anthony        5\n",
       "         george    Anthony        5\n",
       "         kimber    Anthony        5\n",
       "         mike      Anthony        5\n",
       "         westtexas Anthony        5"
      ]
     },
     "execution_count": 381,
     "metadata": {},
     "output_type": "execute_result"
    }
   ],
   "source": [
    "alldf.groupby(['url','user','prodName']).mean().head()"
   ]
  },
  {
   "cell_type": "code",
   "execution_count": 382,
   "metadata": {},
   "outputs": [
    {
     "data": {
      "text/html": [
       "<div>\n",
       "<style scoped>\n",
       "    .dataframe tbody tr th:only-of-type {\n",
       "        vertical-align: middle;\n",
       "    }\n",
       "\n",
       "    .dataframe tbody tr th {\n",
       "        vertical-align: top;\n",
       "    }\n",
       "\n",
       "    .dataframe thead th {\n",
       "        text-align: right;\n",
       "    }\n",
       "</style>\n",
       "<table border=\"1\" class=\"dataframe\">\n",
       "  <thead>\n",
       "    <tr style=\"text-align: right;\">\n",
       "      <th></th>\n",
       "      <th>url</th>\n",
       "      <th>prodName</th>\n",
       "      <th>rating</th>\n",
       "      <th>user</th>\n",
       "    </tr>\n",
       "  </thead>\n",
       "  <tbody>\n",
       "    <tr>\n",
       "      <th>1587</th>\n",
       "      <td>10236357</td>\n",
       "      <td>Anthony</td>\n",
       "      <td>5</td>\n",
       "      <td>adrian</td>\n",
       "    </tr>\n",
       "    <tr>\n",
       "      <th>1589</th>\n",
       "      <td>10236357</td>\n",
       "      <td>Anthony</td>\n",
       "      <td>5</td>\n",
       "      <td>george</td>\n",
       "    </tr>\n",
       "    <tr>\n",
       "      <th>1586</th>\n",
       "      <td>10236357</td>\n",
       "      <td>Anthony</td>\n",
       "      <td>5</td>\n",
       "      <td>kimber</td>\n",
       "    </tr>\n",
       "    <tr>\n",
       "      <th>1588</th>\n",
       "      <td>10236357</td>\n",
       "      <td>Anthony</td>\n",
       "      <td>5</td>\n",
       "      <td>mike</td>\n",
       "    </tr>\n",
       "    <tr>\n",
       "      <th>1585</th>\n",
       "      <td>10236357</td>\n",
       "      <td>Anthony</td>\n",
       "      <td>5</td>\n",
       "      <td>westtexas</td>\n",
       "    </tr>\n",
       "  </tbody>\n",
       "</table>\n",
       "</div>"
      ],
      "text/plain": [
       "           url prodName  rating       user\n",
       "1587  10236357  Anthony       5     adrian\n",
       "1589  10236357  Anthony       5     george\n",
       "1586  10236357  Anthony       5     kimber\n",
       "1588  10236357  Anthony       5       mike\n",
       "1585  10236357  Anthony       5  westtexas"
      ]
     },
     "execution_count": 382,
     "metadata": {},
     "output_type": "execute_result"
    }
   ],
   "source": [
    "alldf.sort_values(['url','user']).head()"
   ]
  },
  {
   "cell_type": "code",
   "execution_count": 383,
   "metadata": {},
   "outputs": [
    {
     "data": {
      "text/html": [
       "<div>\n",
       "<style scoped>\n",
       "    .dataframe tbody tr th:only-of-type {\n",
       "        vertical-align: middle;\n",
       "    }\n",
       "\n",
       "    .dataframe tbody tr th {\n",
       "        vertical-align: top;\n",
       "    }\n",
       "\n",
       "    .dataframe thead th {\n",
       "        text-align: right;\n",
       "    }\n",
       "</style>\n",
       "<table border=\"1\" class=\"dataframe\">\n",
       "  <thead>\n",
       "    <tr style=\"text-align: right;\">\n",
       "      <th></th>\n",
       "      <th>url</th>\n",
       "      <th>prodName</th>\n",
       "      <th>rating</th>\n",
       "      <th>user</th>\n",
       "    </tr>\n",
       "  </thead>\n",
       "  <tbody>\n",
       "    <tr>\n",
       "      <th>3247</th>\n",
       "      <td>11289064</td>\n",
       "      <td>PCA SKIN</td>\n",
       "      <td>5</td>\n",
       "      <td>000000</td>\n",
       "    </tr>\n",
       "    <tr>\n",
       "      <th>321</th>\n",
       "      <td>11294885</td>\n",
       "      <td>Juice Beauty</td>\n",
       "      <td>2</td>\n",
       "      <td>1908</td>\n",
       "    </tr>\n",
       "    <tr>\n",
       "      <th>1426</th>\n",
       "      <td>11287696</td>\n",
       "      <td>Glytone</td>\n",
       "      <td>5</td>\n",
       "      <td>2</td>\n",
       "    </tr>\n",
       "    <tr>\n",
       "      <th>1827</th>\n",
       "      <td>11054488</td>\n",
       "      <td>First Aid Beauty</td>\n",
       "      <td>5</td>\n",
       "      <td>24fan</td>\n",
       "    </tr>\n",
       "    <tr>\n",
       "      <th>1637</th>\n",
       "      <td>11054488</td>\n",
       "      <td>First Aid Beauty</td>\n",
       "      <td>5</td>\n",
       "      <td>24fan</td>\n",
       "    </tr>\n",
       "  </tbody>\n",
       "</table>\n",
       "</div>"
      ],
      "text/plain": [
       "           url          prodName  rating    user\n",
       "3247  11289064          PCA SKIN       5  000000\n",
       "321   11294885      Juice Beauty       2    1908\n",
       "1426  11287696           Glytone       5       2\n",
       "1827  11054488  First Aid Beauty       5   24fan\n",
       "1637  11054488  First Aid Beauty       5   24fan"
      ]
     },
     "execution_count": 383,
     "metadata": {},
     "output_type": "execute_result"
    }
   ],
   "source": [
    "alldf.sort_values('user').head()"
   ]
  },
  {
   "cell_type": "code",
   "execution_count": 365,
   "metadata": {},
   "outputs": [],
   "source": [
    "# data=Dataset.load_from_df(df1[['user','url','rating']],reader=reader)\n",
    "# data\n"
   ]
  },
  {
   "cell_type": "code",
   "execution_count": 366,
   "metadata": {},
   "outputs": [
    {
     "data": {
      "text/plain": [
       "<surprise.dataset.DatasetAutoFolds at 0x7fe7280332e8>"
      ]
     },
     "execution_count": 366,
     "metadata": {},
     "output_type": "execute_result"
    }
   ],
   "source": [
    "data=Dataset.load_from_df(alldf[['user','url','rating']],reader=reader)\n",
    "data"
   ]
  },
  {
   "cell_type": "code",
   "execution_count": 370,
   "metadata": {},
   "outputs": [
    {
     "data": {
      "text/plain": [
       "<surprise.dataset.DatasetAutoFolds at 0x7fe728033d68>"
      ]
     },
     "execution_count": 370,
     "metadata": {},
     "output_type": "execute_result"
    }
   ],
   "source": [
    "data=Dataset.load_from_df(rec[['user','url','rating']],reader=reader)\n",
    "data"
   ]
  },
  {
   "cell_type": "code",
   "execution_count": 371,
   "metadata": {},
   "outputs": [],
   "source": [
    "train, test = train_test_split(data,test_size=0.2)"
   ]
  },
  {
   "cell_type": "code",
   "execution_count": 372,
   "metadata": {},
   "outputs": [],
   "source": [
    "sim_cos = {'name':'cosine','user_based':False}"
   ]
  },
  {
   "cell_type": "code",
   "execution_count": 392,
   "metadata": {},
   "outputs": [
    {
     "name": "stdout",
     "output_type": "stream",
     "text": [
      "Computing the cosine similarity matrix...\n",
      "Done computing similarity matrix.\n"
     ]
    },
    {
     "data": {
      "text/plain": [
       "<surprise.prediction_algorithms.knns.KNNBasic at 0x7fe7603e74a8>"
      ]
     },
     "execution_count": 392,
     "metadata": {},
     "output_type": "execute_result"
    }
   ],
   "source": [
    "basic = knns.KNNBasic(sim_options=sim_cos)\n",
    "basic.fit(train)"
   ]
  },
  {
   "cell_type": "code",
   "execution_count": 393,
   "metadata": {
    "scrolled": true
   },
   "outputs": [
    {
     "name": "stdout",
     "output_type": "stream",
     "text": [
      "RMSE: 1.0327\n",
      "1.032656202946828\n"
     ]
    }
   ],
   "source": [
    "basic.sim\n",
    "predictions = basic.test(test)\n",
    "print(accuracy.rmse(predictions))"
   ]
  },
  {
   "cell_type": "code",
   "execution_count": 394,
   "metadata": {},
   "outputs": [],
   "source": [
    "sim_cos_user = {'name':'cosine','user_based':True}"
   ]
  },
  {
   "cell_type": "code",
   "execution_count": 395,
   "metadata": {},
   "outputs": [
    {
     "name": "stdout",
     "output_type": "stream",
     "text": [
      "Computing the cosine similarity matrix...\n",
      "Done computing similarity matrix.\n",
      "RMSE: 1.0343\n",
      "1.034265688040528\n"
     ]
    }
   ],
   "source": [
    "basic = knns.KNNBasic(sim_options=sim_cos_user)\n",
    "basic.fit(train)\n",
    "basic.sim\n",
    "predictions = basic.test(test)\n",
    "print(accuracy.rmse(predictions))"
   ]
  },
  {
   "cell_type": "code",
   "execution_count": 396,
   "metadata": {},
   "outputs": [
    {
     "name": "stdout",
     "output_type": "stream",
     "text": [
      "Computing the pearson similarity matrix...\n",
      "Done computing similarity matrix.\n",
      "RMSE: 1.0322\n",
      "1.032213853270103\n"
     ]
    }
   ],
   "source": [
    "sim_pearson = {'name':'pearson','user_based':False}\n",
    "basic_pearson = knns.KNNBasic(sim_options=sim_pearson)\n",
    "basic_pearson.fit(train)\n",
    "predictions = basic_pearson.test(test)\n",
    "print(accuracy.rmse(predictions))"
   ]
  },
  {
   "cell_type": "code",
   "execution_count": 397,
   "metadata": {},
   "outputs": [
    {
     "name": "stdout",
     "output_type": "stream",
     "text": [
      "Computing the pearson similarity matrix...\n",
      "Done computing similarity matrix.\n",
      "RMSE: 1.0322\n",
      "1.032213853270103\n"
     ]
    }
   ],
   "source": [
    "sim_pearson_user = {'name':'pearson','user_based':True}\n",
    "basic_pearson = knns.KNNBasic(sim_options=sim_pearson_user)\n",
    "basic_pearson.fit(train)\n",
    "predictions = basic_pearson.test(test)\n",
    "print(accuracy.rmse(predictions))"
   ]
  },
  {
   "cell_type": "code",
   "execution_count": 398,
   "metadata": {},
   "outputs": [
    {
     "name": "stdout",
     "output_type": "stream",
     "text": [
      "Computing the pearson similarity matrix...\n",
      "Done computing similarity matrix.\n",
      "RMSE: 1.0252\n",
      "1.0251658879801462\n"
     ]
    }
   ],
   "source": [
    "sim_pearson = {'name':'pearson','user_based':False}\n",
    "knn_means = knns.KNNWithMeans(sim_options=sim_pearson)\n",
    "knn_means.fit(train)\n",
    "predictions = knn_means.test(test)\n",
    "print(accuracy.rmse(predictions))"
   ]
  },
  {
   "cell_type": "code",
   "execution_count": 399,
   "metadata": {},
   "outputs": [
    {
     "name": "stdout",
     "output_type": "stream",
     "text": [
      "Computing the pearson similarity matrix...\n",
      "Done computing similarity matrix.\n",
      "RMSE: 1.0786\n",
      "1.0785894485989567\n"
     ]
    }
   ],
   "source": [
    "sim_pearson_us = {'name':'pearson','user_based':True}\n",
    "knn_means = knns.KNNWithMeans(sim_options=sim_pearson_user)\n",
    "knn_means.fit(train)\n",
    "predictions = knn_means.test(test)\n",
    "print(accuracy.rmse(predictions))"
   ]
  },
  {
   "cell_type": "code",
   "execution_count": 400,
   "metadata": {},
   "outputs": [
    {
     "name": "stdout",
     "output_type": "stream",
     "text": [
      "Estimating biases using als...\n",
      "Computing the pearson similarity matrix...\n",
      "Done computing similarity matrix.\n",
      "RMSE: 1.0109\n",
      "1.0108791109869182\n"
     ]
    }
   ],
   "source": [
    "sim_pearson = {'name':'pearson','user_based':False}\n",
    "knn_baseline = knns.KNNBaseline(sim_options=sim_pearson)\n",
    "knn_baseline.fit(train)\n",
    "predictions = knn_baseline.test(test)\n",
    "print(accuracy.rmse(predictions))"
   ]
  },
  {
   "cell_type": "code",
   "execution_count": 401,
   "metadata": {
    "scrolled": true
   },
   "outputs": [
    {
     "name": "stdout",
     "output_type": "stream",
     "text": [
      "Estimating biases using als...\n",
      "Computing the pearson similarity matrix...\n",
      "Done computing similarity matrix.\n",
      "RMSE: 1.0109\n",
      "1.0108791109869182\n"
     ]
    }
   ],
   "source": [
    "sim_pearson_use = {'name':'pearson','user_based':True}\n",
    "knn_baseline = knns.KNNBaseline(sim_options=sim_pearson_user)\n",
    "knn_baseline.fit(train)\n",
    "predictions = knn_baseline.test(test)\n",
    "print(accuracy.rmse(predictions))"
   ]
  },
  {
   "cell_type": "code",
   "execution_count": 402,
   "metadata": {
    "scrolled": true
   },
   "outputs": [
    {
     "data": {
      "text/plain": [
       "4.228397168312853"
      ]
     },
     "execution_count": 402,
     "metadata": {},
     "output_type": "execute_result"
    }
   ],
   "source": [
    "predictions[5][3]"
   ]
  },
  {
   "cell_type": "markdown",
   "metadata": {},
   "source": [
    "## More Grid Search??"
   ]
  },
  {
   "cell_type": "code",
   "execution_count": 202,
   "metadata": {},
   "outputs": [
    {
     "name": "stderr",
     "output_type": "stream",
     "text": [
      "[Parallel(n_jobs=-1)]: Using backend LokyBackend with 16 concurrent workers.\n",
      "[Parallel(n_jobs=-1)]: Done  40 tasks      | elapsed:    2.2s\n",
      "[Parallel(n_jobs=-1)]: Done  66 out of  80 | elapsed:    2.9s remaining:    0.6s\n",
      "[Parallel(n_jobs=-1)]: Done  80 out of  80 | elapsed:    3.3s finished\n"
     ]
    }
   ],
   "source": [
    "param_grid = {'n_factors':[20,100],'n_epochs': [5, 10], 'lr_all': [0.002, 0.005],\n",
    "              'reg_all': [0.4, 0.6]}\n",
    "gs_model = GridSearchCV(SVD,param_grid=param_grid,n_jobs = -1,joblib_verbose=5)\n",
    "gs_model.fit(data)"
   ]
  },
  {
   "cell_type": "code",
   "execution_count": 203,
   "metadata": {},
   "outputs": [
    {
     "name": "stdout",
     "output_type": "stream",
     "text": [
      "RMSE: 0.9242\n",
      "0.9241714166225277\n"
     ]
    }
   ],
   "source": [
    "svd = SVD(n_factors=100,n_epochs=10,lr_all=0.005,reg_all=0.4)\n",
    "svd.fit(train)\n",
    "predictions = svd.test(test)\n",
    "print(accuracy.rmse(predictions))"
   ]
  },
  {
   "cell_type": "code",
   "execution_count": 204,
   "metadata": {},
   "outputs": [
    {
     "data": {
      "text/plain": [
       "Prediction(uid='3', iid='20', r_ui=None, est=4.55314371257485, details={'was_impossible': False})"
      ]
     },
     "execution_count": 204,
     "metadata": {},
     "output_type": "execute_result"
    }
   ],
   "source": [
    "user_34_prediction = svd.predict('3','20')\n",
    "user_34_prediction"
   ]
  },
  {
   "cell_type": "code",
   "execution_count": 58,
   "metadata": {},
   "outputs": [],
   "source": [
    "df=dfr[['user','rating','url','prodName']]"
   ]
  },
  {
   "cell_type": "code",
   "execution_count": 59,
   "metadata": {},
   "outputs": [
    {
     "data": {
      "text/html": [
       "<div>\n",
       "<style scoped>\n",
       "    .dataframe tbody tr th:only-of-type {\n",
       "        vertical-align: middle;\n",
       "    }\n",
       "\n",
       "    .dataframe tbody tr th {\n",
       "        vertical-align: top;\n",
       "    }\n",
       "\n",
       "    .dataframe thead th {\n",
       "        text-align: right;\n",
       "    }\n",
       "</style>\n",
       "<table border=\"1\" class=\"dataframe\">\n",
       "  <thead>\n",
       "    <tr style=\"text-align: right;\">\n",
       "      <th></th>\n",
       "      <th>url</th>\n",
       "      <th>prodName</th>\n",
       "    </tr>\n",
       "  </thead>\n",
       "  <tbody>\n",
       "    <tr>\n",
       "      <th>1677</th>\n",
       "      <td>10941238</td>\n",
       "      <td>Erno Laszlo</td>\n",
       "    </tr>\n",
       "  </tbody>\n",
       "</table>\n",
       "</div>"
      ],
      "text/plain": [
       "           url     prodName\n",
       "1677  10941238  Erno Laszlo"
      ]
     },
     "execution_count": 59,
     "metadata": {},
     "output_type": "execute_result"
    }
   ],
   "source": [
    "df.sample(1)[['url','prodName']]"
   ]
  },
  {
   "cell_type": "code",
   "execution_count": 137,
   "metadata": {
    "collapsed": true
   },
   "outputs": [
    {
     "data": {
      "text/html": [
       "<div>\n",
       "<style scoped>\n",
       "    .dataframe tbody tr th:only-of-type {\n",
       "        vertical-align: middle;\n",
       "    }\n",
       "\n",
       "    .dataframe tbody tr th {\n",
       "        vertical-align: top;\n",
       "    }\n",
       "\n",
       "    .dataframe thead th {\n",
       "        text-align: right;\n",
       "    }\n",
       "</style>\n",
       "<table border=\"1\" class=\"dataframe\">\n",
       "  <thead>\n",
       "    <tr style=\"text-align: right;\">\n",
       "      <th></th>\n",
       "      <th>brandName</th>\n",
       "      <th>rating</th>\n",
       "      <th>url</th>\n",
       "      <th>user</th>\n",
       "      <th>prodName</th>\n",
       "    </tr>\n",
       "  </thead>\n",
       "  <tbody>\n",
       "    <tr>\n",
       "      <th>0</th>\n",
       "      <td>Paula's Choice</td>\n",
       "      <td>5</td>\n",
       "      <td>11174178</td>\n",
       "      <td>becky c</td>\n",
       "      <td>Paula's Choice Skin Perfecting 2% BHA Liquid E...</td>\n",
       "    </tr>\n",
       "    <tr>\n",
       "      <th>6</th>\n",
       "      <td>Paula's Choice</td>\n",
       "      <td>5</td>\n",
       "      <td>11174178</td>\n",
       "      <td>jess</td>\n",
       "      <td>Paula's Choice Skin Perfecting 2% BHA Liquid E...</td>\n",
       "    </tr>\n",
       "    <tr>\n",
       "      <th>12</th>\n",
       "      <td>Paula's Choice</td>\n",
       "      <td>5</td>\n",
       "      <td>11174178</td>\n",
       "      <td>lisa</td>\n",
       "      <td>Paula's Choice Skin Perfecting 2% BHA Liquid E...</td>\n",
       "    </tr>\n",
       "    <tr>\n",
       "      <th>18</th>\n",
       "      <td>Paula's Choice</td>\n",
       "      <td>5</td>\n",
       "      <td>11174178</td>\n",
       "      <td>stella2</td>\n",
       "      <td>Paula's Choice Skin Perfecting 2% BHA Liquid E...</td>\n",
       "    </tr>\n",
       "    <tr>\n",
       "      <th>24</th>\n",
       "      <td>Paula's Choice</td>\n",
       "      <td>5</td>\n",
       "      <td>11174178</td>\n",
       "      <td>carli</td>\n",
       "      <td>Paula's Choice Skin Perfecting 2% BHA Liquid E...</td>\n",
       "    </tr>\n",
       "    <tr>\n",
       "      <th>30</th>\n",
       "      <td>Paula's Choice</td>\n",
       "      <td>5</td>\n",
       "      <td>11174178</td>\n",
       "      <td>tilly</td>\n",
       "      <td>Paula's Choice Skin Perfecting 2% BHA Liquid E...</td>\n",
       "    </tr>\n",
       "    <tr>\n",
       "      <th>36</th>\n",
       "      <td>Paula's Choice</td>\n",
       "      <td>5</td>\n",
       "      <td>11174178</td>\n",
       "      <td>anne206</td>\n",
       "      <td>Paula's Choice Skin Perfecting 2% BHA Liquid E...</td>\n",
       "    </tr>\n",
       "    <tr>\n",
       "      <th>42</th>\n",
       "      <td>Paula's Choice</td>\n",
       "      <td>5</td>\n",
       "      <td>11174178</td>\n",
       "      <td>samsara33139</td>\n",
       "      <td>Paula's Choice Skin Perfecting 2% BHA Liquid E...</td>\n",
       "    </tr>\n",
       "    <tr>\n",
       "      <th>48</th>\n",
       "      <td>Paula's Choice</td>\n",
       "      <td>5</td>\n",
       "      <td>11174178</td>\n",
       "      <td>suzi</td>\n",
       "      <td>Paula's Choice Skin Perfecting 2% BHA Liquid E...</td>\n",
       "    </tr>\n",
       "    <tr>\n",
       "      <th>54</th>\n",
       "      <td>SkinCeuticals</td>\n",
       "      <td>5</td>\n",
       "      <td>11289629</td>\n",
       "      <td>kiko</td>\n",
       "      <td>SkinCeuticals Phyto Corrective Gel</td>\n",
       "    </tr>\n",
       "    <tr>\n",
       "      <th>61</th>\n",
       "      <td>SkinCeuticals</td>\n",
       "      <td>5</td>\n",
       "      <td>11289629</td>\n",
       "      <td>lindac</td>\n",
       "      <td>SkinCeuticals Phyto Corrective Gel</td>\n",
       "    </tr>\n",
       "    <tr>\n",
       "      <th>68</th>\n",
       "      <td>SkinCeuticals</td>\n",
       "      <td>5</td>\n",
       "      <td>11289629</td>\n",
       "      <td>casf</td>\n",
       "      <td>SkinCeuticals Phyto Corrective Gel</td>\n",
       "    </tr>\n",
       "    <tr>\n",
       "      <th>75</th>\n",
       "      <td>SkinCeuticals</td>\n",
       "      <td>5</td>\n",
       "      <td>11289629</td>\n",
       "      <td>mslee</td>\n",
       "      <td>SkinCeuticals Phyto Corrective Gel</td>\n",
       "    </tr>\n",
       "    <tr>\n",
       "      <th>82</th>\n",
       "      <td>SkinCeuticals</td>\n",
       "      <td>5</td>\n",
       "      <td>11289629</td>\n",
       "      <td>bh</td>\n",
       "      <td>SkinCeuticals Phyto Corrective Gel</td>\n",
       "    </tr>\n",
       "    <tr>\n",
       "      <th>89</th>\n",
       "      <td>SkinCeuticals</td>\n",
       "      <td>5</td>\n",
       "      <td>11289629</td>\n",
       "      <td>sara</td>\n",
       "      <td>SkinCeuticals Phyto Corrective Gel</td>\n",
       "    </tr>\n",
       "    <tr>\n",
       "      <th>96</th>\n",
       "      <td>SkinCeuticals</td>\n",
       "      <td>5</td>\n",
       "      <td>11289629</td>\n",
       "      <td>kim</td>\n",
       "      <td>SkinCeuticals Phyto Corrective Gel</td>\n",
       "    </tr>\n",
       "    <tr>\n",
       "      <th>103</th>\n",
       "      <td>SkinCeuticals</td>\n",
       "      <td>2</td>\n",
       "      <td>11289629</td>\n",
       "      <td>susan</td>\n",
       "      <td>SkinCeuticals Phyto Corrective Gel</td>\n",
       "    </tr>\n",
       "    <tr>\n",
       "      <th>110</th>\n",
       "      <td>SkinCeuticals</td>\n",
       "      <td>5</td>\n",
       "      <td>11289629</td>\n",
       "      <td>jr</td>\n",
       "      <td>SkinCeuticals Phyto Corrective Gel</td>\n",
       "    </tr>\n",
       "    <tr>\n",
       "      <th>117</th>\n",
       "      <td>SkinCeuticals</td>\n",
       "      <td>5</td>\n",
       "      <td>11289629</td>\n",
       "      <td>jenn</td>\n",
       "      <td>SkinCeuticals Phyto Corrective Gel</td>\n",
       "    </tr>\n",
       "    <tr>\n",
       "      <th>124</th>\n",
       "      <td>Sunday Riley</td>\n",
       "      <td>5</td>\n",
       "      <td>10915787</td>\n",
       "      <td>gmama</td>\n",
       "      <td>Sunday Riley Good Genes Treatment 30ml</td>\n",
       "    </tr>\n",
       "    <tr>\n",
       "      <th>129</th>\n",
       "      <td>Sunday Riley</td>\n",
       "      <td>3</td>\n",
       "      <td>10915787</td>\n",
       "      <td>dbrown10</td>\n",
       "      <td>Sunday Riley Good Genes Treatment 30ml</td>\n",
       "    </tr>\n",
       "    <tr>\n",
       "      <th>134</th>\n",
       "      <td>Sunday Riley</td>\n",
       "      <td>5</td>\n",
       "      <td>10915787</td>\n",
       "      <td>bestskin</td>\n",
       "      <td>Sunday Riley Good Genes Treatment 30ml</td>\n",
       "    </tr>\n",
       "    <tr>\n",
       "      <th>139</th>\n",
       "      <td>Sunday Riley</td>\n",
       "      <td>5</td>\n",
       "      <td>10915787</td>\n",
       "      <td>loveskin</td>\n",
       "      <td>Sunday Riley Good Genes Treatment 30ml</td>\n",
       "    </tr>\n",
       "    <tr>\n",
       "      <th>144</th>\n",
       "      <td>Sunday Riley</td>\n",
       "      <td>5</td>\n",
       "      <td>10915787</td>\n",
       "      <td>skinisin</td>\n",
       "      <td>Sunday Riley Good Genes Treatment 30ml</td>\n",
       "    </tr>\n",
       "    <tr>\n",
       "      <th>149</th>\n",
       "      <td>Sunday Riley</td>\n",
       "      <td>5</td>\n",
       "      <td>10915787</td>\n",
       "      <td>whyn</td>\n",
       "      <td>Sunday Riley Good Genes Treatment 30ml</td>\n",
       "    </tr>\n",
       "    <tr>\n",
       "      <th>154</th>\n",
       "      <td>Sunday Riley</td>\n",
       "      <td>4</td>\n",
       "      <td>10915787</td>\n",
       "      <td>feel good</td>\n",
       "      <td>Sunday Riley Good Genes Treatment 30ml</td>\n",
       "    </tr>\n",
       "    <tr>\n",
       "      <th>159</th>\n",
       "      <td>Sunday Riley</td>\n",
       "      <td>5</td>\n",
       "      <td>10915787</td>\n",
       "      <td>halle</td>\n",
       "      <td>Sunday Riley Good Genes Treatment 30ml</td>\n",
       "    </tr>\n",
       "    <tr>\n",
       "      <th>164</th>\n",
       "      <td>Sunday Riley</td>\n",
       "      <td>5</td>\n",
       "      <td>10915787</td>\n",
       "      <td>lais</td>\n",
       "      <td>Sunday Riley Good Genes Treatment 30ml</td>\n",
       "    </tr>\n",
       "    <tr>\n",
       "      <th>169</th>\n",
       "      <td>Sunday Riley</td>\n",
       "      <td>5</td>\n",
       "      <td>10915787</td>\n",
       "      <td>barbz</td>\n",
       "      <td>Sunday Riley Good Genes Treatment 30ml</td>\n",
       "    </tr>\n",
       "    <tr>\n",
       "      <th>174</th>\n",
       "      <td>Paula's Choice</td>\n",
       "      <td>5</td>\n",
       "      <td>11174171</td>\n",
       "      <td>nurse</td>\n",
       "      <td>Paula's Choice Skin Balancing Pore-Reducing To...</td>\n",
       "    </tr>\n",
       "    <tr>\n",
       "      <th>...</th>\n",
       "      <td>...</td>\n",
       "      <td>...</td>\n",
       "      <td>...</td>\n",
       "      <td>...</td>\n",
       "      <td>...</td>\n",
       "    </tr>\n",
       "    <tr>\n",
       "      <th>3185</th>\n",
       "      <td>Babo Botanicals</td>\n",
       "      <td>5</td>\n",
       "      <td>11353503</td>\n",
       "      <td>mimi</td>\n",
       "      <td>Babo Botanicals Sheer Zinc Fragrance Free Cont...</td>\n",
       "    </tr>\n",
       "    <tr>\n",
       "      <th>3186</th>\n",
       "      <td>Avene</td>\n",
       "      <td>5</td>\n",
       "      <td>11117573</td>\n",
       "      <td>froggy</td>\n",
       "      <td>Avène Extremely Gentle Cleanser 6.7fl. oz</td>\n",
       "    </tr>\n",
       "    <tr>\n",
       "      <th>3187</th>\n",
       "      <td>Avene</td>\n",
       "      <td>5</td>\n",
       "      <td>11117573</td>\n",
       "      <td>bella88</td>\n",
       "      <td>Avène Extremely Gentle Cleanser 6.7fl. oz</td>\n",
       "    </tr>\n",
       "    <tr>\n",
       "      <th>3188</th>\n",
       "      <td>Avene</td>\n",
       "      <td>5</td>\n",
       "      <td>11117573</td>\n",
       "      <td>rachel22</td>\n",
       "      <td>Avène Extremely Gentle Cleanser 6.7fl. oz</td>\n",
       "    </tr>\n",
       "    <tr>\n",
       "      <th>3189</th>\n",
       "      <td>iS Clinical</td>\n",
       "      <td>5</td>\n",
       "      <td>11355230</td>\n",
       "      <td>wena</td>\n",
       "      <td>iS Clinical Body Complex 6 oz</td>\n",
       "    </tr>\n",
       "    <tr>\n",
       "      <th>3190</th>\n",
       "      <td>Caudalie</td>\n",
       "      <td>5</td>\n",
       "      <td>10839655</td>\n",
       "      <td>mimi</td>\n",
       "      <td>Caudalie Beauty Elixir Duo (2 x 3.4 fl. oz)</td>\n",
       "    </tr>\n",
       "    <tr>\n",
       "      <th>3191</th>\n",
       "      <td>La Roche-Posay</td>\n",
       "      <td>3</td>\n",
       "      <td>11429058</td>\n",
       "      <td>laurab</td>\n",
       "      <td>La Roche-Posay Effaclar Clarifying Oil-Free Cl...</td>\n",
       "    </tr>\n",
       "    <tr>\n",
       "      <th>3192</th>\n",
       "      <td>SkinMedica</td>\n",
       "      <td>5</td>\n",
       "      <td>11289680</td>\n",
       "      <td>bellatrainer</td>\n",
       "      <td>SkinMedica Sensitive Skin Cleanser (6oz)</td>\n",
       "    </tr>\n",
       "    <tr>\n",
       "      <th>3193</th>\n",
       "      <td>SkinMedica</td>\n",
       "      <td>5</td>\n",
       "      <td>11289680</td>\n",
       "      <td>kat50</td>\n",
       "      <td>SkinMedica Sensitive Skin Cleanser (6oz)</td>\n",
       "    </tr>\n",
       "    <tr>\n",
       "      <th>3194</th>\n",
       "      <td>SkinMedica</td>\n",
       "      <td>3</td>\n",
       "      <td>11289680</td>\n",
       "      <td>prestidigitator</td>\n",
       "      <td>SkinMedica Sensitive Skin Cleanser (6oz)</td>\n",
       "    </tr>\n",
       "    <tr>\n",
       "      <th>3195</th>\n",
       "      <td>SkinMedica</td>\n",
       "      <td>5</td>\n",
       "      <td>11289680</td>\n",
       "      <td>newgalsc</td>\n",
       "      <td>SkinMedica Sensitive Skin Cleanser (6oz)</td>\n",
       "    </tr>\n",
       "    <tr>\n",
       "      <th>3196</th>\n",
       "      <td>SkinMedica</td>\n",
       "      <td>4</td>\n",
       "      <td>11289680</td>\n",
       "      <td>yvonne</td>\n",
       "      <td>SkinMedica Sensitive Skin Cleanser (6oz)</td>\n",
       "    </tr>\n",
       "    <tr>\n",
       "      <th>3197</th>\n",
       "      <td>SkinMedica</td>\n",
       "      <td>5</td>\n",
       "      <td>11289680</td>\n",
       "      <td>emily</td>\n",
       "      <td>SkinMedica Sensitive Skin Cleanser (6oz)</td>\n",
       "    </tr>\n",
       "    <tr>\n",
       "      <th>3198</th>\n",
       "      <td>Pai</td>\n",
       "      <td>5</td>\n",
       "      <td>11995332</td>\n",
       "      <td>ollie</td>\n",
       "      <td>Pai Rosehip BioRenegerate Oil Mini 10ml</td>\n",
       "    </tr>\n",
       "    <tr>\n",
       "      <th>3199</th>\n",
       "      <td>La Roche-Posay</td>\n",
       "      <td>5</td>\n",
       "      <td>11429064</td>\n",
       "      <td>sophie</td>\n",
       "      <td>La Roche-Posay Toleriane Double Repair Moistur...</td>\n",
       "    </tr>\n",
       "    <tr>\n",
       "      <th>3200</th>\n",
       "      <td>Avene</td>\n",
       "      <td>5</td>\n",
       "      <td>11117575</td>\n",
       "      <td>mia</td>\n",
       "      <td>Avène Skin Recovery Cream RICH 1.69fl. oz</td>\n",
       "    </tr>\n",
       "    <tr>\n",
       "      <th>3201</th>\n",
       "      <td>Alchimie Forever</td>\n",
       "      <td>5</td>\n",
       "      <td>11286081</td>\n",
       "      <td>user</td>\n",
       "      <td>Alchimie Forever Gentle Refining Scrub</td>\n",
       "    </tr>\n",
       "    <tr>\n",
       "      <th>3202</th>\n",
       "      <td>La Roche-Posay</td>\n",
       "      <td>4</td>\n",
       "      <td>11428993</td>\n",
       "      <td>texasme</td>\n",
       "      <td>La Roche-Posay Redermic [C] Eyes 15ml</td>\n",
       "    </tr>\n",
       "    <tr>\n",
       "      <th>3203</th>\n",
       "      <td>Jurlique</td>\n",
       "      <td>1</td>\n",
       "      <td>10554527</td>\n",
       "      <td>erica</td>\n",
       "      <td>Jurlique Calendula - Cream (40ml)</td>\n",
       "    </tr>\n",
       "    <tr>\n",
       "      <th>3204</th>\n",
       "      <td>Jurlique</td>\n",
       "      <td>5</td>\n",
       "      <td>10554527</td>\n",
       "      <td>iceberg</td>\n",
       "      <td>Jurlique Calendula - Cream (40ml)</td>\n",
       "    </tr>\n",
       "    <tr>\n",
       "      <th>3205</th>\n",
       "      <td>Jurlique</td>\n",
       "      <td>5</td>\n",
       "      <td>10554527</td>\n",
       "      <td>skinguru</td>\n",
       "      <td>Jurlique Calendula - Cream (40ml)</td>\n",
       "    </tr>\n",
       "    <tr>\n",
       "      <th>3206</th>\n",
       "      <td>The Perfect V</td>\n",
       "      <td>5</td>\n",
       "      <td>12060161</td>\n",
       "      <td>js</td>\n",
       "      <td>The Perfect V - VV Cream Gentle Exfoliator 100ml</td>\n",
       "    </tr>\n",
       "    <tr>\n",
       "      <th>3207</th>\n",
       "      <td>Erno Laszlo</td>\n",
       "      <td>5</td>\n",
       "      <td>10941231</td>\n",
       "      <td>sophie</td>\n",
       "      <td>Erno Laszlo Phormula 3-9 Eye Repair (0.5oz)</td>\n",
       "    </tr>\n",
       "    <tr>\n",
       "      <th>3208</th>\n",
       "      <td>Supermood</td>\n",
       "      <td>5</td>\n",
       "      <td>12060134</td>\n",
       "      <td>lucille</td>\n",
       "      <td>Supermood Egoboost Eyes Wide Open Serum 15ml</td>\n",
       "    </tr>\n",
       "    <tr>\n",
       "      <th>3209</th>\n",
       "      <td>SkinMedica</td>\n",
       "      <td>4</td>\n",
       "      <td>11289671</td>\n",
       "      <td>ruffy</td>\n",
       "      <td>SkinMedica Post Procedure Kit (Worth $135)</td>\n",
       "    </tr>\n",
       "    <tr>\n",
       "      <th>3210</th>\n",
       "      <td>PCA SKIN</td>\n",
       "      <td>5</td>\n",
       "      <td>11289064</td>\n",
       "      <td>whydoineedanickname</td>\n",
       "      <td>PCA SKIN Anti-Redness Serum</td>\n",
       "    </tr>\n",
       "    <tr>\n",
       "      <th>3211</th>\n",
       "      <td>PCA SKIN</td>\n",
       "      <td>5</td>\n",
       "      <td>11289064</td>\n",
       "      <td>000000</td>\n",
       "      <td>PCA SKIN Anti-Redness Serum</td>\n",
       "    </tr>\n",
       "    <tr>\n",
       "      <th>3212</th>\n",
       "      <td>PCA SKIN</td>\n",
       "      <td>4</td>\n",
       "      <td>11289064</td>\n",
       "      <td>marylou</td>\n",
       "      <td>PCA SKIN Anti-Redness Serum</td>\n",
       "    </tr>\n",
       "    <tr>\n",
       "      <th>3213</th>\n",
       "      <td>Paula's Choice</td>\n",
       "      <td>4</td>\n",
       "      <td>11174172</td>\n",
       "      <td>siri</td>\n",
       "      <td>Paula's Choice Skin Recovery Daily Moisturizin...</td>\n",
       "    </tr>\n",
       "    <tr>\n",
       "      <th>3214</th>\n",
       "      <td>Paula's Choice</td>\n",
       "      <td>5</td>\n",
       "      <td>11174191</td>\n",
       "      <td>ddn</td>\n",
       "      <td>Paula's Choice Skin Recovery Super Antioxidant...</td>\n",
       "    </tr>\n",
       "  </tbody>\n",
       "</table>\n",
       "<p>1670 rows × 5 columns</p>\n",
       "</div>"
      ],
      "text/plain": [
       "             brandName  rating       url                 user  \\\n",
       "0       Paula's Choice       5  11174178              becky c   \n",
       "6       Paula's Choice       5  11174178                 jess   \n",
       "12      Paula's Choice       5  11174178                 lisa   \n",
       "18      Paula's Choice       5  11174178              stella2   \n",
       "24      Paula's Choice       5  11174178                carli   \n",
       "30      Paula's Choice       5  11174178                tilly   \n",
       "36      Paula's Choice       5  11174178              anne206   \n",
       "42      Paula's Choice       5  11174178         samsara33139   \n",
       "48      Paula's Choice       5  11174178                 suzi   \n",
       "54       SkinCeuticals       5  11289629                 kiko   \n",
       "61       SkinCeuticals       5  11289629               lindac   \n",
       "68       SkinCeuticals       5  11289629                 casf   \n",
       "75       SkinCeuticals       5  11289629                mslee   \n",
       "82       SkinCeuticals       5  11289629                   bh   \n",
       "89       SkinCeuticals       5  11289629                 sara   \n",
       "96       SkinCeuticals       5  11289629                  kim   \n",
       "103      SkinCeuticals       2  11289629                susan   \n",
       "110      SkinCeuticals       5  11289629                   jr   \n",
       "117      SkinCeuticals       5  11289629                 jenn   \n",
       "124       Sunday Riley       5  10915787                gmama   \n",
       "129       Sunday Riley       3  10915787            dbrown10    \n",
       "134       Sunday Riley       5  10915787             bestskin   \n",
       "139       Sunday Riley       5  10915787             loveskin   \n",
       "144       Sunday Riley       5  10915787             skinisin   \n",
       "149       Sunday Riley       5  10915787                 whyn   \n",
       "154       Sunday Riley       4  10915787            feel good   \n",
       "159       Sunday Riley       5  10915787                halle   \n",
       "164       Sunday Riley       5  10915787                lais    \n",
       "169       Sunday Riley       5  10915787                barbz   \n",
       "174     Paula's Choice       5  11174171                nurse   \n",
       "...                ...     ...       ...                  ...   \n",
       "3185   Babo Botanicals       5  11353503                 mimi   \n",
       "3186             Avene       5  11117573               froggy   \n",
       "3187             Avene       5  11117573              bella88   \n",
       "3188             Avene       5  11117573             rachel22   \n",
       "3189       iS Clinical       5  11355230                wena    \n",
       "3190          Caudalie       5  10839655                 mimi   \n",
       "3191    La Roche-Posay       3  11429058               laurab   \n",
       "3192        SkinMedica       5  11289680         bellatrainer   \n",
       "3193        SkinMedica       5  11289680                kat50   \n",
       "3194        SkinMedica       3  11289680      prestidigitator   \n",
       "3195        SkinMedica       5  11289680             newgalsc   \n",
       "3196        SkinMedica       4  11289680               yvonne   \n",
       "3197        SkinMedica       5  11289680                emily   \n",
       "3198               Pai       5  11995332                ollie   \n",
       "3199    La Roche-Posay       5  11429064               sophie   \n",
       "3200             Avene       5  11117575                  mia   \n",
       "3201  Alchimie Forever       5  11286081                 user   \n",
       "3202    La Roche-Posay       4  11428993              texasme   \n",
       "3203          Jurlique       1  10554527                erica   \n",
       "3204          Jurlique       5  10554527              iceberg   \n",
       "3205          Jurlique       5  10554527             skinguru   \n",
       "3206     The Perfect V       5  12060161                   js   \n",
       "3207       Erno Laszlo       5  10941231               sophie   \n",
       "3208         Supermood       5  12060134              lucille   \n",
       "3209        SkinMedica       4  11289671                ruffy   \n",
       "3210          PCA SKIN       5  11289064  whydoineedanickname   \n",
       "3211          PCA SKIN       5  11289064               000000   \n",
       "3212          PCA SKIN       4  11289064              marylou   \n",
       "3213    Paula's Choice       4  11174172                 siri   \n",
       "3214    Paula's Choice       5  11174191                  ddn   \n",
       "\n",
       "                                               prodName  \n",
       "0     Paula's Choice Skin Perfecting 2% BHA Liquid E...  \n",
       "6     Paula's Choice Skin Perfecting 2% BHA Liquid E...  \n",
       "12    Paula's Choice Skin Perfecting 2% BHA Liquid E...  \n",
       "18    Paula's Choice Skin Perfecting 2% BHA Liquid E...  \n",
       "24    Paula's Choice Skin Perfecting 2% BHA Liquid E...  \n",
       "30    Paula's Choice Skin Perfecting 2% BHA Liquid E...  \n",
       "36    Paula's Choice Skin Perfecting 2% BHA Liquid E...  \n",
       "42    Paula's Choice Skin Perfecting 2% BHA Liquid E...  \n",
       "48    Paula's Choice Skin Perfecting 2% BHA Liquid E...  \n",
       "54                   SkinCeuticals Phyto Corrective Gel  \n",
       "61                   SkinCeuticals Phyto Corrective Gel  \n",
       "68                   SkinCeuticals Phyto Corrective Gel  \n",
       "75                   SkinCeuticals Phyto Corrective Gel  \n",
       "82                   SkinCeuticals Phyto Corrective Gel  \n",
       "89                   SkinCeuticals Phyto Corrective Gel  \n",
       "96                   SkinCeuticals Phyto Corrective Gel  \n",
       "103                  SkinCeuticals Phyto Corrective Gel  \n",
       "110                  SkinCeuticals Phyto Corrective Gel  \n",
       "117                  SkinCeuticals Phyto Corrective Gel  \n",
       "124              Sunday Riley Good Genes Treatment 30ml  \n",
       "129              Sunday Riley Good Genes Treatment 30ml  \n",
       "134              Sunday Riley Good Genes Treatment 30ml  \n",
       "139              Sunday Riley Good Genes Treatment 30ml  \n",
       "144              Sunday Riley Good Genes Treatment 30ml  \n",
       "149              Sunday Riley Good Genes Treatment 30ml  \n",
       "154              Sunday Riley Good Genes Treatment 30ml  \n",
       "159              Sunday Riley Good Genes Treatment 30ml  \n",
       "164              Sunday Riley Good Genes Treatment 30ml  \n",
       "169              Sunday Riley Good Genes Treatment 30ml  \n",
       "174   Paula's Choice Skin Balancing Pore-Reducing To...  \n",
       "...                                                 ...  \n",
       "3185  Babo Botanicals Sheer Zinc Fragrance Free Cont...  \n",
       "3186          Avène Extremely Gentle Cleanser 6.7fl. oz  \n",
       "3187          Avène Extremely Gentle Cleanser 6.7fl. oz  \n",
       "3188          Avène Extremely Gentle Cleanser 6.7fl. oz  \n",
       "3189                      iS Clinical Body Complex 6 oz  \n",
       "3190        Caudalie Beauty Elixir Duo (2 x 3.4 fl. oz)  \n",
       "3191  La Roche-Posay Effaclar Clarifying Oil-Free Cl...  \n",
       "3192           SkinMedica Sensitive Skin Cleanser (6oz)  \n",
       "3193           SkinMedica Sensitive Skin Cleanser (6oz)  \n",
       "3194           SkinMedica Sensitive Skin Cleanser (6oz)  \n",
       "3195           SkinMedica Sensitive Skin Cleanser (6oz)  \n",
       "3196           SkinMedica Sensitive Skin Cleanser (6oz)  \n",
       "3197           SkinMedica Sensitive Skin Cleanser (6oz)  \n",
       "3198            Pai Rosehip BioRenegerate Oil Mini 10ml  \n",
       "3199  La Roche-Posay Toleriane Double Repair Moistur...  \n",
       "3200          Avène Skin Recovery Cream RICH 1.69fl. oz  \n",
       "3201             Alchimie Forever Gentle Refining Scrub  \n",
       "3202              La Roche-Posay Redermic [C] Eyes 15ml  \n",
       "3203                  Jurlique Calendula - Cream (40ml)  \n",
       "3204                  Jurlique Calendula - Cream (40ml)  \n",
       "3205                  Jurlique Calendula - Cream (40ml)  \n",
       "3206   The Perfect V - VV Cream Gentle Exfoliator 100ml  \n",
       "3207        Erno Laszlo Phormula 3-9 Eye Repair (0.5oz)  \n",
       "3208       Supermood Egoboost Eyes Wide Open Serum 15ml  \n",
       "3209         SkinMedica Post Procedure Kit (Worth $135)  \n",
       "3210                        PCA SKIN Anti-Redness Serum  \n",
       "3211                        PCA SKIN Anti-Redness Serum  \n",
       "3212                        PCA SKIN Anti-Redness Serum  \n",
       "3213  Paula's Choice Skin Recovery Daily Moisturizin...  \n",
       "3214  Paula's Choice Skin Recovery Super Antioxidant...  \n",
       "\n",
       "[1670 rows x 5 columns]"
      ]
     },
     "execution_count": 137,
     "metadata": {},
     "output_type": "execute_result"
    }
   ],
   "source": [
    "rec"
   ]
  },
  {
   "cell_type": "markdown",
   "metadata": {},
   "source": [
    "## Does this produce recommendations or is it messed up?"
   ]
  },
  {
   "cell_type": "code",
   "execution_count": 169,
   "metadata": {},
   "outputs": [],
   "source": [
    "# def skincare_rater(df,num, typ=None, problem=None):\n",
    "#     userID = 1000\n",
    "#     rating_list = []\n",
    "#     while num > 0:\n",
    "#         if typ:\n",
    "#             prod = df[df[''].str.contains(typ)].sample(1)\n",
    "#         else:\n",
    "#             sample=df.sample(1)\n",
    "#             brand=sample[['brandName']]\n",
    "#             product=sample[['prodName']]\n",
    "#             url=sample[['url']]\n",
    "#             prod = sample[['brandName','prodName','url']]\n",
    "#         print(prod)\n",
    "#         rating = input('How do you rate this product on a scale of 1-5, press n if you have not used :\\n')\n",
    "#         if rating == 'n':\n",
    "#             continue\n",
    "#         else:\n",
    "#             rating_one_prod=df.sample(1)[['url','prodName']]\n",
    "#             rating_one_prod['user']=1000\n",
    "#             rating_one_prod['rating']=rating\n",
    "#             ratedict={'url':url,'brandName':brand,'prodName':product}\n",
    "#             rating_list.append(rating_one_prod) \n",
    "#             num -= 1\n",
    "#     return rating_list"
   ]
  },
  {
   "cell_type": "markdown",
   "metadata": {},
   "source": [
    "# :) Collaborative Filtering Rec System"
   ]
  },
  {
   "cell_type": "code",
   "execution_count": 196,
   "metadata": {},
   "outputs": [],
   "source": [
    "def movie_rater(df,num, typ=None):\n",
    "    userID = 1000\n",
    "    rating_list = []\n",
    "    while num > 0:\n",
    "#         if typ:\n",
    "#             prod = df[df['genres'].str.contains(genre)].sample(1)\n",
    "#         else:\n",
    "        prod = df.sample(1)\n",
    "        print(prod)\n",
    "        rating = input('How do you rate this movie on a scale of 1-5, press n if you have not seen :\\n')\n",
    "        if rating == 'n':\n",
    "            continue\n",
    "        else:\n",
    "            rating_one_prod = {'userId':userID,'url':prod[['url']],'brandName':prod[['brandName']],'prodName':prod[['prodName']],'rating':rating}\n",
    "            rating_list.append(rating_one_prod) \n",
    "#             num -= 1\n",
    "#     return rating_list"
   ]
  },
  {
   "cell_type": "code",
   "execution_count": 218,
   "metadata": {},
   "outputs": [],
   "source": [
    "rec.rename({'rating_x':'rating'},inplace=True)"
   ]
  },
  {
   "cell_type": "code",
   "execution_count": 247,
   "metadata": {},
   "outputs": [],
   "source": [
    "def skin_rater(movie_df,num, typ=None):\n",
    "    userID = 1000\n",
    "    rating_list = []\n",
    "    while num > 0:\n",
    "        if typ:\n",
    "            p = movie_df[movie_df['types'].str.contains(genre)].sample(1)\n",
    "        else:\n",
    "            p = movie_df.sample(1)\n",
    "        print(p[['brandName','prodName','url']])\n",
    "        rating = input('How do you rate this movie on a scale of 1-5, press n if you have not seen :\\n')\n",
    "        if rating == 'n':\n",
    "            continue\n",
    "        else:\n",
    "            rating_one_movie = {'user':userID,'url':p['url'].values[0],'brand':p['brandName'].values[0],'product':p['prodName'].values[0],'rating_x':rating,'rating_count':p['rating_count'].values[0]}\n",
    "            rating_list.append(rating_one_movie) \n",
    "            num -= 1\n",
    "    return rating_list"
   ]
  },
  {
   "cell_type": "code",
   "execution_count": 271,
   "metadata": {
    "collapsed": true
   },
   "outputs": [
    {
     "name": "stdout",
     "output_type": "stream",
     "text": [
      "         brandName                                           prodName  \\\n",
      "1371  The Ordinary  The Ordinary Niacinamide 10% + Zinc 1% High St...   \n",
      "\n",
      "           url  \n",
      "1371  11363398  \n",
      "How do you rate this movie on a scale of 1-5, press n if you have not seen :\n",
      "1\n",
      "         brandName                                           prodName  \\\n",
      "370  SkinCeuticals  SkinCeuticals Sheer Physical UV Defense SPF50 ...   \n",
      "\n",
      "          url  \n",
      "370  11907698  \n",
      "How do you rate this movie on a scale of 1-5, press n if you have not seen :\n",
      "2\n",
      "    brandName                                   prodName       url\n",
      "486    NuFACE  NuFACE Gel Primer 24K Gold Complex - Firm  11288879\n",
      "How do you rate this movie on a scale of 1-5, press n if you have not seen :\n",
      "3\n"
     ]
    }
   ],
   "source": [
    "user_rating=skin_rater(rec,3)"
   ]
  },
  {
   "cell_type": "code",
   "execution_count": 272,
   "metadata": {},
   "outputs": [],
   "source": [
    "reader = Reader()\n",
    "data = Dataset.load_from_df(rec[['user','url','rating_x']],reader=reader)"
   ]
  },
  {
   "cell_type": "code",
   "execution_count": 273,
   "metadata": {},
   "outputs": [
    {
     "data": {
      "text/plain": [
       "<surprise.prediction_algorithms.matrix_factorization.SVD at 0x7fe7b88082b0>"
      ]
     },
     "execution_count": 273,
     "metadata": {},
     "output_type": "execute_result"
    }
   ],
   "source": [
    "svd_ = SVD(n_factors= 50, reg_all=0.05)\n",
    "svd_.fit(data.build_full_trainset())"
   ]
  },
  {
   "cell_type": "code",
   "execution_count": 274,
   "metadata": {},
   "outputs": [],
   "source": [
    "list_of_prods = []\n",
    "for m_id in rec['url'].unique():\n",
    "    list_of_prods.append( (m_id,svd_.predict(1000,m_id)[3]))\n",
    "ranked_prods = sorted(list_of_prods,key=lambda x:x[1],reverse=True)"
   ]
  },
  {
   "cell_type": "code",
   "execution_count": 275,
   "metadata": {},
   "outputs": [],
   "source": [
    "user_ratings=pd.DataFrame(user_rating)"
   ]
  },
  {
   "cell_type": "code",
   "execution_count": 291,
   "metadata": {},
   "outputs": [
    {
     "name": "stdout",
     "output_type": "stream",
     "text": [
      "Recommendation #  1 :  url: 10543756 1561    Dr. Brandt Pores No More Pore Refiner (1oz)\n",
      "Name: prodName, dtype: object \n",
      "\n",
      "Recommendation #  2 :  url: 11524843 1485    FOREO LUNA™ 2 for Oily Skin\n",
      "Name: prodName, dtype: object \n",
      "\n",
      "Recommendation #  3 :  url: 11286360 1061    Avène Thermal Spring Water 10.58oz\n",
      "Name: prodName, dtype: object \n",
      "\n",
      "Recommendation #  4 :  url: 11286857 598    Cellex-C Advanced C Serum\n",
      "Name: prodName, dtype: object \n",
      "\n",
      "Recommendation #  5 :  url: 11524845 1140    FOREO LUNA™ mini 2 - Fuchsia\n",
      "Name: prodName, dtype: object \n",
      "\n"
     ]
    }
   ],
   "source": [
    "def recommended_products(user_ratings,df,n):\n",
    "    for idx, re in enumerate(user_ratings):\n",
    "        title = df.loc[df['url'] == int(re[0])]['prodName']\n",
    "        u=re[0]\n",
    "        \n",
    "        print('Recommendation # ',idx+1,': ', 'url:', u, rec[rec['url']==u]['prodName'].drop_duplicates(),'\\n')\n",
    "        n-= 1\n",
    "        if n == 0:\n",
    "            break\n",
    "recommended_products(ranked_prods,rec,5)"
   ]
  },
  {
   "cell_type": "code",
   "execution_count": null,
   "metadata": {},
   "outputs": [],
   "source": []
  }
 ],
 "metadata": {
  "kernelspec": {
   "display_name": "Python 3",
   "language": "python",
   "name": "python3"
  },
  "language_info": {
   "codemirror_mode": {
    "name": "ipython",
    "version": 3
   },
   "file_extension": ".py",
   "mimetype": "text/x-python",
   "name": "python",
   "nbconvert_exporter": "python",
   "pygments_lexer": "ipython3",
   "version": "3.7.3"
  }
 },
 "nbformat": 4,
 "nbformat_minor": 2
}
