{
 "cells": [
  {
   "cell_type": "code",
   "execution_count": null,
   "metadata": {},
   "outputs": [],
   "source": [
    "from PIL import Image\n",
    "import matplotlib.pyplot as plt\n",
    "# from wordcloud import WordCloud, STOPWORDS,ImageColorGenerator\n",
    "# from nltk.sentiment.sentiment_analyzer import SentimentAnalyzer as sa\n",
    "# from nltk.classify.scikitlearn import SklearnClassifier\n",
    "# from nltk.classify import ClassifierI\n",
    "from vaderSentiment.vaderSentiment import SentimentIntensityAnalyzer\n",
    "import spacy\n",
    "from surprise.prediction_algorithms import knns\n",
    "from surprise.similarities import cosine, msd, pearson\n",
    "from surprise.model_selection import train_test_split, cross_validate\n",
    "from surprise import Dataset, Reader, accuracy, SVD, NMF\n",
    "reader= Reader(rating_scale=(1, 5.0))\n",
    "from surprise.prediction_algorithms import KNNWithMeans, KNNBasic, KNNBaseline\n",
    "from surprise.model_selection import cross_validate, GridSearchCV\n",
    "from surprise import Trainset\n",
    "import requests\n",
    "from sklearn.feature_extraction.text import TfidfVectorizer, CountVectorizer\n",
    "from sklearn.metrics.pairwise import linear_kernel, cosine_similarity\n",
    "\n",
    "\n",
    "with open('userratingsDF.pickle', 'rb') as f:\n",
    "    dfr = pickle.load(f)\n",
    "with open('CategoricalItemDF.pickle', 'rb') as f:\n",
    "    full = pickle.load(f)\n",
    "with open('_SENT&RATINGDF.pickle', 'rb') as f:\n",
    "    df1 = pickle.load(f)\n",
    "with open('recdf.pickle', 'rb') as f:\n",
    "    rec = pickle.load(f)\n",
    "with open('ratingsmeandf.pickle', 'rb') as f:\n",
    "    ratemean = pickle.load(f)"
   ]
  },
  {
   "cell_type": "markdown",
   "metadata": {},
   "source": [
    "# Beginning Recommender System Using Just UserId, ItemID, and Rating"
   ]
  },
  {
   "cell_type": "markdown",
   "metadata": {},
   "source": [
    "#### Item Based Collaborative Filtering probably better than User Based bc we have more users than items"
   ]
  },
  {
   "cell_type": "code",
   "execution_count": 84,
   "metadata": {},
   "outputs": [],
   "source": [
    "toadd=full[['url','prodName','age','darkcircles','dry','redness','sensitive', 'oily', 'normal', 'cleanser',\n",
    "       'exfoliator', 'makeup-removers', 'toner', 'mist', 'treatment', 'serum',\n",
    "       'lotion', 'moisturizer', 'balm', 'oil', 'mask', 'peel', 'lip', 'eye',\n",
    "       'supplement', 'tool']]"
   ]
  },
  {
   "cell_type": "code",
   "execution_count": 85,
   "metadata": {
    "scrolled": false
   },
   "outputs": [
    {
     "data": {
      "text/html": [
       "<div>\n",
       "<style scoped>\n",
       "    .dataframe tbody tr th:only-of-type {\n",
       "        vertical-align: middle;\n",
       "    }\n",
       "\n",
       "    .dataframe tbody tr th {\n",
       "        vertical-align: top;\n",
       "    }\n",
       "\n",
       "    .dataframe thead th {\n",
       "        text-align: right;\n",
       "    }\n",
       "</style>\n",
       "<table border=\"1\" class=\"dataframe\">\n",
       "  <thead>\n",
       "    <tr style=\"text-align: right;\">\n",
       "      <th></th>\n",
       "      <th>brandName</th>\n",
       "      <th>rating</th>\n",
       "      <th>url</th>\n",
       "      <th>user</th>\n",
       "      <th>prodName</th>\n",
       "      <th>age</th>\n",
       "      <th>darkcircles</th>\n",
       "      <th>dry</th>\n",
       "      <th>redness</th>\n",
       "      <th>sensitive</th>\n",
       "      <th>...</th>\n",
       "      <th>moisturizer</th>\n",
       "      <th>balm</th>\n",
       "      <th>oil</th>\n",
       "      <th>mask</th>\n",
       "      <th>peel</th>\n",
       "      <th>lip</th>\n",
       "      <th>eye</th>\n",
       "      <th>supplement</th>\n",
       "      <th>tool</th>\n",
       "      <th>rating_count</th>\n",
       "    </tr>\n",
       "  </thead>\n",
       "  <tbody>\n",
       "    <tr>\n",
       "      <th>0</th>\n",
       "      <td>Paula's Choice</td>\n",
       "      <td>5</td>\n",
       "      <td>11174178</td>\n",
       "      <td>becky c</td>\n",
       "      <td>Paula's Choice Skin Perfecting 2% BHA Liquid E...</td>\n",
       "      <td>1</td>\n",
       "      <td>0</td>\n",
       "      <td>0</td>\n",
       "      <td>1</td>\n",
       "      <td>0</td>\n",
       "      <td>...</td>\n",
       "      <td>0</td>\n",
       "      <td>0</td>\n",
       "      <td>0</td>\n",
       "      <td>0</td>\n",
       "      <td>0</td>\n",
       "      <td>0</td>\n",
       "      <td>0</td>\n",
       "      <td>0</td>\n",
       "      <td>0</td>\n",
       "      <td>60</td>\n",
       "    </tr>\n",
       "    <tr>\n",
       "      <th>1</th>\n",
       "      <td>Paula's Choice</td>\n",
       "      <td>5</td>\n",
       "      <td>11174178</td>\n",
       "      <td>jess</td>\n",
       "      <td>Paula's Choice Skin Perfecting 2% BHA Liquid E...</td>\n",
       "      <td>1</td>\n",
       "      <td>0</td>\n",
       "      <td>0</td>\n",
       "      <td>1</td>\n",
       "      <td>0</td>\n",
       "      <td>...</td>\n",
       "      <td>0</td>\n",
       "      <td>0</td>\n",
       "      <td>0</td>\n",
       "      <td>0</td>\n",
       "      <td>0</td>\n",
       "      <td>0</td>\n",
       "      <td>0</td>\n",
       "      <td>0</td>\n",
       "      <td>0</td>\n",
       "      <td>60</td>\n",
       "    </tr>\n",
       "    <tr>\n",
       "      <th>2</th>\n",
       "      <td>Paula's Choice</td>\n",
       "      <td>5</td>\n",
       "      <td>11174178</td>\n",
       "      <td>lisa</td>\n",
       "      <td>Paula's Choice Skin Perfecting 2% BHA Liquid E...</td>\n",
       "      <td>1</td>\n",
       "      <td>0</td>\n",
       "      <td>0</td>\n",
       "      <td>1</td>\n",
       "      <td>0</td>\n",
       "      <td>...</td>\n",
       "      <td>0</td>\n",
       "      <td>0</td>\n",
       "      <td>0</td>\n",
       "      <td>0</td>\n",
       "      <td>0</td>\n",
       "      <td>0</td>\n",
       "      <td>0</td>\n",
       "      <td>0</td>\n",
       "      <td>0</td>\n",
       "      <td>60</td>\n",
       "    </tr>\n",
       "    <tr>\n",
       "      <th>3</th>\n",
       "      <td>Paula's Choice</td>\n",
       "      <td>5</td>\n",
       "      <td>11174178</td>\n",
       "      <td>stella2</td>\n",
       "      <td>Paula's Choice Skin Perfecting 2% BHA Liquid E...</td>\n",
       "      <td>1</td>\n",
       "      <td>0</td>\n",
       "      <td>0</td>\n",
       "      <td>1</td>\n",
       "      <td>0</td>\n",
       "      <td>...</td>\n",
       "      <td>0</td>\n",
       "      <td>0</td>\n",
       "      <td>0</td>\n",
       "      <td>0</td>\n",
       "      <td>0</td>\n",
       "      <td>0</td>\n",
       "      <td>0</td>\n",
       "      <td>0</td>\n",
       "      <td>0</td>\n",
       "      <td>60</td>\n",
       "    </tr>\n",
       "    <tr>\n",
       "      <th>4</th>\n",
       "      <td>Paula's Choice</td>\n",
       "      <td>5</td>\n",
       "      <td>11174178</td>\n",
       "      <td>carli</td>\n",
       "      <td>Paula's Choice Skin Perfecting 2% BHA Liquid E...</td>\n",
       "      <td>1</td>\n",
       "      <td>0</td>\n",
       "      <td>0</td>\n",
       "      <td>1</td>\n",
       "      <td>0</td>\n",
       "      <td>...</td>\n",
       "      <td>0</td>\n",
       "      <td>0</td>\n",
       "      <td>0</td>\n",
       "      <td>0</td>\n",
       "      <td>0</td>\n",
       "      <td>0</td>\n",
       "      <td>0</td>\n",
       "      <td>0</td>\n",
       "      <td>0</td>\n",
       "      <td>60</td>\n",
       "    </tr>\n",
       "  </tbody>\n",
       "</table>\n",
       "<p>5 rows × 30 columns</p>\n",
       "</div>"
      ],
      "text/plain": [
       "        brandName  rating       url     user  \\\n",
       "0  Paula's Choice       5  11174178  becky c   \n",
       "1  Paula's Choice       5  11174178     jess   \n",
       "2  Paula's Choice       5  11174178     lisa   \n",
       "3  Paula's Choice       5  11174178  stella2   \n",
       "4  Paula's Choice       5  11174178    carli   \n",
       "\n",
       "                                            prodName  age  darkcircles  dry  \\\n",
       "0  Paula's Choice Skin Perfecting 2% BHA Liquid E...    1            0    0   \n",
       "1  Paula's Choice Skin Perfecting 2% BHA Liquid E...    1            0    0   \n",
       "2  Paula's Choice Skin Perfecting 2% BHA Liquid E...    1            0    0   \n",
       "3  Paula's Choice Skin Perfecting 2% BHA Liquid E...    1            0    0   \n",
       "4  Paula's Choice Skin Perfecting 2% BHA Liquid E...    1            0    0   \n",
       "\n",
       "   redness  sensitive  ...  moisturizer  balm  oil  mask  peel  lip  eye  \\\n",
       "0        1          0  ...            0     0    0     0     0    0    0   \n",
       "1        1          0  ...            0     0    0     0     0    0    0   \n",
       "2        1          0  ...            0     0    0     0     0    0    0   \n",
       "3        1          0  ...            0     0    0     0     0    0    0   \n",
       "4        1          0  ...            0     0    0     0     0    0    0   \n",
       "\n",
       "   supplement  tool  rating_count  \n",
       "0           0     0            60  \n",
       "1           0     0            60  \n",
       "2           0     0            60  \n",
       "3           0     0            60  \n",
       "4           0     0            60  \n",
       "\n",
       "[5 rows x 30 columns]"
      ]
     },
     "execution_count": 85,
     "metadata": {},
     "output_type": "execute_result"
    }
   ],
   "source": [
    "rec=rec.merge(toadd,on='url').drop_duplicates()\n",
    "rec=rec.merge(ratemean,on='url').drop_duplicates()\n",
    "rec.rename(columns={'rating_x':'rating','prodName_x':'brandName','prodName_y':'prodName'},inplace=True)\n",
    "rec.drop(columns='rating_y',inplace=True)\n",
    "rec.head()"
   ]
  },
  {
   "cell_type": "code",
   "execution_count": 39,
   "metadata": {},
   "outputs": [],
   "source": [
    "data = Dataset.load_from_df(rec[['user','url','rating']],reader)"
   ]
  },
  {
   "cell_type": "code",
   "execution_count": 40,
   "metadata": {
    "scrolled": true
   },
   "outputs": [
    {
     "name": "stdout",
     "output_type": "stream",
     "text": [
      "Number of users:  1378 \n",
      "\n",
      "Number of items:  514\n"
     ]
    }
   ],
   "source": [
    "dataset = data.build_full_trainset()\n",
    "print('Number of users: ',dataset.n_users,'\\n')\n",
    "print('Number of items: ',dataset.n_items)"
   ]
  },
  {
   "cell_type": "markdown",
   "metadata": {},
   "source": [
    "## Trying to Minimize RMSE"
   ]
  },
  {
   "cell_type": "markdown",
   "metadata": {},
   "source": [
    "#### SVD Grid Search"
   ]
  },
  {
   "cell_type": "code",
   "execution_count": 6,
   "metadata": {},
   "outputs": [],
   "source": [
    "params = {'n_factors' :[10,20,30,40,50,60,70,80,90,100,200],\n",
    "         'reg_all':[0.02,0.05,0.1,0.4,0.5,0.6],'n_epochs': [5, 10],\n",
    "         'lr_all': [0.002, 0.005],'reg_all': [0.4, 0.6]}\n",
    "g_s_svd = GridSearchCV(SVD,param_grid=params,n_jobs=-1)\n",
    "g_s_svd.fit(data)"
   ]
  },
  {
   "cell_type": "code",
   "execution_count": 7,
   "metadata": {},
   "outputs": [
    {
     "name": "stdout",
     "output_type": "stream",
     "text": [
      "0.9659347078145639\n",
      "{'n_factors': 90, 'reg_all': 0.4, 'n_epochs': 10, 'lr_all': 0.005}\n"
     ]
    }
   ],
   "source": [
    "print(g_s_svd.best_score['rmse'])\n",
    "print(g_s_svd.best_params['rmse'])"
   ]
  },
  {
   "cell_type": "markdown",
   "metadata": {},
   "source": [
    "#### NMF Grid Search"
   ]
  },
  {
   "cell_type": "code",
   "execution_count": 8,
   "metadata": {},
   "outputs": [],
   "source": [
    "params = {'n_factors' :[5,10,20,30,40,50,60,70,80,90,100,200],\n",
    "          'n_epochs': [5, 10]}\n",
    "g_s_nmf = GridSearchCV(NMF,param_grid=params,n_jobs=-1)\n",
    "g_s_nmf.fit(data)"
   ]
  },
  {
   "cell_type": "code",
   "execution_count": 9,
   "metadata": {},
   "outputs": [
    {
     "name": "stdout",
     "output_type": "stream",
     "text": [
      "0.9887726698254061\n",
      "{'n_factors': 90, 'n_epochs': 10}\n"
     ]
    }
   ],
   "source": [
    "print(g_s_nmf.best_score['rmse'])\n",
    "print(g_s_nmf.best_params['rmse'])"
   ]
  },
  {
   "cell_type": "markdown",
   "metadata": {},
   "source": [
    "## KNN"
   ]
  },
  {
   "cell_type": "markdown",
   "metadata": {},
   "source": [
    "### SIM_OPTIONS: Cosine Item Based"
   ]
  },
  {
   "cell_type": "markdown",
   "metadata": {},
   "source": [
    "#### KNN Basic"
   ]
  },
  {
   "cell_type": "code",
   "execution_count": 10,
   "metadata": {
    "collapsed": true
   },
   "outputs": [
    {
     "name": "stdout",
     "output_type": "stream",
     "text": [
      "('test_rmse', array([0.90890161, 0.96873017, 1.04439869, 1.07426939, 0.88591421]))\n",
      "('test_mae', array([0.65695256, 0.66090125, 0.71800262, 0.71289308, 0.63166706]))\n",
      "('fit_time', (0.007392168045043945, 0.006783962249755859, 0.003638029098510742, 0.003305196762084961, 0.003809213638305664))\n",
      "('test_time', (0.002286195755004883, 0.0019850730895996094, 0.0016338825225830078, 0.0016298294067382812, 0.0017268657684326172))\n",
      "-----------------------\n",
      "0.9764428139415496\n"
     ]
    }
   ],
   "source": [
    "knn_basic = KNNBasic(sim_options={'name':'cosine','user_based':False})\n",
    "cv_knn_basic= cross_validate(knn_basic,data,n_jobs=-1)\n",
    "for i in cv_knn_basic.items():\n",
    "    print(i)\n",
    "print('-----------------------')\n",
    "print(np.mean(cv_knn_basic['test_rmse']))"
   ]
  },
  {
   "cell_type": "markdown",
   "metadata": {},
   "source": [
    "#### KNN Baseline"
   ]
  },
  {
   "cell_type": "code",
   "execution_count": 11,
   "metadata": {
    "collapsed": true
   },
   "outputs": [
    {
     "name": "stdout",
     "output_type": "stream",
     "text": [
      "Estimating biases using als...\n",
      "Computing the cosine similarity matrix...\n",
      "Done computing similarity matrix.\n",
      "Estimating biases using als...\n",
      "Computing the cosine similarity matrix...\n",
      "Done computing similarity matrix.\n",
      "Estimating biases using als...\n",
      "Computing the cosine similarity matrix...\n",
      "Done computing similarity matrix.\n",
      "Estimating biases using als...\n",
      "Computing the cosine similarity matrix...\n",
      "Done computing similarity matrix.\n",
      "Estimating biases using als...\n",
      "Computing the cosine similarity matrix...\n",
      "Done computing similarity matrix.\n",
      "('test_rmse', array([0.99612817, 0.95286665, 0.88321094, 1.04089497, 0.97620286]))\n",
      "('test_mae', array([0.67881961, 0.6670182 , 0.63137781, 0.69682684, 0.68163483]))\n",
      "('fit_time', (0.010792970657348633, 0.013057947158813477, 0.012003183364868164, 0.008646249771118164, 0.009865045547485352))\n",
      "('test_time', (0.0023720264434814453, 0.0022149085998535156, 0.001962900161743164, 0.0017931461334228516, 0.0020279884338378906))\n",
      "-----------------------\n",
      "0.9698607156487693\n"
     ]
    }
   ],
   "source": [
    "knn_baseline = KNNBaseline(sim_options={'name':'cosine','user_based':False})\n",
    "cv_knn_baseline = cross_validate(knn_baseline,data)\n",
    "for i in cv_knn_baseline.items():\n",
    "    print(i)\n",
    "print('-----------------------')\n",
    "print(np.mean(cv_knn_baseline['test_rmse']))"
   ]
  },
  {
   "cell_type": "markdown",
   "metadata": {},
   "source": [
    "#### KNN With Means"
   ]
  },
  {
   "cell_type": "code",
   "execution_count": 12,
   "metadata": {
    "collapsed": true
   },
   "outputs": [
    {
     "name": "stdout",
     "output_type": "stream",
     "text": [
      "Computing the cosine similarity matrix...\n",
      "Done computing similarity matrix.\n",
      "Computing the cosine similarity matrix...\n",
      "Done computing similarity matrix.\n",
      "Computing the cosine similarity matrix...\n",
      "Done computing similarity matrix.\n",
      "Computing the cosine similarity matrix...\n",
      "Done computing similarity matrix.\n",
      "Computing the cosine similarity matrix...\n",
      "Done computing similarity matrix.\n",
      "('test_rmse', array([0.98928253, 0.96386456, 1.08176763, 0.93471887, 1.04349242]))\n",
      "('test_mae', array([0.67594669, 0.65073787, 0.71125445, 0.62537662, 0.693286  ]))\n",
      "('fit_time', (0.009605884552001953, 0.014175891876220703, 0.009071111679077148, 0.00913095474243164, 0.009814977645874023))\n",
      "('test_time', (0.0024759769439697266, 0.0023469924926757812, 0.0019469261169433594, 0.0019519329071044922, 0.001940011978149414))\n",
      "-----------------------\n",
      "1.002625201350422\n"
     ]
    }
   ],
   "source": [
    "knn_means = KNNWithMeans(sim_options={'name':'cosine','user_based':False})\n",
    "cv_knn_means = cross_validate(knn_means,data)\n",
    "for i in cv_knn_means.items():\n",
    "    print(i)\n",
    "print('-----------------------')\n",
    "print(np.mean(cv_knn_means['test_rmse']))"
   ]
  },
  {
   "cell_type": "markdown",
   "metadata": {},
   "source": [
    "### SIM_OPTIONS: Cosine USer Based"
   ]
  },
  {
   "cell_type": "markdown",
   "metadata": {},
   "source": [
    "#### KNN Basic"
   ]
  },
  {
   "cell_type": "code",
   "execution_count": 13,
   "metadata": {
    "collapsed": true
   },
   "outputs": [
    {
     "name": "stdout",
     "output_type": "stream",
     "text": [
      "('test_rmse', array([1.02378459, 0.98826338, 0.92019561, 0.92821787, 1.03198381]))\n",
      "('test_mae', array([0.69852361, 0.6795832 , 0.64940254, 0.66296076, 0.69901216]))\n",
      "('fit_time', (0.039000749588012695, 0.038290977478027344, 0.022185802459716797, 0.021097898483276367, 0.03825712203979492))\n",
      "('test_time', (0.0021789073944091797, 0.002238035202026367, 0.0019567012786865234, 0.0017437934875488281, 0.0020956993103027344))\n",
      "-----------------------\n",
      "0.9784890507476692\n"
     ]
    }
   ],
   "source": [
    "knn_basic = KNNBasic(sim_options={'name':'cosine','user_based':True})\n",
    "cv_knn_basic= cross_validate(knn_basic,data,n_jobs=-1)\n",
    "for i in cv_knn_basic.items():\n",
    "    print(i)\n",
    "print('-----------------------')\n",
    "print(np.mean(cv_knn_basic['test_rmse']))"
   ]
  },
  {
   "cell_type": "markdown",
   "metadata": {},
   "source": [
    "#### KNN Baseline"
   ]
  },
  {
   "cell_type": "code",
   "execution_count": 14,
   "metadata": {
    "collapsed": true
   },
   "outputs": [
    {
     "name": "stdout",
     "output_type": "stream",
     "text": [
      "Estimating biases using als...\n",
      "Computing the cosine similarity matrix...\n",
      "Done computing similarity matrix.\n",
      "Estimating biases using als...\n",
      "Computing the cosine similarity matrix...\n",
      "Done computing similarity matrix.\n",
      "Estimating biases using als...\n",
      "Computing the cosine similarity matrix...\n",
      "Done computing similarity matrix.\n",
      "Estimating biases using als...\n",
      "Computing the cosine similarity matrix...\n",
      "Done computing similarity matrix.\n",
      "Estimating biases using als...\n",
      "Computing the cosine similarity matrix...\n",
      "Done computing similarity matrix.\n",
      "('test_rmse', array([0.95322255, 0.94008821, 0.99488813, 1.01733195, 0.94909613]))\n",
      "('test_mae', array([0.67528282, 0.65399087, 0.66775162, 0.69638874, 0.66794032]))\n",
      "('fit_time', (0.04721879959106445, 0.04445219039916992, 0.027058124542236328, 0.029604196548461914, 0.02437305450439453))\n",
      "('test_time', (0.002094268798828125, 0.002009868621826172, 0.0019578933715820312, 0.0019707679748535156, 0.0019328594207763672))\n",
      "-----------------------\n",
      "0.9709253923312294\n"
     ]
    }
   ],
   "source": [
    "knn_baseline = KNNBaseline(sim_options={'name':'cosine','user_based':True})\n",
    "cv_knn_baseline = cross_validate(knn_baseline,data)\n",
    "for i in cv_knn_baseline.items():\n",
    "    print(i)\n",
    "print('-----------------------')\n",
    "print(np.mean(cv_knn_baseline['test_rmse']))"
   ]
  },
  {
   "cell_type": "markdown",
   "metadata": {},
   "source": [
    "#### KNN With Means"
   ]
  },
  {
   "cell_type": "code",
   "execution_count": 15,
   "metadata": {
    "collapsed": true
   },
   "outputs": [
    {
     "name": "stdout",
     "output_type": "stream",
     "text": [
      "Computing the cosine similarity matrix...\n",
      "Done computing similarity matrix.\n",
      "Computing the cosine similarity matrix...\n",
      "Done computing similarity matrix.\n",
      "Computing the cosine similarity matrix...\n",
      "Done computing similarity matrix.\n",
      "Computing the cosine similarity matrix...\n",
      "Done computing similarity matrix.\n",
      "Computing the cosine similarity matrix...\n",
      "Done computing similarity matrix.\n",
      "('test_rmse', array([1.09036891, 1.11641172, 0.92886349, 0.97348824, 1.04511284]))\n",
      "('test_mae', array([0.72691443, 0.70942666, 0.62237949, 0.64560923, 0.68449777]))\n",
      "('fit_time', (0.03462100028991699, 0.050513267517089844, 0.030248403549194336, 0.029983043670654297, 0.029340744018554688))\n",
      "('test_time', (0.0022242069244384766, 0.002112865447998047, 0.0019447803497314453, 0.0018761157989501953, 0.0018050670623779297))\n",
      "-----------------------\n",
      "1.0308490381068518\n"
     ]
    }
   ],
   "source": [
    "knn_means = KNNWithMeans(sim_options={'name':'cosine','user_based':True})\n",
    "cv_knn_means = cross_validate(knn_means,data)\n",
    "for i in cv_knn_means.items():\n",
    "    print(i)\n",
    "print('-----------------------')\n",
    "print(np.mean(cv_knn_means['test_rmse']))"
   ]
  },
  {
   "cell_type": "markdown",
   "metadata": {},
   "source": [
    "### SIM_OPTIONS Peasrson Item Based"
   ]
  },
  {
   "cell_type": "markdown",
   "metadata": {},
   "source": [
    "#### KNN Basic"
   ]
  },
  {
   "cell_type": "code",
   "execution_count": 16,
   "metadata": {
    "collapsed": true
   },
   "outputs": [
    {
     "name": "stdout",
     "output_type": "stream",
     "text": [
      "('test_rmse', array([0.97130197, 0.81901005, 0.95187453, 0.93549939, 1.18820035]))\n",
      "('test_mae', array([0.67904909, 0.61390692, 0.66777224, 0.66599735, 0.76904873]))\n",
      "('fit_time', (0.009018898010253906, 0.008264780044555664, 0.008024215698242188, 0.004899024963378906, 0.008108139038085938))\n",
      "('test_time', (0.0019428730010986328, 0.0019230842590332031, 0.0017616748809814453, 0.0016171932220458984, 0.001622915267944336))\n",
      "-----------------------\n",
      "0.9731772572474464\n"
     ]
    }
   ],
   "source": [
    "knn_basic = KNNBasic(sim_options={'name':'pearson','user_based':False})\n",
    "cv_knn_basic= cross_validate(knn_basic,data,n_jobs=-1)\n",
    "for i in cv_knn_basic.items():\n",
    "    print(i)\n",
    "print('-----------------------')\n",
    "print(np.mean(cv_knn_basic['test_rmse']))"
   ]
  },
  {
   "cell_type": "markdown",
   "metadata": {},
   "source": [
    "#### KNN Baseline"
   ]
  },
  {
   "cell_type": "code",
   "execution_count": 17,
   "metadata": {
    "collapsed": true
   },
   "outputs": [
    {
     "name": "stdout",
     "output_type": "stream",
     "text": [
      "Estimating biases using als...\n",
      "Computing the pearson similarity matrix...\n",
      "Done computing similarity matrix.\n",
      "Estimating biases using als...\n",
      "Computing the pearson similarity matrix...\n",
      "Done computing similarity matrix.\n",
      "Estimating biases using als...\n",
      "Computing the pearson similarity matrix...\n",
      "Done computing similarity matrix.\n",
      "Estimating biases using als...\n",
      "Computing the pearson similarity matrix...\n",
      "Done computing similarity matrix.\n",
      "Estimating biases using als...\n",
      "Computing the pearson similarity matrix...\n",
      "Done computing similarity matrix.\n",
      "('test_rmse', array([0.99041302, 0.92218288, 1.04242295, 0.9810611 , 0.88106264]))\n",
      "('test_mae', array([0.68753669, 0.65733102, 0.69940034, 0.6703398 , 0.62661801]))\n",
      "('fit_time', (0.011060953140258789, 0.012090682983398438, 0.013730049133300781, 0.010601043701171875, 0.009036064147949219))\n",
      "('test_time', (0.002457857131958008, 0.0021610260009765625, 0.0019049644470214844, 0.0018520355224609375, 0.0018849372863769531))\n",
      "-----------------------\n",
      "0.9634285181244053\n"
     ]
    }
   ],
   "source": [
    "knn_baseline = KNNBaseline(sim_options={'name':'pearson','user_based':False})\n",
    "cv_knn_baseline = cross_validate(knn_baseline,data)\n",
    "for i in cv_knn_baseline.items():\n",
    "    print(i)\n",
    "print('-----------------------')\n",
    "print(np.mean(cv_knn_baseline['test_rmse']))"
   ]
  },
  {
   "cell_type": "markdown",
   "metadata": {},
   "source": [
    "#### KNN With Means"
   ]
  },
  {
   "cell_type": "code",
   "execution_count": 18,
   "metadata": {
    "collapsed": true
   },
   "outputs": [
    {
     "name": "stdout",
     "output_type": "stream",
     "text": [
      "Computing the pearson similarity matrix...\n",
      "Done computing similarity matrix.\n",
      "Computing the pearson similarity matrix...\n",
      "Done computing similarity matrix.\n",
      "Computing the pearson similarity matrix...\n",
      "Done computing similarity matrix.\n",
      "Computing the pearson similarity matrix...\n",
      "Done computing similarity matrix.\n",
      "Computing the pearson similarity matrix...\n",
      "Done computing similarity matrix.\n",
      "('test_rmse', array([0.81132872, 0.98468451, 1.18555963, 1.09383117, 0.8860752 ]))\n",
      "('test_mae', array([0.59433053, 0.65694103, 0.76811823, 0.71201119, 0.62111259]))\n",
      "('fit_time', (0.011271953582763672, 0.013571023941040039, 0.009980916976928711, 0.009370803833007812, 0.009818792343139648))\n",
      "('test_time', (0.002554178237915039, 0.001990795135498047, 0.0018990039825439453, 0.0019109249114990234, 0.0018329620361328125))\n",
      "-----------------------\n",
      "0.9922958470326719\n"
     ]
    }
   ],
   "source": [
    "knn_means = KNNWithMeans(sim_options={'name':'pearson','user_based':False})\n",
    "cv_knn_means = cross_validate(knn_means,data)\n",
    "for i in cv_knn_means.items():\n",
    "    print(i)\n",
    "print('-----------------------')\n",
    "print(np.mean(cv_knn_means['test_rmse']))"
   ]
  },
  {
   "cell_type": "markdown",
   "metadata": {},
   "source": [
    "### SIM_OPTIONS Pearson User Based"
   ]
  },
  {
   "cell_type": "markdown",
   "metadata": {},
   "source": [
    "#### KNN Basic"
   ]
  },
  {
   "cell_type": "code",
   "execution_count": 19,
   "metadata": {
    "collapsed": true
   },
   "outputs": [
    {
     "name": "stdout",
     "output_type": "stream",
     "text": [
      "('test_rmse', array([1.04782399, 0.93931161, 0.99231992, 0.962505  , 0.9496872 ]))\n",
      "('test_mae', array([0.70517946, 0.66489476, 0.68739019, 0.6717523 , 0.66395353]))\n",
      "('fit_time', (0.050451040267944336, 0.05025315284729004, 0.050475120544433594, 0.05158710479736328, 0.05046200752258301))\n",
      "('test_time', (0.0021250247955322266, 0.0021309852600097656, 0.0021729469299316406, 0.002089977264404297, 0.0020711421966552734))\n",
      "-----------------------\n",
      "0.97832954532504\n"
     ]
    }
   ],
   "source": [
    "knn_basic = KNNBasic(sim_options={'name':'pearson','user_based':True})\n",
    "cv_knn_basic= cross_validate(knn_basic,data,n_jobs=-1)\n",
    "for i in cv_knn_basic.items():\n",
    "    print(i)\n",
    "print('-----------------------')\n",
    "print(np.mean(cv_knn_basic['test_rmse']))"
   ]
  },
  {
   "cell_type": "markdown",
   "metadata": {},
   "source": [
    "#### KNN Basline"
   ]
  },
  {
   "cell_type": "code",
   "execution_count": 20,
   "metadata": {
    "collapsed": true
   },
   "outputs": [
    {
     "name": "stdout",
     "output_type": "stream",
     "text": [
      "Estimating biases using als...\n",
      "Computing the pearson similarity matrix...\n",
      "Done computing similarity matrix.\n",
      "Estimating biases using als...\n",
      "Computing the pearson similarity matrix...\n",
      "Done computing similarity matrix.\n",
      "Estimating biases using als...\n",
      "Computing the pearson similarity matrix...\n",
      "Done computing similarity matrix.\n",
      "Estimating biases using als...\n",
      "Computing the pearson similarity matrix...\n",
      "Done computing similarity matrix.\n",
      "Estimating biases using als...\n",
      "Computing the pearson similarity matrix...\n",
      "Done computing similarity matrix.\n",
      "('test_rmse', array([0.84693099, 0.97838634, 0.91112664, 1.00209625, 1.08094817]))\n",
      "('test_mae', array([0.61316586, 0.67859862, 0.6457759 , 0.68476307, 0.71086616]))\n",
      "('fit_time', (0.04794597625732422, 0.0300750732421875, 0.03400993347167969, 0.03227591514587402, 0.029616832733154297))\n",
      "('test_time', (0.0021009445190429688, 0.001970052719116211, 0.0019719600677490234, 0.0019750595092773438, 0.0018768310546875))\n",
      "-----------------------\n",
      "0.963897676669365\n"
     ]
    }
   ],
   "source": [
    "knn_baseline = KNNBaseline(sim_options={'name':'pearson','user_based':True})\n",
    "cv_knn_baseline = cross_validate(knn_baseline,data)\n",
    "for i in cv_knn_baseline.items():\n",
    "    print(i)\n",
    "print('-----------------------')\n",
    "print(np.mean(cv_knn_baseline['test_rmse']))"
   ]
  },
  {
   "cell_type": "markdown",
   "metadata": {},
   "source": [
    "#### KNN With Means"
   ]
  },
  {
   "cell_type": "code",
   "execution_count": 21,
   "metadata": {
    "collapsed": true
   },
   "outputs": [
    {
     "name": "stdout",
     "output_type": "stream",
     "text": [
      "Computing the pearson similarity matrix...\n",
      "Done computing similarity matrix.\n",
      "Computing the pearson similarity matrix...\n",
      "Done computing similarity matrix.\n",
      "Computing the pearson similarity matrix...\n",
      "Done computing similarity matrix.\n",
      "Computing the pearson similarity matrix...\n",
      "Done computing similarity matrix.\n",
      "Computing the pearson similarity matrix...\n",
      "Done computing similarity matrix.\n",
      "('test_rmse', array([0.93046592, 1.0244918 , 0.99565652, 1.14708287, 1.04244671]))\n",
      "('test_mae', array([0.64010452, 0.68063349, 0.67257611, 0.73121138, 0.67686857]))\n",
      "('fit_time', (0.04549407958984375, 0.03548288345336914, 0.03435111045837402, 0.038459062576293945, 0.03566288948059082))\n",
      "('test_time', (0.0021600723266601562, 0.0020029544830322266, 0.002035856246948242, 0.002042055130004883, 0.002023935317993164))\n",
      "-----------------------\n",
      "1.0280287634612058\n"
     ]
    }
   ],
   "source": [
    "knn_means = KNNWithMeans(sim_options={'name':'pearson','user_based':True})\n",
    "cv_knn_means = cross_validate(knn_means,data)\n",
    "for i in cv_knn_means.items():\n",
    "    print(i)\n",
    "print('-----------------------')\n",
    "print(np.mean(cv_knn_means['test_rmse']))"
   ]
  },
  {
   "cell_type": "markdown",
   "metadata": {},
   "source": [
    "### SIM_OPTIONS MSD Item Based"
   ]
  },
  {
   "cell_type": "markdown",
   "metadata": {},
   "source": [
    "#### KNN Basic"
   ]
  },
  {
   "cell_type": "code",
   "execution_count": 22,
   "metadata": {
    "collapsed": true
   },
   "outputs": [
    {
     "name": "stdout",
     "output_type": "stream",
     "text": [
      "('test_rmse', array([0.98155994, 1.05738169, 0.83585361, 0.99638405, 1.01628067]))\n",
      "('test_mae', array([0.67613575, 0.70601761, 0.62672559, 0.68500125, 0.69301965]))\n",
      "('fit_time', (0.0042591094970703125, 0.0024280548095703125, 0.0024640560150146484, 0.0025670528411865234, 0.004168987274169922))\n",
      "('test_time', (0.0019698143005371094, 0.001802206039428711, 0.0016589164733886719, 0.0017819404602050781, 0.0015718936920166016))\n",
      "-----------------------\n",
      "0.9774919905189868\n"
     ]
    }
   ],
   "source": [
    "knn_basic = KNNBasic(sim_options={'name':'msd','user_based':False})\n",
    "cv_knn_basic= cross_validate(knn_basic,data,n_jobs=-1)\n",
    "for i in cv_knn_basic.items():\n",
    "    print(i)\n",
    "print('-----------------------')\n",
    "print(np.mean(cv_knn_basic['test_rmse']))"
   ]
  },
  {
   "cell_type": "markdown",
   "metadata": {},
   "source": [
    "#### KNN Baseline"
   ]
  },
  {
   "cell_type": "code",
   "execution_count": 23,
   "metadata": {
    "collapsed": true
   },
   "outputs": [
    {
     "name": "stdout",
     "output_type": "stream",
     "text": [
      "Estimating biases using als...\n",
      "Computing the msd similarity matrix...\n",
      "Done computing similarity matrix.\n",
      "Estimating biases using als...\n",
      "Computing the msd similarity matrix...\n",
      "Done computing similarity matrix.\n",
      "Estimating biases using als...\n",
      "Computing the msd similarity matrix...\n",
      "Done computing similarity matrix.\n",
      "Estimating biases using als...\n",
      "Computing the msd similarity matrix...\n",
      "Done computing similarity matrix.\n",
      "Estimating biases using als...\n",
      "Computing the msd similarity matrix...\n",
      "Done computing similarity matrix.\n",
      "('test_rmse', array([0.85083688, 0.99753122, 0.99528502, 1.01157128, 0.97937054]))\n",
      "('test_mae', array([0.61473764, 0.67668714, 0.68802986, 0.69778857, 0.68269928]))\n",
      "('fit_time', (0.008715629577636719, 0.008648872375488281, 0.008142948150634766, 0.007617950439453125, 0.009401082992553711))\n",
      "('test_time', (0.00234222412109375, 0.0022351741790771484, 0.0019693374633789062, 0.0019011497497558594, 0.002317667007446289))\n",
      "-----------------------\n",
      "0.9669189870383536\n"
     ]
    }
   ],
   "source": [
    "knn_baseline = KNNBaseline(sim_options={'name':'msd','user_based':False})\n",
    "cv_knn_baseline = cross_validate(knn_baseline,data)\n",
    "for i in cv_knn_baseline.items():\n",
    "    print(i)\n",
    "print('-----------------------')\n",
    "print(np.mean(cv_knn_baseline['test_rmse']))"
   ]
  },
  {
   "cell_type": "markdown",
   "metadata": {},
   "source": [
    "#### KNN With Means"
   ]
  },
  {
   "cell_type": "code",
   "execution_count": 24,
   "metadata": {
    "collapsed": true
   },
   "outputs": [
    {
     "name": "stdout",
     "output_type": "stream",
     "text": [
      "Computing the msd similarity matrix...\n",
      "Done computing similarity matrix.\n",
      "Computing the msd similarity matrix...\n",
      "Done computing similarity matrix.\n",
      "Computing the msd similarity matrix...\n",
      "Done computing similarity matrix.\n",
      "Computing the msd similarity matrix...\n",
      "Done computing similarity matrix.\n",
      "Computing the msd similarity matrix...\n",
      "Done computing similarity matrix.\n",
      "('test_rmse', array([0.96114978, 1.0959542 , 1.01024245, 0.94865695, 0.96314814]))\n",
      "('test_mae', array([0.65035364, 0.7336231 , 0.66529959, 0.64422875, 0.65188329]))\n",
      "('fit_time', (0.008625268936157227, 0.008409976959228516, 0.007506847381591797, 0.008149862289428711, 0.00710296630859375))\n",
      "('test_time', (0.002794981002807617, 0.002241849899291992, 0.0021660327911376953, 0.0019021034240722656, 0.0018150806427001953))\n",
      "-----------------------\n",
      "0.9958303058431325\n"
     ]
    }
   ],
   "source": [
    "knn_means = KNNWithMeans(sim_options={'name':'msd','user_based':False})\n",
    "cv_knn_means = cross_validate(knn_means,data)\n",
    "for i in cv_knn_means.items():\n",
    "    print(i)\n",
    "print('-----------------------')\n",
    "print(np.mean(cv_knn_means['test_rmse']))"
   ]
  },
  {
   "cell_type": "markdown",
   "metadata": {},
   "source": [
    "### SIM_OPTIONS MSD USER BASED"
   ]
  },
  {
   "cell_type": "markdown",
   "metadata": {},
   "source": [
    "#### KNN Basic"
   ]
  },
  {
   "cell_type": "code",
   "execution_count": 25,
   "metadata": {
    "collapsed": true
   },
   "outputs": [
    {
     "name": "stdout",
     "output_type": "stream",
     "text": [
      "('test_rmse', array([0.92620719, 0.97582947, 0.89887092, 1.10012583, 0.97678743]))\n",
      "('test_mae', array([0.6470517 , 0.68238672, 0.6337669 , 0.74115018, 0.67654362]))\n",
      "('fit_time', (0.02525496482849121, 0.024525165557861328, 0.025012969970703125, 0.014275789260864258, 0.013466835021972656))\n",
      "('test_time', (0.001978158950805664, 0.0018057823181152344, 0.0017578601837158203, 0.001764059066772461, 0.001683950424194336))\n",
      "-----------------------\n",
      "0.9755641686421637\n"
     ]
    }
   ],
   "source": [
    "knn_basic = KNNBasic(sim_options={'name':'msd','user_based':True})\n",
    "cv_knn_basic= cross_validate(knn_basic,data,n_jobs=-1)\n",
    "for i in cv_knn_basic.items():\n",
    "    print(i)\n",
    "print('-----------------------')\n",
    "print(np.mean(cv_knn_basic['test_rmse']))"
   ]
  },
  {
   "cell_type": "markdown",
   "metadata": {},
   "source": [
    "#### KNN Baseline"
   ]
  },
  {
   "cell_type": "code",
   "execution_count": 26,
   "metadata": {
    "collapsed": true
   },
   "outputs": [
    {
     "name": "stdout",
     "output_type": "stream",
     "text": [
      "Estimating biases using als...\n",
      "Computing the msd similarity matrix...\n",
      "Done computing similarity matrix.\n",
      "Estimating biases using als...\n",
      "Computing the msd similarity matrix...\n",
      "Done computing similarity matrix.\n",
      "Estimating biases using als...\n",
      "Computing the msd similarity matrix...\n",
      "Done computing similarity matrix.\n",
      "Estimating biases using als...\n",
      "Computing the msd similarity matrix...\n",
      "Done computing similarity matrix.\n",
      "Estimating biases using als...\n",
      "Computing the msd similarity matrix...\n",
      "Done computing similarity matrix.\n",
      "('test_rmse', array([0.97117462, 1.00444676, 0.98017933, 0.92747982, 0.93533296]))\n",
      "('test_mae', array([0.67551955, 0.67448547, 0.67546748, 0.65381205, 0.65376935]))\n",
      "('fit_time', (0.0247650146484375, 0.024112939834594727, 0.023098230361938477, 0.021278858184814453, 0.02052783966064453))\n",
      "('test_time', (0.0021719932556152344, 0.0020630359649658203, 0.0020439624786376953, 0.0019588470458984375, 0.0018610954284667969))\n",
      "-----------------------\n",
      "0.9637226971319389\n"
     ]
    }
   ],
   "source": [
    "knn_baseline = KNNBaseline(sim_options={'name':'msd','user_based':True})\n",
    "cv_knn_baseline = cross_validate(knn_baseline,data)\n",
    "for i in cv_knn_baseline.items():\n",
    "    print(i)\n",
    "print('-----------------------')\n",
    "print(np.mean(cv_knn_baseline['test_rmse']))"
   ]
  },
  {
   "cell_type": "markdown",
   "metadata": {},
   "source": [
    "#### KNN With Means"
   ]
  },
  {
   "cell_type": "code",
   "execution_count": 27,
   "metadata": {
    "collapsed": true
   },
   "outputs": [
    {
     "name": "stdout",
     "output_type": "stream",
     "text": [
      "Computing the msd similarity matrix...\n",
      "Done computing similarity matrix.\n",
      "Computing the msd similarity matrix...\n",
      "Done computing similarity matrix.\n",
      "Computing the msd similarity matrix...\n",
      "Done computing similarity matrix.\n",
      "Computing the msd similarity matrix...\n",
      "Done computing similarity matrix.\n",
      "Computing the msd similarity matrix...\n",
      "Done computing similarity matrix.\n",
      "('test_rmse', array([1.0650466 , 1.03268332, 0.91217639, 1.06779803, 1.03401292]))\n",
      "('test_mae', array([0.7031207 , 0.69645738, 0.63011552, 0.67766264, 0.6747759 ]))\n",
      "('fit_time', (0.03048086166381836, 0.028974056243896484, 0.025653839111328125, 0.03713202476501465, 0.024395227432250977))\n",
      "('test_time', (0.0022459030151367188, 0.002057790756225586, 0.0017948150634765625, 0.0019600391387939453, 0.0018177032470703125))\n",
      "-----------------------\n",
      "1.0223434538181515\n"
     ]
    }
   ],
   "source": [
    "knn_means = KNNWithMeans(sim_options={'name':'msd','user_based':True})\n",
    "cv_knn_means = cross_validate(knn_means,data)\n",
    "for i in cv_knn_means.items():\n",
    "    print(i)\n",
    "print('-----------------------')\n",
    "print(np.mean(cv_knn_means['test_rmse']))"
   ]
  },
  {
   "cell_type": "markdown",
   "metadata": {},
   "source": [
    "### SIM_OPTIONS Pearson Baseline Item Based"
   ]
  },
  {
   "cell_type": "markdown",
   "metadata": {},
   "source": [
    "#### KNN Basic"
   ]
  },
  {
   "cell_type": "code",
   "execution_count": 28,
   "metadata": {
    "collapsed": true
   },
   "outputs": [
    {
     "name": "stdout",
     "output_type": "stream",
     "text": [
      "('test_rmse', array([1.0560139 , 1.00123293, 0.98362094, 0.88711643, 0.96349985]))\n",
      "('test_mae', array([0.72215748, 0.67904012, 0.68011582, 0.63937843, 0.67395747]))\n",
      "('fit_time', (0.008800029754638672, 0.009472846984863281, 0.007248878479003906, 0.008254289627075195, 0.008337974548339844))\n",
      "('test_time', (0.0016901493072509766, 0.0015530586242675781, 0.0014579296112060547, 0.0015668869018554688, 0.0013470649719238281))\n",
      "-----------------------\n",
      "0.9782968093238683\n"
     ]
    }
   ],
   "source": [
    "knn_basic = KNNBasic(sim_options={'name':'pearson_baseline','user_based':False})\n",
    "cv_knn_basic= cross_validate(knn_basic,data,n_jobs=-1)\n",
    "for i in cv_knn_basic.items():\n",
    "    print(i)\n",
    "print('-----------------------')\n",
    "print(np.mean(cv_knn_basic['test_rmse']))"
   ]
  },
  {
   "cell_type": "markdown",
   "metadata": {},
   "source": [
    "### ** KNN Baseline !!!! BEST RMSE"
   ]
  },
  {
   "cell_type": "code",
   "execution_count": 29,
   "metadata": {},
   "outputs": [
    {
     "name": "stdout",
     "output_type": "stream",
     "text": [
      "Estimating biases using als...\n",
      "Computing the pearson_baseline similarity matrix...\n",
      "Done computing similarity matrix.\n",
      "Estimating biases using als...\n",
      "Computing the pearson_baseline similarity matrix...\n",
      "Done computing similarity matrix.\n",
      "Estimating biases using als...\n",
      "Computing the pearson_baseline similarity matrix...\n",
      "Done computing similarity matrix.\n",
      "Estimating biases using als...\n",
      "Computing the pearson_baseline similarity matrix...\n",
      "Done computing similarity matrix.\n",
      "Estimating biases using als...\n",
      "Computing the pearson_baseline similarity matrix...\n",
      "Done computing similarity matrix.\n",
      "('test_rmse', array([1.01631249, 1.03736203, 0.94485934, 0.77454699, 1.04143234]))\n",
      "('test_mae', array([0.68981636, 0.70155923, 0.65558639, 0.59135392, 0.70446414]))\n",
      "('fit_time', (0.009500265121459961, 0.01034998893737793, 0.008582830429077148, 0.00843501091003418, 0.008971929550170898))\n",
      "('test_time', (0.002313852310180664, 0.002195119857788086, 0.001964092254638672, 0.0018458366394042969, 0.0018301010131835938))\n",
      "-----------------------\n",
      "0.9629026391300239\n"
     ]
    }
   ],
   "source": [
    "knn_baseline = KNNBaseline(sim_options={'name':'pearson_baseline','user_based':False})\n",
    "cv_knn_baseline = cross_validate(knn_baseline,data)\n",
    "for i in cv_knn_baseline.items():\n",
    "    print(i)\n",
    "print('-----------------------')\n",
    "print(np.mean(cv_knn_baseline['test_rmse']))"
   ]
  },
  {
   "cell_type": "markdown",
   "metadata": {},
   "source": [
    "#### KNN With Means"
   ]
  },
  {
   "cell_type": "code",
   "execution_count": 30,
   "metadata": {
    "collapsed": true
   },
   "outputs": [
    {
     "name": "stdout",
     "output_type": "stream",
     "text": [
      "Estimating biases using als...\n",
      "Computing the pearson_baseline similarity matrix...\n",
      "Done computing similarity matrix.\n",
      "Estimating biases using als...\n",
      "Computing the pearson_baseline similarity matrix...\n",
      "Done computing similarity matrix.\n",
      "Estimating biases using als...\n",
      "Computing the pearson_baseline similarity matrix...\n",
      "Done computing similarity matrix.\n",
      "Estimating biases using als...\n",
      "Computing the pearson_baseline similarity matrix...\n",
      "Done computing similarity matrix.\n",
      "Estimating biases using als...\n",
      "Computing the pearson_baseline similarity matrix...\n",
      "Done computing similarity matrix.\n",
      "('test_rmse', array([0.95872854, 1.04504525, 0.85829199, 1.00630934, 1.11081022]))\n",
      "('test_mae', array([0.65255284, 0.68634423, 0.6156029 , 0.66619378, 0.71975712]))\n",
      "('fit_time', (0.015146970748901367, 0.013919830322265625, 0.0140380859375, 0.011783123016357422, 0.011476993560791016))\n",
      "('test_time', (0.0024759769439697266, 0.0021729469299316406, 0.0016109943389892578, 0.0015730857849121094, 0.0015060901641845703))\n",
      "-----------------------\n",
      "0.9958370696283992\n"
     ]
    }
   ],
   "source": [
    "knn_means = KNNWithMeans(sim_options={'name':'pearson_baseline','user_based':False})\n",
    "cv_knn_means = cross_validate(knn_means,data)\n",
    "for i in cv_knn_means.items():\n",
    "    print(i)\n",
    "print('-----------------------')\n",
    "print(np.mean(cv_knn_means['test_rmse']))"
   ]
  },
  {
   "cell_type": "markdown",
   "metadata": {},
   "source": [
    "### SIM_OPTIONS Pearson Baseline User Based"
   ]
  },
  {
   "cell_type": "markdown",
   "metadata": {},
   "source": [
    "#### KNN Basic"
   ]
  },
  {
   "cell_type": "code",
   "execution_count": 31,
   "metadata": {
    "collapsed": true
   },
   "outputs": [
    {
     "name": "stdout",
     "output_type": "stream",
     "text": [
      "('test_rmse', array([1.00660741, 1.02914153, 0.93523495, 0.97086927, 0.95297836]))\n",
      "('test_mae', array([0.68433791, 0.712037  , 0.65650436, 0.67643157, 0.66652175]))\n",
      "('fit_time', (0.037883758544921875, 0.03819990158081055, 0.04076385498046875, 0.03890585899353027, 0.025016069412231445))\n",
      "('test_time', (0.001699209213256836, 0.0016701221466064453, 0.0017249584197998047, 0.001873016357421875, 0.00185394287109375))\n",
      "-----------------------\n",
      "0.9789663035452854\n"
     ]
    }
   ],
   "source": [
    "knn_basic = KNNBasic(sim_options={'name':'pearson_baseline','user_based':True})\n",
    "cv_knn_basic= cross_validate(knn_basic,data,n_jobs=-1)\n",
    "for i in cv_knn_basic.items():\n",
    "    print(i)\n",
    "print('-----------------------')\n",
    "print(np.mean(cv_knn_basic['test_rmse']))"
   ]
  },
  {
   "cell_type": "markdown",
   "metadata": {},
   "source": [
    "#### KNN Baseline"
   ]
  },
  {
   "cell_type": "code",
   "execution_count": 32,
   "metadata": {
    "collapsed": true
   },
   "outputs": [
    {
     "name": "stdout",
     "output_type": "stream",
     "text": [
      "Estimating biases using als...\n",
      "Computing the pearson_baseline similarity matrix...\n",
      "Done computing similarity matrix.\n",
      "Estimating biases using als...\n",
      "Computing the pearson_baseline similarity matrix...\n",
      "Done computing similarity matrix.\n",
      "Estimating biases using als...\n",
      "Computing the pearson_baseline similarity matrix...\n",
      "Done computing similarity matrix.\n",
      "Estimating biases using als...\n",
      "Computing the pearson_baseline similarity matrix...\n",
      "Done computing similarity matrix.\n",
      "Estimating biases using als...\n",
      "Computing the pearson_baseline similarity matrix...\n",
      "Done computing similarity matrix.\n",
      "('test_rmse', array([0.93507832, 0.94977475, 0.92931432, 1.03253165, 0.97293754]))\n",
      "('test_mae', array([0.6581214 , 0.65803357, 0.64492564, 0.69885185, 0.6732842 ]))\n",
      "('fit_time', (0.02298426628112793, 0.026391983032226562, 0.02531886100769043, 0.024007797241210938, 0.0222930908203125))\n",
      "('test_time', (0.0021140575408935547, 0.0020360946655273438, 0.0018177032470703125, 0.0019609928131103516, 0.0018601417541503906))\n",
      "-----------------------\n",
      "0.9639273179200059\n"
     ]
    }
   ],
   "source": [
    "knn_baseline = KNNBaseline(sim_options={'name':'pearson_baseline','user_based':True})\n",
    "cv_knn_baseline = cross_validate(knn_baseline,data)\n",
    "for i in cv_knn_baseline.items():\n",
    "    print(i)\n",
    "print('-----------------------')\n",
    "print(np.mean(cv_knn_baseline['test_rmse']))"
   ]
  },
  {
   "cell_type": "markdown",
   "metadata": {},
   "source": [
    "#### KNN With Means"
   ]
  },
  {
   "cell_type": "code",
   "execution_count": 33,
   "metadata": {
    "collapsed": true
   },
   "outputs": [
    {
     "name": "stdout",
     "output_type": "stream",
     "text": [
      "Estimating biases using als...\n",
      "Computing the pearson_baseline similarity matrix...\n",
      "Done computing similarity matrix.\n",
      "Estimating biases using als...\n",
      "Computing the pearson_baseline similarity matrix...\n",
      "Done computing similarity matrix.\n",
      "Estimating biases using als...\n",
      "Computing the pearson_baseline similarity matrix...\n",
      "Done computing similarity matrix.\n",
      "Estimating biases using als...\n",
      "Computing the pearson_baseline similarity matrix...\n",
      "Done computing similarity matrix.\n",
      "Estimating biases using als...\n",
      "Computing the pearson_baseline similarity matrix...\n",
      "Done computing similarity matrix.\n",
      "('test_rmse', array([1.15973383, 1.08876134, 1.06731528, 0.91843529, 0.84126561]))\n",
      "('test_mae', array([0.74402169, 0.71489401, 0.69256935, 0.61275548, 0.60107076]))\n",
      "('fit_time', (0.037213802337646484, 0.03287768363952637, 0.03197789192199707, 0.030858278274536133, 0.033930063247680664))\n",
      "('test_time', (0.0018820762634277344, 0.001683950424194336, 0.0017039775848388672, 0.0016200542449951172, 0.0016276836395263672))\n",
      "-----------------------\n",
      "1.0151022731163508\n"
     ]
    }
   ],
   "source": [
    "knn_means = KNNWithMeans(sim_options={'name':'pearson_baseline','user_based':True})\n",
    "cv_knn_means = cross_validate(knn_means,data)\n",
    "for i in cv_knn_means.items():\n",
    "    print(i)\n",
    "print('-----------------------')\n",
    "print(np.mean(cv_knn_means['test_rmse']))"
   ]
  },
  {
   "cell_type": "markdown",
   "metadata": {},
   "source": [
    "# Looking at predictions for best classification model"
   ]
  },
  {
   "cell_type": "code",
   "execution_count": 43,
   "metadata": {},
   "outputs": [],
   "source": [
    "train, test= train_test_split(data, test_size=0.2)"
   ]
  },
  {
   "cell_type": "code",
   "execution_count": 44,
   "metadata": {
    "scrolled": true
   },
   "outputs": [
    {
     "name": "stdout",
     "output_type": "stream",
     "text": [
      "Estimating biases using als...\n",
      "Computing the pearson_baseline similarity matrix...\n",
      "Done computing similarity matrix.\n",
      "RMSE: 0.0003\n",
      "0.0003246818660234273\n"
     ]
    }
   ],
   "source": [
    "knn_baseline = KNNBaseline(sim_options={'name':'pearson_baseline','user_based':False})\n",
    "knn_baseline = knns.KNNBaseline(sim_options=sim_options)\n",
    "knn_baseline.fit(dataset)\n",
    "predictions = knn_baseline.test(test)\n",
    "print(accuracy.rmse(predictions))"
   ]
  },
  {
   "cell_type": "code",
   "execution_count": 41,
   "metadata": {},
   "outputs": [],
   "source": [
    "# knn_baseline.test(test)"
   ]
  },
  {
   "cell_type": "markdown",
   "metadata": {},
   "source": [
    "# Collaborative Filtering, Item Based"
   ]
  },
  {
   "cell_type": "markdown",
   "metadata": {},
   "source": [
    "## Trying to Predict for New Users"
   ]
  },
  {
   "cell_type": "code",
   "execution_count": 86,
   "metadata": {
    "scrolled": true
   },
   "outputs": [
    {
     "name": "stdout",
     "output_type": "stream",
     "text": [
      "type username: kristi\n",
      "    brandName                                 prodName       url\n",
      "577  Neocutis  Neocutis Bio-Restorative Serum with PSP  11291061\n",
      "How do you rate this movie on a scale of 1-5, press n if you have not seen :\n",
      "5\n",
      "               brandName                               prodName       url\n",
      "1001  REN Clean Skincare  REN Ready Steady Glow Daily AHA Tonic  11653879\n",
      "How do you rate this movie on a scale of 1-5, press n if you have not seen :\n",
      "1\n",
      "     brandName                                           prodName       url\n",
      "950  Supermood  Supermood Beauty Sleep Overnight Rejuvenating ...  12060147\n",
      "How do you rate this movie on a scale of 1-5, press n if you have not seen :\n",
      "2\n",
      "Estimating biases using als...\n",
      "Computing the pearson_baseline similarity matrix...\n",
      "Done computing similarity matrix.\n"
     ]
    },
    {
     "data": {
      "text/plain": [
       "<surprise.prediction_algorithms.knns.KNNBaseline at 0x7fe95ba727b8>"
      ]
     },
     "execution_count": 86,
     "metadata": {},
     "output_type": "execute_result"
    }
   ],
   "source": [
    "def skin_rater(movie_df,num, typ=None):\n",
    "    rating_list = []\n",
    "    raw_uid=input('type username: ')\n",
    "    while num > 0:\n",
    "        p = movie_df.sample(1)\n",
    "        print(p[['brandName','prodName','url']])\n",
    "        rating = input('How do you rate this movie on a scale of 1-5, press n if you have not seen :\\n')\n",
    "        if rating == 'n':\n",
    "            continue\n",
    "        else:\n",
    "            rating_one_movie = {'user':raw_uid,'url':p['url'].values[0],'rating':rating}\n",
    "            rating_list.append(rating_one_movie) \n",
    "            num -= 1\n",
    "    return(rating_list,raw_uid)\n",
    "\n",
    "r,raw_uid=skin_rater(rec,3)\n",
    "new_ratings_df = rec[['user','url','rating']].append(r,ignore_index=True)\n",
    "new_data = Dataset.load_from_df(new_ratings_df,reader)\n",
    "new_data = new_data.build_full_trainset()\n",
    "\n",
    "sim_options={'name':'pearson_baseline','user_based':False}\n",
    "knn_baseline=knns.KNNBaseline(sim_options=sim_options)\n",
    "knn_baseline.fit(new_data)"
   ]
  },
  {
   "cell_type": "code",
   "execution_count": 87,
   "metadata": {},
   "outputs": [],
   "source": [
    "def rank_prods_for_user(df,raw_uid):\n",
    "    list_of_prods=[]\n",
    "    for u in df['url'].unique():\n",
    "        list_of_prods.append((u,knn_baseline.predict(raw_uid,u)[3]))\n",
    "    ranked_prods = sorted(list_of_prods,key=lambda x:x[1],reverse=True)\n",
    "    return (ranked_prods)\n",
    "r=rank_prods_for_user(new_ratings_df,raw_uid)"
   ]
  },
  {
   "cell_type": "code",
   "execution_count": 88,
   "metadata": {
    "scrolled": true
   },
   "outputs": [
    {
     "name": "stdout",
     "output_type": "stream",
     "text": [
      "Recommendation #  1 ||  url: 11291061 || product:  573    Neocutis Bio-Restorative Serum with PSP\n",
      "Name: prodName, dtype: object \n",
      "\n",
      "Recommendation #  2 ||  url: 11286360 || product:  1061    Avène Thermal Spring Water 10.58oz\n",
      "Name: prodName, dtype: object \n",
      "\n",
      "Recommendation #  3 ||  url: 10375555 || product:  174    Murad Pure Skin Clarifying Dietary Supplement ...\n",
      "Name: prodName, dtype: object \n",
      "\n"
     ]
    }
   ],
   "source": [
    "def recommended_products(user_ratings,df,n):\n",
    "    for idx, re in enumerate(user_ratings):\n",
    "        title = df.loc[df['url'] == int(re[0])]['prodName']\n",
    "        u=re[0]\n",
    "        print('Recommendation # ',idx+1,'|| ', 'url:', u, '||','product: ', df[df['url']==u]['prodName'].drop_duplicates(),'\\n')\n",
    "        n-= 1\n",
    "        if n == 0:\n",
    "            break\n",
    "recommended_products(r,rec,3)"
   ]
  },
  {
   "cell_type": "markdown",
   "metadata": {},
   "source": [
    "## Description TFIDF and Cosine Similarity !?!??!?!?!??! LOOKING AT REVIEW CONTENT AND TITLES"
   ]
  },
  {
   "cell_type": "code",
   "execution_count": 57,
   "metadata": {},
   "outputs": [],
   "source": [
    "df1['description']=df1['title']+df1['content']"
   ]
  },
  {
   "cell_type": "code",
   "execution_count": 58,
   "metadata": {},
   "outputs": [],
   "source": [
    "tf = TfidfVectorizer(analyzer='word',ngram_range=(1, 2),min_df=0, stop_words='english')\n",
    "tfidf_matrix = tf.fit_transform(df1['description'])"
   ]
  },
  {
   "cell_type": "code",
   "execution_count": 59,
   "metadata": {},
   "outputs": [
    {
     "data": {
      "text/plain": [
       "(1685, 39382)"
      ]
     },
     "execution_count": 59,
     "metadata": {},
     "output_type": "execute_result"
    }
   ],
   "source": [
    "tfidf_matrix.shape"
   ]
  },
  {
   "cell_type": "code",
   "execution_count": 60,
   "metadata": {},
   "outputs": [
    {
     "data": {
      "text/plain": [
       "(1701, 30)"
      ]
     },
     "execution_count": 60,
     "metadata": {},
     "output_type": "execute_result"
    }
   ],
   "source": [
    "full.shape"
   ]
  },
  {
   "cell_type": "code",
   "execution_count": 61,
   "metadata": {},
   "outputs": [],
   "source": [
    "cosine_sim = linear_kernel(tfidf_matrix, tfidf_matrix)"
   ]
  },
  {
   "cell_type": "code",
   "execution_count": 62,
   "metadata": {},
   "outputs": [
    {
     "data": {
      "text/plain": [
       "array([[1.        , 0.03513622, 0.02979474, ..., 0.00730602, 0.        ,\n",
       "        0.00399307],\n",
       "       [0.03513622, 1.        , 0.02854128, ..., 0.        , 0.        ,\n",
       "        0.        ],\n",
       "       [0.02979474, 0.02854128, 1.        , ..., 0.        , 0.        ,\n",
       "        0.00425702],\n",
       "       ...,\n",
       "       [0.00730602, 0.        , 0.        , ..., 1.        , 0.        ,\n",
       "        0.05258715],\n",
       "       [0.        , 0.        , 0.        , ..., 0.        , 1.        ,\n",
       "        0.00154483],\n",
       "       [0.00399307, 0.        , 0.00425702, ..., 0.05258715, 0.00154483,\n",
       "        1.        ]])"
      ]
     },
     "execution_count": 62,
     "metadata": {},
     "output_type": "execute_result"
    }
   ],
   "source": [
    "cosine_sim"
   ]
  },
  {
   "cell_type": "code",
   "execution_count": 63,
   "metadata": {},
   "outputs": [],
   "source": [
    "# def item(id):  \n",
    "#     return df1.loc[df1['url'] == id]['description'].tolist()\n",
    "# # Just reads the results out of the dictionary.def \n",
    "# def recommend(item_id, num):\n",
    "#     print(\"Recommending \" + str(num) + \" products similar to \" + item(item_id) + \"...\")   \n",
    "#     print(\"-------\")    \n",
    "#     recs = results[item_id][:num]   \n",
    "#     for rec in recs: \n",
    "#         print(\"Recommended: \" + item(rec[1]) + \" (score:\" +      str(rec[0]) + \")\")"
   ]
  },
  {
   "cell_type": "code",
   "execution_count": 64,
   "metadata": {},
   "outputs": [],
   "source": [
    "# df1.reset_index(inplace=True)\n",
    "# products = df1['url']\n",
    "# indices = pd.Series(df1.index, index=df1['url'])"
   ]
  },
  {
   "cell_type": "code",
   "execution_count": 65,
   "metadata": {},
   "outputs": [],
   "source": [
    "# def get_recommendations(product):\n",
    "#     idx = indices[products]\n",
    "#     sim_scores = list(enumerate(cosine_sim[idx]))\n",
    "# #     sim_scores = sorted(sim_scores, key=lambda x: x[1], reverse=True)\n",
    "#     sim_scores = sim_scores[1:31]\n",
    "#     prod_indices = [i[0] for i in sim_scores]\n",
    "#     return products.iloc[prod_indices]"
   ]
  },
  {
   "cell_type": "code",
   "execution_count": 67,
   "metadata": {},
   "outputs": [],
   "source": [
    "# get_recommendations(11429304).drop_duplicates()"
   ]
  },
  {
   "cell_type": "code",
   "execution_count": 68,
   "metadata": {},
   "outputs": [],
   "source": [
    "# recommend(10362879,5)"
   ]
  },
  {
   "cell_type": "code",
   "execution_count": 69,
   "metadata": {},
   "outputs": [],
   "source": [
    "alldf=dfr[['url','prodName','rating','user']]"
   ]
  },
  {
   "cell_type": "code",
   "execution_count": 70,
   "metadata": {},
   "outputs": [
    {
     "data": {
      "text/html": [
       "<div>\n",
       "<style scoped>\n",
       "    .dataframe tbody tr th:only-of-type {\n",
       "        vertical-align: middle;\n",
       "    }\n",
       "\n",
       "    .dataframe tbody tr th {\n",
       "        vertical-align: top;\n",
       "    }\n",
       "\n",
       "    .dataframe thead th {\n",
       "        text-align: right;\n",
       "    }\n",
       "</style>\n",
       "<table border=\"1\" class=\"dataframe\">\n",
       "  <thead>\n",
       "    <tr style=\"text-align: right;\">\n",
       "      <th></th>\n",
       "      <th></th>\n",
       "      <th></th>\n",
       "      <th>rating</th>\n",
       "    </tr>\n",
       "    <tr>\n",
       "      <th>url</th>\n",
       "      <th>user</th>\n",
       "      <th>prodName</th>\n",
       "      <th></th>\n",
       "    </tr>\n",
       "  </thead>\n",
       "  <tbody>\n",
       "    <tr>\n",
       "      <th rowspan=\"5\" valign=\"top\">10236357</th>\n",
       "      <th>adrian</th>\n",
       "      <th>Anthony</th>\n",
       "      <td>5</td>\n",
       "    </tr>\n",
       "    <tr>\n",
       "      <th>george</th>\n",
       "      <th>Anthony</th>\n",
       "      <td>5</td>\n",
       "    </tr>\n",
       "    <tr>\n",
       "      <th>kimber</th>\n",
       "      <th>Anthony</th>\n",
       "      <td>5</td>\n",
       "    </tr>\n",
       "    <tr>\n",
       "      <th>mike</th>\n",
       "      <th>Anthony</th>\n",
       "      <td>5</td>\n",
       "    </tr>\n",
       "    <tr>\n",
       "      <th>westtexas</th>\n",
       "      <th>Anthony</th>\n",
       "      <td>5</td>\n",
       "    </tr>\n",
       "  </tbody>\n",
       "</table>\n",
       "</div>"
      ],
      "text/plain": [
       "                             rating\n",
       "url      user      prodName        \n",
       "10236357 adrian    Anthony        5\n",
       "         george    Anthony        5\n",
       "         kimber    Anthony        5\n",
       "         mike      Anthony        5\n",
       "         westtexas Anthony        5"
      ]
     },
     "execution_count": 70,
     "metadata": {},
     "output_type": "execute_result"
    }
   ],
   "source": [
    "alldf.groupby(['url','user','prodName']).mean().head()"
   ]
  },
  {
   "cell_type": "code",
   "execution_count": 44,
   "metadata": {},
   "outputs": [],
   "source": [
    "train, test = train_test_split(data,test_size=0.2)"
   ]
  }
 ],
 "metadata": {
  "kernelspec": {
   "display_name": "Python 3",
   "language": "python",
   "name": "python3"
  },
  "language_info": {
   "codemirror_mode": {
    "name": "ipython",
    "version": 3
   },
   "file_extension": ".py",
   "mimetype": "text/x-python",
   "name": "python",
   "nbconvert_exporter": "python",
   "pygments_lexer": "ipython3",
   "version": "3.7.3"
  }
 },
 "nbformat": 4,
 "nbformat_minor": 2
}
