{
 "cells": [
  {
   "cell_type": "code",
   "execution_count": 1,
   "metadata": {},
   "outputs": [],
   "source": [
    "import nltk\n",
    "from nltk.corpus import stopwords\n",
    "import pandas as pd\n",
    "import pickle\n",
    "import numpy as np\n",
    "from nltk import word_tokenize, FreqDist\n",
    "import string\n",
    "from os import path\n",
    "from PIL import Image\n",
    "import matplotlib.pyplot as plt\n",
    "# from wordcloud import WordCloud, STOPWORDS,ImageColorGenerator\n",
    "# from nltk.sentiment.sentiment_analyzer import SentimentAnalyzer as sa\n",
    "# from nltk.classify.scikitlearn import SklearnClassifier\n",
    "# from nltk.classify import ClassifierI\n",
    "from vaderSentiment.vaderSentiment import SentimentIntensityAnalyzer\n",
    "import spacy\n",
    "from surprise.prediction_algorithms import knns\n",
    "from surprise.similarities import cosine, msd, pearson\n",
    "from surprise.model_selection import train_test_split, cross_validate\n",
    "from surprise import Dataset, Reader, accuracy, SVD, NMF\n",
    "reader= Reader(rating_scale=(1, 5.0))\n",
    "from surprise.prediction_algorithms import KNNWithMeans, KNNBasic, KNNBaseline\n",
    "from surprise.model_selection import cross_validate, GridSearchCV\n",
    "from surprise import Trainset\n",
    "import requests\n",
    "\n",
    "from sklearn.feature_extraction.text import TfidfVectorizer, CountVectorizer\n",
    "from sklearn.metrics.pairwise import linear_kernel, cosine_similarity\n",
    "\n",
    "with open('userratingsDF.pickle', 'rb') as f:\n",
    "    dfr = pickle.load(f)\n",
    "with open('CategoricalItemDF.pickle', 'rb') as f:\n",
    "    full = pickle.load(f)\n",
    "with open('_SENT&RATINGDF.pickle', 'rb') as f:\n",
    "    df1 = pickle.load(f)\n",
    "with open('recdf.pickle', 'rb') as f:\n",
    "    rec = pickle.load(f)\n",
    "with open('ratingsmeandf.pickle', 'rb') as f:\n",
    "    ratemean = pickle.load(f)"
   ]
  },
  {
   "cell_type": "markdown",
   "metadata": {},
   "source": [
    "# Beginning Recommender System Using Just UserId, ItemID, and Rating"
   ]
  },
  {
   "cell_type": "markdown",
   "metadata": {},
   "source": [
    "#### Item Based Collaborative Filtering probably better than User Based bc we have more users than items"
   ]
  },
  {
   "cell_type": "code",
   "execution_count": 2,
   "metadata": {},
   "outputs": [],
   "source": [
    "toadd=full[['url','prodName','age','darkcircles','dry','redness','sensitive', 'oily', 'normal', 'cleanser',\n",
    "       'exfoliator', 'makeup-removers', 'toner', 'mist', 'treatment', 'serum',\n",
    "       'lotion', 'moisturizer', 'balm', 'oil', 'mask', 'peel', 'lip', 'eye',\n",
    "       'supplement', 'tool']]"
   ]
  },
  {
   "cell_type": "code",
   "execution_count": 3,
   "metadata": {
    "scrolled": true
   },
   "outputs": [
    {
     "data": {
      "text/html": [
       "<div>\n",
       "<style scoped>\n",
       "    .dataframe tbody tr th:only-of-type {\n",
       "        vertical-align: middle;\n",
       "    }\n",
       "\n",
       "    .dataframe tbody tr th {\n",
       "        vertical-align: top;\n",
       "    }\n",
       "\n",
       "    .dataframe thead th {\n",
       "        text-align: right;\n",
       "    }\n",
       "</style>\n",
       "<table border=\"1\" class=\"dataframe\">\n",
       "  <thead>\n",
       "    <tr style=\"text-align: right;\">\n",
       "      <th></th>\n",
       "      <th>brandName</th>\n",
       "      <th>rating</th>\n",
       "      <th>url</th>\n",
       "      <th>user</th>\n",
       "      <th>prodName</th>\n",
       "      <th>age</th>\n",
       "      <th>darkcircles</th>\n",
       "      <th>dry</th>\n",
       "      <th>redness</th>\n",
       "      <th>sensitive</th>\n",
       "      <th>...</th>\n",
       "      <th>moisturizer</th>\n",
       "      <th>balm</th>\n",
       "      <th>oil</th>\n",
       "      <th>mask</th>\n",
       "      <th>peel</th>\n",
       "      <th>lip</th>\n",
       "      <th>eye</th>\n",
       "      <th>supplement</th>\n",
       "      <th>tool</th>\n",
       "      <th>rating_count</th>\n",
       "    </tr>\n",
       "  </thead>\n",
       "  <tbody>\n",
       "    <tr>\n",
       "      <th>0</th>\n",
       "      <td>Paula's Choice</td>\n",
       "      <td>5</td>\n",
       "      <td>11174178</td>\n",
       "      <td>becky c</td>\n",
       "      <td>Paula's Choice Skin Perfecting 2% BHA Liquid E...</td>\n",
       "      <td>1</td>\n",
       "      <td>0</td>\n",
       "      <td>0</td>\n",
       "      <td>1</td>\n",
       "      <td>0</td>\n",
       "      <td>...</td>\n",
       "      <td>0</td>\n",
       "      <td>0</td>\n",
       "      <td>0</td>\n",
       "      <td>0</td>\n",
       "      <td>0</td>\n",
       "      <td>0</td>\n",
       "      <td>0</td>\n",
       "      <td>0</td>\n",
       "      <td>0</td>\n",
       "      <td>60</td>\n",
       "    </tr>\n",
       "    <tr>\n",
       "      <th>1</th>\n",
       "      <td>Paula's Choice</td>\n",
       "      <td>5</td>\n",
       "      <td>11174178</td>\n",
       "      <td>jess</td>\n",
       "      <td>Paula's Choice Skin Perfecting 2% BHA Liquid E...</td>\n",
       "      <td>1</td>\n",
       "      <td>0</td>\n",
       "      <td>0</td>\n",
       "      <td>1</td>\n",
       "      <td>0</td>\n",
       "      <td>...</td>\n",
       "      <td>0</td>\n",
       "      <td>0</td>\n",
       "      <td>0</td>\n",
       "      <td>0</td>\n",
       "      <td>0</td>\n",
       "      <td>0</td>\n",
       "      <td>0</td>\n",
       "      <td>0</td>\n",
       "      <td>0</td>\n",
       "      <td>60</td>\n",
       "    </tr>\n",
       "    <tr>\n",
       "      <th>2</th>\n",
       "      <td>Paula's Choice</td>\n",
       "      <td>5</td>\n",
       "      <td>11174178</td>\n",
       "      <td>lisa</td>\n",
       "      <td>Paula's Choice Skin Perfecting 2% BHA Liquid E...</td>\n",
       "      <td>1</td>\n",
       "      <td>0</td>\n",
       "      <td>0</td>\n",
       "      <td>1</td>\n",
       "      <td>0</td>\n",
       "      <td>...</td>\n",
       "      <td>0</td>\n",
       "      <td>0</td>\n",
       "      <td>0</td>\n",
       "      <td>0</td>\n",
       "      <td>0</td>\n",
       "      <td>0</td>\n",
       "      <td>0</td>\n",
       "      <td>0</td>\n",
       "      <td>0</td>\n",
       "      <td>60</td>\n",
       "    </tr>\n",
       "    <tr>\n",
       "      <th>3</th>\n",
       "      <td>Paula's Choice</td>\n",
       "      <td>5</td>\n",
       "      <td>11174178</td>\n",
       "      <td>stella2</td>\n",
       "      <td>Paula's Choice Skin Perfecting 2% BHA Liquid E...</td>\n",
       "      <td>1</td>\n",
       "      <td>0</td>\n",
       "      <td>0</td>\n",
       "      <td>1</td>\n",
       "      <td>0</td>\n",
       "      <td>...</td>\n",
       "      <td>0</td>\n",
       "      <td>0</td>\n",
       "      <td>0</td>\n",
       "      <td>0</td>\n",
       "      <td>0</td>\n",
       "      <td>0</td>\n",
       "      <td>0</td>\n",
       "      <td>0</td>\n",
       "      <td>0</td>\n",
       "      <td>60</td>\n",
       "    </tr>\n",
       "    <tr>\n",
       "      <th>4</th>\n",
       "      <td>Paula's Choice</td>\n",
       "      <td>5</td>\n",
       "      <td>11174178</td>\n",
       "      <td>carli</td>\n",
       "      <td>Paula's Choice Skin Perfecting 2% BHA Liquid E...</td>\n",
       "      <td>1</td>\n",
       "      <td>0</td>\n",
       "      <td>0</td>\n",
       "      <td>1</td>\n",
       "      <td>0</td>\n",
       "      <td>...</td>\n",
       "      <td>0</td>\n",
       "      <td>0</td>\n",
       "      <td>0</td>\n",
       "      <td>0</td>\n",
       "      <td>0</td>\n",
       "      <td>0</td>\n",
       "      <td>0</td>\n",
       "      <td>0</td>\n",
       "      <td>0</td>\n",
       "      <td>60</td>\n",
       "    </tr>\n",
       "  </tbody>\n",
       "</table>\n",
       "<p>5 rows × 30 columns</p>\n",
       "</div>"
      ],
      "text/plain": [
       "        brandName  rating       url     user  \\\n",
       "0  Paula's Choice       5  11174178  becky c   \n",
       "1  Paula's Choice       5  11174178     jess   \n",
       "2  Paula's Choice       5  11174178     lisa   \n",
       "3  Paula's Choice       5  11174178  stella2   \n",
       "4  Paula's Choice       5  11174178    carli   \n",
       "\n",
       "                                            prodName  age  darkcircles  dry  \\\n",
       "0  Paula's Choice Skin Perfecting 2% BHA Liquid E...    1            0    0   \n",
       "1  Paula's Choice Skin Perfecting 2% BHA Liquid E...    1            0    0   \n",
       "2  Paula's Choice Skin Perfecting 2% BHA Liquid E...    1            0    0   \n",
       "3  Paula's Choice Skin Perfecting 2% BHA Liquid E...    1            0    0   \n",
       "4  Paula's Choice Skin Perfecting 2% BHA Liquid E...    1            0    0   \n",
       "\n",
       "   redness  sensitive  ...  moisturizer  balm  oil  mask  peel  lip  eye  \\\n",
       "0        1          0  ...            0     0    0     0     0    0    0   \n",
       "1        1          0  ...            0     0    0     0     0    0    0   \n",
       "2        1          0  ...            0     0    0     0     0    0    0   \n",
       "3        1          0  ...            0     0    0     0     0    0    0   \n",
       "4        1          0  ...            0     0    0     0     0    0    0   \n",
       "\n",
       "   supplement  tool  rating_count  \n",
       "0           0     0            60  \n",
       "1           0     0            60  \n",
       "2           0     0            60  \n",
       "3           0     0            60  \n",
       "4           0     0            60  \n",
       "\n",
       "[5 rows x 30 columns]"
      ]
     },
     "execution_count": 3,
     "metadata": {},
     "output_type": "execute_result"
    }
   ],
   "source": [
    "rec=rec.merge(toadd,on='url').drop_duplicates()\n",
    "rec=rec.merge(ratemean,on='url').drop_duplicates()\n",
    "rec.rename(columns={'rating_x':'rating','prodName_x':'brandName','prodName_y':'prodName'},inplace=True)\n",
    "rec.drop(columns='rating_y',inplace=True)\n",
    "rec.head()"
   ]
  },
  {
   "cell_type": "code",
   "execution_count": 4,
   "metadata": {},
   "outputs": [],
   "source": [
    "data = Dataset.load_from_df(rec[['user','url','rating']],reader)"
   ]
  },
  {
   "cell_type": "code",
   "execution_count": 5,
   "metadata": {},
   "outputs": [
    {
     "name": "stdout",
     "output_type": "stream",
     "text": [
      "Number of users:  1378 \n",
      "\n",
      "Number of items:  514\n"
     ]
    }
   ],
   "source": [
    "dataset = data.build_full_trainset()\n",
    "print('Number of users: ',dataset.n_users,'\\n')\n",
    "print('Number of items: ',dataset.n_items)"
   ]
  },
  {
   "cell_type": "markdown",
   "metadata": {},
   "source": [
    "## Trying to Minimize RMSE"
   ]
  },
  {
   "cell_type": "markdown",
   "metadata": {},
   "source": [
    "#### SVD Grid Search"
   ]
  },
  {
   "cell_type": "code",
   "execution_count": 8,
   "metadata": {},
   "outputs": [],
   "source": [
    "params = {'n_factors' :[10,20,30,40,50,60,70,80,90,100,200],\n",
    "         'reg_all':[0.02,0.05,0.1,0.4,0.5,0.6],'n_epochs': [5, 10],\n",
    "         'lr_all': [0.002, 0.005],'reg_all': [0.4, 0.6]}\n",
    "g_s_svd = GridSearchCV(SVD,param_grid=params,n_jobs=-1)\n",
    "g_s_svd.fit(data)"
   ]
  },
  {
   "cell_type": "code",
   "execution_count": 9,
   "metadata": {},
   "outputs": [
    {
     "name": "stdout",
     "output_type": "stream",
     "text": [
      "0.9638819259999204\n",
      "{'n_factors': 70, 'reg_all': 0.6, 'n_epochs': 10, 'lr_all': 0.005}\n"
     ]
    }
   ],
   "source": [
    "print(g_s_svd.best_score['rmse'])\n",
    "print(g_s_svd.best_params['rmse'])"
   ]
  },
  {
   "cell_type": "markdown",
   "metadata": {},
   "source": [
    "#### NMF Grid Search"
   ]
  },
  {
   "cell_type": "code",
   "execution_count": 10,
   "metadata": {},
   "outputs": [],
   "source": [
    "params = {'n_factors' :[5,10,20,30,40,50,60,70,80,90,100,200],\n",
    "          'n_epochs': [5, 10]}\n",
    "g_s_nmf = GridSearchCV(NMF,param_grid=params,n_jobs=-1)\n",
    "g_s_nmf.fit(data)"
   ]
  },
  {
   "cell_type": "code",
   "execution_count": 11,
   "metadata": {},
   "outputs": [
    {
     "name": "stdout",
     "output_type": "stream",
     "text": [
      "0.9911537843911276\n",
      "{'n_factors': 50, 'n_epochs': 10}\n"
     ]
    }
   ],
   "source": [
    "print(g_s_nmf.best_score['rmse'])\n",
    "print(g_s_nmf.best_params['rmse'])"
   ]
  },
  {
   "cell_type": "markdown",
   "metadata": {},
   "source": [
    "## KNN"
   ]
  },
  {
   "cell_type": "markdown",
   "metadata": {},
   "source": [
    "### SIM_OPTIONS: Cosine Item Based"
   ]
  },
  {
   "cell_type": "markdown",
   "metadata": {},
   "source": [
    "#### KNN Basic"
   ]
  },
  {
   "cell_type": "code",
   "execution_count": 12,
   "metadata": {},
   "outputs": [
    {
     "name": "stdout",
     "output_type": "stream",
     "text": [
      "('test_rmse', array([0.96510296, 1.02006719, 1.00087647, 0.98523497, 0.91432779]))\n",
      "('test_mae', array([0.67085589, 0.69634085, 0.6891606 , 0.68001497, 0.64467846]))\n",
      "('fit_time', (0.00549006462097168, 0.004903316497802734, 0.004493236541748047, 0.00545191764831543, 0.005447864532470703))\n",
      "('test_time', (0.0021009445190429688, 0.0016088485717773438, 0.0016167163848876953, 0.0063631534576416016, 0.0016210079193115234))\n",
      "-----------------------\n",
      "0.9771218741310397\n"
     ]
    }
   ],
   "source": [
    "knn_basic = KNNBasic(sim_options={'name':'cosine','user_based':False})\n",
    "cv_knn_basic= cross_validate(knn_basic,data,n_jobs=-1)\n",
    "for i in cv_knn_basic.items():\n",
    "    print(i)\n",
    "print('-----------------------')\n",
    "print(np.mean(cv_knn_basic['test_rmse']))"
   ]
  },
  {
   "cell_type": "markdown",
   "metadata": {},
   "source": [
    "#### KNN Baseline"
   ]
  },
  {
   "cell_type": "code",
   "execution_count": 13,
   "metadata": {},
   "outputs": [
    {
     "name": "stdout",
     "output_type": "stream",
     "text": [
      "Estimating biases using als...\n",
      "Computing the cosine similarity matrix...\n",
      "Done computing similarity matrix.\n",
      "Estimating biases using als...\n",
      "Computing the cosine similarity matrix...\n",
      "Done computing similarity matrix.\n",
      "Estimating biases using als...\n",
      "Computing the cosine similarity matrix...\n",
      "Done computing similarity matrix.\n",
      "Estimating biases using als...\n",
      "Computing the cosine similarity matrix...\n",
      "Done computing similarity matrix.\n",
      "Estimating biases using als...\n",
      "Computing the cosine similarity matrix...\n",
      "Done computing similarity matrix.\n",
      "('test_rmse', array([1.15170462, 0.89021567, 0.84779518, 0.95569293, 0.96127369]))\n",
      "('test_mae', array([0.75393756, 0.63315545, 0.63086167, 0.66858019, 0.66416234]))\n",
      "('fit_time', (0.009792089462280273, 0.010627985000610352, 0.010663032531738281, 0.012160062789916992, 0.00857400894165039))\n",
      "('test_time', (0.002145051956176758, 0.0018911361694335938, 0.0019118785858154297, 0.0019600391387939453, 0.0019221305847167969))\n",
      "-----------------------\n",
      "0.9613364186518266\n"
     ]
    }
   ],
   "source": [
    "knn_baseline = KNNBaseline(sim_options={'name':'cosine','user_based':False})\n",
    "cv_knn_baseline = cross_validate(knn_baseline,data)\n",
    "for i in cv_knn_baseline.items():\n",
    "    print(i)\n",
    "print('-----------------------')\n",
    "print(np.mean(cv_knn_baseline['test_rmse']))"
   ]
  },
  {
   "cell_type": "markdown",
   "metadata": {},
   "source": [
    "#### KNN With Means"
   ]
  },
  {
   "cell_type": "code",
   "execution_count": 14,
   "metadata": {},
   "outputs": [
    {
     "name": "stdout",
     "output_type": "stream",
     "text": [
      "Computing the cosine similarity matrix...\n",
      "Done computing similarity matrix.\n",
      "Computing the cosine similarity matrix...\n",
      "Done computing similarity matrix.\n",
      "Computing the cosine similarity matrix...\n",
      "Done computing similarity matrix.\n",
      "Computing the cosine similarity matrix...\n",
      "Done computing similarity matrix.\n",
      "Computing the cosine similarity matrix...\n",
      "Done computing similarity matrix.\n",
      "('test_rmse', array([1.07814294, 1.08698921, 0.90607688, 1.0301826 , 0.9158995 ]))\n",
      "('test_mae', array([0.70790128, 0.71429661, 0.62723608, 0.69838652, 0.60874764]))\n",
      "('fit_time', (0.011319875717163086, 0.0093231201171875, 0.010683298110961914, 0.008897066116333008, 0.0076580047607421875))\n",
      "('test_time', (0.002398967742919922, 0.0019989013671875, 0.00202178955078125, 0.0018768310546875, 0.0018999576568603516))\n",
      "-----------------------\n",
      "1.0034582249283635\n"
     ]
    }
   ],
   "source": [
    "knn_means = KNNWithMeans(sim_options={'name':'cosine','user_based':False})\n",
    "cv_knn_means = cross_validate(knn_means,data)\n",
    "for i in cv_knn_means.items():\n",
    "    print(i)\n",
    "print('-----------------------')\n",
    "print(np.mean(cv_knn_means['test_rmse']))"
   ]
  },
  {
   "cell_type": "markdown",
   "metadata": {},
   "source": [
    "### SIM_OPTIONS: Cosine USer Based"
   ]
  },
  {
   "cell_type": "markdown",
   "metadata": {},
   "source": [
    "#### KNN Basic"
   ]
  },
  {
   "cell_type": "code",
   "execution_count": 15,
   "metadata": {},
   "outputs": [
    {
     "name": "stdout",
     "output_type": "stream",
     "text": [
      "('test_rmse', array([0.96733461, 1.00491385, 0.97217673, 0.97287796, 0.98763701]))\n",
      "('test_mae', array([0.67635388, 0.69236676, 0.67643605, 0.66705735, 0.6764495 ]))\n",
      "('fit_time', (0.037676095962524414, 0.036229848861694336, 0.03546404838562012, 0.04080510139465332, 0.03586387634277344))\n",
      "('test_time', (0.0022611618041992188, 0.0021202564239501953, 0.0021009445190429688, 0.0022020339965820312, 0.002073049545288086))\n",
      "-----------------------\n",
      "0.980988033623302\n"
     ]
    }
   ],
   "source": [
    "knn_basic = KNNBasic(sim_options={'name':'cosine','user_based':True})\n",
    "cv_knn_basic= cross_validate(knn_basic,data,n_jobs=-1)\n",
    "for i in cv_knn_basic.items():\n",
    "    print(i)\n",
    "print('-----------------------')\n",
    "print(np.mean(cv_knn_basic['test_rmse']))"
   ]
  },
  {
   "cell_type": "markdown",
   "metadata": {},
   "source": [
    "#### KNN Baseline"
   ]
  },
  {
   "cell_type": "code",
   "execution_count": 16,
   "metadata": {},
   "outputs": [
    {
     "name": "stdout",
     "output_type": "stream",
     "text": [
      "Estimating biases using als...\n",
      "Computing the cosine similarity matrix...\n",
      "Done computing similarity matrix.\n",
      "Estimating biases using als...\n",
      "Computing the cosine similarity matrix...\n",
      "Done computing similarity matrix.\n",
      "Estimating biases using als...\n",
      "Computing the cosine similarity matrix...\n",
      "Done computing similarity matrix.\n",
      "Estimating biases using als...\n",
      "Computing the cosine similarity matrix...\n",
      "Done computing similarity matrix.\n",
      "Estimating biases using als...\n",
      "Computing the cosine similarity matrix...\n",
      "Done computing similarity matrix.\n",
      "('test_rmse', array([0.93024808, 0.91860737, 0.92631218, 0.9538185 , 1.0953466 ]))\n",
      "('test_mae', array([0.64804469, 0.64338432, 0.6536698 , 0.6698404 , 0.72201458]))\n",
      "('fit_time', (0.0452730655670166, 0.044621944427490234, 0.029886960983276367, 0.03223776817321777, 0.03243064880371094))\n",
      "('test_time', (0.0023369789123535156, 0.001973867416381836, 0.0018911361694335938, 0.0020110607147216797, 0.0020029544830322266))\n",
      "-----------------------\n",
      "0.9648665459936996\n"
     ]
    }
   ],
   "source": [
    "knn_baseline = KNNBaseline(sim_options={'name':'cosine','user_based':True})\n",
    "cv_knn_baseline = cross_validate(knn_baseline,data)\n",
    "for i in cv_knn_baseline.items():\n",
    "    print(i)\n",
    "print('-----------------------')\n",
    "print(np.mean(cv_knn_baseline['test_rmse']))"
   ]
  },
  {
   "cell_type": "markdown",
   "metadata": {},
   "source": [
    "#### KNN With Means"
   ]
  },
  {
   "cell_type": "code",
   "execution_count": 17,
   "metadata": {},
   "outputs": [
    {
     "name": "stdout",
     "output_type": "stream",
     "text": [
      "Computing the cosine similarity matrix...\n",
      "Done computing similarity matrix.\n",
      "Computing the cosine similarity matrix...\n",
      "Done computing similarity matrix.\n",
      "Computing the cosine similarity matrix...\n",
      "Done computing similarity matrix.\n",
      "Computing the cosine similarity matrix...\n",
      "Done computing similarity matrix.\n",
      "Computing the cosine similarity matrix...\n",
      "Done computing similarity matrix.\n",
      "('test_rmse', array([1.00454254, 0.98405371, 0.94390494, 1.11030994, 1.04431106]))\n",
      "('test_mae', array([0.66548136, 0.65311712, 0.62759302, 0.7345523 , 0.67628336]))\n",
      "('fit_time', (0.03988313674926758, 0.03989362716674805, 0.03481721878051758, 0.0306093692779541, 0.03368711471557617))\n",
      "('test_time', (0.0022420883178710938, 0.0020711421966552734, 0.0020558834075927734, 0.0019178390502929688, 0.002053976058959961))\n",
      "-----------------------\n",
      "1.0174244362310738\n"
     ]
    }
   ],
   "source": [
    "knn_means = KNNWithMeans(sim_options={'name':'cosine','user_based':True})\n",
    "cv_knn_means = cross_validate(knn_means,data)\n",
    "for i in cv_knn_means.items():\n",
    "    print(i)\n",
    "print('-----------------------')\n",
    "print(np.mean(cv_knn_means['test_rmse']))"
   ]
  },
  {
   "cell_type": "markdown",
   "metadata": {},
   "source": [
    "### SIM_OPTIONS Peasrson Item Based"
   ]
  },
  {
   "cell_type": "markdown",
   "metadata": {},
   "source": [
    "#### KNN Basic"
   ]
  },
  {
   "cell_type": "code",
   "execution_count": 18,
   "metadata": {},
   "outputs": [
    {
     "name": "stdout",
     "output_type": "stream",
     "text": [
      "('test_rmse', array([0.95029582, 0.96349985, 0.9660831 , 1.10552879, 0.89976909]))\n",
      "('test_mae', array([0.66361289, 0.67132203, 0.67414572, 0.73720822, 0.64676037]))\n",
      "('fit_time', (0.008664846420288086, 0.009668827056884766, 0.004474163055419922, 0.004889965057373047, 0.004173994064331055))\n",
      "('test_time', (0.0019290447235107422, 0.0019521713256835938, 0.001809835433959961, 0.0018329620361328125, 0.0016820430755615234))\n",
      "-----------------------\n",
      "0.9770353301207659\n"
     ]
    }
   ],
   "source": [
    "knn_basic = KNNBasic(sim_options={'name':'pearson','user_based':False})\n",
    "cv_knn_basic= cross_validate(knn_basic,data,n_jobs=-1)\n",
    "for i in cv_knn_basic.items():\n",
    "    print(i)\n",
    "print('-----------------------')\n",
    "print(np.mean(cv_knn_basic['test_rmse']))"
   ]
  },
  {
   "cell_type": "markdown",
   "metadata": {},
   "source": [
    "#### KNN Baseline"
   ]
  },
  {
   "cell_type": "code",
   "execution_count": 19,
   "metadata": {},
   "outputs": [
    {
     "name": "stdout",
     "output_type": "stream",
     "text": [
      "Estimating biases using als...\n",
      "Computing the pearson similarity matrix...\n",
      "Done computing similarity matrix.\n",
      "Estimating biases using als...\n",
      "Computing the pearson similarity matrix...\n",
      "Done computing similarity matrix.\n",
      "Estimating biases using als...\n",
      "Computing the pearson similarity matrix...\n",
      "Done computing similarity matrix.\n",
      "Estimating biases using als...\n",
      "Computing the pearson similarity matrix...\n",
      "Done computing similarity matrix.\n",
      "Estimating biases using als...\n",
      "Computing the pearson similarity matrix...\n",
      "Done computing similarity matrix.\n",
      "('test_rmse', array([1.02107835, 0.97974722, 0.86214725, 0.9534784 , 0.98935933]))\n",
      "('test_mae', array([0.69192237, 0.66502887, 0.62569067, 0.67400107, 0.68001619]))\n",
      "('fit_time', (0.01643085479736328, 0.013280868530273438, 0.011008024215698242, 0.013643980026245117, 0.012448787689208984))\n",
      "('test_time', (0.002260923385620117, 0.0018889904022216797, 0.001886129379272461, 0.001857757568359375, 0.001833200454711914))\n",
      "-----------------------\n",
      "0.9611621086944357\n"
     ]
    }
   ],
   "source": [
    "knn_baseline = KNNBaseline(sim_options={'name':'pearson','user_based':False})\n",
    "cv_knn_baseline = cross_validate(knn_baseline,data)\n",
    "for i in cv_knn_baseline.items():\n",
    "    print(i)\n",
    "print('-----------------------')\n",
    "print(np.mean(cv_knn_baseline['test_rmse']))"
   ]
  },
  {
   "cell_type": "markdown",
   "metadata": {},
   "source": [
    "#### KNN With Means"
   ]
  },
  {
   "cell_type": "code",
   "execution_count": 20,
   "metadata": {},
   "outputs": [
    {
     "name": "stdout",
     "output_type": "stream",
     "text": [
      "Computing the pearson similarity matrix...\n",
      "Done computing similarity matrix.\n",
      "Computing the pearson similarity matrix...\n",
      "Done computing similarity matrix.\n",
      "Computing the pearson similarity matrix...\n",
      "Done computing similarity matrix.\n",
      "Computing the pearson similarity matrix...\n",
      "Done computing similarity matrix.\n",
      "Computing the pearson similarity matrix...\n",
      "Done computing similarity matrix.\n",
      "('test_rmse', array([1.15183399, 0.86509733, 0.97637893, 0.96141385, 1.00813605]))\n",
      "('test_mae', array([0.75774892, 0.61351048, 0.63181196, 0.65593807, 0.67402911]))\n",
      "('fit_time', (0.010596036911010742, 0.014426708221435547, 0.013889074325561523, 0.010707855224609375, 0.014451026916503906))\n",
      "('test_time', (0.002550840377807617, 0.0026369094848632812, 0.0025358200073242188, 0.0027289390563964844, 0.002588033676147461))\n",
      "-----------------------\n",
      "0.9925720318655313\n"
     ]
    }
   ],
   "source": [
    "knn_means = KNNWithMeans(sim_options={'name':'pearson','user_based':False})\n",
    "cv_knn_means = cross_validate(knn_means,data)\n",
    "for i in cv_knn_means.items():\n",
    "    print(i)\n",
    "print('-----------------------')\n",
    "print(np.mean(cv_knn_means['test_rmse']))"
   ]
  },
  {
   "cell_type": "markdown",
   "metadata": {},
   "source": [
    "### SIM_OPTIONS Pearson User Based"
   ]
  },
  {
   "cell_type": "markdown",
   "metadata": {},
   "source": [
    "#### KNN Basic"
   ]
  },
  {
   "cell_type": "code",
   "execution_count": 21,
   "metadata": {},
   "outputs": [
    {
     "name": "stdout",
     "output_type": "stream",
     "text": [
      "('test_rmse', array([0.94730587, 0.9827203 , 1.00606376, 1.00326014, 0.95218642]))\n",
      "('test_mae', array([0.66090125, 0.68168454, 0.68977016, 0.68706748, 0.67121446]))\n",
      "('fit_time', (0.04894685745239258, 0.051380157470703125, 0.04965710639953613, 0.029664039611816406, 0.046790122985839844))\n",
      "('test_time', (0.0027170181274414062, 0.0021338462829589844, 0.0021741390228271484, 0.002131938934326172, 0.0020999908447265625))\n",
      "-----------------------\n",
      "0.9783072999111123\n"
     ]
    }
   ],
   "source": [
    "knn_basic = KNNBasic(sim_options={'name':'pearson','user_based':True})\n",
    "cv_knn_basic= cross_validate(knn_basic,data,n_jobs=-1)\n",
    "for i in cv_knn_basic.items():\n",
    "    print(i)\n",
    "print('-----------------------')\n",
    "print(np.mean(cv_knn_basic['test_rmse']))"
   ]
  },
  {
   "cell_type": "markdown",
   "metadata": {},
   "source": [
    "#### KNN Basline"
   ]
  },
  {
   "cell_type": "code",
   "execution_count": 22,
   "metadata": {},
   "outputs": [
    {
     "name": "stdout",
     "output_type": "stream",
     "text": [
      "Estimating biases using als...\n",
      "Computing the pearson similarity matrix...\n",
      "Done computing similarity matrix.\n",
      "Estimating biases using als...\n",
      "Computing the pearson similarity matrix...\n",
      "Done computing similarity matrix.\n",
      "Estimating biases using als...\n",
      "Computing the pearson similarity matrix...\n",
      "Done computing similarity matrix.\n",
      "Estimating biases using als...\n",
      "Computing the pearson similarity matrix...\n",
      "Done computing similarity matrix.\n",
      "Estimating biases using als...\n",
      "Computing the pearson similarity matrix...\n",
      "Done computing similarity matrix.\n",
      "('test_rmse', array([0.87673456, 1.06330376, 0.9379797 , 1.00026955, 0.94443028]))\n",
      "('test_mae', array([0.63118373, 0.72223799, 0.65817317, 0.67518544, 0.66052151]))\n",
      "('fit_time', (0.0659189224243164, 0.03593611717224121, 0.04660987854003906, 0.04013824462890625, 0.04116511344909668))\n",
      "('test_time', (0.0019903182983398438, 0.0019371509552001953, 0.0018641948699951172, 0.002012968063354492, 0.0020978450775146484))\n",
      "-----------------------\n",
      "0.9645435699730888\n"
     ]
    }
   ],
   "source": [
    "knn_baseline = KNNBaseline(sim_options={'name':'pearson','user_based':True})\n",
    "cv_knn_baseline = cross_validate(knn_baseline,data)\n",
    "for i in cv_knn_baseline.items():\n",
    "    print(i)\n",
    "print('-----------------------')\n",
    "print(np.mean(cv_knn_baseline['test_rmse']))"
   ]
  },
  {
   "cell_type": "markdown",
   "metadata": {},
   "source": [
    "#### KNN With Means"
   ]
  },
  {
   "cell_type": "code",
   "execution_count": 23,
   "metadata": {},
   "outputs": [
    {
     "name": "stdout",
     "output_type": "stream",
     "text": [
      "Computing the pearson similarity matrix...\n",
      "Done computing similarity matrix.\n",
      "Computing the pearson similarity matrix...\n",
      "Done computing similarity matrix.\n",
      "Computing the pearson similarity matrix...\n",
      "Done computing similarity matrix.\n",
      "Computing the pearson similarity matrix...\n",
      "Done computing similarity matrix.\n",
      "Computing the pearson similarity matrix...\n",
      "Done computing similarity matrix.\n",
      "('test_rmse', array([0.92660777, 1.03336675, 0.98567211, 1.00747201, 1.07442219]))\n",
      "('test_mae', array([0.64499967, 0.67304538, 0.65975952, 0.64667387, 0.69990707]))\n",
      "('fit_time', (0.03945302963256836, 0.04025721549987793, 0.038849592208862305, 0.06206512451171875, 0.04010200500488281))\n",
      "('test_time', (0.002161741256713867, 0.002010822296142578, 0.002006053924560547, 0.0020308494567871094, 0.0020580291748046875))\n",
      "-----------------------\n",
      "1.0055081673471955\n"
     ]
    }
   ],
   "source": [
    "knn_means = KNNWithMeans(sim_options={'name':'pearson','user_based':True})\n",
    "cv_knn_means = cross_validate(knn_means,data)\n",
    "for i in cv_knn_means.items():\n",
    "    print(i)\n",
    "print('-----------------------')\n",
    "print(np.mean(cv_knn_means['test_rmse']))"
   ]
  },
  {
   "cell_type": "markdown",
   "metadata": {},
   "source": [
    "### SIM_OPTIONS MSD Item Based"
   ]
  },
  {
   "cell_type": "markdown",
   "metadata": {},
   "source": [
    "#### KNN Basic"
   ]
  },
  {
   "cell_type": "code",
   "execution_count": 24,
   "metadata": {},
   "outputs": [
    {
     "name": "stdout",
     "output_type": "stream",
     "text": [
      "('test_rmse', array([1.01647978, 1.01043856, 0.95016539, 0.95155706, 0.96463292]))\n",
      "('test_mae', array([0.68605454, 0.69391382, 0.66209497, 0.66528918, 0.67944351]))\n",
      "('fit_time', (0.0036118030548095703, 0.002958059310913086, 0.004007101058959961, 0.0028951168060302734, 0.0038208961486816406))\n",
      "('test_time', (0.0019910335540771484, 0.002017974853515625, 0.0016567707061767578, 0.002067089080810547, 0.0019872188568115234))\n",
      "-----------------------\n",
      "0.9786547437457042\n"
     ]
    }
   ],
   "source": [
    "knn_basic = KNNBasic(sim_options={'name':'msd','user_based':False})\n",
    "cv_knn_basic= cross_validate(knn_basic,data,n_jobs=-1)\n",
    "for i in cv_knn_basic.items():\n",
    "    print(i)\n",
    "print('-----------------------')\n",
    "print(np.mean(cv_knn_basic['test_rmse']))"
   ]
  },
  {
   "cell_type": "markdown",
   "metadata": {},
   "source": [
    "#### KNN Baseline"
   ]
  },
  {
   "cell_type": "code",
   "execution_count": 25,
   "metadata": {},
   "outputs": [
    {
     "name": "stdout",
     "output_type": "stream",
     "text": [
      "Estimating biases using als...\n",
      "Computing the msd similarity matrix...\n",
      "Done computing similarity matrix.\n",
      "Estimating biases using als...\n",
      "Computing the msd similarity matrix...\n",
      "Done computing similarity matrix.\n",
      "Estimating biases using als...\n",
      "Computing the msd similarity matrix...\n",
      "Done computing similarity matrix.\n",
      "Estimating biases using als...\n",
      "Computing the msd similarity matrix...\n",
      "Done computing similarity matrix.\n",
      "Estimating biases using als...\n",
      "Computing the msd similarity matrix...\n",
      "Done computing similarity matrix.\n",
      "('test_rmse', array([0.83996751, 0.9813342 , 1.00125397, 1.02373733, 0.98719241]))\n",
      "('test_mae', array([0.60546693, 0.67422417, 0.69572056, 0.69322382, 0.67475406]))\n",
      "('fit_time', (0.009591102600097656, 0.009470939636230469, 0.008480072021484375, 0.008943319320678711, 0.008273124694824219))\n",
      "('test_time', (0.0023651123046875, 0.002210855484008789, 0.0018889904022216797, 0.0019118785858154297, 0.0018570423126220703))\n",
      "-----------------------\n",
      "0.9666970838593534\n"
     ]
    }
   ],
   "source": [
    "knn_baseline = KNNBaseline(sim_options={'name':'msd','user_based':False})\n",
    "cv_knn_baseline = cross_validate(knn_baseline,data)\n",
    "for i in cv_knn_baseline.items():\n",
    "    print(i)\n",
    "print('-----------------------')\n",
    "print(np.mean(cv_knn_baseline['test_rmse']))"
   ]
  },
  {
   "cell_type": "markdown",
   "metadata": {},
   "source": [
    "#### KNN With Means"
   ]
  },
  {
   "cell_type": "code",
   "execution_count": 26,
   "metadata": {
    "collapsed": true
   },
   "outputs": [
    {
     "name": "stdout",
     "output_type": "stream",
     "text": [
      "Computing the msd similarity matrix...\n",
      "Done computing similarity matrix.\n",
      "Computing the msd similarity matrix...\n",
      "Done computing similarity matrix.\n",
      "Computing the msd similarity matrix...\n",
      "Done computing similarity matrix.\n",
      "Computing the msd similarity matrix...\n",
      "Done computing similarity matrix.\n",
      "Computing the msd similarity matrix...\n",
      "Done computing similarity matrix.\n",
      "('test_rmse', array([1.06148837, 0.9805201 , 1.04135463, 0.99963221, 0.91451759]))\n",
      "('test_mae', array([0.71790188, 0.65705579, 0.68392708, 0.66334085, 0.63103628]))\n",
      "('fit_time', (0.009341955184936523, 0.009872913360595703, 0.008633852005004883, 0.009071111679077148, 0.008301019668579102))\n",
      "('test_time', (0.0025670528411865234, 0.002282857894897461, 0.0020012855529785156, 0.002017974853515625, 0.0019321441650390625))\n",
      "-----------------------\n",
      "0.9995025817138016\n"
     ]
    }
   ],
   "source": [
    "knn_means = KNNWithMeans(sim_options={'name':'msd','user_based':False})\n",
    "cv_knn_means = cross_validate(knn_means,data)\n",
    "for i in cv_knn_means.items():\n",
    "    print(i)\n",
    "print('-----------------------')\n",
    "print(np.mean(cv_knn_means['test_rmse']))"
   ]
  },
  {
   "cell_type": "markdown",
   "metadata": {},
   "source": [
    "### SIM_OPTIONS MSD USER BASED"
   ]
  },
  {
   "cell_type": "markdown",
   "metadata": {},
   "source": [
    "#### KNN Basic"
   ]
  },
  {
   "cell_type": "code",
   "execution_count": 27,
   "metadata": {
    "collapsed": true
   },
   "outputs": [
    {
     "name": "stdout",
     "output_type": "stream",
     "text": [
      "('test_rmse', array([0.95929827, 1.0341434 , 0.95203379, 1.0532034 , 0.90543573]))\n",
      "('test_mae', array([0.67525055, 0.69685181, 0.65902327, 0.71572573, 0.64906639]))\n",
      "('fit_time', (0.02712392807006836, 0.025660037994384766, 0.02218794822692871, 0.014955997467041016, 0.024418115615844727))\n",
      "('test_time', (0.0021238327026367188, 0.002104043960571289, 0.0019259452819824219, 0.001895904541015625, 0.002624034881591797))\n",
      "-----------------------\n",
      "0.9808229194888082\n"
     ]
    }
   ],
   "source": [
    "knn_basic = KNNBasic(sim_options={'name':'msd','user_based':True})\n",
    "cv_knn_basic= cross_validate(knn_basic,data,n_jobs=-1)\n",
    "for i in cv_knn_basic.items():\n",
    "    print(i)\n",
    "print('-----------------------')\n",
    "print(np.mean(cv_knn_basic['test_rmse']))"
   ]
  },
  {
   "cell_type": "markdown",
   "metadata": {},
   "source": [
    "##  ** KNN Baseline BEST RMSE"
   ]
  },
  {
   "cell_type": "code",
   "execution_count": 28,
   "metadata": {},
   "outputs": [
    {
     "name": "stdout",
     "output_type": "stream",
     "text": [
      "Estimating biases using als...\n",
      "Computing the msd similarity matrix...\n",
      "Done computing similarity matrix.\n",
      "Estimating biases using als...\n",
      "Computing the msd similarity matrix...\n",
      "Done computing similarity matrix.\n",
      "Estimating biases using als...\n",
      "Computing the msd similarity matrix...\n",
      "Done computing similarity matrix.\n",
      "Estimating biases using als...\n",
      "Computing the msd similarity matrix...\n",
      "Done computing similarity matrix.\n",
      "Estimating biases using als...\n",
      "Computing the msd similarity matrix...\n",
      "Done computing similarity matrix.\n",
      "('test_rmse', array([0.77070108, 0.98647005, 1.01910444, 1.0088772 , 1.01443909]))\n",
      "('test_mae', array([0.58677326, 0.677757  , 0.69136765, 0.69656059, 0.69191876]))\n",
      "('fit_time', (0.039061784744262695, 0.029993772506713867, 0.022816181182861328, 0.03359365463256836, 0.022349119186401367))\n",
      "('test_time', (0.002177000045776367, 0.002024412155151367, 0.0019457340240478516, 0.001986980438232422, 0.0019259452819824219))\n",
      "-----------------------\n",
      "0.9599183707126693\n"
     ]
    }
   ],
   "source": [
    "knn_baseline = KNNBaseline(sim_options={'name':'msd','user_based':True})\n",
    "cv_knn_baseline = cross_validate(knn_baseline,data)\n",
    "for i in cv_knn_baseline.items():\n",
    "    print(i)\n",
    "print('-----------------------')\n",
    "print(np.mean(cv_knn_baseline['test_rmse']))"
   ]
  },
  {
   "cell_type": "markdown",
   "metadata": {},
   "source": [
    "#### KNN With Means"
   ]
  },
  {
   "cell_type": "code",
   "execution_count": 29,
   "metadata": {
    "collapsed": true
   },
   "outputs": [
    {
     "name": "stdout",
     "output_type": "stream",
     "text": [
      "Computing the msd similarity matrix...\n",
      "Done computing similarity matrix.\n",
      "Computing the msd similarity matrix...\n",
      "Done computing similarity matrix.\n",
      "Computing the msd similarity matrix...\n",
      "Done computing similarity matrix.\n",
      "Computing the msd similarity matrix...\n",
      "Done computing similarity matrix.\n",
      "Computing the msd similarity matrix...\n",
      "Done computing similarity matrix.\n",
      "('test_rmse', array([1.01697338, 0.94979212, 1.11733684, 0.93285427, 1.14131015]))\n",
      "('test_mae', array([0.69268544, 0.65378495, 0.71594177, 0.61841885, 0.7243519 ]))\n",
      "('fit_time', (0.034214019775390625, 0.03357219696044922, 0.03748607635498047, 0.0278017520904541, 0.02735590934753418))\n",
      "('test_time', (0.002546072006225586, 0.002099752426147461, 0.002073049545288086, 0.0019881725311279297, 0.0019598007202148438))\n",
      "-----------------------\n",
      "1.0316533538828536\n"
     ]
    }
   ],
   "source": [
    "knn_means = KNNWithMeans(sim_options={'name':'msd','user_based':True})\n",
    "cv_knn_means = cross_validate(knn_means,data)\n",
    "for i in cv_knn_means.items():\n",
    "    print(i)\n",
    "print('-----------------------')\n",
    "print(np.mean(cv_knn_means['test_rmse']))"
   ]
  },
  {
   "cell_type": "markdown",
   "metadata": {},
   "source": [
    "### SIM_OPTIONS Pearson Baseline Item Based"
   ]
  },
  {
   "cell_type": "markdown",
   "metadata": {},
   "source": [
    "#### KNN Basic"
   ]
  },
  {
   "cell_type": "code",
   "execution_count": 30,
   "metadata": {},
   "outputs": [
    {
     "name": "stdout",
     "output_type": "stream",
     "text": [
      "('test_rmse', array([0.99762709, 0.94861526, 0.93941986, 1.00004146, 1.00860614]))\n",
      "('test_mae', array([0.68341685, 0.67121446, 0.65663882, 0.69215461, 0.69114839]))\n",
      "('fit_time', (0.009763002395629883, 0.008925914764404297, 0.0061016082763671875, 0.006119251251220703, 0.0060002803802490234))\n",
      "('test_time', (0.0017008781433105469, 0.0015490055084228516, 0.0014529228210449219, 0.0015628337860107422, 0.0014209747314453125))\n",
      "-----------------------\n",
      "0.9788619631666917\n"
     ]
    }
   ],
   "source": [
    "knn_basic = KNNBasic(sim_options={'name':'pearson_baseline','user_based':False})\n",
    "cv_knn_basic= cross_validate(knn_basic,data,n_jobs=-1)\n",
    "for i in cv_knn_basic.items():\n",
    "    print(i)\n",
    "print('-----------------------')\n",
    "print(np.mean(cv_knn_basic['test_rmse']))"
   ]
  },
  {
   "cell_type": "markdown",
   "metadata": {},
   "source": [
    "#### ** KNN Baseline !!!! BEST RMSE B4"
   ]
  },
  {
   "cell_type": "code",
   "execution_count": 31,
   "metadata": {},
   "outputs": [
    {
     "name": "stdout",
     "output_type": "stream",
     "text": [
      "Estimating biases using als...\n",
      "Computing the pearson_baseline similarity matrix...\n",
      "Done computing similarity matrix.\n",
      "Estimating biases using als...\n",
      "Computing the pearson_baseline similarity matrix...\n",
      "Done computing similarity matrix.\n",
      "Estimating biases using als...\n",
      "Computing the pearson_baseline similarity matrix...\n",
      "Done computing similarity matrix.\n",
      "Estimating biases using als...\n",
      "Computing the pearson_baseline similarity matrix...\n",
      "Done computing similarity matrix.\n",
      "Estimating biases using als...\n",
      "Computing the pearson_baseline similarity matrix...\n",
      "Done computing similarity matrix.\n",
      "('test_rmse', array([0.9214284 , 1.06574318, 0.96935872, 1.0323361 , 0.84537739]))\n",
      "('test_mae', array([0.63176772, 0.72333046, 0.68321741, 0.68290716, 0.63080957]))\n",
      "('fit_time', (0.01288604736328125, 0.011952877044677734, 0.010934114456176758, 0.010596990585327148, 0.009831905364990234))\n",
      "('test_time', (0.0025250911712646484, 0.0022079944610595703, 0.0018439292907714844, 0.0018270015716552734, 0.001806020736694336))\n",
      "-----------------------\n",
      "0.9668487590785289\n"
     ]
    }
   ],
   "source": [
    "knn_baseline = KNNBaseline(sim_options={'name':'pearson_baseline','user_based':False})\n",
    "cv_knn_baseline = cross_validate(knn_baseline,data)\n",
    "for i in cv_knn_baseline.items():\n",
    "    print(i)\n",
    "print('-----------------------')\n",
    "print(np.mean(cv_knn_baseline['test_rmse']))"
   ]
  },
  {
   "cell_type": "markdown",
   "metadata": {},
   "source": [
    "#### KNN With Means"
   ]
  },
  {
   "cell_type": "code",
   "execution_count": 32,
   "metadata": {},
   "outputs": [
    {
     "name": "stdout",
     "output_type": "stream",
     "text": [
      "Estimating biases using als...\n",
      "Computing the pearson_baseline similarity matrix...\n",
      "Done computing similarity matrix.\n",
      "Estimating biases using als...\n",
      "Computing the pearson_baseline similarity matrix...\n",
      "Done computing similarity matrix.\n",
      "Estimating biases using als...\n",
      "Computing the pearson_baseline similarity matrix...\n",
      "Done computing similarity matrix.\n",
      "Estimating biases using als...\n",
      "Computing the pearson_baseline similarity matrix...\n",
      "Done computing similarity matrix.\n",
      "Estimating biases using als...\n",
      "Computing the pearson_baseline similarity matrix...\n",
      "Done computing similarity matrix.\n",
      "('test_rmse', array([0.95166268, 0.98237081, 0.9271081 , 0.98695442, 1.15669147]))\n",
      "('test_mae', array([0.65317684, 0.66650664, 0.63698376, 0.67066357, 0.74737119]))\n",
      "('fit_time', (0.014395952224731445, 0.014134883880615234, 0.014801263809204102, 0.012860774993896484, 0.01702117919921875))\n",
      "('test_time', (0.0022699832916259766, 0.0018541812896728516, 0.0019168853759765625, 0.0015959739685058594, 0.0018355846405029297))\n",
      "-----------------------\n",
      "1.000957495650034\n"
     ]
    }
   ],
   "source": [
    "knn_means = KNNWithMeans(sim_options={'name':'pearson_baseline','user_based':False})\n",
    "cv_knn_means = cross_validate(knn_means,data)\n",
    "for i in cv_knn_means.items():\n",
    "    print(i)\n",
    "print('-----------------------')\n",
    "print(np.mean(cv_knn_means['test_rmse']))"
   ]
  },
  {
   "cell_type": "markdown",
   "metadata": {},
   "source": [
    "### SIM_OPTIONS Pearson Baseline User Based"
   ]
  },
  {
   "cell_type": "markdown",
   "metadata": {},
   "source": [
    "#### KNN Basic"
   ]
  },
  {
   "cell_type": "code",
   "execution_count": 33,
   "metadata": {},
   "outputs": [
    {
     "name": "stdout",
     "output_type": "stream",
     "text": [
      "('test_rmse', array([0.83709578, 1.00679858, 1.02471017, 0.97789789, 1.03711107]))\n",
      "('test_mae', array([0.62201495, 0.67906702, 0.70773423, 0.68427516, 0.69982789]))\n",
      "('fit_time', (0.03868603706359863, 0.03203105926513672, 0.027356863021850586, 0.03680300712585449, 0.03888583183288574))\n",
      "('test_time', (0.0017778873443603516, 0.0017609596252441406, 0.0017099380493164062, 0.00177001953125, 0.001750946044921875))\n",
      "-----------------------\n",
      "0.9767226957927697\n"
     ]
    }
   ],
   "source": [
    "knn_basic = KNNBasic(sim_options={'name':'pearson_baseline','user_based':True})\n",
    "cv_knn_basic= cross_validate(knn_basic,data,n_jobs=-1)\n",
    "for i in cv_knn_basic.items():\n",
    "    print(i)\n",
    "print('-----------------------')\n",
    "print(np.mean(cv_knn_basic['test_rmse']))"
   ]
  },
  {
   "cell_type": "markdown",
   "metadata": {},
   "source": [
    "#### KNN Baseline"
   ]
  },
  {
   "cell_type": "code",
   "execution_count": 34,
   "metadata": {},
   "outputs": [
    {
     "name": "stdout",
     "output_type": "stream",
     "text": [
      "Estimating biases using als...\n",
      "Computing the pearson_baseline similarity matrix...\n",
      "Done computing similarity matrix.\n",
      "Estimating biases using als...\n",
      "Computing the pearson_baseline similarity matrix...\n",
      "Done computing similarity matrix.\n",
      "Estimating biases using als...\n",
      "Computing the pearson_baseline similarity matrix...\n",
      "Done computing similarity matrix.\n",
      "Estimating biases using als...\n",
      "Computing the pearson_baseline similarity matrix...\n",
      "Done computing similarity matrix.\n",
      "Estimating biases using als...\n",
      "Computing the pearson_baseline similarity matrix...\n",
      "Done computing similarity matrix.\n",
      "('test_rmse', array([0.86188808, 0.95059997, 1.05953237, 0.90892601, 1.02929891]))\n",
      "('test_mae', array([0.62742803, 0.66851779, 0.70722505, 0.6437471 , 0.69638341]))\n",
      "('fit_time', (0.031206130981445312, 0.027205944061279297, 0.026630878448486328, 0.029704809188842773, 0.026630163192749023))\n",
      "('test_time', (0.0020599365234375, 0.0020170211791992188, 0.0019559860229492188, 0.0021021366119384766, 0.001995086669921875))\n",
      "-----------------------\n",
      "0.9620490652243362\n"
     ]
    }
   ],
   "source": [
    "knn_baseline = KNNBaseline(sim_options={'name':'pearson_baseline','user_based':True})\n",
    "cv_knn_baseline = cross_validate(knn_baseline,data)\n",
    "for i in cv_knn_baseline.items():\n",
    "    print(i)\n",
    "print('-----------------------')\n",
    "print(np.mean(cv_knn_baseline['test_rmse']))"
   ]
  },
  {
   "cell_type": "markdown",
   "metadata": {},
   "source": [
    "#### KNN With Means"
   ]
  },
  {
   "cell_type": "code",
   "execution_count": 35,
   "metadata": {},
   "outputs": [
    {
     "name": "stdout",
     "output_type": "stream",
     "text": [
      "Estimating biases using als...\n",
      "Computing the pearson_baseline similarity matrix...\n",
      "Done computing similarity matrix.\n",
      "Estimating biases using als...\n",
      "Computing the pearson_baseline similarity matrix...\n",
      "Done computing similarity matrix.\n",
      "Estimating biases using als...\n",
      "Computing the pearson_baseline similarity matrix...\n",
      "Done computing similarity matrix.\n",
      "Estimating biases using als...\n",
      "Computing the pearson_baseline similarity matrix...\n",
      "Done computing similarity matrix.\n",
      "Estimating biases using als...\n",
      "Computing the pearson_baseline similarity matrix...\n",
      "Done computing similarity matrix.\n",
      "('test_rmse', array([1.03491112, 0.88679591, 1.05585448, 1.09688131, 1.04779594]))\n",
      "('test_mae', array([0.69445032, 0.59666266, 0.70458006, 0.70398574, 0.68272138]))\n",
      "('fit_time', (0.04161977767944336, 0.03638291358947754, 0.03656792640686035, 0.03839707374572754, 0.03567790985107422))\n",
      "('test_time', (0.0018727779388427734, 0.0017473697662353516, 0.0018420219421386719, 0.0017931461334228516, 0.0016598701477050781))\n",
      "-----------------------\n",
      "1.0244477522804232\n"
     ]
    }
   ],
   "source": [
    "knn_means = KNNWithMeans(sim_options={'name':'pearson_baseline','user_based':True})\n",
    "cv_knn_means = cross_validate(knn_means,data)\n",
    "for i in cv_knn_means.items():\n",
    "    print(i)\n",
    "print('-----------------------')\n",
    "print(np.mean(cv_knn_means['test_rmse']))"
   ]
  },
  {
   "cell_type": "markdown",
   "metadata": {},
   "source": [
    "# Looking at predictions for best classification model"
   ]
  },
  {
   "cell_type": "code",
   "execution_count": 6,
   "metadata": {},
   "outputs": [],
   "source": [
    "train, test = train_test_split(data,test_size=0.2)"
   ]
  },
  {
   "cell_type": "code",
   "execution_count": 7,
   "metadata": {
    "scrolled": true
   },
   "outputs": [
    {
     "name": "stdout",
     "output_type": "stream",
     "text": [
      "Estimating biases using als...\n",
      "Computing the msd similarity matrix...\n",
      "Done computing similarity matrix.\n",
      "RMSE: 0.3164\n",
      "0.31635538650751177\n"
     ]
    }
   ],
   "source": [
    "# sim_options={'name':'pearson_baseline','user_based':False}\n",
    "sim_options={'name':'msd','user_based':True}\n",
    "knn_baseline = knns.KNNBaseline(sim_options=sim_options)\n",
    "knn_baseline.fit(dataset)\n",
    "predictions = knn_baseline.test(test)\n",
    "print(accuracy.rmse(predictions))"
   ]
  },
  {
   "cell_type": "code",
   "execution_count": 41,
   "metadata": {},
   "outputs": [],
   "source": [
    "# knn_baseline.test(test)"
   ]
  },
  {
   "cell_type": "markdown",
   "metadata": {},
   "source": [
    "# Collaborative Filtering, Item Based"
   ]
  },
  {
   "cell_type": "code",
   "execution_count": 162,
   "metadata": {},
   "outputs": [
    {
     "data": {
      "text/plain": [
       "Index(['brandName', 'rating', 'url', 'user', 'prodName', 'age', 'darkcircles',\n",
       "       'dry', 'redness', 'sensitive', 'oily', 'normal', 'cleanser',\n",
       "       'exfoliator', 'makeup-removers', 'toner', 'mist', 'treatment', 'serum',\n",
       "       'lotion', 'moisturizer', 'balm', 'oil', 'mask', 'peel', 'lip', 'eye',\n",
       "       'supplement', 'tool', 'rating_count'],\n",
       "      dtype='object')"
      ]
     },
     "execution_count": 162,
     "metadata": {},
     "output_type": "execute_result"
    }
   ],
   "source": [
    "rec.columns"
   ]
  },
  {
   "cell_type": "code",
   "execution_count": null,
   "metadata": {},
   "outputs": [],
   "source": [
    "# skins=['oily', 'dry', 'sensitive','normal']\n",
    "# skincols=['oily','dry','sensitive','normal']\n",
    "# typs=['cleanser','exfoliator', 'makeup-removers', 'toner', 'mist', 'treatment', 'serum','lotion', 'moisturizer', \n",
    "#       'balm', 'oil', 'mask', 'peel', 'lip', 'eye','supplement', 'tool']\n",
    "# issues=['age', 'darkcircles','dry', 'dryness','redness', 'sensitive','oily']"
   ]
  },
  {
   "cell_type": "markdown",
   "metadata": {},
   "source": [
    "## Trying to Predict for New Users"
   ]
  },
  {
   "cell_type": "code",
   "execution_count": 21,
   "metadata": {},
   "outputs": [],
   "source": [
    "new_df=rec[['user','url','rating']]"
   ]
  },
  {
   "cell_type": "code",
   "execution_count": 66,
   "metadata": {},
   "outputs": [],
   "source": [
    "def skin_rater(df,num, typ=None):\n",
    "    rating_list = []\n",
    "    movie_df=pd.DataFrame()\n",
    "    raw_uid=input('type username: ')\n",
    "    skintype=input('what is your skin type? (oily, dry, sensitive, normal, combination): ')\n",
    "    issues=input('type any skin problems you have separated by commas (aging, dark circles, redness): ')\n",
    "    prodtypes=input('is there any specific type of product you are missing? (cleanser, moisturizer, exfoliator, etc.): ')\n",
    "    if skintype=='oily':\n",
    "        movie_df.append(df[df['oily']==1])\n",
    "    elif skintype=='sensitive':\n",
    "        movie_df=df[df['sensitive']==1]\n",
    "    elif skintype=='dry':\n",
    "        movie_df=df[df['dry']==1]\n",
    "    elif skintype=='normal' or skintype=='combination':\n",
    "        movie_df=df[df['normal']==1]\n",
    "    else:\n",
    "        movie_df=rec\n",
    "    if 'aging' in issues:\n",
    "        movie_df.append(df[df['age']==1])\n",
    "    if 'dark circles' in issues:\n",
    "        movie_df.append(df[df['darkcircles']==1])\n",
    "    if 'redness' in issues:\n",
    "        movie_df.append(df[df['redness']==1])\n",
    "    if 'cleanser' in prodtypes:\n",
    "        movie_df.append(df[df['cleanser']==1])\n",
    "    if 'exfoliator' in prodtypes:\n",
    "        movie_df.append(df[df['exfoliator']==1])\n",
    "    if 'makeup-removers' or 'remover' or 'makeup remover' in prodtypes:\n",
    "        movie_df.append(df[df['makeup-removers']==1])\n",
    "    if 'toner' in prodtypes:\n",
    "        movie_df.append(df[df['toner']==1])\n",
    "    if 'mist' in prodtypes:\n",
    "        movie_df.append(df[df['mist']==1])\n",
    "    if 'treatment' in prodtypes:\n",
    "        movie_df.append(df[df['treatment']==1])\n",
    "    if 'serum' in prodtypes:\n",
    "        movie_df.append(df[df['serum']==1])\n",
    "    if 'lotion' in prodtypes:\n",
    "        movie_df.append(df[df['lotion']==1])\n",
    "    if 'moisturizer' in prodtypes:\n",
    "        movie_df.append(df[df['moisturizer']==1])\n",
    "    if 'balm' in prodtypes:\n",
    "        movie_df.append(df[df['balm']==1])\n",
    "    if 'oil' in prodtypes:\n",
    "        movie_df.append(df[df['oil']==1])\n",
    "    if 'mask' in prodtypes:\n",
    "        movie_df.append(df[df['mask']==1])\n",
    "    if 'peel' in prodtypes:\n",
    "        movie_df.append(df[df['peel']==1])\n",
    "    if 'lip' in prodtypes:\n",
    "        movie_df.append(df[df['lip']==1])\n",
    "    if 'eye' in prodtypes:\n",
    "        movie_df.append(df[df['eye']==1])\n",
    "    if 'supplement' or 'pill' or 'pills' in prodtypes:\n",
    "        movie_df.append(df[df['supplement']==1])\n",
    "    if 'tool' in prodtypes:\n",
    "        movie_df.append(df[df['tool']==1])\n",
    "    else:\n",
    "        movie_df=df\n",
    "    movie_df.drop_duplicates(inplace=True)\n",
    "    while num > 0:\n",
    "        p = movie_df.sample(1)\n",
    "        print(p[['brandName','prodName','url']])\n",
    "        rating = input('How do you rate this movie on a scale of 1-5, press n if you have not seen :\\n')\n",
    "        if rating == 'n':\n",
    "            continue\n",
    "        else:\n",
    "            rating_one_movie = {'user':raw_uid,'url':p['url'].values[0],'rating':rating}\n",
    "            rating_list.append(rating_one_movie) \n",
    "            num -= 1\n",
    "    return(rating_list,raw_uid)\n",
    "def rank_prods_for_user(df,raw_uid):\n",
    "    list_of_prods=[]\n",
    "    for u in df['url'].unique():\n",
    "            list_of_prods.append((u,knn_baseline.predict(raw_uid,u)[3]))\n",
    "    ranked_prods = sorted(list_of_prods,key=lambda x:x[1],reverse=True)\n",
    "    return (ranked_prods)\n",
    "def recommended_products(user_ratings,df,n):\n",
    "    for idx, re in enumerate(user_ratings):\n",
    "        u=re[0]\n",
    "        title = df.loc[df['url'] == int(re[0])]['prodName']\n",
    "        print('Recommendation # ',idx+1,'|| ', 'url:', u, '||', 'product: ', df[df['url']==u]['prodName'].drop_duplicates(),'\\n')\n",
    "        n-= 1\n",
    "        if n == 0:\n",
    "            break"
   ]
  },
  {
   "cell_type": "code",
   "execution_count": 67,
   "metadata": {
    "scrolled": false
   },
   "outputs": [
    {
     "name": "stdout",
     "output_type": "stream",
     "text": [
      "type username: noooo\n",
      "what is your skin type? (oily, dry, sensitive, normal, combination): no\n",
      "type any skin problems you have separated by commas (aging, dark circles, redness): no\n",
      "is there any specific type of product you are missing? (cleanser, moisturizer, exfoliator, etc.): no\n",
      "      brandName                             prodName       url\n",
      "494  SkinMedica  SkinMedica Vitamin C Plus E Complex  11289692\n",
      "How do you rate this movie on a scale of 1-5, press n if you have not seen :\n",
      "1\n",
      "     brandName                       prodName       url\n",
      "1083    ARCONA  ARCONA Hydrating Serum 1.17oz  11286244\n",
      "How do you rate this movie on a scale of 1-5, press n if you have not seen :\n",
      "2\n",
      "        brandName                                           prodName       url\n",
      "277  The Ordinary  The Ordinary Hyaluronic Acid 2% + B5 Hydration...  11363395\n",
      "How do you rate this movie on a scale of 1-5, press n if you have not seen :\n",
      "3\n"
     ]
    }
   ],
   "source": [
    "lis,uid=skin_rater(rec,3)"
   ]
  },
  {
   "cell_type": "code",
   "execution_count": null,
   "metadata": {},
   "outputs": [],
   "source": []
  },
  {
   "cell_type": "code",
   "execution_count": 68,
   "metadata": {},
   "outputs": [
    {
     "name": "stdout",
     "output_type": "stream",
     "text": [
      "Estimating biases using als...\n",
      "Computing the pearson_baseline similarity matrix...\n",
      "Done computing similarity matrix.\n"
     ]
    },
    {
     "data": {
      "text/plain": [
       "<surprise.prediction_algorithms.knns.KNNBaseline at 0x7fd9824a9630>"
      ]
     },
     "execution_count": 68,
     "metadata": {},
     "output_type": "execute_result"
    }
   ],
   "source": [
    "new_ratings_df=new_df.append(lis,ignore_index=True)\n",
    "new_data= Dataset.load_from_df(new_df,reader)\n",
    "new_data=new_data.build_full_trainset()\n",
    "knn_baseline=knns.KNNBaseline(sim_options={'name':'pearson_baseline','user_based':False})\n",
    "knn_baseline.fit(new_data)"
   ]
  },
  {
   "cell_type": "code",
   "execution_count": 69,
   "metadata": {},
   "outputs": [],
   "source": [
    "ranked=rank_prods_for_user(new_df,uid)"
   ]
  },
  {
   "cell_type": "code",
   "execution_count": 70,
   "metadata": {},
   "outputs": [
    {
     "name": "stdout",
     "output_type": "stream",
     "text": [
      "Recommendation #  1 ||  url: 11286360 || product:  1061    Avène Thermal Spring Water 10.58oz\n",
      "Name: prodName, dtype: object \n",
      "\n",
      "Recommendation #  2 ||  url: 10375555 || product:  174    Murad Pure Skin Clarifying Dietary Supplement ...\n",
      "Name: prodName, dtype: object \n",
      "\n",
      "Recommendation #  3 ||  url: 11524845 || product:  1140    FOREO LUNA™ mini 2 - Fuchsia\n",
      "Name: prodName, dtype: object \n",
      "\n",
      "Recommendation #  4 ||  url: 11524843 || product:  1485    FOREO LUNA™ 2 for Oily Skin\n",
      "Name: prodName, dtype: object \n",
      "\n",
      "Recommendation #  5 ||  url: 10543756 || product:  1561    Dr. Brandt Pores No More Pore Refiner (1oz)\n",
      "Name: prodName, dtype: object \n",
      "\n"
     ]
    }
   ],
   "source": [
    "recommended_products(ranked,rec,5)"
   ]
  },
  {
   "cell_type": "markdown",
   "metadata": {},
   "source": [
    "## To Personalize for skin problems or type of product..."
   ]
  },
  {
   "cell_type": "markdown",
   "metadata": {},
   "source": [
    "### Put into function later!!"
   ]
  },
  {
   "cell_type": "code",
   "execution_count": 54,
   "metadata": {
    "scrolled": true
   },
   "outputs": [],
   "source": [
    "ranked=rank_prods_for_user(rec[rec['age']==1][['user','url','rating']],'mack')"
   ]
  },
  {
   "cell_type": "code",
   "execution_count": 55,
   "metadata": {
    "scrolled": true
   },
   "outputs": [
    {
     "name": "stdout",
     "output_type": "stream",
     "text": [
      "Recommendation #  1 ||  url: 11429303 || product:  293    The Ordinary Glycolic Acid 7% Toning Solution ...\n",
      "Name: prodName, dtype: object \n",
      "\n",
      "Recommendation #  2 ||  url: 11286857 || product:  598    Cellex-C Advanced C Serum\n",
      "Name: prodName, dtype: object \n",
      "\n",
      "Recommendation #  3 ||  url: 11286872 || product:  612    Cellex-C Hydra 5 B-Complex\n",
      "Name: prodName, dtype: object \n",
      "\n"
     ]
    }
   ],
   "source": [
    "recommended_products(ranked,rec,3)"
   ]
  },
  {
   "cell_type": "code",
   "execution_count": 57,
   "metadata": {},
   "outputs": [
    {
     "data": {
      "text/html": [
       "<div>\n",
       "<style scoped>\n",
       "    .dataframe tbody tr th:only-of-type {\n",
       "        vertical-align: middle;\n",
       "    }\n",
       "\n",
       "    .dataframe tbody tr th {\n",
       "        vertical-align: top;\n",
       "    }\n",
       "\n",
       "    .dataframe thead th {\n",
       "        text-align: right;\n",
       "    }\n",
       "</style>\n",
       "<table border=\"1\" class=\"dataframe\">\n",
       "  <thead>\n",
       "    <tr style=\"text-align: right;\">\n",
       "      <th></th>\n",
       "      <th>brandName</th>\n",
       "      <th>rating</th>\n",
       "      <th>url</th>\n",
       "      <th>user</th>\n",
       "      <th>prodName</th>\n",
       "      <th>age</th>\n",
       "      <th>darkcircles</th>\n",
       "      <th>dry</th>\n",
       "      <th>redness</th>\n",
       "      <th>sensitive</th>\n",
       "      <th>...</th>\n",
       "      <th>moisturizer</th>\n",
       "      <th>balm</th>\n",
       "      <th>oil</th>\n",
       "      <th>mask</th>\n",
       "      <th>peel</th>\n",
       "      <th>lip</th>\n",
       "      <th>eye</th>\n",
       "      <th>supplement</th>\n",
       "      <th>tool</th>\n",
       "      <th>rating_count</th>\n",
       "    </tr>\n",
       "  </thead>\n",
       "  <tbody>\n",
       "    <tr>\n",
       "      <th>293</th>\n",
       "      <td>The Ordinary</td>\n",
       "      <td>3</td>\n",
       "      <td>11429303</td>\n",
       "      <td>nano</td>\n",
       "      <td>The Ordinary Glycolic Acid 7% Toning Solution ...</td>\n",
       "      <td>1</td>\n",
       "      <td>0</td>\n",
       "      <td>0</td>\n",
       "      <td>0</td>\n",
       "      <td>0</td>\n",
       "      <td>...</td>\n",
       "      <td>0</td>\n",
       "      <td>0</td>\n",
       "      <td>0</td>\n",
       "      <td>0</td>\n",
       "      <td>0</td>\n",
       "      <td>0</td>\n",
       "      <td>0</td>\n",
       "      <td>0</td>\n",
       "      <td>1</td>\n",
       "      <td>14</td>\n",
       "    </tr>\n",
       "    <tr>\n",
       "      <th>294</th>\n",
       "      <td>The Ordinary</td>\n",
       "      <td>5</td>\n",
       "      <td>11429303</td>\n",
       "      <td>rachel</td>\n",
       "      <td>The Ordinary Glycolic Acid 7% Toning Solution ...</td>\n",
       "      <td>1</td>\n",
       "      <td>0</td>\n",
       "      <td>0</td>\n",
       "      <td>0</td>\n",
       "      <td>0</td>\n",
       "      <td>...</td>\n",
       "      <td>0</td>\n",
       "      <td>0</td>\n",
       "      <td>0</td>\n",
       "      <td>0</td>\n",
       "      <td>0</td>\n",
       "      <td>0</td>\n",
       "      <td>0</td>\n",
       "      <td>0</td>\n",
       "      <td>1</td>\n",
       "      <td>14</td>\n",
       "    </tr>\n",
       "    <tr>\n",
       "      <th>295</th>\n",
       "      <td>The Ordinary</td>\n",
       "      <td>5</td>\n",
       "      <td>11429303</td>\n",
       "      <td>n.amal</td>\n",
       "      <td>The Ordinary Glycolic Acid 7% Toning Solution ...</td>\n",
       "      <td>1</td>\n",
       "      <td>0</td>\n",
       "      <td>0</td>\n",
       "      <td>0</td>\n",
       "      <td>0</td>\n",
       "      <td>...</td>\n",
       "      <td>0</td>\n",
       "      <td>0</td>\n",
       "      <td>0</td>\n",
       "      <td>0</td>\n",
       "      <td>0</td>\n",
       "      <td>0</td>\n",
       "      <td>0</td>\n",
       "      <td>0</td>\n",
       "      <td>1</td>\n",
       "      <td>14</td>\n",
       "    </tr>\n",
       "    <tr>\n",
       "      <th>296</th>\n",
       "      <td>The Ordinary</td>\n",
       "      <td>5</td>\n",
       "      <td>11429303</td>\n",
       "      <td>mary</td>\n",
       "      <td>The Ordinary Glycolic Acid 7% Toning Solution ...</td>\n",
       "      <td>1</td>\n",
       "      <td>0</td>\n",
       "      <td>0</td>\n",
       "      <td>0</td>\n",
       "      <td>0</td>\n",
       "      <td>...</td>\n",
       "      <td>0</td>\n",
       "      <td>0</td>\n",
       "      <td>0</td>\n",
       "      <td>0</td>\n",
       "      <td>0</td>\n",
       "      <td>0</td>\n",
       "      <td>0</td>\n",
       "      <td>0</td>\n",
       "      <td>1</td>\n",
       "      <td>14</td>\n",
       "    </tr>\n",
       "    <tr>\n",
       "      <th>297</th>\n",
       "      <td>The Ordinary</td>\n",
       "      <td>5</td>\n",
       "      <td>11429303</td>\n",
       "      <td>mack</td>\n",
       "      <td>The Ordinary Glycolic Acid 7% Toning Solution ...</td>\n",
       "      <td>1</td>\n",
       "      <td>0</td>\n",
       "      <td>0</td>\n",
       "      <td>0</td>\n",
       "      <td>0</td>\n",
       "      <td>...</td>\n",
       "      <td>0</td>\n",
       "      <td>0</td>\n",
       "      <td>0</td>\n",
       "      <td>0</td>\n",
       "      <td>0</td>\n",
       "      <td>0</td>\n",
       "      <td>0</td>\n",
       "      <td>0</td>\n",
       "      <td>1</td>\n",
       "      <td>14</td>\n",
       "    </tr>\n",
       "    <tr>\n",
       "      <th>298</th>\n",
       "      <td>The Ordinary</td>\n",
       "      <td>5</td>\n",
       "      <td>11429303</td>\n",
       "      <td>ana carolina</td>\n",
       "      <td>The Ordinary Glycolic Acid 7% Toning Solution ...</td>\n",
       "      <td>1</td>\n",
       "      <td>0</td>\n",
       "      <td>0</td>\n",
       "      <td>0</td>\n",
       "      <td>0</td>\n",
       "      <td>...</td>\n",
       "      <td>0</td>\n",
       "      <td>0</td>\n",
       "      <td>0</td>\n",
       "      <td>0</td>\n",
       "      <td>0</td>\n",
       "      <td>0</td>\n",
       "      <td>0</td>\n",
       "      <td>0</td>\n",
       "      <td>1</td>\n",
       "      <td>14</td>\n",
       "    </tr>\n",
       "    <tr>\n",
       "      <th>299</th>\n",
       "      <td>The Ordinary</td>\n",
       "      <td>5</td>\n",
       "      <td>11429303</td>\n",
       "      <td>ro</td>\n",
       "      <td>The Ordinary Glycolic Acid 7% Toning Solution ...</td>\n",
       "      <td>1</td>\n",
       "      <td>0</td>\n",
       "      <td>0</td>\n",
       "      <td>0</td>\n",
       "      <td>0</td>\n",
       "      <td>...</td>\n",
       "      <td>0</td>\n",
       "      <td>0</td>\n",
       "      <td>0</td>\n",
       "      <td>0</td>\n",
       "      <td>0</td>\n",
       "      <td>0</td>\n",
       "      <td>0</td>\n",
       "      <td>0</td>\n",
       "      <td>1</td>\n",
       "      <td>14</td>\n",
       "    </tr>\n",
       "  </tbody>\n",
       "</table>\n",
       "<p>7 rows × 30 columns</p>\n",
       "</div>"
      ],
      "text/plain": [
       "        brandName  rating       url          user  \\\n",
       "293  The Ordinary       3  11429303          nano   \n",
       "294  The Ordinary       5  11429303        rachel   \n",
       "295  The Ordinary       5  11429303       n.amal    \n",
       "296  The Ordinary       5  11429303          mary   \n",
       "297  The Ordinary       5  11429303          mack   \n",
       "298  The Ordinary       5  11429303  ana carolina   \n",
       "299  The Ordinary       5  11429303            ro   \n",
       "\n",
       "                                              prodName  age  darkcircles  dry  \\\n",
       "293  The Ordinary Glycolic Acid 7% Toning Solution ...    1            0    0   \n",
       "294  The Ordinary Glycolic Acid 7% Toning Solution ...    1            0    0   \n",
       "295  The Ordinary Glycolic Acid 7% Toning Solution ...    1            0    0   \n",
       "296  The Ordinary Glycolic Acid 7% Toning Solution ...    1            0    0   \n",
       "297  The Ordinary Glycolic Acid 7% Toning Solution ...    1            0    0   \n",
       "298  The Ordinary Glycolic Acid 7% Toning Solution ...    1            0    0   \n",
       "299  The Ordinary Glycolic Acid 7% Toning Solution ...    1            0    0   \n",
       "\n",
       "     redness  sensitive  ...  moisturizer  balm  oil  mask  peel  lip  eye  \\\n",
       "293        0          0  ...            0     0    0     0     0    0    0   \n",
       "294        0          0  ...            0     0    0     0     0    0    0   \n",
       "295        0          0  ...            0     0    0     0     0    0    0   \n",
       "296        0          0  ...            0     0    0     0     0    0    0   \n",
       "297        0          0  ...            0     0    0     0     0    0    0   \n",
       "298        0          0  ...            0     0    0     0     0    0    0   \n",
       "299        0          0  ...            0     0    0     0     0    0    0   \n",
       "\n",
       "     supplement  tool  rating_count  \n",
       "293           0     1            14  \n",
       "294           0     1            14  \n",
       "295           0     1            14  \n",
       "296           0     1            14  \n",
       "297           0     1            14  \n",
       "298           0     1            14  \n",
       "299           0     1            14  \n",
       "\n",
       "[7 rows x 30 columns]"
      ]
     },
     "execution_count": 57,
     "metadata": {},
     "output_type": "execute_result"
    }
   ],
   "source": [
    "rec[rec['url']=='11429303']"
   ]
  },
  {
   "cell_type": "markdown",
   "metadata": {},
   "source": [
    "## Description TFIDF and Cosine Similarity !?!??!?!?!??! LOOKING AT REVIEW CONTENT AND TITLES"
   ]
  },
  {
   "cell_type": "code",
   "execution_count": 57,
   "metadata": {},
   "outputs": [],
   "source": [
    "df1['description']=df1['title']+df1['content']"
   ]
  },
  {
   "cell_type": "code",
   "execution_count": 58,
   "metadata": {},
   "outputs": [],
   "source": [
    "tf = TfidfVectorizer(analyzer='word',ngram_range=(1, 2),min_df=0, stop_words='english')\n",
    "tfidf_matrix = tf.fit_transform(df1['description'])"
   ]
  },
  {
   "cell_type": "code",
   "execution_count": 59,
   "metadata": {},
   "outputs": [
    {
     "data": {
      "text/plain": [
       "(1685, 39382)"
      ]
     },
     "execution_count": 59,
     "metadata": {},
     "output_type": "execute_result"
    }
   ],
   "source": [
    "tfidf_matrix.shape"
   ]
  },
  {
   "cell_type": "code",
   "execution_count": 60,
   "metadata": {},
   "outputs": [
    {
     "data": {
      "text/plain": [
       "(1701, 30)"
      ]
     },
     "execution_count": 60,
     "metadata": {},
     "output_type": "execute_result"
    }
   ],
   "source": [
    "full.shape"
   ]
  },
  {
   "cell_type": "code",
   "execution_count": 61,
   "metadata": {},
   "outputs": [],
   "source": [
    "cosine_sim = linear_kernel(tfidf_matrix, tfidf_matrix)"
   ]
  },
  {
   "cell_type": "code",
   "execution_count": 62,
   "metadata": {},
   "outputs": [
    {
     "data": {
      "text/plain": [
       "array([[1.        , 0.03513622, 0.02979474, ..., 0.00730602, 0.        ,\n",
       "        0.00399307],\n",
       "       [0.03513622, 1.        , 0.02854128, ..., 0.        , 0.        ,\n",
       "        0.        ],\n",
       "       [0.02979474, 0.02854128, 1.        , ..., 0.        , 0.        ,\n",
       "        0.00425702],\n",
       "       ...,\n",
       "       [0.00730602, 0.        , 0.        , ..., 1.        , 0.        ,\n",
       "        0.05258715],\n",
       "       [0.        , 0.        , 0.        , ..., 0.        , 1.        ,\n",
       "        0.00154483],\n",
       "       [0.00399307, 0.        , 0.00425702, ..., 0.05258715, 0.00154483,\n",
       "        1.        ]])"
      ]
     },
     "execution_count": 62,
     "metadata": {},
     "output_type": "execute_result"
    }
   ],
   "source": [
    "cosine_sim"
   ]
  },
  {
   "cell_type": "code",
   "execution_count": 63,
   "metadata": {},
   "outputs": [],
   "source": [
    "# def item(id):  \n",
    "#     return df1.loc[df1['url'] == id]['description'].tolist()\n",
    "# # Just reads the results out of the dictionary.def \n",
    "# def recommend(item_id, num):\n",
    "#     print(\"Recommending \" + str(num) + \" products similar to \" + item(item_id) + \"...\")   \n",
    "#     print(\"-------\")    \n",
    "#     recs = results[item_id][:num]   \n",
    "#     for rec in recs: \n",
    "#         print(\"Recommended: \" + item(rec[1]) + \" (score:\" +      str(rec[0]) + \")\")"
   ]
  },
  {
   "cell_type": "code",
   "execution_count": 64,
   "metadata": {},
   "outputs": [],
   "source": [
    "# df1.reset_index(inplace=True)\n",
    "# products = df1['url']\n",
    "# indices = pd.Series(df1.index, index=df1['url'])"
   ]
  },
  {
   "cell_type": "code",
   "execution_count": 65,
   "metadata": {},
   "outputs": [],
   "source": [
    "# def get_recommendations(product):\n",
    "#     idx = indices[products]\n",
    "#     sim_scores = list(enumerate(cosine_sim[idx]))\n",
    "# #     sim_scores = sorted(sim_scores, key=lambda x: x[1], reverse=True)\n",
    "#     sim_scores = sim_scores[1:31]\n",
    "#     prod_indices = [i[0] for i in sim_scores]\n",
    "#     return products.iloc[prod_indices]"
   ]
  },
  {
   "cell_type": "code",
   "execution_count": 67,
   "metadata": {},
   "outputs": [],
   "source": [
    "# get_recommendations(11429304).drop_duplicates()"
   ]
  },
  {
   "cell_type": "code",
   "execution_count": 68,
   "metadata": {},
   "outputs": [],
   "source": [
    "# recommend(10362879,5)"
   ]
  },
  {
   "cell_type": "code",
   "execution_count": 69,
   "metadata": {},
   "outputs": [],
   "source": [
    "alldf=dfr[['url','prodName','rating','user']]"
   ]
  },
  {
   "cell_type": "code",
   "execution_count": 70,
   "metadata": {
    "collapsed": true
   },
   "outputs": [
    {
     "data": {
      "text/html": [
       "<div>\n",
       "<style scoped>\n",
       "    .dataframe tbody tr th:only-of-type {\n",
       "        vertical-align: middle;\n",
       "    }\n",
       "\n",
       "    .dataframe tbody tr th {\n",
       "        vertical-align: top;\n",
       "    }\n",
       "\n",
       "    .dataframe thead th {\n",
       "        text-align: right;\n",
       "    }\n",
       "</style>\n",
       "<table border=\"1\" class=\"dataframe\">\n",
       "  <thead>\n",
       "    <tr style=\"text-align: right;\">\n",
       "      <th></th>\n",
       "      <th></th>\n",
       "      <th></th>\n",
       "      <th>rating</th>\n",
       "    </tr>\n",
       "    <tr>\n",
       "      <th>url</th>\n",
       "      <th>user</th>\n",
       "      <th>prodName</th>\n",
       "      <th></th>\n",
       "    </tr>\n",
       "  </thead>\n",
       "  <tbody>\n",
       "    <tr>\n",
       "      <th rowspan=\"5\" valign=\"top\">10236357</th>\n",
       "      <th>adrian</th>\n",
       "      <th>Anthony</th>\n",
       "      <td>5</td>\n",
       "    </tr>\n",
       "    <tr>\n",
       "      <th>george</th>\n",
       "      <th>Anthony</th>\n",
       "      <td>5</td>\n",
       "    </tr>\n",
       "    <tr>\n",
       "      <th>kimber</th>\n",
       "      <th>Anthony</th>\n",
       "      <td>5</td>\n",
       "    </tr>\n",
       "    <tr>\n",
       "      <th>mike</th>\n",
       "      <th>Anthony</th>\n",
       "      <td>5</td>\n",
       "    </tr>\n",
       "    <tr>\n",
       "      <th>westtexas</th>\n",
       "      <th>Anthony</th>\n",
       "      <td>5</td>\n",
       "    </tr>\n",
       "  </tbody>\n",
       "</table>\n",
       "</div>"
      ],
      "text/plain": [
       "                             rating\n",
       "url      user      prodName        \n",
       "10236357 adrian    Anthony        5\n",
       "         george    Anthony        5\n",
       "         kimber    Anthony        5\n",
       "         mike      Anthony        5\n",
       "         westtexas Anthony        5"
      ]
     },
     "execution_count": 70,
     "metadata": {},
     "output_type": "execute_result"
    }
   ],
   "source": [
    "alldf.groupby(['url','user','prodName']).mean().head()"
   ]
  },
  {
   "cell_type": "code",
   "execution_count": 44,
   "metadata": {},
   "outputs": [],
   "source": [
    "train, test = train_test_split(data,test_size=0.2)"
   ]
  },
  {
   "cell_type": "markdown",
   "metadata": {},
   "source": [
    "## Does this produce recommendations or is it messed up?"
   ]
  },
  {
   "cell_type": "code",
   "execution_count": 169,
   "metadata": {},
   "outputs": [],
   "source": [
    "# def skincare_rater(df,num, typ=None, problem=None):\n",
    "#     userID = 1000\n",
    "#     rating_list = []\n",
    "#     while num > 0:\n",
    "#         if typ:\n",
    "#             prod = df[df[''].str.contains(typ)].sample(1)\n",
    "#         else:\n",
    "#             sample=df.sample(1)\n",
    "#             brand=sample[['brandName']]\n",
    "#             product=sample[['prodName']]\n",
    "#             url=sample[['url']]\n",
    "#             prod = sample[['brandName','prodName','url']]\n",
    "#         print(prod)\n",
    "#         rating = input('How do you rate this product on a scale of 1-5, press n if you have not used :\\n')\n",
    "#         if rating == 'n':\n",
    "#             continue\n",
    "#         else:\n",
    "#             rating_one_prod=df.sample(1)[['url','prodName']]\n",
    "#             rating_one_prod['user']=1000\n",
    "#             rating_one_prod['rating']=rating\n",
    "#             ratedict={'url':url,'brandName':brand,'prodName':product}\n",
    "#             rating_list.append(rating_one_prod) \n",
    "#             num -= 1\n",
    "#     return rating_list"
   ]
  }
 ],
 "metadata": {
  "kernelspec": {
   "display_name": "Python 3",
   "language": "python",
   "name": "python3"
  },
  "language_info": {
   "codemirror_mode": {
    "name": "ipython",
    "version": 3
   },
   "file_extension": ".py",
   "mimetype": "text/x-python",
   "name": "python",
   "nbconvert_exporter": "python",
   "pygments_lexer": "ipython3",
   "version": "3.7.3"
  }
 },
 "nbformat": 4,
 "nbformat_minor": 2
}
