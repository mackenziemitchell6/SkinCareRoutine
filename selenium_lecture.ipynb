{
 "cells": [
  {
   "cell_type": "markdown",
   "metadata": {},
   "source": [
    "# Selenium:"
   ]
  },
  {
   "cell_type": "markdown",
   "metadata": {},
   "source": [
    "## Learning Goals:"
   ]
  },
  {
   "cell_type": "markdown",
   "metadata": {},
   "source": [
    "- Able to install and setup Selenium\n",
    "- Able to login to website platform\n",
    "- Able to navigate through pages/pop-ups\n",
    "- Able to write scraper that is more \"human-like\"\n",
    "- Able to know when to use appropriate `find_element(s)_by...`\n",
    "- Able to acquire desired data"
   ]
  },
  {
   "cell_type": "markdown",
   "metadata": {},
   "source": [
    "---"
   ]
  },
  {
   "cell_type": "markdown",
   "metadata": {},
   "source": [
    "## First, head over to [this page](https://chromedriver.chromium.org/downloads) and locate the chromedriver that matches your chrome version."
   ]
  },
  {
   "cell_type": "markdown",
   "metadata": {},
   "source": [
    "**How to Find Your Internet Browser Version Number - Google Chrome.**\n",
    "\n",
    "1) Click on the Menu icon in the upper right corner of the screen. \n",
    "\n",
    "2) Click on Help, and then About Google Chrome. \n",
    "\n",
    "3) Your Chrome browser version number can be found here."
   ]
  },
  {
   "cell_type": "markdown",
   "metadata": {},
   "source": [
    "## Next, download the appropriate driver that matches your version of Chrome"
   ]
  },
  {
   "cell_type": "markdown",
   "metadata": {},
   "source": [
    "- After you have downloaded the driver, press `command` + `spacebar`\n",
    "- Inside of the spotlight search you just opened, type `/usr/local/bin/` and open that folder\n",
    "- Next, in a separate finder window (`command` + `n`), navigate to where you downloaded the `chromedriver`\n",
    "- Finally, move the `chromedriver` from where ever you downloaded it into your `/usr/local/bin/`\n",
    "\n",
    "*Technically, you can install the driver anywhere, but most tutorials I have read say to put it in `/usr/local/bin/`*\n",
    "\n",
    "...However, after a bit of research, I believe the reason we want to install the `chromedriver` inside of `/usr/local/bin/` is so that you don't have to explicitly state the chromedriver path when you instantiate your driver 😎 "
   ]
  },
  {
   "cell_type": "markdown",
   "metadata": {},
   "source": [
    "## Install Selenium if you have not already done so:"
   ]
  },
  {
   "cell_type": "code",
   "execution_count": null,
   "metadata": {},
   "outputs": [],
   "source": [
    "# !pip install selenium"
   ]
  },
  {
   "cell_type": "markdown",
   "metadata": {},
   "source": [
    "# Please complete the above steps before lecture"
   ]
  },
  {
   "cell_type": "code",
   "execution_count": 1,
   "metadata": {},
   "outputs": [],
   "source": [
    "import re\n",
    "import os\n",
    "import time\n",
    "import random\n",
    "import requests\n",
    "import numpy as np\n",
    "import pandas as pd\n",
    "from os import system\n",
    "from math import floor\n",
    "from copy import deepcopy\n",
    "from bs4 import BeautifulSoup\n",
    "from selenium import webdriver\n",
    "from selenium.webdriver.common.by import By\n",
    "from selenium.webdriver.common.keys import Keys\n",
    "from selenium.common.exceptions import TimeoutException\n",
    "from selenium.webdriver.support.ui import WebDriverWait\n",
    "from selenium.webdriver.support import expected_conditions as EC"
   ]
  },
  {
   "cell_type": "code",
   "execution_count": 2,
   "metadata": {},
   "outputs": [],
   "source": [
    "pd.set_option('display.max_columns', 20)\n",
    "pd.set_option('display.max_colwidth', 200)"
   ]
  },
  {
   "cell_type": "markdown",
   "metadata": {},
   "source": [
    "---"
   ]
  },
  {
   "cell_type": "markdown",
   "metadata": {},
   "source": [
    "**Next, I always like to label my driver with a bold title cell**\n",
    "\n",
    "\n",
    "- I find it helps when we need to re-instantiate our driver and for general organization\n",
    "- Also, when we copy and paste this code form a notebook to a .py file, we would usually only need one driver"
   ]
  },
  {
   "cell_type": "markdown",
   "metadata": {},
   "source": [
    "## DRIVER HERE:"
   ]
  },
  {
   "cell_type": "code",
   "execution_count": 3,
   "metadata": {},
   "outputs": [],
   "source": [
    "driver = webdriver.Chrome()"
   ]
  },
  {
   "cell_type": "markdown",
   "metadata": {},
   "source": [
    "---"
   ]
  },
  {
   "cell_type": "markdown",
   "metadata": {},
   "source": [
    "### Note: Headless Browsers"
   ]
  },
  {
   "cell_type": "markdown",
   "metadata": {},
   "source": [
    "**Headless Browser**\n",
    "A Headless Browser is also a Web Browser but without a graphical user interface (GUI) but can be controlled programmatically which can be extensively used for automation, testing, and other purposes.\n",
    "\n",
    "**Why to use Headless Browsers?**\n",
    "There are a lot of advantages and disadvantages in using the Headless Browsers. Using a headless browser might not be very helpful for browsing the Web, but for Automating tasks and tests it’s awesome."
   ]
  },
  {
   "cell_type": "markdown",
   "metadata": {},
   "source": [
    "**Advantages of Headless Browsers**\n",
    "\n",
    "Some of the advantages are as follows:\n",
    "\n",
    "- Headless Browsers are typically faster than real browsers. \n",
    "    - The reason for being faster is because we are not starting up a Browser GUI and can bypass all the time a real browser takes to load CSS, JavaScript and open and render HTML DOM.\n",
    "- Performance wise, you can typically see a 2x to 15x faster performance when using a headless browser."
   ]
  },
  {
   "cell_type": "markdown",
   "metadata": {},
   "source": [
    "*More info on headless browsers here:* https://stackoverflow.com/questions/53083952/difference-of-headless-browsers-for-automation"
   ]
  },
  {
   "cell_type": "markdown",
   "metadata": {},
   "source": [
    "## Time to scrape!"
   ]
  },
  {
   "cell_type": "markdown",
   "metadata": {},
   "source": [
    "<img src = \"https://media1.tenor.com/images/3fd84ba4b54f8d299f7732e63cdb3c00/tenor.gif?itemid=11903546\" />"
   ]
  },
  {
   "cell_type": "markdown",
   "metadata": {},
   "source": [
    "### Visiting a webpage"
   ]
  },
  {
   "cell_type": "code",
   "execution_count": 5,
   "metadata": {},
   "outputs": [],
   "source": [
    "# Visit the website of your choice:\n",
    "\n",
    "driver.get('https://www.espn.com')"
   ]
  },
  {
   "cell_type": "markdown",
   "metadata": {},
   "source": [
    "#### Methods for finding a single element \n",
    "\n",
    "    This will return the FIRST instance of your desired \"element\"\n",
    "\n",
    "* find_element_by_id\n",
    "* find_element_by_name\n",
    "* find_element_by_xpath  \n",
    "* find_element_by_link_text\n",
    "* find_element_by_partial_link_text\n",
    "* find_element_by_tag_name\n",
    "* find_element_by_class_name\n",
    "* find_element_by_css_selector\n",
    "\n",
    "---\n",
    "\n",
    "#### Methods for finding multiple elements\n",
    "\n",
    "    This will return a list of ALL instances of your desired \"element\"\n",
    "\n",
    "* find_elements_by_name\n",
    "* find_elements_by_xpath\n",
    "* find_elements_by_link_text\n",
    "* find_elements_by_partial_link_text\n",
    "* find_elements_by_tag_name\n",
    "* find_elements_by_class_name\n",
    "* find_elements_by_css_selector\n",
    "\n",
    "From the [Selenium Python Docs](https://selenium-python.readthedocs.io/locating-elements.html \"Selenium Docs\") "
   ]
  },
  {
   "cell_type": "markdown",
   "metadata": {},
   "source": [
    "### Selecting the FIRST instance of an \"element\"\n",
    "\n",
    "First, well check out `.find_element_by_css_selector()`"
   ]
  },
  {
   "cell_type": "code",
   "execution_count": 6,
   "metadata": {},
   "outputs": [
    {
     "data": {
      "text/plain": [
       "<selenium.webdriver.remote.webelement.WebElement (session=\"d7c5dafc6d3c4eed336485ffc6d34e1c\", element=\"c1b8bceb-9889-4d86-9d47-405a55d22627\")>"
      ]
     },
     "execution_count": 6,
     "metadata": {},
     "output_type": "execute_result"
    }
   ],
   "source": [
    "driver.find_element_by_css_selector('h1')"
   ]
  },
  {
   "cell_type": "code",
   "execution_count": 7,
   "metadata": {},
   "outputs": [
    {
     "data": {
      "text/plain": [
       "'ESPN'"
      ]
     },
     "execution_count": 7,
     "metadata": {},
     "output_type": "execute_result"
    }
   ],
   "source": [
    "driver.find_element_by_css_selector('h1').text"
   ]
  },
  {
   "cell_type": "markdown",
   "metadata": {},
   "source": [
    "### Selecting ALL instances of your desired \"element\""
   ]
  },
  {
   "cell_type": "code",
   "execution_count": 8,
   "metadata": {},
   "outputs": [],
   "source": [
    "listy = driver.find_elements_by_css_selector('h1')"
   ]
  },
  {
   "cell_type": "code",
   "execution_count": 9,
   "metadata": {},
   "outputs": [
    {
     "name": "stdout",
     "output_type": "stream",
     "text": [
      "ESPN\n",
      "Customize ESPN\n",
      "Picking the five best possible 2019 World Series matchups\n",
      "'The Bogeyman' is back: What Luis Severino expects from himself in his 2019 debut\n",
      "LATEST ON ESPN+\n",
      "NFL PrimeTime returns: Boomer and TJ recap Week 2\n",
      "The Fantasy Show: Week 2 reactions\n",
      "ESPN FC: Six Premier League questions\n",
      "Peyton's Places (Ep. 10): Peyton catches up with J.J. Watt\n",
      "UEFA CHAMPIONS LEAGUE\n",
      "Week 3 NFL Power Rankings: 1-32 poll, plus the most pleasant surprise for each team\n",
      "GIANTS BENCH ELI\n",
      "Daniel Jones is right quarterback for Giants -- right now\n"
     ]
    }
   ],
   "source": [
    "for x in listy[:15]:\n",
    "    if len(x.text) > 3:\n",
    "        print(x.text)"
   ]
  },
  {
   "cell_type": "markdown",
   "metadata": {},
   "source": [
    "### Selecting a specific element (by class name)\n",
    "\n",
    "Using `.find_element_by_class_name()` to locate an element:"
   ]
  },
  {
   "cell_type": "code",
   "execution_count": 10,
   "metadata": {},
   "outputs": [
    {
     "data": {
      "text/plain": [
       "'Picking the five best possible 2019 World Series matchups'"
      ]
     },
     "execution_count": 10,
     "metadata": {},
     "output_type": "execute_result"
    }
   ],
   "source": [
    "driver.find_element_by_class_name('contentItem__title--hero').text"
   ]
  },
  {
   "cell_type": "markdown",
   "metadata": {},
   "source": [
    "---"
   ]
  },
  {
   "cell_type": "markdown",
   "metadata": {},
   "source": [
    "#### Closing the driver:"
   ]
  },
  {
   "cell_type": "markdown",
   "metadata": {},
   "source": [
    "If you were to just close your driver's browsing window, your Google chrome instance will still appear open in your mac's dock. Using `driver.quit()`, we can close the Google chrome instance, which will also close the driver's browser:"
   ]
  },
  {
   "cell_type": "code",
   "execution_count": 12,
   "metadata": {},
   "outputs": [],
   "source": [
    "driver.quit()"
   ]
  },
  {
   "cell_type": "markdown",
   "metadata": {},
   "source": [
    "### Logging into websites\n",
    "\n",
    "We'll use `.find_element_by_id()` for this example:"
   ]
  },
  {
   "cell_type": "code",
   "execution_count": 2,
   "metadata": {},
   "outputs": [],
   "source": [
    "from private import *"
   ]
  },
  {
   "cell_type": "code",
   "execution_count": 3,
   "metadata": {},
   "outputs": [],
   "source": [
    "my_url = 'https://www.facebook.com/'"
   ]
  },
  {
   "cell_type": "code",
   "execution_count": 4,
   "metadata": {},
   "outputs": [],
   "source": [
    "driver = webdriver.Chrome()\n",
    "driver.get(my_url)"
   ]
  },
  {
   "cell_type": "code",
   "execution_count": 5,
   "metadata": {},
   "outputs": [],
   "source": [
    "username = driver.find_element_by_id(\"email\")\n",
    "password = driver.find_element_by_id(\"pass\")\n",
    "submit   = driver.find_element_by_id(\"loginbutton\")\n",
    "  \n",
    "username.send_keys(FB_USERNAME)\n",
    "password.send_keys(PASSWORD)"
   ]
  },
  {
   "cell_type": "code",
   "execution_count": 8,
   "metadata": {},
   "outputs": [],
   "source": [
    "submit.click()"
   ]
  },
  {
   "cell_type": "markdown",
   "metadata": {},
   "source": [
    "#### Timing"
   ]
  },
  {
   "cell_type": "markdown",
   "metadata": {},
   "source": [
    "Sometimes we will need to wait for the page to load. Other times, we may want to have our scraper act more like a human, in terms of \"click rate.\"\n",
    "\n",
    "Two possible ways to make this happen are by using `time.sleep()` or `WebDriverWait()`"
   ]
  },
  {
   "cell_type": "markdown",
   "metadata": {},
   "source": [
    "If we just want to mimic the behavior of a human, we can use `time.sleep()`:"
   ]
  },
  {
   "cell_type": "code",
   "execution_count": 19,
   "metadata": {},
   "outputs": [],
   "source": [
    "# Using a single \"wait\" time:\n",
    "\n",
    "time.sleep(2)"
   ]
  },
  {
   "cell_type": "code",
   "execution_count": 20,
   "metadata": {},
   "outputs": [
    {
     "name": "stdout",
     "output_type": "stream",
     "text": [
      "[0.8, 0.9, 1.0, 1.1, 1.2, 1.3]\n"
     ]
    }
   ],
   "source": [
    "# Using a randomized time:\n",
    "\n",
    "sequence = [x/10 for x in range(8, 14)]\n",
    "print(sequence)\n",
    "\n",
    "time.sleep(random.choice(sequence))"
   ]
  },
  {
   "cell_type": "markdown",
   "metadata": {},
   "source": [
    "If we explicitly want to wait for our page to load, we can use `WebDriverWait()`:"
   ]
  },
  {
   "cell_type": "code",
   "execution_count": 23,
   "metadata": {},
   "outputs": [
    {
     "name": "stdout",
     "output_type": "stream",
     "text": [
      "The page loaded correctly\n"
     ]
    }
   ],
   "source": [
    "wait = WebDriverWait(driver, 5)\n",
    "\n",
    "try:\n",
    "    page_loaded = wait.until(lambda driver: driver.current_url == my_url)\n",
    "    print('The page loaded correctly')\n",
    "except TimeoutException:\n",
    "    print(\"Loading timeout expired\")"
   ]
  },
  {
   "cell_type": "code",
   "execution_count": 24,
   "metadata": {},
   "outputs": [],
   "source": [
    "driver.quit()"
   ]
  },
  {
   "cell_type": "markdown",
   "metadata": {},
   "source": [
    "### Ohhhh nooooooo, I can't remember how I named my variables...\n",
    "\n",
    "And I don't want to open the file elsewhere to check, because that seems inefficient..."
   ]
  },
  {
   "cell_type": "markdown",
   "metadata": {},
   "source": [
    "We can do something like this:"
   ]
  },
  {
   "cell_type": "code",
   "execution_count": 2,
   "metadata": {},
   "outputs": [
    {
     "name": "stdout",
     "output_type": "stream",
     "text": [
      "['__name__', '__doc__', '__package__', '__loader__', '__spec__', '__builtin__', '__builtins__', '_ih', '_oh', '_dh', 'In', 'Out', 'get_ipython', 'exit', 'quit', '_', '__', '___', '_i', '_ii', '_iii', '_i1', '_i2']\n"
     ]
    }
   ],
   "source": [
    "print(list(locals().keys()))"
   ]
  },
  {
   "cell_type": "markdown",
   "metadata": {},
   "source": [
    "The previous output is a bit messy... \n",
    "\n",
    "If we are writing a .py file specifically to store \"private\" variables, I recommend using an all caps syntax. The two reasons I like this are:\n",
    "\n",
    "    1) This mimics the syntax of ENVIRONMENT_VARIABLES\n",
    "\n",
    "    2) If we name our private.py file variables with all caps, we can see all our private variable names like this:"
   ]
  },
  {
   "cell_type": "code",
   "execution_count": 26,
   "metadata": {},
   "outputs": [
    {
     "name": "stdout",
     "output_type": "stream",
     "text": [
      "EC\n",
      "FB_USERNAME\n",
      "INSTA_USERNAME\n",
      "PASSWORD\n"
     ]
    }
   ],
   "source": [
    "for key in list(globals().keys()):\n",
    "    if key[-1] == key[-1].title() and key[-1].isalpha() == True:\n",
    "        print(key)"
   ]
  },
  {
   "cell_type": "markdown",
   "metadata": {},
   "source": [
    "**NOTE:** The variable \"`EC`\" is present in the list above because of how we imported the `expected_conditions` module up at the top"
   ]
  },
  {
   "cell_type": "code",
   "execution_count": 27,
   "metadata": {},
   "outputs": [],
   "source": [
    "driver = webdriver.Chrome()\n",
    "driver.get('https://www.instagram.com/')\n",
    "\n",
    "time.sleep(3)"
   ]
  },
  {
   "cell_type": "code",
   "execution_count": 28,
   "metadata": {},
   "outputs": [],
   "source": [
    "# Find the login click button\n",
    "ig_login_button = driver.find_element_by_xpath('//*[@id=\"react-root\"]/section/main/article/div[2]/div[2]/p/a')\n",
    "\n",
    "# Click the button\n",
    "ig_login_button.click()\n",
    "\n",
    "# Here, I could use a more elegant sleeper, using WebDriverWait and waiting for the page to load,\n",
    "# but I'm gonna be lazy \n",
    "time.sleep(3)"
   ]
  },
  {
   "cell_type": "markdown",
   "metadata": {},
   "source": [
    "#### Wait a second... what is that `xpath` thing?"
   ]
  },
  {
   "cell_type": "markdown",
   "metadata": {},
   "source": [
    "XPath is defined as XML path. It is a syntax or language for finding any element on the web page using XML path expression. XPath is used to find the location of any element on a webpage using HTML DOM structure. The basic format of XPath is explained below with screen shot."
   ]
  },
  {
   "cell_type": "markdown",
   "metadata": {},
   "source": [
    "<img src='https://www.guru99.com/images/3-2016/032816_0758_XPathinSele1.png' >"
   ]
  },
  {
   "cell_type": "markdown",
   "metadata": {},
   "source": [
    "XPath contains the path of the element situated at the web page. Standard syntax for creating XPath is:\n",
    "\n",
    "`Xpath=//tagname[@attribute='value']`\n",
    "\n",
    "- // == Select current node.\n",
    "- Tagname == Tagname of the particular node.\n",
    "- @ == Select attribute.\n",
    "- Attribute == Attribute name of the node.\n",
    "- Value == Value of the attribute."
   ]
  },
  {
   "cell_type": "markdown",
   "metadata": {},
   "source": [
    "<img src='https://media1.giphy.com/media/XBpEStoQ5rftPFA8rh/giphy.gif?cid=790b7611dbcd651cd785fb8382888f7b41666d5c8695755b&rid=giphy.gif'>"
   ]
  },
  {
   "cell_type": "markdown",
   "metadata": {},
   "source": [
    "**We can perform the next operations a few different ways:**\n",
    "\n",
    "Similar to above, we could use the `xpath`\n",
    "\n",
    "Or... based on visual knowledge of inspecting html/css elements, we can see the css selector `input` and we could assume that the only 2 possible inputs are Username and Password\n",
    "\n",
    "---\n",
    "\n",
    "With that knowledge, we can define both variables in one line of code\n"
   ]
  },
  {
   "cell_type": "code",
   "execution_count": 30,
   "metadata": {},
   "outputs": [],
   "source": [
    "ig_username, ig_password = driver.find_elements_by_css_selector('input')\n",
    "\n",
    "# ig_username = driver.find_element_by_xpath('//*[@id=\"react-root\"]/section/main/div/article/div/div[1]/div/form/div[2]/div/label/input')\n",
    "# ig_password = driver.find_element_by_xpath('//*[@id=\"react-root\"]/section/main/div/article/div/div[1]/div/form/div[3]/div/label/input')"
   ]
  },
  {
   "cell_type": "code",
   "execution_count": 31,
   "metadata": {},
   "outputs": [],
   "source": [
    "ig_username.send_keys(INSTA_USERNAME)\n",
    "ig_password.send_keys(PASSWORD)"
   ]
  },
  {
   "cell_type": "code",
   "execution_count": 32,
   "metadata": {},
   "outputs": [],
   "source": [
    "# Here is the complete xpath to the login element:\n",
    "\n",
    "full_login_xpath = '//*[@id=\"react-root\"]/section/main/div/article/div/div[1]/div/form/div[4]/button/div'\n",
    "\n",
    "ig_submit = driver.find_element_by_xpath(full_login_xpath)"
   ]
  },
  {
   "cell_type": "code",
   "execution_count": null,
   "metadata": {},
   "outputs": [],
   "source": [
    "# Sometimes, depending on the HTML layout, we might want to truncate the xpath\n",
    "\n",
    "ig_submit = driver.find_element_by_xpath('//div[4]/button/div')"
   ]
  },
  {
   "cell_type": "code",
   "execution_count": 33,
   "metadata": {},
   "outputs": [],
   "source": [
    "ig_submit.click()"
   ]
  },
  {
   "cell_type": "markdown",
   "metadata": {},
   "source": [
    "# Modal buttons and scrolling:"
   ]
  },
  {
   "cell_type": "code",
   "execution_count": 34,
   "metadata": {},
   "outputs": [],
   "source": [
    "# Whoah! What's that modal? \n",
    "try:\n",
    "    modal_button = driver.find_element_by_class_name(\"HoLwm\")\n",
    "    modal_button.click()\n",
    "    \n",
    "except: \n",
    "    pass "
   ]
  },
  {
   "cell_type": "code",
   "execution_count": 13,
   "metadata": {},
   "outputs": [],
   "source": [
    "# These websites have modal popups:\n",
    "\n",
    "driver.get('https://www.nike.com')\n",
    "\n",
    "# Other options:\n",
    "# https://www.carbon38.com\n",
    "# https://www.meundies.com"
   ]
  },
  {
   "cell_type": "markdown",
   "metadata": {},
   "source": [
    "The following cell is an example of how you could write functions to scroll down the page (for dynamic loading) and for loading more content with \"clicks\""
   ]
  },
  {
   "cell_type": "code",
   "execution_count": 35,
   "metadata": {},
   "outputs": [],
   "source": [
    "# Example: Scroll down (with a test for a modal)\n",
    "\n",
    "def scroll_down():\n",
    "    for i in range(1, 10):\n",
    "        try:\n",
    "            modal_button = driver.find_element_by_class_name(\"button2\")\n",
    "            webdriver.ActionChains(driver).move_to_element(modal_button).click(modal_button).perform()\n",
    "      ##### modal_button.click() also works \n",
    "            \n",
    "        except:\n",
    "            time.sleep(.5)\n",
    "            pass \n",
    "        \n",
    "        #scroll to the bottom\n",
    "        driver.execute_script(\"window.scrollTo(0, document.body.scrollHeight);\")\n",
    "        time.sleep(1)\n",
    "\n",
    "        \n",
    "# Example: Load more content\n",
    "# Code snippet for context purposes only. We will not run this function:\n",
    "\n",
    "def get_more(): \n",
    "    for i in range(1, 5):\n",
    "        try:\n",
    "            next_b = driver.find_element_by_xpath(\"//*[contains(text(), 'Load next Politics story')]\")\n",
    "            webdriver.ActionChains(driver).move_to_element(next_b).click(next_b).perform()\n",
    "            time.sleep(.5)\n",
    "        except: \n",
    "            print(\"Page #\" + str(i) + \" has failed to load\") "
   ]
  },
  {
   "cell_type": "code",
   "execution_count": 36,
   "metadata": {},
   "outputs": [],
   "source": [
    "# Run this cell and watch the page scrollllllll\n",
    "\n",
    "scroll_down()"
   ]
  },
  {
   "cell_type": "code",
   "execution_count": 37,
   "metadata": {},
   "outputs": [],
   "source": [
    "driver.quit()"
   ]
  },
  {
   "cell_type": "markdown",
   "metadata": {},
   "source": [
    "## When to use BeautifulSoup vs.  Selenium?"
   ]
  },
  {
   "cell_type": "markdown",
   "metadata": {},
   "source": [
    "<img src='https://media.giphy.com/media/xTiN0IuPQxRqzxodZm/giphy.gif' width = 400>"
   ]
  },
  {
   "cell_type": "markdown",
   "metadata": {},
   "source": [
    "<img src='https://media2.giphy.com/media/3o7TKAdOad9Y3eSMZG/giphy.gif?cid=790b761168b43f2be748800602251dce3cad91fcb4c972f9&rid=giphy.gif' width = 400>"
   ]
  },
  {
   "cell_type": "markdown",
   "metadata": {},
   "source": [
    "<img src = \"https://media1.giphy.com/media/8VLgtJqaxIlhu/giphy.gif?cid=790b7611df175494e219b99894f7e717b3ea7bfbf806f9c4&rid=giphy.gif\" />"
   ]
  },
  {
   "cell_type": "markdown",
   "metadata": {},
   "source": [
    "**Just kidding!**"
   ]
  },
  {
   "cell_type": "markdown",
   "metadata": {},
   "source": [
    "Everything depends on the website and your data goals.\n",
    "\n",
    "In general:\n",
    "- If the data needs to be exposed interactively, then go for Selenium. \n",
    "- Selenium for more complex JavaScript heavy pages. \n",
    "---\n",
    "- If the data is accessible in the HTML structure (more static pages), soup is a more lightweight tool. \n",
    "- Soup gives you more control about navigating the HTML tree."
   ]
  },
  {
   "cell_type": "code",
   "execution_count": 42,
   "metadata": {},
   "outputs": [],
   "source": [
    "html = requests.get('https://www.skysports.com/premier-league-table')\n",
    "bs = BeautifulSoup(html.content, 'lxml')\n",
    "table = bs.table\n",
    "\n",
    "# table = bs.find(lambda tag: tag.name=='table' ) \n",
    "# rows = table.findAll(lambda tag: tag.name=='tr')"
   ]
  },
  {
   "cell_type": "code",
   "execution_count": 43,
   "metadata": {},
   "outputs": [
    {
     "name": "stdout",
     "output_type": "stream",
     "text": [
      "[]\n",
      "['1', '\\nLiverpool\\n', '5', '5', '0', '0', '15', '4', '11', '15', '\\n\\n       \\n']\n",
      "['2', '\\nManchester City\\n', '5', '3', '1', '1', '16', '6', '10', '10', '\\n\\n       \\n']\n",
      "['3', '\\nTottenham Hotspur\\n', '5', '2', '2', '1', '11', '6', '5', '8', '\\n\\n       \\n']\n",
      "['4', '\\nManchester United\\n', '5', '2', '2', '1', '8', '4', '4', '8', '\\n\\n       \\n']\n",
      "['5', '\\nLeicester City\\n', '5', '2', '2', '1', '6', '4', '2', '8', '\\n\\n       \\n']\n",
      "['6', '\\nChelsea\\n', '5', '2', '2', '1', '11', '11', '0', '8', '\\n\\n       \\n']\n",
      "['7', '\\nArsenal\\n', '5', '2', '2', '1', '8', '8', '0', '8', '\\n\\n       \\n']\n",
      "['8', '\\nWest Ham United\\n', '5', '2', '2', '1', '6', '7', '-1', '8', '\\n\\n       \\n']\n",
      "['9', '\\nBournemouth\\n', '5', '2', '1', '2', '8', '9', '-1', '7', '\\n\\n       \\n']\n",
      "['10', '\\nSouthampton\\n', '5', '2', '1', '2', '5', '6', '-1', '7', '\\n\\n       \\n']\n",
      "['11', '\\nEverton\\n', '5', '2', '1', '2', '5', '7', '-2', '7', '\\n\\n       \\n']\n",
      "['12', '\\nCrystal Palace\\n', '5', '2', '1', '2', '3', '6', '-3', '7', '\\n\\n       \\n']\n",
      "['13', '\\nNorwich City\\n', '5', '2', '0', '3', '9', '12', '-3', '6', '\\n\\n       \\n']\n",
      "['14', '\\nBurnley\\n', '5', '1', '2', '2', '6', '7', '-1', '5', '\\n\\n       \\n']\n",
      "['15', '\\nSheffield United\\n', '5', '1', '2', '2', '5', '6', '-1', '5', '\\n\\n       \\n']\n",
      "['16', '\\nBrighton and Hove Albion\\n', '5', '1', '2', '2', '5', '8', '-3', '5', '\\n\\n       \\n']\n",
      "['17', '\\nAston Villa\\n', '5', '1', '1', '3', '4', '6', '-2', '4', '\\n\\n       \\n']\n",
      "['18', '\\nNewcastle United\\n', '5', '1', '1', '3', '4', '8', '-4', '4', '\\n\\n       \\n']\n",
      "['19', '\\nWolverhampton Wanderers\\n', '5', '0', '3', '2', '6', '10', '-4', '3', '\\n\\n       \\n']\n",
      "['20', '\\nWatford\\n', '5', '0', '2', '3', '4', '10', '-6', '2', '\\n\\n       \\n']\n"
     ]
    }
   ],
   "source": [
    "table_rows = table.find_all('tr')\n",
    "\n",
    "for tr in table_rows:\n",
    "    td = tr.find_all('td')\n",
    "    row = [i.text for i in td]\n",
    "    print(row)"
   ]
  },
  {
   "cell_type": "code",
   "execution_count": 44,
   "metadata": {},
   "outputs": [
    {
     "data": {
      "text/html": [
       "<div>\n",
       "<style scoped>\n",
       "    .dataframe tbody tr th:only-of-type {\n",
       "        vertical-align: middle;\n",
       "    }\n",
       "\n",
       "    .dataframe tbody tr th {\n",
       "        vertical-align: top;\n",
       "    }\n",
       "\n",
       "    .dataframe thead th {\n",
       "        text-align: right;\n",
       "    }\n",
       "</style>\n",
       "<table border=\"1\" class=\"dataframe\">\n",
       "  <thead>\n",
       "    <tr style=\"text-align: right;\">\n",
       "      <th></th>\n",
       "      <th>#</th>\n",
       "      <th>Pl</th>\n",
       "      <th>W</th>\n",
       "      <th>D</th>\n",
       "      <th>L</th>\n",
       "      <th>F</th>\n",
       "      <th>A</th>\n",
       "      <th>GD</th>\n",
       "      <th>Pts</th>\n",
       "      <th>Last 6</th>\n",
       "    </tr>\n",
       "    <tr>\n",
       "      <th>Team</th>\n",
       "      <th></th>\n",
       "      <th></th>\n",
       "      <th></th>\n",
       "      <th></th>\n",
       "      <th></th>\n",
       "      <th></th>\n",
       "      <th></th>\n",
       "      <th></th>\n",
       "      <th></th>\n",
       "      <th></th>\n",
       "    </tr>\n",
       "  </thead>\n",
       "  <tbody>\n",
       "    <tr>\n",
       "      <th>Liverpool</th>\n",
       "      <td>1</td>\n",
       "      <td>5</td>\n",
       "      <td>5</td>\n",
       "      <td>0</td>\n",
       "      <td>0</td>\n",
       "      <td>15</td>\n",
       "      <td>4</td>\n",
       "      <td>11</td>\n",
       "      <td>15</td>\n",
       "      <td>NaN</td>\n",
       "    </tr>\n",
       "    <tr>\n",
       "      <th>Manchester City</th>\n",
       "      <td>2</td>\n",
       "      <td>5</td>\n",
       "      <td>3</td>\n",
       "      <td>1</td>\n",
       "      <td>1</td>\n",
       "      <td>16</td>\n",
       "      <td>6</td>\n",
       "      <td>10</td>\n",
       "      <td>10</td>\n",
       "      <td>NaN</td>\n",
       "    </tr>\n",
       "    <tr>\n",
       "      <th>Tottenham Hotspur</th>\n",
       "      <td>3</td>\n",
       "      <td>5</td>\n",
       "      <td>2</td>\n",
       "      <td>2</td>\n",
       "      <td>1</td>\n",
       "      <td>11</td>\n",
       "      <td>6</td>\n",
       "      <td>5</td>\n",
       "      <td>8</td>\n",
       "      <td>NaN</td>\n",
       "    </tr>\n",
       "    <tr>\n",
       "      <th>Manchester United</th>\n",
       "      <td>4</td>\n",
       "      <td>5</td>\n",
       "      <td>2</td>\n",
       "      <td>2</td>\n",
       "      <td>1</td>\n",
       "      <td>8</td>\n",
       "      <td>4</td>\n",
       "      <td>4</td>\n",
       "      <td>8</td>\n",
       "      <td>NaN</td>\n",
       "    </tr>\n",
       "    <tr>\n",
       "      <th>Leicester City</th>\n",
       "      <td>5</td>\n",
       "      <td>5</td>\n",
       "      <td>2</td>\n",
       "      <td>2</td>\n",
       "      <td>1</td>\n",
       "      <td>6</td>\n",
       "      <td>4</td>\n",
       "      <td>2</td>\n",
       "      <td>8</td>\n",
       "      <td>NaN</td>\n",
       "    </tr>\n",
       "    <tr>\n",
       "      <th>Chelsea</th>\n",
       "      <td>6</td>\n",
       "      <td>5</td>\n",
       "      <td>2</td>\n",
       "      <td>2</td>\n",
       "      <td>1</td>\n",
       "      <td>11</td>\n",
       "      <td>11</td>\n",
       "      <td>0</td>\n",
       "      <td>8</td>\n",
       "      <td>NaN</td>\n",
       "    </tr>\n",
       "    <tr>\n",
       "      <th>Arsenal</th>\n",
       "      <td>7</td>\n",
       "      <td>5</td>\n",
       "      <td>2</td>\n",
       "      <td>2</td>\n",
       "      <td>1</td>\n",
       "      <td>8</td>\n",
       "      <td>8</td>\n",
       "      <td>0</td>\n",
       "      <td>8</td>\n",
       "      <td>NaN</td>\n",
       "    </tr>\n",
       "    <tr>\n",
       "      <th>West Ham United</th>\n",
       "      <td>8</td>\n",
       "      <td>5</td>\n",
       "      <td>2</td>\n",
       "      <td>2</td>\n",
       "      <td>1</td>\n",
       "      <td>6</td>\n",
       "      <td>7</td>\n",
       "      <td>-1</td>\n",
       "      <td>8</td>\n",
       "      <td>NaN</td>\n",
       "    </tr>\n",
       "    <tr>\n",
       "      <th>Bournemouth</th>\n",
       "      <td>9</td>\n",
       "      <td>5</td>\n",
       "      <td>2</td>\n",
       "      <td>1</td>\n",
       "      <td>2</td>\n",
       "      <td>8</td>\n",
       "      <td>9</td>\n",
       "      <td>-1</td>\n",
       "      <td>7</td>\n",
       "      <td>NaN</td>\n",
       "    </tr>\n",
       "    <tr>\n",
       "      <th>Southampton</th>\n",
       "      <td>10</td>\n",
       "      <td>5</td>\n",
       "      <td>2</td>\n",
       "      <td>1</td>\n",
       "      <td>2</td>\n",
       "      <td>5</td>\n",
       "      <td>6</td>\n",
       "      <td>-1</td>\n",
       "      <td>7</td>\n",
       "      <td>NaN</td>\n",
       "    </tr>\n",
       "    <tr>\n",
       "      <th>Everton</th>\n",
       "      <td>11</td>\n",
       "      <td>5</td>\n",
       "      <td>2</td>\n",
       "      <td>1</td>\n",
       "      <td>2</td>\n",
       "      <td>5</td>\n",
       "      <td>7</td>\n",
       "      <td>-2</td>\n",
       "      <td>7</td>\n",
       "      <td>NaN</td>\n",
       "    </tr>\n",
       "    <tr>\n",
       "      <th>Crystal Palace</th>\n",
       "      <td>12</td>\n",
       "      <td>5</td>\n",
       "      <td>2</td>\n",
       "      <td>1</td>\n",
       "      <td>2</td>\n",
       "      <td>3</td>\n",
       "      <td>6</td>\n",
       "      <td>-3</td>\n",
       "      <td>7</td>\n",
       "      <td>NaN</td>\n",
       "    </tr>\n",
       "    <tr>\n",
       "      <th>Norwich City</th>\n",
       "      <td>13</td>\n",
       "      <td>5</td>\n",
       "      <td>2</td>\n",
       "      <td>0</td>\n",
       "      <td>3</td>\n",
       "      <td>9</td>\n",
       "      <td>12</td>\n",
       "      <td>-3</td>\n",
       "      <td>6</td>\n",
       "      <td>NaN</td>\n",
       "    </tr>\n",
       "    <tr>\n",
       "      <th>Burnley</th>\n",
       "      <td>14</td>\n",
       "      <td>5</td>\n",
       "      <td>1</td>\n",
       "      <td>2</td>\n",
       "      <td>2</td>\n",
       "      <td>6</td>\n",
       "      <td>7</td>\n",
       "      <td>-1</td>\n",
       "      <td>5</td>\n",
       "      <td>NaN</td>\n",
       "    </tr>\n",
       "    <tr>\n",
       "      <th>Sheffield United</th>\n",
       "      <td>15</td>\n",
       "      <td>5</td>\n",
       "      <td>1</td>\n",
       "      <td>2</td>\n",
       "      <td>2</td>\n",
       "      <td>5</td>\n",
       "      <td>6</td>\n",
       "      <td>-1</td>\n",
       "      <td>5</td>\n",
       "      <td>NaN</td>\n",
       "    </tr>\n",
       "    <tr>\n",
       "      <th>Brighton and Hove Albion</th>\n",
       "      <td>16</td>\n",
       "      <td>5</td>\n",
       "      <td>1</td>\n",
       "      <td>2</td>\n",
       "      <td>2</td>\n",
       "      <td>5</td>\n",
       "      <td>8</td>\n",
       "      <td>-3</td>\n",
       "      <td>5</td>\n",
       "      <td>NaN</td>\n",
       "    </tr>\n",
       "    <tr>\n",
       "      <th>Aston Villa</th>\n",
       "      <td>17</td>\n",
       "      <td>5</td>\n",
       "      <td>1</td>\n",
       "      <td>1</td>\n",
       "      <td>3</td>\n",
       "      <td>4</td>\n",
       "      <td>6</td>\n",
       "      <td>-2</td>\n",
       "      <td>4</td>\n",
       "      <td>NaN</td>\n",
       "    </tr>\n",
       "    <tr>\n",
       "      <th>Newcastle United</th>\n",
       "      <td>18</td>\n",
       "      <td>5</td>\n",
       "      <td>1</td>\n",
       "      <td>1</td>\n",
       "      <td>3</td>\n",
       "      <td>4</td>\n",
       "      <td>8</td>\n",
       "      <td>-4</td>\n",
       "      <td>4</td>\n",
       "      <td>NaN</td>\n",
       "    </tr>\n",
       "    <tr>\n",
       "      <th>Wolverhampton Wanderers</th>\n",
       "      <td>19</td>\n",
       "      <td>5</td>\n",
       "      <td>0</td>\n",
       "      <td>3</td>\n",
       "      <td>2</td>\n",
       "      <td>6</td>\n",
       "      <td>10</td>\n",
       "      <td>-4</td>\n",
       "      <td>3</td>\n",
       "      <td>NaN</td>\n",
       "    </tr>\n",
       "    <tr>\n",
       "      <th>Watford</th>\n",
       "      <td>20</td>\n",
       "      <td>5</td>\n",
       "      <td>0</td>\n",
       "      <td>2</td>\n",
       "      <td>3</td>\n",
       "      <td>4</td>\n",
       "      <td>10</td>\n",
       "      <td>-6</td>\n",
       "      <td>2</td>\n",
       "      <td>NaN</td>\n",
       "    </tr>\n",
       "  </tbody>\n",
       "</table>\n",
       "</div>"
      ],
      "text/plain": [
       "                           #  Pl  W  D  L   F   A  GD  Pts  Last 6\n",
       "Team                                                              \n",
       "Liverpool                  1   5  5  0  0  15   4  11   15     NaN\n",
       "Manchester City            2   5  3  1  1  16   6  10   10     NaN\n",
       "Tottenham Hotspur          3   5  2  2  1  11   6   5    8     NaN\n",
       "Manchester United          4   5  2  2  1   8   4   4    8     NaN\n",
       "Leicester City             5   5  2  2  1   6   4   2    8     NaN\n",
       "Chelsea                    6   5  2  2  1  11  11   0    8     NaN\n",
       "Arsenal                    7   5  2  2  1   8   8   0    8     NaN\n",
       "West Ham United            8   5  2  2  1   6   7  -1    8     NaN\n",
       "Bournemouth                9   5  2  1  2   8   9  -1    7     NaN\n",
       "Southampton               10   5  2  1  2   5   6  -1    7     NaN\n",
       "Everton                   11   5  2  1  2   5   7  -2    7     NaN\n",
       "Crystal Palace            12   5  2  1  2   3   6  -3    7     NaN\n",
       "Norwich City              13   5  2  0  3   9  12  -3    6     NaN\n",
       "Burnley                   14   5  1  2  2   6   7  -1    5     NaN\n",
       "Sheffield United          15   5  1  2  2   5   6  -1    5     NaN\n",
       "Brighton and Hove Albion  16   5  1  2  2   5   8  -3    5     NaN\n",
       "Aston Villa               17   5  1  1  3   4   6  -2    4     NaN\n",
       "Newcastle United          18   5  1  1  3   4   8  -4    4     NaN\n",
       "Wolverhampton Wanderers   19   5  0  3  2   6  10  -4    3     NaN\n",
       "Watford                   20   5  0  2  3   4  10  -6    2     NaN"
      ]
     },
     "execution_count": 44,
     "metadata": {},
     "output_type": "execute_result"
    }
   ],
   "source": [
    "html = requests.get('https://www.skysports.com/premier-league-table')\n",
    "bs = BeautifulSoup(html.content, 'lxml')\n",
    "table = bs.table\n",
    "\n",
    "#If you know there is more than one table, you can edit the code to include the proper index:\n",
    "# table = bs.find_all('table')[0] \n",
    "\n",
    "df = pd.read_html(str(table), index_col='Team')\n",
    "df = df[0].dropna(axis=0, thresh=4)\n",
    "df"
   ]
  },
  {
   "cell_type": "markdown",
   "metadata": {},
   "source": [
    "#### Adjusting the header and index:\n",
    "\n",
    "- Caveat: this uses pandas, not Selenium or Soup"
   ]
  },
  {
   "cell_type": "markdown",
   "metadata": {},
   "source": [
    "If there is more than one table, pandas reads the html as a list of tables:"
   ]
  },
  {
   "cell_type": "code",
   "execution_count": 45,
   "metadata": {},
   "outputs": [
    {
     "data": {
      "text/plain": [
       "[      0                               1    2    3    4    5    6    7    8  \\\n",
       " 0   NaN                            Team    P    W    D    L    F    A   GD   \n",
       " 1     C         Manchester CityMan City   38   32    2    4   95   23   72   \n",
       " 2     2                       Liverpool   38   30    7    1   89   22   67   \n",
       " 3     3                         Chelsea   38   21    9    8   63   39   24   \n",
       " 4     4          Tottenham HotspurSpurs   38   23    2   13   67   39   28   \n",
       " 5     5                         Arsenal   38   21    7   10   73   51   22   \n",
       " 6     6        Manchester UnitedMan Utd   38   19    9   10   65   54   11   \n",
       " 7     7   Wolverhampton WanderersWolves   38   16    9   13   47   46    1   \n",
       " 8     8                         Everton   38   15    9   14   54   46    8   \n",
       " 9     9         Leicester CityLeicester   38   15    7   16   51   48    3   \n",
       " 10   10         West Ham UnitedWest Ham   38   15    7   16   52   55   -3   \n",
       " 11   11                         Watford   38   14    8   16   52   59   -7   \n",
       " 12   12                  Crystal Palace   38   14    7   17   51   53   -2   \n",
       " 13   13       Newcastle UnitedNewcastle   38   12    9   17   42   48   -6   \n",
       " 14   14                     Bournemouth   38   13    6   19   56   70  -14   \n",
       " 15   15                         Burnley   38   11    7   20   45   68  -23   \n",
       " 16   16                     Southampton   38    9   12   17   45   65  -20   \n",
       " 17   17  Brighton & Hove AlbionBrighton   38    9    9   20   35   60  -25   \n",
       " 18    R             Cardiff CityCardiff   38   10    4   24   34   69  -35   \n",
       " 19    R                          Fulham   38    7    5   26   34   81  -47   \n",
       " 20    R   Huddersfield TownHuddersfield   38    3    7   28   22   76  -54   \n",
       " 21  NaN                  > Full Version  NaN  NaN  NaN  NaN  NaN  NaN  NaN   \n",
       " \n",
       "       9  \n",
       " 0   PTS  \n",
       " 1    98  \n",
       " 2    97  \n",
       " 3    72  \n",
       " 4    71  \n",
       " 5    70  \n",
       " 6    66  \n",
       " 7    57  \n",
       " 8    54  \n",
       " 9    52  \n",
       " 10   52  \n",
       " 11   50  \n",
       " 12   49  \n",
       " 13   45  \n",
       " 14   45  \n",
       " 15   40  \n",
       " 16   39  \n",
       " 17   36  \n",
       " 18   34  \n",
       " 19   26  \n",
       " 20   16  \n",
       " 21  NaN  ,                  0               1                        2    3\n",
       " 0              NaN            Team  Last Six (oldest first)  PTS\n",
       " 1                1       Liverpool                      NaN   18\n",
       " 2                2        Man City                      NaN   18\n",
       " 3                3  Crystal Palace                      NaN   13\n",
       " 4                4         Everton                      NaN   11\n",
       " 5                5        West Ham                      NaN   10\n",
       " 6                6          Wolves                      NaN   10\n",
       " 7                7       Newcastle                      NaN   10\n",
       " 8                8          Fulham                      NaN    9\n",
       " 9                9         Chelsea                      NaN    9\n",
       " 10              10       Leicester                      NaN    8\n",
       " 11              11         Arsenal                      NaN    7\n",
       " 12              12     Bournemouth                      NaN    7\n",
       " 13              13           Spurs                      NaN    7\n",
       " 14              14         Burnley                      NaN    7\n",
       " 15              15         Cardiff                      NaN    6\n",
       " 16              16     Southampton                      NaN    6\n",
       " 17              17         Man Utd                      NaN    5\n",
       " 18              18         Watford                      NaN    4\n",
       " 19              19        Brighton                      NaN    3\n",
       " 20              20    Huddersfield                      NaN    2\n",
       " 21  > Full Version             NaN                      NaN  NaN,        0               1   2   3  4   5   6   7    8    9\n",
       " 0    NaN            Team   P   W  D   L   F   A   GD  PTS\n",
       " 1    1.0        Man City  19  18  0   1  57  12   45   54\n",
       " 2    2.0       Liverpool  19  17  2   0  55  10   45   53\n",
       " 3    3.0         Arsenal  19  14  3   2  42  16   26   45\n",
       " 4    4.0         Chelsea  19  12  6   1  39  12   27   42\n",
       " 5    5.0           Spurs  19  12  2   5  34  16   18   38\n",
       " 6    6.0         Man Utd  19  10  6   3  33  25    8   36\n",
       " 7    7.0         Everton  19  10  4   5  30  21    9   34\n",
       " 8    8.0          Wolves  19  10  4   5  28  21    7   34\n",
       " 9    9.0        West Ham  19   9  4   6  32  27    5   31\n",
       " 10  10.0     Bournemouth  19   8  5   6  30  25    5   29\n",
       " 11  11.0       Leicester  19   8  3   8  24  20    4   27\n",
       " 12  12.0         Watford  19   8  3   8  26  28   -2   27\n",
       " 13  13.0       Newcastle  19   8  1  10  24  25   -1   25\n",
       " 14  14.0     Southampton  19   5  8   6  27  30   -3   23\n",
       " 15  15.0         Burnley  19   7  2  10  24  32   -8   23\n",
       " 16  16.0        Brighton  19   6  5   8  19  28   -9   23\n",
       " 17  17.0          Fulham  19   6  3  10  22  36  -14   21\n",
       " 18  18.0  Crystal Palace  19   5  5   9  19  23   -4   20\n",
       " 19  19.0         Cardiff  19   6  2  11  21  38  -17   20\n",
       " 20  20.0    Huddersfield  19   2  3  14  10  31  -21    9,        0               1   2   3  4   5   6   7    8    9\n",
       " 0    NaN            Team   P   W  D   L   F   A   GD  PTS\n",
       " 1    1.0        Man City  19  14  2   3  38  11   27   44\n",
       " 2    2.0       Liverpool  19  13  5   1  34  12   22   44\n",
       " 3    3.0           Spurs  19  11  0   8  33  23   10   33\n",
       " 4    4.0         Man Utd  19   9  3   7  32  29    3   30\n",
       " 5    5.0         Chelsea  19   9  3   7  24  27   -3   30\n",
       " 6    6.0  Crystal Palace  19   9  2   8  32  30    2   29\n",
       " 7    7.0       Leicester  19   7  4   8  27  28   -1   25\n",
       " 8    8.0         Arsenal  19   7  4   8  31  35   -4   25\n",
       " 9    9.0         Watford  19   6  5   8  26  31   -5   23\n",
       " 10  10.0          Wolves  19   6  5   8  19  25   -6   23\n",
       " 11  11.0        West Ham  19   6  3  10  20  28   -8   21\n",
       " 12  12.0         Everton  19   5  5   9  24  25   -1   20\n",
       " 13  13.0       Newcastle  19   4  8   7  18  23   -5   20\n",
       " 14  14.0         Burnley  19   4  5  10  21  36  -15   17\n",
       " 15  15.0     Southampton  19   4  4  11  18  35  -17   16\n",
       " 16  16.0     Bournemouth  19   5  1  13  26  45  -19   16\n",
       " 17  17.0         Cardiff  19   4  2  13  13  31  -18   14\n",
       " 18  18.0        Brighton  19   3  4  12  16  32  -16   13\n",
       " 19  19.0    Huddersfield  19   1  4  14  12  45  -33    7\n",
       " 20  20.0          Fulham  19   1  2  16  12  45  -33    5,                  0               1              2             3             4\n",
       " 0              NaN            Team  Goals against  Avg per game  Clean Sheets\n",
       " 1                1       Liverpool             22          0.58            21\n",
       " 2                2        Man City             23          0.61            20\n",
       " 3                3         Chelsea             39          1.03            16\n",
       " 4                4           Spurs             39          1.03            13\n",
       " 5                5         Everton             46          1.21            14\n",
       " 6                6          Wolves             46          1.21             9\n",
       " 7                7       Leicester             48          1.26            10\n",
       " 8                8       Newcastle             48          1.26            11\n",
       " 9                9         Arsenal             51          1.34             8\n",
       " 10              10  Crystal Palace             53          1.39            12\n",
       " 11              11         Man Utd             54          1.42             7\n",
       " 12              12        West Ham             55          1.45             7\n",
       " 13              13         Watford             59          1.55             7\n",
       " 14              14        Brighton             60          1.58             7\n",
       " 15              15     Southampton             65          1.71             7\n",
       " 16              16         Burnley             68          1.79             8\n",
       " 17              17         Cardiff             69          1.82            10\n",
       " 18              18     Bournemouth             70          1.84            10\n",
       " 19              19    Huddersfield             76          2.00             5\n",
       " 20              20          Fulham             81          2.13             5\n",
       " 21  > Full Version             NaN            NaN           NaN           NaN,                  0               1             2             3            4\n",
       " 0              NaN            Team  Goals scored  Avg per game   Top scorer\n",
       " 1                1        Man City            95          2.50       Aguero\n",
       " 2                2       Liverpool            89          2.34         Mane\n",
       " 3                3         Arsenal            73          1.92   Aubameyang\n",
       " 4                4           Spurs            67          1.76         Kane\n",
       " 5                5         Man Utd            65          1.71        Pogba\n",
       " 6                6         Chelsea            63          1.66       Hazard\n",
       " 7                7     Bournemouth            56          1.47       Wilson\n",
       " 8                8         Everton            54          1.42  Richarlison\n",
       " 9                9         Watford            52          1.37     Deulofeu\n",
       " 10              10        West Ham            52          1.37   Arnautovic\n",
       " 11              11  Crystal Palace            51          1.34  Milivojevic\n",
       " 12              12       Leicester            51          1.34        Vardy\n",
       " 13              13          Wolves            47          1.24      Jimenez\n",
       " 14              14         Burnley            45          1.18       Barnes\n",
       " 15              15     Southampton            45          1.18         Ings\n",
       " 16              16       Newcastle            42          1.11        Perez\n",
       " 17              17        Brighton            35          0.92       Murray\n",
       " 18              18         Cardiff            34          0.89     Camarasa\n",
       " 19              19          Fulham            34          0.89     Mitrovic\n",
       " 20              20    Huddersfield            22          0.58        Grant\n",
       " 21  > Full Version             NaN           NaN           NaN          NaN,              0            1            2          3           4\n",
       " 0          NaN         Team            P         GD         PTS\n",
       " 1    {{pos_1}}   {{name_1}}   {{play_1}}   {{gd_1}}   {{pts_1}}\n",
       " 2    {{pos_2}}   {{name_2}}   {{play_2}}   {{gd_2}}   {{pts_2}}\n",
       " 3    {{pos_3}}   {{name_3}}   {{play_3}}   {{gd_3}}   {{pts_3}}\n",
       " 4    {{pos_4}}   {{name_4}}   {{play_4}}   {{gd_4}}   {{pts_4}}\n",
       " 5    {{pos_5}}   {{name_5}}   {{play_5}}   {{gd_5}}   {{pts_5}}\n",
       " 6    {{pos_6}}   {{name_6}}   {{play_6}}   {{gd_6}}   {{pts_6}}\n",
       " 7    {{pos_7}}   {{name_7}}   {{play_7}}   {{gd_7}}   {{pts_7}}\n",
       " 8    {{pos_8}}   {{name_8}}   {{play_8}}   {{gd_8}}   {{pts_8}}\n",
       " 9    {{pos_9}}   {{name_9}}   {{play_9}}   {{gd_9}}   {{pts_9}}\n",
       " 10  {{pos_10}}  {{name_10}}  {{play_10}}  {{gd_10}}  {{pts_10}}\n",
       " 11  {{pos_11}}  {{name_11}}  {{play_11}}  {{gd_11}}  {{pts_11}}\n",
       " 12  {{pos_12}}  {{name_12}}  {{play_12}}  {{gd_12}}  {{pts_12}}\n",
       " 13  {{pos_13}}  {{name_13}}  {{play_13}}  {{gd_13}}  {{pts_13}}\n",
       " 14  {{pos_14}}  {{name_14}}  {{play_14}}  {{gd_14}}  {{pts_14}}\n",
       " 15  {{pos_15}}  {{name_15}}  {{play_15}}  {{gd_15}}  {{pts_15}}\n",
       " 16  {{pos_16}}  {{name_16}}  {{play_16}}  {{gd_16}}  {{pts_16}}\n",
       " 17  {{pos_17}}  {{name_17}}  {{play_17}}  {{gd_17}}  {{pts_17}}\n",
       " 18  {{pos_18}}  {{name_18}}  {{play_18}}  {{gd_18}}  {{pts_18}}\n",
       " 19  {{pos_19}}  {{name_19}}  {{play_19}}  {{gd_19}}  {{pts_19}}\n",
       " 20  {{pos_20}}  {{name_20}}  {{play_20}}  {{gd_20}}  {{pts_20}}\n",
       " 21  {{pos_21}}  {{name_21}}  {{play_21}}  {{gd_21}}  {{pts_21}}\n",
       " 22  {{pos_22}}  {{name_22}}  {{play_22}}  {{gd_22}}  {{pts_22}}\n",
       " 23  {{pos_23}}  {{name_23}}  {{play_23}}  {{gd_23}}  {{pts_23}}\n",
       " 24  {{pos_24}}  {{name_24}}  {{play_24}}  {{gd_24}}  {{pts_24}}\n",
       " 25  {{pos_25}}  {{name_25}}  {{play_25}}  {{gd_25}}  {{pts_25}}\n",
       " 26  {{pos_26}}  {{name_26}}  {{play_26}}  {{gd_26}}  {{pts_26}}\n",
       " 27  {{pos_27}}  {{name_27}}  {{play_27}}  {{gd_27}}  {{pts_27}}\n",
       " 28  {{pos_28}}  {{name_28}}  {{play_28}}  {{gd_28}}  {{pts_28}}\n",
       " 29  {{pos_29}}  {{name_29}}  {{play_29}}  {{gd_29}}  {{pts_29}}\n",
       " 30  {{pos_30}}  {{name_30}}  {{play_30}}  {{gd_30}}  {{pts_30}},              0            1            2          3           4\n",
       " 0          NaN         Team            P         GD         PTS\n",
       " 1    {{pos_1}}   {{name_1}}   {{play_1}}   {{gd_1}}   {{pts_1}}\n",
       " 2    {{pos_2}}   {{name_2}}   {{play_2}}   {{gd_2}}   {{pts_2}}\n",
       " 3    {{pos_3}}   {{name_3}}   {{play_3}}   {{gd_3}}   {{pts_3}}\n",
       " 4    {{pos_4}}   {{name_4}}   {{play_4}}   {{gd_4}}   {{pts_4}}\n",
       " 5    {{pos_5}}   {{name_5}}   {{play_5}}   {{gd_5}}   {{pts_5}}\n",
       " 6    {{pos_6}}   {{name_6}}   {{play_6}}   {{gd_6}}   {{pts_6}}\n",
       " 7    {{pos_7}}   {{name_7}}   {{play_7}}   {{gd_7}}   {{pts_7}}\n",
       " 8    {{pos_8}}   {{name_8}}   {{play_8}}   {{gd_8}}   {{pts_8}}\n",
       " 9    {{pos_9}}   {{name_9}}   {{play_9}}   {{gd_9}}   {{pts_9}}\n",
       " 10  {{pos_10}}  {{name_10}}  {{play_10}}  {{gd_10}}  {{pts_10}}\n",
       " 11  {{pos_11}}  {{name_11}}  {{play_11}}  {{gd_11}}  {{pts_11}}\n",
       " 12  {{pos_12}}  {{name_12}}  {{play_12}}  {{gd_12}}  {{pts_12}}\n",
       " 13  {{pos_13}}  {{name_13}}  {{play_13}}  {{gd_13}}  {{pts_13}}\n",
       " 14  {{pos_14}}  {{name_14}}  {{play_14}}  {{gd_14}}  {{pts_14}}\n",
       " 15  {{pos_15}}  {{name_15}}  {{play_15}}  {{gd_15}}  {{pts_15}}\n",
       " 16  {{pos_16}}  {{name_16}}  {{play_16}}  {{gd_16}}  {{pts_16}}\n",
       " 17  {{pos_17}}  {{name_17}}  {{play_17}}  {{gd_17}}  {{pts_17}}\n",
       " 18  {{pos_18}}  {{name_18}}  {{play_18}}  {{gd_18}}  {{pts_18}}\n",
       " 19  {{pos_19}}  {{name_19}}  {{play_19}}  {{gd_19}}  {{pts_19}}\n",
       " 20  {{pos_20}}  {{name_20}}  {{play_20}}  {{gd_20}}  {{pts_20}}\n",
       " 21  {{pos_21}}  {{name_21}}  {{play_21}}  {{gd_21}}  {{pts_21}}\n",
       " 22  {{pos_22}}  {{name_22}}  {{play_22}}  {{gd_22}}  {{pts_22}}\n",
       " 23  {{pos_23}}  {{name_23}}  {{play_23}}  {{gd_23}}  {{pts_23}}\n",
       " 24  {{pos_24}}  {{name_24}}  {{play_24}}  {{gd_24}}  {{pts_24}}\n",
       " 25  {{pos_25}}  {{name_25}}  {{play_25}}  {{gd_25}}  {{pts_25}}\n",
       " 26  {{pos_26}}  {{name_26}}  {{play_26}}  {{gd_26}}  {{pts_26}}\n",
       " 27  {{pos_27}}  {{name_27}}  {{play_27}}  {{gd_27}}  {{pts_27}}\n",
       " 28  {{pos_28}}  {{name_28}}  {{play_28}}  {{gd_28}}  {{pts_28}}\n",
       " 29  {{pos_29}}  {{name_29}}  {{play_29}}  {{gd_29}}  {{pts_29}}\n",
       " 30  {{pos_30}}  {{name_30}}  {{play_30}}  {{gd_30}}  {{pts_30}},              0            1            2          3           4\n",
       " 0          NaN         Team            P         GD         PTS\n",
       " 1    {{pos_1}}   {{name_1}}   {{play_1}}   {{gd_1}}   {{pts_1}}\n",
       " 2    {{pos_2}}   {{name_2}}   {{play_2}}   {{gd_2}}   {{pts_2}}\n",
       " 3    {{pos_3}}   {{name_3}}   {{play_3}}   {{gd_3}}   {{pts_3}}\n",
       " 4    {{pos_4}}   {{name_4}}   {{play_4}}   {{gd_4}}   {{pts_4}}\n",
       " 5    {{pos_5}}   {{name_5}}   {{play_5}}   {{gd_5}}   {{pts_5}}\n",
       " 6    {{pos_6}}   {{name_6}}   {{play_6}}   {{gd_6}}   {{pts_6}}\n",
       " 7    {{pos_7}}   {{name_7}}   {{play_7}}   {{gd_7}}   {{pts_7}}\n",
       " 8    {{pos_8}}   {{name_8}}   {{play_8}}   {{gd_8}}   {{pts_8}}\n",
       " 9    {{pos_9}}   {{name_9}}   {{play_9}}   {{gd_9}}   {{pts_9}}\n",
       " 10  {{pos_10}}  {{name_10}}  {{play_10}}  {{gd_10}}  {{pts_10}}\n",
       " 11  {{pos_11}}  {{name_11}}  {{play_11}}  {{gd_11}}  {{pts_11}}\n",
       " 12  {{pos_12}}  {{name_12}}  {{play_12}}  {{gd_12}}  {{pts_12}}\n",
       " 13  {{pos_13}}  {{name_13}}  {{play_13}}  {{gd_13}}  {{pts_13}}\n",
       " 14  {{pos_14}}  {{name_14}}  {{play_14}}  {{gd_14}}  {{pts_14}}\n",
       " 15  {{pos_15}}  {{name_15}}  {{play_15}}  {{gd_15}}  {{pts_15}}\n",
       " 16  {{pos_16}}  {{name_16}}  {{play_16}}  {{gd_16}}  {{pts_16}}\n",
       " 17  {{pos_17}}  {{name_17}}  {{play_17}}  {{gd_17}}  {{pts_17}}\n",
       " 18  {{pos_18}}  {{name_18}}  {{play_18}}  {{gd_18}}  {{pts_18}}\n",
       " 19  {{pos_19}}  {{name_19}}  {{play_19}}  {{gd_19}}  {{pts_19}}\n",
       " 20  {{pos_20}}  {{name_20}}  {{play_20}}  {{gd_20}}  {{pts_20}}\n",
       " 21  {{pos_21}}  {{name_21}}  {{play_21}}  {{gd_21}}  {{pts_21}}\n",
       " 22  {{pos_22}}  {{name_22}}  {{play_22}}  {{gd_22}}  {{pts_22}}\n",
       " 23  {{pos_23}}  {{name_23}}  {{play_23}}  {{gd_23}}  {{pts_23}}\n",
       " 24  {{pos_24}}  {{name_24}}  {{play_24}}  {{gd_24}}  {{pts_24}}\n",
       " 25  {{pos_25}}  {{name_25}}  {{play_25}}  {{gd_25}}  {{pts_25}}\n",
       " 26  {{pos_26}}  {{name_26}}  {{play_26}}  {{gd_26}}  {{pts_26}}\n",
       " 27  {{pos_27}}  {{name_27}}  {{play_27}}  {{gd_27}}  {{pts_27}}\n",
       " 28  {{pos_28}}  {{name_28}}  {{play_28}}  {{gd_28}}  {{pts_28}}\n",
       " 29  {{pos_29}}  {{name_29}}  {{play_29}}  {{gd_29}}  {{pts_29}}\n",
       " 30  {{pos_30}}  {{name_30}}  {{play_30}}  {{gd_30}}  {{pts_30}}]"
      ]
     },
     "execution_count": 45,
     "metadata": {},
     "output_type": "execute_result"
    }
   ],
   "source": [
    "df2 = pd.read_html('https://www.sportsmole.co.uk/football/premier-league/2018-19/')\n",
    "\n",
    "df2"
   ]
  },
  {
   "cell_type": "code",
   "execution_count": 46,
   "metadata": {},
   "outputs": [
    {
     "data": {
      "text/html": [
       "<div>\n",
       "<style scoped>\n",
       "    .dataframe tbody tr th:only-of-type {\n",
       "        vertical-align: middle;\n",
       "    }\n",
       "\n",
       "    .dataframe tbody tr th {\n",
       "        vertical-align: top;\n",
       "    }\n",
       "\n",
       "    .dataframe thead th {\n",
       "        text-align: right;\n",
       "    }\n",
       "</style>\n",
       "<table border=\"1\" class=\"dataframe\">\n",
       "  <thead>\n",
       "    <tr style=\"text-align: right;\">\n",
       "      <th></th>\n",
       "      <th>0</th>\n",
       "      <th>1</th>\n",
       "      <th>2</th>\n",
       "      <th>3</th>\n",
       "      <th>4</th>\n",
       "      <th>5</th>\n",
       "      <th>6</th>\n",
       "      <th>7</th>\n",
       "      <th>8</th>\n",
       "      <th>9</th>\n",
       "    </tr>\n",
       "  </thead>\n",
       "  <tbody>\n",
       "    <tr>\n",
       "      <th>0</th>\n",
       "      <td>NaN</td>\n",
       "      <td>Team</td>\n",
       "      <td>P</td>\n",
       "      <td>W</td>\n",
       "      <td>D</td>\n",
       "      <td>L</td>\n",
       "      <td>F</td>\n",
       "      <td>A</td>\n",
       "      <td>GD</td>\n",
       "      <td>PTS</td>\n",
       "    </tr>\n",
       "    <tr>\n",
       "      <th>1</th>\n",
       "      <td>C</td>\n",
       "      <td>Manchester CityMan City</td>\n",
       "      <td>38</td>\n",
       "      <td>32</td>\n",
       "      <td>2</td>\n",
       "      <td>4</td>\n",
       "      <td>95</td>\n",
       "      <td>23</td>\n",
       "      <td>72</td>\n",
       "      <td>98</td>\n",
       "    </tr>\n",
       "    <tr>\n",
       "      <th>2</th>\n",
       "      <td>2</td>\n",
       "      <td>Liverpool</td>\n",
       "      <td>38</td>\n",
       "      <td>30</td>\n",
       "      <td>7</td>\n",
       "      <td>1</td>\n",
       "      <td>89</td>\n",
       "      <td>22</td>\n",
       "      <td>67</td>\n",
       "      <td>97</td>\n",
       "    </tr>\n",
       "    <tr>\n",
       "      <th>3</th>\n",
       "      <td>3</td>\n",
       "      <td>Chelsea</td>\n",
       "      <td>38</td>\n",
       "      <td>21</td>\n",
       "      <td>9</td>\n",
       "      <td>8</td>\n",
       "      <td>63</td>\n",
       "      <td>39</td>\n",
       "      <td>24</td>\n",
       "      <td>72</td>\n",
       "    </tr>\n",
       "    <tr>\n",
       "      <th>4</th>\n",
       "      <td>4</td>\n",
       "      <td>Tottenham HotspurSpurs</td>\n",
       "      <td>38</td>\n",
       "      <td>23</td>\n",
       "      <td>2</td>\n",
       "      <td>13</td>\n",
       "      <td>67</td>\n",
       "      <td>39</td>\n",
       "      <td>28</td>\n",
       "      <td>71</td>\n",
       "    </tr>\n",
       "    <tr>\n",
       "      <th>5</th>\n",
       "      <td>5</td>\n",
       "      <td>Arsenal</td>\n",
       "      <td>38</td>\n",
       "      <td>21</td>\n",
       "      <td>7</td>\n",
       "      <td>10</td>\n",
       "      <td>73</td>\n",
       "      <td>51</td>\n",
       "      <td>22</td>\n",
       "      <td>70</td>\n",
       "    </tr>\n",
       "    <tr>\n",
       "      <th>6</th>\n",
       "      <td>6</td>\n",
       "      <td>Manchester UnitedMan Utd</td>\n",
       "      <td>38</td>\n",
       "      <td>19</td>\n",
       "      <td>9</td>\n",
       "      <td>10</td>\n",
       "      <td>65</td>\n",
       "      <td>54</td>\n",
       "      <td>11</td>\n",
       "      <td>66</td>\n",
       "    </tr>\n",
       "    <tr>\n",
       "      <th>7</th>\n",
       "      <td>7</td>\n",
       "      <td>Wolverhampton WanderersWolves</td>\n",
       "      <td>38</td>\n",
       "      <td>16</td>\n",
       "      <td>9</td>\n",
       "      <td>13</td>\n",
       "      <td>47</td>\n",
       "      <td>46</td>\n",
       "      <td>1</td>\n",
       "      <td>57</td>\n",
       "    </tr>\n",
       "    <tr>\n",
       "      <th>8</th>\n",
       "      <td>8</td>\n",
       "      <td>Everton</td>\n",
       "      <td>38</td>\n",
       "      <td>15</td>\n",
       "      <td>9</td>\n",
       "      <td>14</td>\n",
       "      <td>54</td>\n",
       "      <td>46</td>\n",
       "      <td>8</td>\n",
       "      <td>54</td>\n",
       "    </tr>\n",
       "    <tr>\n",
       "      <th>9</th>\n",
       "      <td>9</td>\n",
       "      <td>Leicester CityLeicester</td>\n",
       "      <td>38</td>\n",
       "      <td>15</td>\n",
       "      <td>7</td>\n",
       "      <td>16</td>\n",
       "      <td>51</td>\n",
       "      <td>48</td>\n",
       "      <td>3</td>\n",
       "      <td>52</td>\n",
       "    </tr>\n",
       "    <tr>\n",
       "      <th>10</th>\n",
       "      <td>10</td>\n",
       "      <td>West Ham UnitedWest Ham</td>\n",
       "      <td>38</td>\n",
       "      <td>15</td>\n",
       "      <td>7</td>\n",
       "      <td>16</td>\n",
       "      <td>52</td>\n",
       "      <td>55</td>\n",
       "      <td>-3</td>\n",
       "      <td>52</td>\n",
       "    </tr>\n",
       "    <tr>\n",
       "      <th>11</th>\n",
       "      <td>11</td>\n",
       "      <td>Watford</td>\n",
       "      <td>38</td>\n",
       "      <td>14</td>\n",
       "      <td>8</td>\n",
       "      <td>16</td>\n",
       "      <td>52</td>\n",
       "      <td>59</td>\n",
       "      <td>-7</td>\n",
       "      <td>50</td>\n",
       "    </tr>\n",
       "    <tr>\n",
       "      <th>12</th>\n",
       "      <td>12</td>\n",
       "      <td>Crystal Palace</td>\n",
       "      <td>38</td>\n",
       "      <td>14</td>\n",
       "      <td>7</td>\n",
       "      <td>17</td>\n",
       "      <td>51</td>\n",
       "      <td>53</td>\n",
       "      <td>-2</td>\n",
       "      <td>49</td>\n",
       "    </tr>\n",
       "    <tr>\n",
       "      <th>13</th>\n",
       "      <td>13</td>\n",
       "      <td>Newcastle UnitedNewcastle</td>\n",
       "      <td>38</td>\n",
       "      <td>12</td>\n",
       "      <td>9</td>\n",
       "      <td>17</td>\n",
       "      <td>42</td>\n",
       "      <td>48</td>\n",
       "      <td>-6</td>\n",
       "      <td>45</td>\n",
       "    </tr>\n",
       "    <tr>\n",
       "      <th>14</th>\n",
       "      <td>14</td>\n",
       "      <td>Bournemouth</td>\n",
       "      <td>38</td>\n",
       "      <td>13</td>\n",
       "      <td>6</td>\n",
       "      <td>19</td>\n",
       "      <td>56</td>\n",
       "      <td>70</td>\n",
       "      <td>-14</td>\n",
       "      <td>45</td>\n",
       "    </tr>\n",
       "    <tr>\n",
       "      <th>15</th>\n",
       "      <td>15</td>\n",
       "      <td>Burnley</td>\n",
       "      <td>38</td>\n",
       "      <td>11</td>\n",
       "      <td>7</td>\n",
       "      <td>20</td>\n",
       "      <td>45</td>\n",
       "      <td>68</td>\n",
       "      <td>-23</td>\n",
       "      <td>40</td>\n",
       "    </tr>\n",
       "    <tr>\n",
       "      <th>16</th>\n",
       "      <td>16</td>\n",
       "      <td>Southampton</td>\n",
       "      <td>38</td>\n",
       "      <td>9</td>\n",
       "      <td>12</td>\n",
       "      <td>17</td>\n",
       "      <td>45</td>\n",
       "      <td>65</td>\n",
       "      <td>-20</td>\n",
       "      <td>39</td>\n",
       "    </tr>\n",
       "    <tr>\n",
       "      <th>17</th>\n",
       "      <td>17</td>\n",
       "      <td>Brighton &amp; Hove AlbionBrighton</td>\n",
       "      <td>38</td>\n",
       "      <td>9</td>\n",
       "      <td>9</td>\n",
       "      <td>20</td>\n",
       "      <td>35</td>\n",
       "      <td>60</td>\n",
       "      <td>-25</td>\n",
       "      <td>36</td>\n",
       "    </tr>\n",
       "    <tr>\n",
       "      <th>18</th>\n",
       "      <td>R</td>\n",
       "      <td>Cardiff CityCardiff</td>\n",
       "      <td>38</td>\n",
       "      <td>10</td>\n",
       "      <td>4</td>\n",
       "      <td>24</td>\n",
       "      <td>34</td>\n",
       "      <td>69</td>\n",
       "      <td>-35</td>\n",
       "      <td>34</td>\n",
       "    </tr>\n",
       "    <tr>\n",
       "      <th>19</th>\n",
       "      <td>R</td>\n",
       "      <td>Fulham</td>\n",
       "      <td>38</td>\n",
       "      <td>7</td>\n",
       "      <td>5</td>\n",
       "      <td>26</td>\n",
       "      <td>34</td>\n",
       "      <td>81</td>\n",
       "      <td>-47</td>\n",
       "      <td>26</td>\n",
       "    </tr>\n",
       "    <tr>\n",
       "      <th>20</th>\n",
       "      <td>R</td>\n",
       "      <td>Huddersfield TownHuddersfield</td>\n",
       "      <td>38</td>\n",
       "      <td>3</td>\n",
       "      <td>7</td>\n",
       "      <td>28</td>\n",
       "      <td>22</td>\n",
       "      <td>76</td>\n",
       "      <td>-54</td>\n",
       "      <td>16</td>\n",
       "    </tr>\n",
       "    <tr>\n",
       "      <th>21</th>\n",
       "      <td>NaN</td>\n",
       "      <td>&gt; Full Version</td>\n",
       "      <td>NaN</td>\n",
       "      <td>NaN</td>\n",
       "      <td>NaN</td>\n",
       "      <td>NaN</td>\n",
       "      <td>NaN</td>\n",
       "      <td>NaN</td>\n",
       "      <td>NaN</td>\n",
       "      <td>NaN</td>\n",
       "    </tr>\n",
       "  </tbody>\n",
       "</table>\n",
       "</div>"
      ],
      "text/plain": [
       "      0                               1    2    3    4    5    6    7    8  \\\n",
       "0   NaN                            Team    P    W    D    L    F    A   GD   \n",
       "1     C         Manchester CityMan City   38   32    2    4   95   23   72   \n",
       "2     2                       Liverpool   38   30    7    1   89   22   67   \n",
       "3     3                         Chelsea   38   21    9    8   63   39   24   \n",
       "4     4          Tottenham HotspurSpurs   38   23    2   13   67   39   28   \n",
       "5     5                         Arsenal   38   21    7   10   73   51   22   \n",
       "6     6        Manchester UnitedMan Utd   38   19    9   10   65   54   11   \n",
       "7     7   Wolverhampton WanderersWolves   38   16    9   13   47   46    1   \n",
       "8     8                         Everton   38   15    9   14   54   46    8   \n",
       "9     9         Leicester CityLeicester   38   15    7   16   51   48    3   \n",
       "10   10         West Ham UnitedWest Ham   38   15    7   16   52   55   -3   \n",
       "11   11                         Watford   38   14    8   16   52   59   -7   \n",
       "12   12                  Crystal Palace   38   14    7   17   51   53   -2   \n",
       "13   13       Newcastle UnitedNewcastle   38   12    9   17   42   48   -6   \n",
       "14   14                     Bournemouth   38   13    6   19   56   70  -14   \n",
       "15   15                         Burnley   38   11    7   20   45   68  -23   \n",
       "16   16                     Southampton   38    9   12   17   45   65  -20   \n",
       "17   17  Brighton & Hove AlbionBrighton   38    9    9   20   35   60  -25   \n",
       "18    R             Cardiff CityCardiff   38   10    4   24   34   69  -35   \n",
       "19    R                          Fulham   38    7    5   26   34   81  -47   \n",
       "20    R   Huddersfield TownHuddersfield   38    3    7   28   22   76  -54   \n",
       "21  NaN                  > Full Version  NaN  NaN  NaN  NaN  NaN  NaN  NaN   \n",
       "\n",
       "      9  \n",
       "0   PTS  \n",
       "1    98  \n",
       "2    97  \n",
       "3    72  \n",
       "4    71  \n",
       "5    70  \n",
       "6    66  \n",
       "7    57  \n",
       "8    54  \n",
       "9    52  \n",
       "10   52  \n",
       "11   50  \n",
       "12   49  \n",
       "13   45  \n",
       "14   45  \n",
       "15   40  \n",
       "16   39  \n",
       "17   36  \n",
       "18   34  \n",
       "19   26  \n",
       "20   16  \n",
       "21  NaN  "
      ]
     },
     "execution_count": 46,
     "metadata": {},
     "output_type": "execute_result"
    }
   ],
   "source": [
    "# Let's check out one of our tables:\n",
    "\n",
    "df2[0]"
   ]
  },
  {
   "cell_type": "markdown",
   "metadata": {},
   "source": [
    "As we can see above, the table's formatting is slightly off...\n",
    "\n",
    "So we can make adjustments like so:"
   ]
  },
  {
   "cell_type": "code",
   "execution_count": 47,
   "metadata": {},
   "outputs": [
    {
     "data": {
      "text/html": [
       "<div>\n",
       "<style scoped>\n",
       "    .dataframe tbody tr th:only-of-type {\n",
       "        vertical-align: middle;\n",
       "    }\n",
       "\n",
       "    .dataframe tbody tr th {\n",
       "        vertical-align: top;\n",
       "    }\n",
       "\n",
       "    .dataframe thead th {\n",
       "        text-align: right;\n",
       "    }\n",
       "</style>\n",
       "<table border=\"1\" class=\"dataframe\">\n",
       "  <thead>\n",
       "    <tr style=\"text-align: right;\">\n",
       "      <th></th>\n",
       "      <th>final_standings</th>\n",
       "      <th>P</th>\n",
       "      <th>W</th>\n",
       "      <th>D</th>\n",
       "      <th>L</th>\n",
       "      <th>F</th>\n",
       "      <th>A</th>\n",
       "      <th>GD</th>\n",
       "      <th>PTS</th>\n",
       "    </tr>\n",
       "    <tr>\n",
       "      <th>Team</th>\n",
       "      <th></th>\n",
       "      <th></th>\n",
       "      <th></th>\n",
       "      <th></th>\n",
       "      <th></th>\n",
       "      <th></th>\n",
       "      <th></th>\n",
       "      <th></th>\n",
       "      <th></th>\n",
       "    </tr>\n",
       "  </thead>\n",
       "  <tbody>\n",
       "    <tr>\n",
       "      <th>Manchester CityMan City</th>\n",
       "      <td>C</td>\n",
       "      <td>38.0</td>\n",
       "      <td>32.0</td>\n",
       "      <td>2.0</td>\n",
       "      <td>4.0</td>\n",
       "      <td>95.0</td>\n",
       "      <td>23.0</td>\n",
       "      <td>72.0</td>\n",
       "      <td>98.0</td>\n",
       "    </tr>\n",
       "    <tr>\n",
       "      <th>Liverpool</th>\n",
       "      <td>2</td>\n",
       "      <td>38.0</td>\n",
       "      <td>30.0</td>\n",
       "      <td>7.0</td>\n",
       "      <td>1.0</td>\n",
       "      <td>89.0</td>\n",
       "      <td>22.0</td>\n",
       "      <td>67.0</td>\n",
       "      <td>97.0</td>\n",
       "    </tr>\n",
       "    <tr>\n",
       "      <th>Chelsea</th>\n",
       "      <td>3</td>\n",
       "      <td>38.0</td>\n",
       "      <td>21.0</td>\n",
       "      <td>9.0</td>\n",
       "      <td>8.0</td>\n",
       "      <td>63.0</td>\n",
       "      <td>39.0</td>\n",
       "      <td>24.0</td>\n",
       "      <td>72.0</td>\n",
       "    </tr>\n",
       "    <tr>\n",
       "      <th>Tottenham HotspurSpurs</th>\n",
       "      <td>4</td>\n",
       "      <td>38.0</td>\n",
       "      <td>23.0</td>\n",
       "      <td>2.0</td>\n",
       "      <td>13.0</td>\n",
       "      <td>67.0</td>\n",
       "      <td>39.0</td>\n",
       "      <td>28.0</td>\n",
       "      <td>71.0</td>\n",
       "    </tr>\n",
       "    <tr>\n",
       "      <th>Arsenal</th>\n",
       "      <td>5</td>\n",
       "      <td>38.0</td>\n",
       "      <td>21.0</td>\n",
       "      <td>7.0</td>\n",
       "      <td>10.0</td>\n",
       "      <td>73.0</td>\n",
       "      <td>51.0</td>\n",
       "      <td>22.0</td>\n",
       "      <td>70.0</td>\n",
       "    </tr>\n",
       "    <tr>\n",
       "      <th>Manchester UnitedMan Utd</th>\n",
       "      <td>6</td>\n",
       "      <td>38.0</td>\n",
       "      <td>19.0</td>\n",
       "      <td>9.0</td>\n",
       "      <td>10.0</td>\n",
       "      <td>65.0</td>\n",
       "      <td>54.0</td>\n",
       "      <td>11.0</td>\n",
       "      <td>66.0</td>\n",
       "    </tr>\n",
       "    <tr>\n",
       "      <th>Wolverhampton WanderersWolves</th>\n",
       "      <td>7</td>\n",
       "      <td>38.0</td>\n",
       "      <td>16.0</td>\n",
       "      <td>9.0</td>\n",
       "      <td>13.0</td>\n",
       "      <td>47.0</td>\n",
       "      <td>46.0</td>\n",
       "      <td>1.0</td>\n",
       "      <td>57.0</td>\n",
       "    </tr>\n",
       "    <tr>\n",
       "      <th>Everton</th>\n",
       "      <td>8</td>\n",
       "      <td>38.0</td>\n",
       "      <td>15.0</td>\n",
       "      <td>9.0</td>\n",
       "      <td>14.0</td>\n",
       "      <td>54.0</td>\n",
       "      <td>46.0</td>\n",
       "      <td>8.0</td>\n",
       "      <td>54.0</td>\n",
       "    </tr>\n",
       "    <tr>\n",
       "      <th>Leicester CityLeicester</th>\n",
       "      <td>9</td>\n",
       "      <td>38.0</td>\n",
       "      <td>15.0</td>\n",
       "      <td>7.0</td>\n",
       "      <td>16.0</td>\n",
       "      <td>51.0</td>\n",
       "      <td>48.0</td>\n",
       "      <td>3.0</td>\n",
       "      <td>52.0</td>\n",
       "    </tr>\n",
       "    <tr>\n",
       "      <th>West Ham UnitedWest Ham</th>\n",
       "      <td>10</td>\n",
       "      <td>38.0</td>\n",
       "      <td>15.0</td>\n",
       "      <td>7.0</td>\n",
       "      <td>16.0</td>\n",
       "      <td>52.0</td>\n",
       "      <td>55.0</td>\n",
       "      <td>-3.0</td>\n",
       "      <td>52.0</td>\n",
       "    </tr>\n",
       "    <tr>\n",
       "      <th>Watford</th>\n",
       "      <td>11</td>\n",
       "      <td>38.0</td>\n",
       "      <td>14.0</td>\n",
       "      <td>8.0</td>\n",
       "      <td>16.0</td>\n",
       "      <td>52.0</td>\n",
       "      <td>59.0</td>\n",
       "      <td>-7.0</td>\n",
       "      <td>50.0</td>\n",
       "    </tr>\n",
       "    <tr>\n",
       "      <th>Crystal Palace</th>\n",
       "      <td>12</td>\n",
       "      <td>38.0</td>\n",
       "      <td>14.0</td>\n",
       "      <td>7.0</td>\n",
       "      <td>17.0</td>\n",
       "      <td>51.0</td>\n",
       "      <td>53.0</td>\n",
       "      <td>-2.0</td>\n",
       "      <td>49.0</td>\n",
       "    </tr>\n",
       "    <tr>\n",
       "      <th>Newcastle UnitedNewcastle</th>\n",
       "      <td>13</td>\n",
       "      <td>38.0</td>\n",
       "      <td>12.0</td>\n",
       "      <td>9.0</td>\n",
       "      <td>17.0</td>\n",
       "      <td>42.0</td>\n",
       "      <td>48.0</td>\n",
       "      <td>-6.0</td>\n",
       "      <td>45.0</td>\n",
       "    </tr>\n",
       "    <tr>\n",
       "      <th>Bournemouth</th>\n",
       "      <td>14</td>\n",
       "      <td>38.0</td>\n",
       "      <td>13.0</td>\n",
       "      <td>6.0</td>\n",
       "      <td>19.0</td>\n",
       "      <td>56.0</td>\n",
       "      <td>70.0</td>\n",
       "      <td>-14.0</td>\n",
       "      <td>45.0</td>\n",
       "    </tr>\n",
       "    <tr>\n",
       "      <th>Burnley</th>\n",
       "      <td>15</td>\n",
       "      <td>38.0</td>\n",
       "      <td>11.0</td>\n",
       "      <td>7.0</td>\n",
       "      <td>20.0</td>\n",
       "      <td>45.0</td>\n",
       "      <td>68.0</td>\n",
       "      <td>-23.0</td>\n",
       "      <td>40.0</td>\n",
       "    </tr>\n",
       "    <tr>\n",
       "      <th>Southampton</th>\n",
       "      <td>16</td>\n",
       "      <td>38.0</td>\n",
       "      <td>9.0</td>\n",
       "      <td>12.0</td>\n",
       "      <td>17.0</td>\n",
       "      <td>45.0</td>\n",
       "      <td>65.0</td>\n",
       "      <td>-20.0</td>\n",
       "      <td>39.0</td>\n",
       "    </tr>\n",
       "    <tr>\n",
       "      <th>Brighton &amp; Hove AlbionBrighton</th>\n",
       "      <td>17</td>\n",
       "      <td>38.0</td>\n",
       "      <td>9.0</td>\n",
       "      <td>9.0</td>\n",
       "      <td>20.0</td>\n",
       "      <td>35.0</td>\n",
       "      <td>60.0</td>\n",
       "      <td>-25.0</td>\n",
       "      <td>36.0</td>\n",
       "    </tr>\n",
       "    <tr>\n",
       "      <th>Cardiff CityCardiff</th>\n",
       "      <td>R</td>\n",
       "      <td>38.0</td>\n",
       "      <td>10.0</td>\n",
       "      <td>4.0</td>\n",
       "      <td>24.0</td>\n",
       "      <td>34.0</td>\n",
       "      <td>69.0</td>\n",
       "      <td>-35.0</td>\n",
       "      <td>34.0</td>\n",
       "    </tr>\n",
       "    <tr>\n",
       "      <th>Fulham</th>\n",
       "      <td>R</td>\n",
       "      <td>38.0</td>\n",
       "      <td>7.0</td>\n",
       "      <td>5.0</td>\n",
       "      <td>26.0</td>\n",
       "      <td>34.0</td>\n",
       "      <td>81.0</td>\n",
       "      <td>-47.0</td>\n",
       "      <td>26.0</td>\n",
       "    </tr>\n",
       "    <tr>\n",
       "      <th>Huddersfield TownHuddersfield</th>\n",
       "      <td>R</td>\n",
       "      <td>38.0</td>\n",
       "      <td>3.0</td>\n",
       "      <td>7.0</td>\n",
       "      <td>28.0</td>\n",
       "      <td>22.0</td>\n",
       "      <td>76.0</td>\n",
       "      <td>-54.0</td>\n",
       "      <td>16.0</td>\n",
       "    </tr>\n",
       "    <tr>\n",
       "      <th>&gt; Full Version</th>\n",
       "      <td>NaN</td>\n",
       "      <td>NaN</td>\n",
       "      <td>NaN</td>\n",
       "      <td>NaN</td>\n",
       "      <td>NaN</td>\n",
       "      <td>NaN</td>\n",
       "      <td>NaN</td>\n",
       "      <td>NaN</td>\n",
       "      <td>NaN</td>\n",
       "    </tr>\n",
       "  </tbody>\n",
       "</table>\n",
       "</div>"
      ],
      "text/plain": [
       "                               final_standings     P     W     D     L     F  \\\n",
       "Team                                                                           \n",
       "Manchester CityMan City                      C  38.0  32.0   2.0   4.0  95.0   \n",
       "Liverpool                                    2  38.0  30.0   7.0   1.0  89.0   \n",
       "Chelsea                                      3  38.0  21.0   9.0   8.0  63.0   \n",
       "Tottenham HotspurSpurs                       4  38.0  23.0   2.0  13.0  67.0   \n",
       "Arsenal                                      5  38.0  21.0   7.0  10.0  73.0   \n",
       "Manchester UnitedMan Utd                     6  38.0  19.0   9.0  10.0  65.0   \n",
       "Wolverhampton WanderersWolves                7  38.0  16.0   9.0  13.0  47.0   \n",
       "Everton                                      8  38.0  15.0   9.0  14.0  54.0   \n",
       "Leicester CityLeicester                      9  38.0  15.0   7.0  16.0  51.0   \n",
       "West Ham UnitedWest Ham                     10  38.0  15.0   7.0  16.0  52.0   \n",
       "Watford                                     11  38.0  14.0   8.0  16.0  52.0   \n",
       "Crystal Palace                              12  38.0  14.0   7.0  17.0  51.0   \n",
       "Newcastle UnitedNewcastle                   13  38.0  12.0   9.0  17.0  42.0   \n",
       "Bournemouth                                 14  38.0  13.0   6.0  19.0  56.0   \n",
       "Burnley                                     15  38.0  11.0   7.0  20.0  45.0   \n",
       "Southampton                                 16  38.0   9.0  12.0  17.0  45.0   \n",
       "Brighton & Hove AlbionBrighton              17  38.0   9.0   9.0  20.0  35.0   \n",
       "Cardiff CityCardiff                          R  38.0  10.0   4.0  24.0  34.0   \n",
       "Fulham                                       R  38.0   7.0   5.0  26.0  34.0   \n",
       "Huddersfield TownHuddersfield                R  38.0   3.0   7.0  28.0  22.0   \n",
       "> Full Version                             NaN   NaN   NaN   NaN   NaN   NaN   \n",
       "\n",
       "                                   A    GD   PTS  \n",
       "Team                                              \n",
       "Manchester CityMan City         23.0  72.0  98.0  \n",
       "Liverpool                       22.0  67.0  97.0  \n",
       "Chelsea                         39.0  24.0  72.0  \n",
       "Tottenham HotspurSpurs          39.0  28.0  71.0  \n",
       "Arsenal                         51.0  22.0  70.0  \n",
       "Manchester UnitedMan Utd        54.0  11.0  66.0  \n",
       "Wolverhampton WanderersWolves   46.0   1.0  57.0  \n",
       "Everton                         46.0   8.0  54.0  \n",
       "Leicester CityLeicester         48.0   3.0  52.0  \n",
       "West Ham UnitedWest Ham         55.0  -3.0  52.0  \n",
       "Watford                         59.0  -7.0  50.0  \n",
       "Crystal Palace                  53.0  -2.0  49.0  \n",
       "Newcastle UnitedNewcastle       48.0  -6.0  45.0  \n",
       "Bournemouth                     70.0 -14.0  45.0  \n",
       "Burnley                         68.0 -23.0  40.0  \n",
       "Southampton                     65.0 -20.0  39.0  \n",
       "Brighton & Hove AlbionBrighton  60.0 -25.0  36.0  \n",
       "Cardiff CityCardiff             69.0 -35.0  34.0  \n",
       "Fulham                          81.0 -47.0  26.0  \n",
       "Huddersfield TownHuddersfield   76.0 -54.0  16.0  \n",
       "> Full Version                   NaN   NaN   NaN  "
      ]
     },
     "execution_count": 47,
     "metadata": {},
     "output_type": "execute_result"
    }
   ],
   "source": [
    "df2 = pd.read_html('https://www.sportsmole.co.uk/football/premier-league/2018-19/',header=0, index_col=1)\n",
    "\n",
    "df2[0].columns =  ['final_standings', 'P', 'W', 'D', 'L', 'F', 'A', 'GD', 'PTS']\n",
    "\n",
    "df2[0]"
   ]
  },
  {
   "cell_type": "markdown",
   "metadata": {},
   "source": [
    "---"
   ]
  },
  {
   "cell_type": "markdown",
   "metadata": {},
   "source": [
    "### An example where formatting is an issue:"
   ]
  },
  {
   "cell_type": "code",
   "execution_count": 48,
   "metadata": {},
   "outputs": [],
   "source": [
    "html = requests.get('http://www.nfl.com/stats/team')\n",
    "nfl_soup = BeautifulSoup(html.content, 'lxml')\n",
    "table = nfl_soup.table"
   ]
  },
  {
   "cell_type": "code",
   "execution_count": 49,
   "metadata": {},
   "outputs": [
    {
     "data": {
      "text/plain": [
       "<bound method Tag.prettify of <table border=\"0\" cellpadding=\"0\" cellspacing=\"0\" class=\"data-table1\" summary=\"This table summarizes the NFL Total Offense Leaders.\" width=\"100%\">\n",
       "<thead>\n",
       "<tr class=\"thd1\">\n",
       "<td colspan=\"2\">Total Offense (YPG)</td>\n",
       "<td align=\"right\"><a href=\"/stats/categorystats?tabSeq=2&amp;offensiveStatisticCategory=GAME_STATS&amp;conference=ALL&amp;role=TM&amp;season=2019&amp;seasonType=REG&amp;d-447263-s=TOTAL_YARDS_GAME_AVG&amp;d-447263-o=2&amp;d-447263-n=1\">Complete List</a></td>\n",
       "</tr>\n",
       "</thead>\n",
       "<tbody>\n",
       "<tr class=\"tbdy-sorted\" id=\"r1c1_1\" onmouseover=\"nfl.ui.behaviors.thumbs.tabs.team.mouseOver(this, 'r1c1', 'http://i.nflcdn.com/static/site/7.5/img/teams/BAL/BAL_logo-80x90.gif')\">\n",
       "<td class=\"tbdy-sorted team-logo-container\" rowspan=\"5\">\n",
       "<img id=\"r1c1_thumb\" onerror=\"nocover(this);\" src=\"http://i.nflcdn.com/static/site/7.5/img/teams/BAL/BAL_logo-80x90.gif\"/>\n",
       "</td>\n",
       "<td scope=\"row\">\n",
       "\t\t\t\t\t\t\t\t1. \n",
       "\t\t\t\t\t\t\t\t<a href=\"/teams/baltimoreravens/profile?team=BAL\">Baltimore Ravens</a></td>\n",
       "<td align=\"right\">541.5</td>\n",
       "</tr>\n",
       "<tr class=\"tbdy1\" id=\"r1c1_2\" onmouseover=\"nfl.ui.behaviors.thumbs.tabs.team.mouseOver(this, 'r1c1', 'http://i.nflcdn.com/static/site/7.5/img/teams/DAL/DAL_logo-80x90.gif')\">\n",
       "<td scope=\"row\">\n",
       "\t\t\t\t\t\t\t\t2. \n",
       "\t\t\t\t\t\t\t\t<a href=\"/teams/dallascowboys/profile?team=DAL\">Dallas Cowboys</a></td>\n",
       "<td align=\"right\">484.0</td>\n",
       "</tr>\n",
       "<tr class=\"tbdy1\" id=\"r1c1_3\" onmouseover=\"nfl.ui.behaviors.thumbs.tabs.team.mouseOver(this, 'r1c1', 'http://i.nflcdn.com/static/site/7.5/img/teams/KC/KC_logo-80x90.gif')\">\n",
       "<td scope=\"row\">\n",
       "\t\t\t\t\t\t\t\t3. \n",
       "\t\t\t\t\t\t\t\t<a href=\"/teams/kansascitychiefs/profile?team=KC\">Kansas City Chiefs</a></td>\n",
       "<td align=\"right\">477.5</td>\n",
       "</tr>\n",
       "<tr class=\"tbdy1\" id=\"r1c1_4\" onmouseover=\"nfl.ui.behaviors.thumbs.tabs.team.mouseOver(this, 'r1c1', 'http://i.nflcdn.com/static/site/7.5/img/teams/LAC/LAC_logo-80x90.gif')\">\n",
       "<td scope=\"row\">\n",
       "\t\t\t\t\t\t\t\t4. \n",
       "\t\t\t\t\t\t\t\t<a href=\"/teams/losangeleschargers/profile?team=LAC\">Los Angeles Chargers</a></td>\n",
       "<td align=\"right\">429.5</td>\n",
       "</tr>\n",
       "<tr class=\"tbdy1\" id=\"r1c1_5\" onmouseover=\"nfl.ui.behaviors.thumbs.tabs.team.mouseOver(this, 'r1c1', 'http://i.nflcdn.com/static/site/7.5/img/teams/NE/NE_logo-80x90.gif')\">\n",
       "<td scope=\"row\">\n",
       "\t\t\t\t\t\t\t\t5. \n",
       "\t\t\t\t\t\t\t\t<a href=\"/teams/newenglandpatriots/profile?team=NE\">New England Patriots</a></td>\n",
       "<td align=\"right\">423.0</td>\n",
       "</tr>\n",
       "</tbody>\n",
       "</table>>"
      ]
     },
     "execution_count": 49,
     "metadata": {},
     "output_type": "execute_result"
    }
   ],
   "source": [
    "table.prettify"
   ]
  },
  {
   "cell_type": "code",
   "execution_count": 50,
   "metadata": {},
   "outputs": [
    {
     "data": {
      "text/plain": [
       "[       Total Offense (YPG)        Complete List  Unnamed: 2\n",
       " 0                      NaN  1. Baltimore Ravens       541.5\n",
       " 1        2. Dallas Cowboys                484.0         NaN\n",
       " 2    3. Kansas City Chiefs                477.5         NaN\n",
       " 3  4. Los Angeles Chargers                429.5         NaN\n",
       " 4  5. New England Patriots                423.0         NaN,\n",
       "              Passing (YPG)          Complete List  Unnamed: 2\n",
       " 0                      NaN  1. Kansas City Chiefs       405.5\n",
       " 1    2. Cincinnati Bengals                  343.0         NaN\n",
       " 2        3. Dallas Cowboys                  333.0         NaN\n",
       " 3      4. Baltimore Ravens                  318.0         NaN\n",
       " 4  5. New England Patriots                  310.5         NaN,\n",
       "             Rushing (YPG)        Complete List  Unnamed: 2\n",
       " 0                     NaN  1. Baltimore Ravens       223.5\n",
       " 1   2. Indianapolis Colts                185.0         NaN\n",
       " 2    3. Minnesota Vikings                185.0         NaN\n",
       " 3  4. San Francisco 49ers                178.5         NaN\n",
       " 4       5. Houston Texans                153.0         NaN,\n",
       "    Total Defense (YPG)            Complete List  Unnamed: 2\n",
       " 0                  NaN  1. New England Patriots       246.0\n",
       " 1  2. Baltimore Ravens                    274.5         NaN\n",
       " 2   3. Atlanta Falcons                    277.5         NaN\n",
       " 3     4. Chicago Bears                    292.5         NaN\n",
       " 4  5. Los Angeles Rams                    293.5         NaN,\n",
       "           Passing (YPG)       Complete List  Unnamed: 2\n",
       " 0                   NaN  1. Atlanta Falcons       167.0\n",
       " 1   2. Tennessee Titans               182.5         NaN\n",
       " 2  3. Carolina Panthers               186.0         NaN\n",
       " 3     4. Denver Broncos               189.5         NaN\n",
       " 4   5. Cleveland Browns               192.5         NaN,\n",
       "              Rushing (YPG)        Complete List  Unnamed: 2\n",
       " 0                      NaN  1. Baltimore Ravens        20.5\n",
       " 1  2. New England Patriots                 37.0         NaN\n",
       " 2   3. Philadelphia Eagles                 42.5         NaN\n",
       " 3      4. Seattle Seahawks                 57.5         NaN\n",
       " 4       5. Oakland Raiders                 63.0         NaN,\n",
       "                                                                                                                                                        NFL Team Rankings\n",
       " 0  View by offensive category...  Game Stats  Total Yards  Passing  Rushing  Receiving  Kicking  Field Goals  Kick Returns  Punting  Scoring  Touchdowns  Offensive Line\n",
       " 1                                View by defensive category...  Game Stats  Total Yards  Passing  Rushing  Receiving  Sacks  Scoring  Touchdowns  Tackles  Interceptions,\n",
       "                                                                                                                                                        AFC Team Rankings  \\\n",
       " 0  View by offensive category...  Game Stats  Total Yards  Passing  Rushing  Receiving  Kicking  Field Goals  Kick Returns  Punting  Scoring  Touchdowns  Offensive Line   \n",
       " 1                                View by defensive category...  Game Stats  Total Yards  Passing  Rushing  Receiving  Sacks  Scoring  Touchdowns  Tackles  Interceptions   \n",
       " \n",
       "    Unnamed: 1  \\\n",
       " 0         NaN   \n",
       " 1         NaN   \n",
       " \n",
       "                                                                                                                                                        NFC Team Rankings  \n",
       " 0  View by offensive category...  Game Stats  Total Yards  Passing  Rushing  Receiving  Kicking  Field Goals  Kick Returns  Punting  Scoring  Touchdowns  Offensive Line  \n",
       " 1                                View by defensive category...  Game Stats  Total Yards  Passing  Rushing  Receiving  Sacks  Scoring  Touchdowns  Tackles  Interceptions  ]"
      ]
     },
     "execution_count": 50,
     "metadata": {},
     "output_type": "execute_result"
    }
   ],
   "source": [
    "nfl = pd.read_html('http://www.nfl.com/stats/team')\n",
    "\n",
    "nfl"
   ]
  },
  {
   "cell_type": "code",
   "execution_count": 51,
   "metadata": {},
   "outputs": [
    {
     "data": {
      "text/html": [
       "<div>\n",
       "<style scoped>\n",
       "    .dataframe tbody tr th:only-of-type {\n",
       "        vertical-align: middle;\n",
       "    }\n",
       "\n",
       "    .dataframe tbody tr th {\n",
       "        vertical-align: top;\n",
       "    }\n",
       "\n",
       "    .dataframe thead th {\n",
       "        text-align: right;\n",
       "    }\n",
       "</style>\n",
       "<table border=\"1\" class=\"dataframe\">\n",
       "  <thead>\n",
       "    <tr style=\"text-align: right;\">\n",
       "      <th></th>\n",
       "      <th>Total Defense (YPG)</th>\n",
       "      <th>Complete List</th>\n",
       "      <th>Unnamed: 2</th>\n",
       "    </tr>\n",
       "  </thead>\n",
       "  <tbody>\n",
       "    <tr>\n",
       "      <th>0</th>\n",
       "      <td>NaN</td>\n",
       "      <td>1. New England Patriots</td>\n",
       "      <td>246.0</td>\n",
       "    </tr>\n",
       "    <tr>\n",
       "      <th>1</th>\n",
       "      <td>2. Baltimore Ravens</td>\n",
       "      <td>274.5</td>\n",
       "      <td>NaN</td>\n",
       "    </tr>\n",
       "    <tr>\n",
       "      <th>2</th>\n",
       "      <td>3. Atlanta Falcons</td>\n",
       "      <td>277.5</td>\n",
       "      <td>NaN</td>\n",
       "    </tr>\n",
       "    <tr>\n",
       "      <th>3</th>\n",
       "      <td>4. Chicago Bears</td>\n",
       "      <td>292.5</td>\n",
       "      <td>NaN</td>\n",
       "    </tr>\n",
       "    <tr>\n",
       "      <th>4</th>\n",
       "      <td>5. Los Angeles Rams</td>\n",
       "      <td>293.5</td>\n",
       "      <td>NaN</td>\n",
       "    </tr>\n",
       "  </tbody>\n",
       "</table>\n",
       "</div>"
      ],
      "text/plain": [
       "   Total Defense (YPG)            Complete List  Unnamed: 2\n",
       "0                  NaN  1. New England Patriots       246.0\n",
       "1  2. Baltimore Ravens                    274.5         NaN\n",
       "2   3. Atlanta Falcons                    277.5         NaN\n",
       "3     4. Chicago Bears                    292.5         NaN\n",
       "4  5. Los Angeles Rams                    293.5         NaN"
      ]
     },
     "execution_count": 51,
     "metadata": {},
     "output_type": "execute_result"
    }
   ],
   "source": [
    "# PRO-TIP: if you want to instantiate a new df variable from a previous df or list of dfs, \n",
    "# making a copy of the df will save you from a headache\n",
    "\n",
    "offense = deepcopy(nfl[3])\n",
    "offense"
   ]
  },
  {
   "cell_type": "code",
   "execution_count": null,
   "metadata": {
    "scrolled": true
   },
   "outputs": [],
   "source": [
    "# passing = nfl[1].copy()\n",
    "# passing"
   ]
  },
  {
   "cell_type": "code",
   "execution_count": 52,
   "metadata": {},
   "outputs": [],
   "source": [
    "cell1 = offense.iloc[0,1]\n",
    "cell2 = offense.iloc[0,2]\n",
    "offense.iloc[0,0] = cell1\n",
    "offense.iloc[0,1] = cell2\n",
    "offense.drop(['Unnamed: 2'],axis=1,inplace=True)\n",
    "offense.columns = ['team', 'total_offense_ypg']\n",
    "offense.team = offense.team.apply(lambda x: x.split('.\\xa0')[1] if '.\\xa0' in x else x.split('. ')[1])\n",
    "offense.total_offense_ypg = offense.total_offense_ypg.astype(float).astype(int)"
   ]
  },
  {
   "cell_type": "code",
   "execution_count": 53,
   "metadata": {},
   "outputs": [
    {
     "data": {
      "text/html": [
       "<div>\n",
       "<style scoped>\n",
       "    .dataframe tbody tr th:only-of-type {\n",
       "        vertical-align: middle;\n",
       "    }\n",
       "\n",
       "    .dataframe tbody tr th {\n",
       "        vertical-align: top;\n",
       "    }\n",
       "\n",
       "    .dataframe thead th {\n",
       "        text-align: right;\n",
       "    }\n",
       "</style>\n",
       "<table border=\"1\" class=\"dataframe\">\n",
       "  <thead>\n",
       "    <tr style=\"text-align: right;\">\n",
       "      <th></th>\n",
       "      <th>team</th>\n",
       "      <th>total_offense_ypg</th>\n",
       "    </tr>\n",
       "  </thead>\n",
       "  <tbody>\n",
       "    <tr>\n",
       "      <th>0</th>\n",
       "      <td>New England Patriots</td>\n",
       "      <td>246</td>\n",
       "    </tr>\n",
       "    <tr>\n",
       "      <th>1</th>\n",
       "      <td>Baltimore Ravens</td>\n",
       "      <td>274</td>\n",
       "    </tr>\n",
       "    <tr>\n",
       "      <th>2</th>\n",
       "      <td>Atlanta Falcons</td>\n",
       "      <td>277</td>\n",
       "    </tr>\n",
       "    <tr>\n",
       "      <th>3</th>\n",
       "      <td>Chicago Bears</td>\n",
       "      <td>292</td>\n",
       "    </tr>\n",
       "    <tr>\n",
       "      <th>4</th>\n",
       "      <td>Los Angeles Rams</td>\n",
       "      <td>293</td>\n",
       "    </tr>\n",
       "  </tbody>\n",
       "</table>\n",
       "</div>"
      ],
      "text/plain": [
       "                   team  total_offense_ypg\n",
       "0  New England Patriots                246\n",
       "1      Baltimore Ravens                274\n",
       "2       Atlanta Falcons                277\n",
       "3         Chicago Bears                292\n",
       "4      Los Angeles Rams                293"
      ]
     },
     "execution_count": 53,
     "metadata": {},
     "output_type": "execute_result"
    }
   ],
   "source": [
    "offense"
   ]
  },
  {
   "cell_type": "code",
   "execution_count": 54,
   "metadata": {},
   "outputs": [],
   "source": [
    "def clean_data(data_list):\n",
    "    cleaned = []\n",
    "    data_copy = deepcopy(data_list)\n",
    "    for data in data_copy:\n",
    "        col_1, col_3 = data.columns[0], data.columns[-1]\n",
    "        cell1 = data.iloc[0,1]\n",
    "        cell2 = data.iloc[0,2]\n",
    "        data.iloc[0,0] = cell1\n",
    "        data.iloc[0,1] = cell2\n",
    "        data.drop([col_3],axis=1,inplace=True)\n",
    "        data.columns = ['team', col_1]\n",
    "        data['team'] = data['team'].apply(lambda x: x.split('.\\xa0')[1] if '.\\xa0' in x else x.split('. ')[1])\n",
    "        data.total_offense_ypg = data[col_1].astype(float).astype(int)\n",
    "        cleaned.append(data)\n",
    "    return cleaned"
   ]
  },
  {
   "cell_type": "code",
   "execution_count": 55,
   "metadata": {},
   "outputs": [],
   "source": [
    "tables_list = deepcopy(nfl[:6])"
   ]
  },
  {
   "cell_type": "code",
   "execution_count": 56,
   "metadata": {},
   "outputs": [
    {
     "data": {
      "text/html": [
       "<div>\n",
       "<style scoped>\n",
       "    .dataframe tbody tr th:only-of-type {\n",
       "        vertical-align: middle;\n",
       "    }\n",
       "\n",
       "    .dataframe tbody tr th {\n",
       "        vertical-align: top;\n",
       "    }\n",
       "\n",
       "    .dataframe thead th {\n",
       "        text-align: right;\n",
       "    }\n",
       "</style>\n",
       "<table border=\"1\" class=\"dataframe\">\n",
       "  <thead>\n",
       "    <tr style=\"text-align: right;\">\n",
       "      <th></th>\n",
       "      <th>Rushing (YPG)</th>\n",
       "      <th>Complete List</th>\n",
       "      <th>Unnamed: 2</th>\n",
       "    </tr>\n",
       "  </thead>\n",
       "  <tbody>\n",
       "    <tr>\n",
       "      <th>0</th>\n",
       "      <td>NaN</td>\n",
       "      <td>1. Baltimore Ravens</td>\n",
       "      <td>223.5</td>\n",
       "    </tr>\n",
       "    <tr>\n",
       "      <th>1</th>\n",
       "      <td>2. Indianapolis Colts</td>\n",
       "      <td>185.0</td>\n",
       "      <td>NaN</td>\n",
       "    </tr>\n",
       "    <tr>\n",
       "      <th>2</th>\n",
       "      <td>3. Minnesota Vikings</td>\n",
       "      <td>185.0</td>\n",
       "      <td>NaN</td>\n",
       "    </tr>\n",
       "    <tr>\n",
       "      <th>3</th>\n",
       "      <td>4. San Francisco 49ers</td>\n",
       "      <td>178.5</td>\n",
       "      <td>NaN</td>\n",
       "    </tr>\n",
       "    <tr>\n",
       "      <th>4</th>\n",
       "      <td>5. Houston Texans</td>\n",
       "      <td>153.0</td>\n",
       "      <td>NaN</td>\n",
       "    </tr>\n",
       "  </tbody>\n",
       "</table>\n",
       "</div>"
      ],
      "text/plain": [
       "            Rushing (YPG)        Complete List  Unnamed: 2\n",
       "0                     NaN  1. Baltimore Ravens       223.5\n",
       "1   2. Indianapolis Colts                185.0         NaN\n",
       "2    3. Minnesota Vikings                185.0         NaN\n",
       "3  4. San Francisco 49ers                178.5         NaN\n",
       "4       5. Houston Texans                153.0         NaN"
      ]
     },
     "execution_count": 56,
     "metadata": {},
     "output_type": "execute_result"
    }
   ],
   "source": [
    "tables_list[2]"
   ]
  },
  {
   "cell_type": "code",
   "execution_count": 57,
   "metadata": {},
   "outputs": [
    {
     "name": "stderr",
     "output_type": "stream",
     "text": [
      "/anaconda3/lib/python3.7/site-packages/ipykernel_launcher.py:13: UserWarning: Pandas doesn't allow columns to be created via a new attribute name - see https://pandas.pydata.org/pandas-docs/stable/indexing.html#attribute-access\n",
      "  del sys.path[0]\n"
     ]
    }
   ],
   "source": [
    "clean_tables = clean_data(tables_list)"
   ]
  },
  {
   "cell_type": "code",
   "execution_count": 58,
   "metadata": {},
   "outputs": [
    {
     "data": {
      "text/html": [
       "<div>\n",
       "<style scoped>\n",
       "    .dataframe tbody tr th:only-of-type {\n",
       "        vertical-align: middle;\n",
       "    }\n",
       "\n",
       "    .dataframe tbody tr th {\n",
       "        vertical-align: top;\n",
       "    }\n",
       "\n",
       "    .dataframe thead th {\n",
       "        text-align: right;\n",
       "    }\n",
       "</style>\n",
       "<table border=\"1\" class=\"dataframe\">\n",
       "  <thead>\n",
       "    <tr style=\"text-align: right;\">\n",
       "      <th></th>\n",
       "      <th>team</th>\n",
       "      <th>Total Offense (YPG)</th>\n",
       "    </tr>\n",
       "  </thead>\n",
       "  <tbody>\n",
       "    <tr>\n",
       "      <th>0</th>\n",
       "      <td>Baltimore Ravens</td>\n",
       "      <td>541.5</td>\n",
       "    </tr>\n",
       "    <tr>\n",
       "      <th>1</th>\n",
       "      <td>Dallas Cowboys</td>\n",
       "      <td>484.0</td>\n",
       "    </tr>\n",
       "    <tr>\n",
       "      <th>2</th>\n",
       "      <td>Kansas City Chiefs</td>\n",
       "      <td>477.5</td>\n",
       "    </tr>\n",
       "    <tr>\n",
       "      <th>3</th>\n",
       "      <td>Los Angeles Chargers</td>\n",
       "      <td>429.5</td>\n",
       "    </tr>\n",
       "    <tr>\n",
       "      <th>4</th>\n",
       "      <td>New England Patriots</td>\n",
       "      <td>423.0</td>\n",
       "    </tr>\n",
       "  </tbody>\n",
       "</table>\n",
       "</div>"
      ],
      "text/plain": [
       "                   team Total Offense (YPG)\n",
       "0      Baltimore Ravens               541.5\n",
       "1        Dallas Cowboys               484.0\n",
       "2    Kansas City Chiefs               477.5\n",
       "3  Los Angeles Chargers               429.5\n",
       "4  New England Patriots               423.0"
      ]
     },
     "execution_count": 58,
     "metadata": {},
     "output_type": "execute_result"
    }
   ],
   "source": [
    "clean_tables[0]"
   ]
  },
  {
   "cell_type": "code",
   "execution_count": 59,
   "metadata": {},
   "outputs": [
    {
     "data": {
      "text/html": [
       "<div>\n",
       "<style scoped>\n",
       "    .dataframe tbody tr th:only-of-type {\n",
       "        vertical-align: middle;\n",
       "    }\n",
       "\n",
       "    .dataframe tbody tr th {\n",
       "        vertical-align: top;\n",
       "    }\n",
       "\n",
       "    .dataframe thead th {\n",
       "        text-align: right;\n",
       "    }\n",
       "</style>\n",
       "<table border=\"1\" class=\"dataframe\">\n",
       "  <thead>\n",
       "    <tr style=\"text-align: right;\">\n",
       "      <th></th>\n",
       "      <th>team</th>\n",
       "      <th>Total Defense (YPG)</th>\n",
       "    </tr>\n",
       "  </thead>\n",
       "  <tbody>\n",
       "    <tr>\n",
       "      <th>0</th>\n",
       "      <td>New England Patriots</td>\n",
       "      <td>246</td>\n",
       "    </tr>\n",
       "    <tr>\n",
       "      <th>1</th>\n",
       "      <td>Baltimore Ravens</td>\n",
       "      <td>274.5</td>\n",
       "    </tr>\n",
       "    <tr>\n",
       "      <th>2</th>\n",
       "      <td>Atlanta Falcons</td>\n",
       "      <td>277.5</td>\n",
       "    </tr>\n",
       "    <tr>\n",
       "      <th>3</th>\n",
       "      <td>Chicago Bears</td>\n",
       "      <td>292.5</td>\n",
       "    </tr>\n",
       "    <tr>\n",
       "      <th>4</th>\n",
       "      <td>Los Angeles Rams</td>\n",
       "      <td>293.5</td>\n",
       "    </tr>\n",
       "  </tbody>\n",
       "</table>\n",
       "</div>"
      ],
      "text/plain": [
       "                   team Total Defense (YPG)\n",
       "0  New England Patriots                 246\n",
       "1      Baltimore Ravens               274.5\n",
       "2       Atlanta Falcons               277.5\n",
       "3         Chicago Bears               292.5\n",
       "4      Los Angeles Rams               293.5"
      ]
     },
     "execution_count": 59,
     "metadata": {},
     "output_type": "execute_result"
    }
   ],
   "source": [
    "clean_tables[3]"
   ]
  },
  {
   "cell_type": "markdown",
   "metadata": {},
   "source": [
    "### The best example of when Selenium is supreme:\n",
    "\n",
    "When the page is written in JavaScript"
   ]
  },
  {
   "cell_type": "code",
   "execution_count": 60,
   "metadata": {},
   "outputs": [],
   "source": [
    "html = requests.get('http://www.tennisabstract.com/cgi-bin/player.cgi?p=RogerFederer')\n",
    "bs = BeautifulSoup(html.content, 'lxml')\n",
    "table = bs.table\n",
    "\n",
    "# table = bs.find(lambda tag: tag.name=='table' ) \n",
    "# rows = table.findAll(lambda tag: tag.name=='tr')"
   ]
  },
  {
   "cell_type": "code",
   "execution_count": 62,
   "metadata": {},
   "outputs": [],
   "source": [
    "# bs"
   ]
  },
  {
   "cell_type": "code",
   "execution_count": 64,
   "metadata": {
    "scrolled": true
   },
   "outputs": [],
   "source": [
    "# table"
   ]
  },
  {
   "cell_type": "code",
   "execution_count": 65,
   "metadata": {},
   "outputs": [],
   "source": [
    "url = \"http://www.tennisabstract.com/cgi-bin/player.cgi?p=RogerFederer\"\n",
    "driver = webdriver.Chrome()"
   ]
  },
  {
   "cell_type": "code",
   "execution_count": 66,
   "metadata": {},
   "outputs": [],
   "source": [
    "driver.get(url)"
   ]
  },
  {
   "cell_type": "code",
   "execution_count": 67,
   "metadata": {},
   "outputs": [],
   "source": [
    "table = driver.find_element_by_id(\"recent-results\")"
   ]
  },
  {
   "cell_type": "code",
   "execution_count": 68,
   "metadata": {},
   "outputs": [],
   "source": [
    "body = table.find_element_by_css_selector('tbody')"
   ]
  },
  {
   "cell_type": "code",
   "execution_count": 69,
   "metadata": {},
   "outputs": [],
   "source": [
    "# Table rows usually have the css tag 'tr'\n",
    "rows = body.find_elements_by_css_selector('tr')"
   ]
  },
  {
   "cell_type": "code",
   "execution_count": 70,
   "metadata": {},
   "outputs": [
    {
     "data": {
      "text/plain": [
       "25"
      ]
     },
     "execution_count": 70,
     "metadata": {},
     "output_type": "execute_result"
    }
   ],
   "source": [
    "len(rows)"
   ]
  },
  {
   "cell_type": "code",
   "execution_count": 71,
   "metadata": {},
   "outputs": [
    {
     "data": {
      "text/plain": [
       "'<td>26-Aug-2019</td><td><a href=\"http://www.tennisabstract.com/cgi-bin/tourney.cgi?t=2019US_Open\">US Open</a></td><td>Hard</td><td>QF</td><td align=\"right\">3</td><td align=\"right\">78</td><td><a href=\"http://www.tennisabstract.com/cgi-bin/player.cgi?p=GrigorDimitrov\">Grigor Dimitrov</a> [BUL] d. (3)<b>Federer</b></td><td>3-6 6-4 3-6 6-4 6-2</td><td align=\"right\">0.91</td><td align=\"right\">4.2%</td><td align=\"right\">0.7%</td><td align=\"right\">61.1%</td><td align=\"right\">73.9%</td><td align=\"right\">50.0%</td><td align=\"right\">10/15</td><td align=\"right\">3:12</td>'"
      ]
     },
     "execution_count": 71,
     "metadata": {},
     "output_type": "execute_result"
    }
   ],
   "source": [
    "rows[0].get_attribute('innerHTML')"
   ]
  },
  {
   "cell_type": "code",
   "execution_count": 72,
   "metadata": {},
   "outputs": [],
   "source": [
    "row_data = rows[0].find_elements_by_css_selector('td')"
   ]
  },
  {
   "cell_type": "code",
   "execution_count": 73,
   "metadata": {},
   "outputs": [
    {
     "name": "stdout",
     "output_type": "stream",
     "text": [
      "26-Aug-2019\n",
      "US Open\n",
      "Hard\n",
      "QF\n",
      "3\n",
      "78\n",
      "Grigor Dimitrov [BUL] d. (3)Federer\n",
      "3-6 6-4 3-6 6-4 6-2\n",
      "0.91\n",
      "4.2%\n",
      "0.7%\n",
      "61.1%\n",
      "73.9%\n",
      "50.0%\n",
      "10/15\n",
      "3:12\n"
     ]
    }
   ],
   "source": [
    "for e in row_data: \n",
    "    print(e.text)"
   ]
  },
  {
   "cell_type": "code",
   "execution_count": 74,
   "metadata": {},
   "outputs": [],
   "source": [
    "data_list = []\n",
    "for r in rows: \n",
    "    row_list = []\n",
    "    row_data = r.find_elements_by_css_selector('td')\n",
    "    for d in row_data: \n",
    "        row_list.append(d.text)\n",
    "    data_list.append(row_list)"
   ]
  },
  {
   "cell_type": "code",
   "execution_count": 75,
   "metadata": {},
   "outputs": [
    {
     "data": {
      "text/plain": [
       "['01-Jul-2019',\n",
       " 'Wimbledon',\n",
       " 'Grass',\n",
       " 'R16',\n",
       " '3',\n",
       " '20',\n",
       " '(2)Federer d. (17)Matteo Berrettini [ITA]',\n",
       " '6-1 6-2 6-2',\n",
       " '2.77',\n",
       " '8.2%',\n",
       " '1.6%',\n",
       " '68.9%',\n",
       " '88.1%',\n",
       " '68.4%',\n",
       " '1/1',\n",
       " '1:14']"
      ]
     },
     "execution_count": 75,
     "metadata": {},
     "output_type": "execute_result"
    }
   ],
   "source": [
    "data_list[10]"
   ]
  },
  {
   "cell_type": "code",
   "execution_count": 76,
   "metadata": {},
   "outputs": [
    {
     "data": {
      "text/plain": [
       "16"
      ]
     },
     "execution_count": 76,
     "metadata": {},
     "output_type": "execute_result"
    }
   ],
   "source": [
    "len(data_list[10])"
   ]
  },
  {
   "cell_type": "code",
   "execution_count": 77,
   "metadata": {},
   "outputs": [
    {
     "data": {
      "text/plain": [
       "'Date Tournament Surface Rd Rk vRk Score DR A% DF% 1stIn 1st% 2nd% BPSvd Time'"
      ]
     },
     "execution_count": 77,
     "metadata": {},
     "output_type": "execute_result"
    }
   ],
   "source": [
    "headers = table.find_element_by_css_selector('thead')\n",
    "headers.text"
   ]
  },
  {
   "cell_type": "code",
   "execution_count": 78,
   "metadata": {},
   "outputs": [
    {
     "name": "stdout",
     "output_type": "stream",
     "text": [
      "['Date', 'Tournament', 'Surface', 'Rd', 'Rk', 'vRk', 'Score', 'DR', 'A%', 'DF%', '1stIn', '1st%', '2nd%', 'BPSvd', 'Time']\n"
     ]
    }
   ],
   "source": [
    "columns = headers.text.split(' ')\n",
    "print(columns)"
   ]
  },
  {
   "cell_type": "code",
   "execution_count": 79,
   "metadata": {},
   "outputs": [
    {
     "name": "stdout",
     "output_type": "stream",
     "text": [
      "Number of columns:     15\n",
      "\n",
      "Number of data points: 16\n"
     ]
    }
   ],
   "source": [
    "print('Number of columns:     '+ str(len(columns)))\n",
    "print()\n",
    "print('Number of data points: '+ str(len(data_list[0])))"
   ]
  },
  {
   "cell_type": "code",
   "execution_count": 80,
   "metadata": {},
   "outputs": [],
   "source": [
    "columns = ['Date','Tournament','Surface','Rd','Rk','vRk', \n",
    "           'Opponent','Score','DR','A%','DF%','1stIn',\n",
    "           '1st%','2nd%','BPSvd','Time']"
   ]
  },
  {
   "cell_type": "code",
   "execution_count": 81,
   "metadata": {},
   "outputs": [
    {
     "name": "stdout",
     "output_type": "stream",
     "text": [
      "['26-Aug-2019', 'US Open', 'Hard', 'QF', '3', '78', 'Grigor Dimitrov [BUL] d. (3)Federer', '3-6 6-4 3-6 6-4 6-2', '0.91', '4.2%', '0.7%', '61.1%', '73.9%', '50.0%', '10/15', '3:12']\n"
     ]
    }
   ],
   "source": [
    "print(data_list[0])"
   ]
  },
  {
   "cell_type": "code",
   "execution_count": 82,
   "metadata": {},
   "outputs": [],
   "source": [
    "federer_h2h = pd.DataFrame(data_list[1:], columns=columns)"
   ]
  },
  {
   "cell_type": "code",
   "execution_count": 83,
   "metadata": {},
   "outputs": [
    {
     "data": {
      "text/html": [
       "<div>\n",
       "<style scoped>\n",
       "    .dataframe tbody tr th:only-of-type {\n",
       "        vertical-align: middle;\n",
       "    }\n",
       "\n",
       "    .dataframe tbody tr th {\n",
       "        vertical-align: top;\n",
       "    }\n",
       "\n",
       "    .dataframe thead th {\n",
       "        text-align: right;\n",
       "    }\n",
       "</style>\n",
       "<table border=\"1\" class=\"dataframe\">\n",
       "  <thead>\n",
       "    <tr style=\"text-align: right;\">\n",
       "      <th></th>\n",
       "      <th>Date</th>\n",
       "      <th>Tournament</th>\n",
       "      <th>Surface</th>\n",
       "      <th>Rd</th>\n",
       "      <th>Rk</th>\n",
       "      <th>vRk</th>\n",
       "      <th>Opponent</th>\n",
       "      <th>Score</th>\n",
       "      <th>DR</th>\n",
       "      <th>A%</th>\n",
       "      <th>DF%</th>\n",
       "      <th>1stIn</th>\n",
       "      <th>1st%</th>\n",
       "      <th>2nd%</th>\n",
       "      <th>BPSvd</th>\n",
       "      <th>Time</th>\n",
       "    </tr>\n",
       "  </thead>\n",
       "  <tbody>\n",
       "    <tr>\n",
       "      <th>0</th>\n",
       "      <td>26-Aug-2019</td>\n",
       "      <td>US Open</td>\n",
       "      <td>Hard</td>\n",
       "      <td>R16</td>\n",
       "      <td>3</td>\n",
       "      <td>15</td>\n",
       "      <td>(3)Federer d. (15)David Goffin [BEL]</td>\n",
       "      <td>6-2 6-2 6-0</td>\n",
       "      <td>2.18</td>\n",
       "      <td>16.1%</td>\n",
       "      <td>4.8%</td>\n",
       "      <td>67.7%</td>\n",
       "      <td>83.3%</td>\n",
       "      <td>40.0%</td>\n",
       "      <td>5/7</td>\n",
       "      <td>1:19</td>\n",
       "    </tr>\n",
       "    <tr>\n",
       "      <th>1</th>\n",
       "      <td>26-Aug-2019</td>\n",
       "      <td>US Open</td>\n",
       "      <td>Hard</td>\n",
       "      <td>R32</td>\n",
       "      <td>3</td>\n",
       "      <td>58</td>\n",
       "      <td>(3)Federer d. Daniel Evans [GBR]</td>\n",
       "      <td>6-2 6-2 6-1</td>\n",
       "      <td>2.60</td>\n",
       "      <td>16.4%</td>\n",
       "      <td>1.6%</td>\n",
       "      <td>65.6%</td>\n",
       "      <td>80.0%</td>\n",
       "      <td>71.4%</td>\n",
       "      <td>1/2</td>\n",
       "      <td>1:20</td>\n",
       "    </tr>\n",
       "    <tr>\n",
       "      <th>2</th>\n",
       "      <td>26-Aug-2019</td>\n",
       "      <td>US Open</td>\n",
       "      <td>Hard</td>\n",
       "      <td>R64</td>\n",
       "      <td>3</td>\n",
       "      <td>99</td>\n",
       "      <td>(3)Federer d. Damir Dzumhur [BIH]</td>\n",
       "      <td>3-6 6-2 6-3 6-4</td>\n",
       "      <td>1.20</td>\n",
       "      <td>13.4%</td>\n",
       "      <td>3.4%</td>\n",
       "      <td>68.9%</td>\n",
       "      <td>76.8%</td>\n",
       "      <td>43.2%</td>\n",
       "      <td>6/8</td>\n",
       "      <td>2:22</td>\n",
       "    </tr>\n",
       "    <tr>\n",
       "      <th>3</th>\n",
       "      <td>26-Aug-2019</td>\n",
       "      <td>US Open</td>\n",
       "      <td>Hard</td>\n",
       "      <td>R128</td>\n",
       "      <td>3</td>\n",
       "      <td>190</td>\n",
       "      <td>(3)Federer d. Sumit Nagal [IND]</td>\n",
       "      <td>4-6 6-1 6-2 6-4</td>\n",
       "      <td>1.21</td>\n",
       "      <td>9.1%</td>\n",
       "      <td>5.3%</td>\n",
       "      <td>60.6%</td>\n",
       "      <td>71.3%</td>\n",
       "      <td>48.1%</td>\n",
       "      <td>10/13</td>\n",
       "      <td>2:30</td>\n",
       "    </tr>\n",
       "    <tr>\n",
       "      <th>4</th>\n",
       "      <td>12-Aug-2019</td>\n",
       "      <td>Cincinnati Masters</td>\n",
       "      <td>Hard</td>\n",
       "      <td>R16</td>\n",
       "      <td>3</td>\n",
       "      <td>70</td>\n",
       "      <td>(Q)Andrey Rublev [RUS] d. (3)Federer</td>\n",
       "      <td>6-3 6-4</td>\n",
       "      <td>0.68</td>\n",
       "      <td>10.2%</td>\n",
       "      <td>4.1%</td>\n",
       "      <td>65.3%</td>\n",
       "      <td>62.5%</td>\n",
       "      <td>52.9%</td>\n",
       "      <td>1/4</td>\n",
       "      <td>1:01</td>\n",
       "    </tr>\n",
       "  </tbody>\n",
       "</table>\n",
       "</div>"
      ],
      "text/plain": [
       "          Date          Tournament Surface    Rd Rk  vRk  \\\n",
       "0  26-Aug-2019             US Open    Hard   R16  3   15   \n",
       "1  26-Aug-2019             US Open    Hard   R32  3   58   \n",
       "2  26-Aug-2019             US Open    Hard   R64  3   99   \n",
       "3  26-Aug-2019             US Open    Hard  R128  3  190   \n",
       "4  12-Aug-2019  Cincinnati Masters    Hard   R16  3   70   \n",
       "\n",
       "                               Opponent            Score    DR     A%   DF%  \\\n",
       "0  (3)Federer d. (15)David Goffin [BEL]      6-2 6-2 6-0  2.18  16.1%  4.8%   \n",
       "1      (3)Federer d. Daniel Evans [GBR]      6-2 6-2 6-1  2.60  16.4%  1.6%   \n",
       "2     (3)Federer d. Damir Dzumhur [BIH]  3-6 6-2 6-3 6-4  1.20  13.4%  3.4%   \n",
       "3       (3)Federer d. Sumit Nagal [IND]  4-6 6-1 6-2 6-4  1.21   9.1%  5.3%   \n",
       "4  (Q)Andrey Rublev [RUS] d. (3)Federer          6-3 6-4  0.68  10.2%  4.1%   \n",
       "\n",
       "   1stIn   1st%   2nd%  BPSvd  Time  \n",
       "0  67.7%  83.3%  40.0%    5/7  1:19  \n",
       "1  65.6%  80.0%  71.4%    1/2  1:20  \n",
       "2  68.9%  76.8%  43.2%    6/8  2:22  \n",
       "3  60.6%  71.3%  48.1%  10/13  2:30  \n",
       "4  65.3%  62.5%  52.9%    1/4  1:01  "
      ]
     },
     "execution_count": 83,
     "metadata": {},
     "output_type": "execute_result"
    }
   ],
   "source": [
    "federer_h2h.head()"
   ]
  },
  {
   "cell_type": "markdown",
   "metadata": {},
   "source": [
    "- A slightly different approach:"
   ]
  },
  {
   "cell_type": "code",
   "execution_count": 84,
   "metadata": {},
   "outputs": [
    {
     "data": {
      "text/plain": [
       "16"
      ]
     },
     "execution_count": 84,
     "metadata": {},
     "output_type": "execute_result"
    }
   ],
   "source": [
    "header = table.find_element_by_css_selector('thead')\n",
    "\n",
    "header_elements = header.find_elements_by_css_selector('th')\n",
    "\n",
    "len(header_elements)"
   ]
  },
  {
   "cell_type": "code",
   "execution_count": 85,
   "metadata": {},
   "outputs": [
    {
     "name": "stdout",
     "output_type": "stream",
     "text": [
      "['Date', 'Tournament', 'Surface', 'Rd', 'Rk', 'vRk', '', 'Score', 'DR', 'A%', 'DF%', '1stIn', '1st%', '2nd%', 'BPSvd', 'Time']\n"
     ]
    }
   ],
   "source": [
    "headers = []\n",
    "\n",
    "for x in header_elements: \n",
    "    headers.append(x.text)\n",
    "print(headers)"
   ]
  },
  {
   "cell_type": "markdown",
   "metadata": {},
   "source": [
    "## Some other neat stuff:"
   ]
  },
  {
   "cell_type": "code",
   "execution_count": 86,
   "metadata": {},
   "outputs": [],
   "source": [
    "# Let's take a screenshot! \n",
    "\n",
    "driver.get('https://www.nytimes.com')\n",
    "\n",
    "driver.get_screenshot_as_file('ny_times_front_pg.png')\n",
    "\n",
    "driver.quit()"
   ]
  },
  {
   "cell_type": "code",
   "execution_count": null,
   "metadata": {},
   "outputs": [],
   "source": [
    "# The .get_attribute() method is your friend\n",
    "# Example code (don't run this):\n",
    "\n",
    "# element.get_attribute(\"attribute name\")\n",
    "\n",
    "# attribute_value = WebDriverWait(driver, 20).until(EC.presence_of_element_located((By.ID,\n",
    "#                                                                 \"id_name_here\"))).get_attribute(\"attribute_name_here\")"
   ]
  },
  {
   "cell_type": "markdown",
   "metadata": {},
   "source": [
    "# Example of \"complete\" scraper:\n",
    "\n",
    "- Including an example of `.get_attribute()`"
   ]
  },
  {
   "cell_type": "code",
   "execution_count": 88,
   "metadata": {},
   "outputs": [],
   "source": [
    "driver = webdriver.Chrome()"
   ]
  },
  {
   "cell_type": "code",
   "execution_count": 89,
   "metadata": {},
   "outputs": [],
   "source": [
    "topic_url_dict = {'15': 'arts', '16':'sports', '24':'sci-tech', '14': 'business',\n",
    "                  '17': 'international', '13': 'authority'}\n",
    "\n",
    "topic_codes = list(topic_url_dict.keys())\n",
    "\n",
    "driver = webdriver.Chrome()"
   ]
  },
  {
   "cell_type": "code",
   "execution_count": 90,
   "metadata": {},
   "outputs": [],
   "source": [
    "# Before creating a scraper, examine user interface structure:\n",
    "# Can we scroll through articles? Do we need to get the article links first?\n",
    "\n",
    "driver.get('http://www.satirewire.com/')"
   ]
  },
  {
   "cell_type": "code",
   "execution_count": 98,
   "metadata": {},
   "outputs": [],
   "source": [
    "# <-- STEP 1 -->\n",
    "# Create a function to scrape the links of articles:\n",
    "\n",
    "def scrape_links_satirewire(topic_codes):\n",
    "    \n",
    "    base_url = \"http://www.satirewire.com/content1/?cat=\"\n",
    "    link_list = []\n",
    "    \n",
    "    for code in topic_codes: \n",
    "        url = base_url + code \n",
    "        topic = topic_url_dict[code]\n",
    "        driver.get(url)\n",
    "        time.sleep(1.18)\n",
    "        last_page = driver.find_element_by_class_name('pages').text\n",
    "        last_page_value = int(last_page.split(' of ', 1)[1])\n",
    "        link_objects1 = driver.find_elements_by_class_name('morelink')\n",
    "        print('Scraping ', len(link_objects1), topic.upper(), ' article links')\n",
    "        for link in link_objects1:\n",
    "            if '#' not in link.get_attribute('href'):\n",
    "                link_list.append((link.get_attribute('href'), topic))\n",
    "            else:\n",
    "                pass       \n",
    "        for x in range(2, (last_page_value + 1)):\n",
    "            driver.get(url + '&paged=' + str(x))\n",
    "            time.sleep(1.08)\n",
    "            link_objects1 = driver.find_elements_by_class_name('morelink')\n",
    "            print('Scraping ', len(link_objects1), topic.upper(), ' article links')\n",
    "\n",
    "            for link in link_objects1:\n",
    "                if '#' not in link.get_attribute('href'):\n",
    "                    link_list.append((link.get_attribute('href'), topic))\n",
    "                else:\n",
    "                    pass                        \n",
    "    df = pd.DataFrame()\n",
    "    df['urls'] = [x[0] for x in link_list]\n",
    "    df['topics'] = [x[1] for x in link_list]\n",
    "    df = df.drop_duplicates(subset='urls')\n",
    "    set_satirewire_urls = [(df['urls'][i], df['topics'][i]) for i in list(df.index)]\n",
    "    \n",
    "    print('-----------------------------------')\n",
    "    print('Total of', len(set_satirewire_urls), 'urls to scrape for articles')\n",
    "    print('-----------------------------------')\n",
    "    return set_satirewire_urls                  "
   ]
  },
  {
   "cell_type": "code",
   "execution_count": 99,
   "metadata": {},
   "outputs": [],
   "source": [
    "# <-- STEP 2 -->\n",
    "# Create a helper function to clean up the article's text:\n",
    "\n",
    "def clean_up_satirewire(dirty_string):\n",
    "    \n",
    "    body_clean1 = re.sub(r\"\\s+\", \" \", dirty_string)\n",
    "    body_squeaky = body_clean1.split('Copyright ©', 1)[0]\n",
    "    sep1 = '(SatireWire) — '\n",
    "    sep2 = '(SatireWire.com) — '\n",
    "    sep3 = '(SatireWire.com) – '\n",
    "    if sep1 in body_squeaky:\n",
    "        clean = body_squeaky.split(sep1, 1)[1]\n",
    "    elif sep2 in body_squeaky:\n",
    "        clean = body_squeaky.split(sep2, 1)[1]\n",
    "    elif sep3 in body_squeaky:\n",
    "        clean = body_squeaky.split(sep3, 1)[1]\n",
    "    else:\n",
    "        clean = body_squeaky\n",
    "    return clean "
   ]
  },
  {
   "cell_type": "code",
   "execution_count": 100,
   "metadata": {},
   "outputs": [
    {
     "name": "stdout",
     "output_type": "stream",
     "text": [
      "Are these to \"dash\" characters equal to each other? Answer: False\n"
     ]
    }
   ],
   "source": [
    "print('Are these to \"dash\" characters equal to each other? Answer: ' + str(bool('—'=='–')))"
   ]
  },
  {
   "cell_type": "code",
   "execution_count": 101,
   "metadata": {},
   "outputs": [],
   "source": [
    "# <-- STEP 3 -->\n",
    "# Create a helper function to scrape individual article content:\n",
    "\n",
    "def scrape_one_article(url, topic, ind, all_urls, all_dates, all_titles, \n",
    "                       all_lengths, all_topics1, body_contents, source_id):\n",
    "    try:\n",
    "        driver.get(url)\n",
    "        time.sleep(1.1)\n",
    "        body = driver.find_element_by_class_name('entry').text\n",
    "        length = round(len(body) /5/ 250, 1)\n",
    "        \n",
    "        if length >= .5:\n",
    "            if url not in all_urls:                \n",
    "                date = driver.find_element_by_class_name('entry-date').text\n",
    "                date = pd.to_datetime(date).date().strftime('%Y-%m-%d')\n",
    "                title = driver.find_element_by_tag_name('h2').text\n",
    "                body_squeaky = clean_up_satirewire(body)\n",
    "                \n",
    "                all_urls.append(url)\n",
    "                body_contents.append(body_squeaky)\n",
    "                all_dates.append(date)\n",
    "                all_titles.append(title)\n",
    "                all_lengths.append(length)\n",
    "                all_topics1.append(topic)\n",
    "\n",
    "#           --- ADDING CATEGORIES AT A LATER TIME FOR TOPIC MODELING ---\n",
    "#                 category_dict = find_categories(content, categories)\n",
    "#                 all_topics1.append(category_dict[0])\n",
    "#                 all_topics2.append(category_dict[1])\n",
    "#                 all_topics3.append(category_dict[2])\n",
    "#                 all_topics4.append(category_dict[3])\n",
    "#                 all_topics5.append(category_dict[4])\n",
    "\n",
    "            else:\n",
    "                print(\"Duplicate link not added\", ind)\n",
    "                pass\n",
    "        else:\n",
    "            print('Not worthy of scraping article #', ind)\n",
    "            pass\n",
    "    except Exception as e:\n",
    "        print('Nothing to scrape for link #', str(ind) , e)\n",
    "        pass"
   ]
  },
  {
   "cell_type": "code",
   "execution_count": 102,
   "metadata": {},
   "outputs": [],
   "source": [
    "# <-- STEP 4 -->\n",
    "# Scrape each article's content and populate a dataframe\n",
    "\n",
    "def scrape_satirewire_articles(urls_list):\n",
    "    ind = 1\n",
    "    body_contents = []\n",
    "    all_urls = []\n",
    "    all_dates = []\n",
    "    all_titles = []\n",
    "    all_lengths = []\n",
    "    all_topics1 = []\n",
    "    author = 'Author not specified'\n",
    "    source_id = 'SatireWire'\n",
    "    \n",
    "#     all_topics2 = []\n",
    "#     all_topics3 = []\n",
    "#     all_topics4 = []\n",
    "#     all_topics5 = []\n",
    "    \n",
    "    for url, topic in urls_list:\n",
    "        print('Working on #' + str(ind) + ' of '+ str(len(urls_list)) +' links')\n",
    "        print()\n",
    "        scrape_one_article(url, topic, ind, all_urls, all_dates, all_titles, \n",
    "                           all_lengths, all_topics1, body_contents, source_id)\n",
    "        ind += 1    \n",
    "\n",
    "    df = pd.DataFrame()\n",
    "    df['body_content'] = body_contents\n",
    "    df['url'] = all_urls\n",
    "    df['date'] = all_dates\n",
    "    df['title'] = all_titles\n",
    "    df['length'] = all_lengths\n",
    "    df['topic_1'] = all_topics1\n",
    "    df['author'] = author\n",
    "    df['source_id'] = source_id\n",
    "    df['satire_or_not'] = 'satire'\n",
    "    df['label'] = 1\n",
    "\n",
    "# ADDING CATEGORIES AT A LATER TIME FOR TOPIC MODELING    \n",
    "#     df['topic_1'] = all_topics1\n",
    "#     df['topic_2'] = all_topics2\n",
    "#     df['topic_3'] = all_topics3\n",
    "#     df['topic_4'] = all_topics4\n",
    "#     df['topic_5'] = all_topics5\n",
    "\n",
    "    df = df.drop_duplicates()\n",
    "    df.index = range(len(df.index))\n",
    "\n",
    "    return df"
   ]
  },
  {
   "cell_type": "code",
   "execution_count": 103,
   "metadata": {},
   "outputs": [],
   "source": [
    "# # Complete scraping function\n",
    "\n",
    "def scrape_satirewire():\n",
    "    \n",
    "    start = time.time()\n",
    "    \n",
    "    satirewire_urls = scrape_links_satirewire(['16'])    # <--- FOR TESTING/DEMONSTRATION PURPOSES\n",
    "#     satirewore_urls = scrape_links_satirewire(topic_codes)\n",
    "\n",
    "    satirewire_df = scrape_satirewire_articles(satirewire_urls)\n",
    "    print('The satire scraper took ', str(time.time() - start), 'seconds.')  # <---   Can remove before uploading to AWS\n",
    "\n",
    "    return satirewire_df"
   ]
  },
  {
   "cell_type": "code",
   "execution_count": 104,
   "metadata": {
    "scrolled": true
   },
   "outputs": [
    {
     "name": "stdout",
     "output_type": "stream",
     "text": [
      "Scraping  20 SPORTS  article links\n",
      "Scraping  20 SPORTS  article links\n",
      "Scraping  17 SPORTS  article links\n",
      "-----------------------------------\n",
      "Total of 32 urls to scrape for articles\n",
      "-----------------------------------\n",
      "Working on #1 of 32 links\n",
      "\n",
      "Working on #2 of 32 links\n",
      "\n",
      "Working on #3 of 32 links\n",
      "\n",
      "Working on #4 of 32 links\n",
      "\n",
      "Working on #5 of 32 links\n",
      "\n",
      "Working on #6 of 32 links\n",
      "\n",
      "Working on #7 of 32 links\n",
      "\n",
      "Working on #8 of 32 links\n",
      "\n",
      "Working on #9 of 32 links\n",
      "\n",
      "Working on #10 of 32 links\n",
      "\n",
      "Working on #11 of 32 links\n",
      "\n",
      "Working on #12 of 32 links\n",
      "\n",
      "Working on #13 of 32 links\n",
      "\n",
      "Working on #14 of 32 links\n",
      "\n",
      "Working on #15 of 32 links\n",
      "\n",
      "Working on #16 of 32 links\n",
      "\n",
      "Working on #17 of 32 links\n",
      "\n",
      "Working on #18 of 32 links\n",
      "\n",
      "Working on #19 of 32 links\n",
      "\n",
      "Working on #20 of 32 links\n",
      "\n",
      "Working on #21 of 32 links\n",
      "\n",
      "Working on #22 of 32 links\n",
      "\n",
      "Working on #23 of 32 links\n",
      "\n",
      "Working on #24 of 32 links\n",
      "\n",
      "Working on #25 of 32 links\n",
      "\n",
      "Working on #26 of 32 links\n",
      "\n",
      "Working on #27 of 32 links\n",
      "\n",
      "Working on #28 of 32 links\n",
      "\n",
      "Not worthy of scraping article # 28\n",
      "Working on #29 of 32 links\n",
      "\n",
      "Working on #30 of 32 links\n",
      "\n",
      "Working on #31 of 32 links\n",
      "\n",
      "Working on #32 of 32 links\n",
      "\n",
      "The satire scraper took  94.23584198951721 seconds.\n"
     ]
    }
   ],
   "source": [
    "satire = scrape_satirewire()"
   ]
  },
  {
   "cell_type": "code",
   "execution_count": 105,
   "metadata": {
    "scrolled": true
   },
   "outputs": [
    {
     "data": {
      "text/html": [
       "<div>\n",
       "<style scoped>\n",
       "    .dataframe tbody tr th:only-of-type {\n",
       "        vertical-align: middle;\n",
       "    }\n",
       "\n",
       "    .dataframe tbody tr th {\n",
       "        vertical-align: top;\n",
       "    }\n",
       "\n",
       "    .dataframe thead th {\n",
       "        text-align: right;\n",
       "    }\n",
       "</style>\n",
       "<table border=\"1\" class=\"dataframe\">\n",
       "  <thead>\n",
       "    <tr style=\"text-align: right;\">\n",
       "      <th></th>\n",
       "      <th>body_content</th>\n",
       "      <th>url</th>\n",
       "      <th>date</th>\n",
       "      <th>title</th>\n",
       "      <th>length</th>\n",
       "      <th>topic_1</th>\n",
       "      <th>author</th>\n",
       "      <th>source_id</th>\n",
       "      <th>satire_or_not</th>\n",
       "      <th>label</th>\n",
       "    </tr>\n",
       "  </thead>\n",
       "  <tbody>\n",
       "    <tr>\n",
       "      <th>26</th>\n",
       "      <td>In a surprising tactical shift, the frustrated European Central Bank announced yesterday it will no longer intervene to bolster the sagging euro, but will instead intervene in English Premier Leag...</td>\n",
       "      <td>http://www.satirewire.com/content1/?p=561</td>\n",
       "      <td>2009-05-05</td>\n",
       "      <td>European Central Bank to Intervene in Football Matches</td>\n",
       "      <td>1.0</td>\n",
       "      <td>sports</td>\n",
       "      <td>Author not specified</td>\n",
       "      <td>SatireWire</td>\n",
       "      <td>satire</td>\n",
       "      <td>1</td>\n",
       "    </tr>\n",
       "    <tr>\n",
       "      <th>27</th>\n",
       "      <td>As World Cup fever grips the globe, nowhere is the mania for Earth’s greatest sporting event stronger than in the United States, where 280 million soccer-mad Americans are on the emotional edge, u...</td>\n",
       "      <td>http://www.satirewire.com/content1/?p=825</td>\n",
       "      <td>2009-05-05</td>\n",
       "      <td>SOCCER-MAD U.S. CRAZED OVER WORLD CUP</td>\n",
       "      <td>3.0</td>\n",
       "      <td>sports</td>\n",
       "      <td>Author not specified</td>\n",
       "      <td>SatireWire</td>\n",
       "      <td>satire</td>\n",
       "      <td>1</td>\n",
       "    </tr>\n",
       "    <tr>\n",
       "      <th>28</th>\n",
       "      <td>Saying there could be no greater blow to the enemies of freedom than to see the United States win gold, President George W. Bush today called upon non-U.S. Olympians to unite behind America by fin...</td>\n",
       "      <td>http://www.satirewire.com/content1/?p=880</td>\n",
       "      <td>2009-05-05</td>\n",
       "      <td>BUSH ASKS NON-U.S. OLYMPIANS TO UNITE BEHIND AMERICA BY FINISHING BEHIND AMERICA</td>\n",
       "      <td>3.6</td>\n",
       "      <td>sports</td>\n",
       "      <td>Author not specified</td>\n",
       "      <td>SatireWire</td>\n",
       "      <td>satire</td>\n",
       "      <td>1</td>\n",
       "    </tr>\n",
       "    <tr>\n",
       "      <th>29</th>\n",
       "      <td>The awe and wonder over miraculous World Series victories by baseball’s New York Yankees were dampened by growing cynicism today as residents said they couldn’t help but notice that God had sudden...</td>\n",
       "      <td>http://www.satirewire.com/content1/?p=916</td>\n",
       "      <td>2009-05-05</td>\n",
       "      <td>SO NOW GOD TAKES AN INTEREST IN ANSWERING NEW YORK’S PRAYERS?</td>\n",
       "      <td>2.0</td>\n",
       "      <td>sports</td>\n",
       "      <td>Author not specified</td>\n",
       "      <td>SatireWire</td>\n",
       "      <td>satire</td>\n",
       "      <td>1</td>\n",
       "    </tr>\n",
       "    <tr>\n",
       "      <th>30</th>\n",
       "      <td>The National Hockey League opened its regular season Wednesday, offering fans a welcome respite from last month’s stunningly mindless violence by allowing them to sit back and watch players from C...</td>\n",
       "      <td>http://www.satirewire.com/content1/?p=929</td>\n",
       "      <td>2009-05-05</td>\n",
       "      <td>HOCKEY PROVIDES WELCOME RESPITE FROM VIOLENCE</td>\n",
       "      <td>2.5</td>\n",
       "      <td>sports</td>\n",
       "      <td>Author not specified</td>\n",
       "      <td>SatireWire</td>\n",
       "      <td>satire</td>\n",
       "      <td>1</td>\n",
       "    </tr>\n",
       "  </tbody>\n",
       "</table>\n",
       "</div>"
      ],
      "text/plain": [
       "                                                                                                                                                                                               body_content  \\\n",
       "26  In a surprising tactical shift, the frustrated European Central Bank announced yesterday it will no longer intervene to bolster the sagging euro, but will instead intervene in English Premier Leag...   \n",
       "27  As World Cup fever grips the globe, nowhere is the mania for Earth’s greatest sporting event stronger than in the United States, where 280 million soccer-mad Americans are on the emotional edge, u...   \n",
       "28  Saying there could be no greater blow to the enemies of freedom than to see the United States win gold, President George W. Bush today called upon non-U.S. Olympians to unite behind America by fin...   \n",
       "29  The awe and wonder over miraculous World Series victories by baseball’s New York Yankees were dampened by growing cynicism today as residents said they couldn’t help but notice that God had sudden...   \n",
       "30  The National Hockey League opened its regular season Wednesday, offering fans a welcome respite from last month’s stunningly mindless violence by allowing them to sit back and watch players from C...   \n",
       "\n",
       "                                          url        date  \\\n",
       "26  http://www.satirewire.com/content1/?p=561  2009-05-05   \n",
       "27  http://www.satirewire.com/content1/?p=825  2009-05-05   \n",
       "28  http://www.satirewire.com/content1/?p=880  2009-05-05   \n",
       "29  http://www.satirewire.com/content1/?p=916  2009-05-05   \n",
       "30  http://www.satirewire.com/content1/?p=929  2009-05-05   \n",
       "\n",
       "                                                                               title  \\\n",
       "26                            European Central Bank to Intervene in Football Matches   \n",
       "27                                             SOCCER-MAD U.S. CRAZED OVER WORLD CUP   \n",
       "28  BUSH ASKS NON-U.S. OLYMPIANS TO UNITE BEHIND AMERICA BY FINISHING BEHIND AMERICA   \n",
       "29                     SO NOW GOD TAKES AN INTEREST IN ANSWERING NEW YORK’S PRAYERS?   \n",
       "30                                     HOCKEY PROVIDES WELCOME RESPITE FROM VIOLENCE   \n",
       "\n",
       "    length topic_1                author   source_id satire_or_not  label  \n",
       "26     1.0  sports  Author not specified  SatireWire        satire      1  \n",
       "27     3.0  sports  Author not specified  SatireWire        satire      1  \n",
       "28     3.6  sports  Author not specified  SatireWire        satire      1  \n",
       "29     2.0  sports  Author not specified  SatireWire        satire      1  \n",
       "30     2.5  sports  Author not specified  SatireWire        satire      1  "
      ]
     },
     "execution_count": 105,
     "metadata": {},
     "output_type": "execute_result"
    }
   ],
   "source": [
    "satire.tail()"
   ]
  },
  {
   "cell_type": "code",
   "execution_count": 106,
   "metadata": {},
   "outputs": [
    {
     "data": {
      "text/plain": [
       "'The National Hockey League opened its regular season Wednesday, offering fans a welcome respite from last month’s stunningly mindless violence by allowing them to sit back and watch players from Calgary to Colorado entertain them with stunningly mindless violence. In Pittsburgh, Penguin right winger Stephane Richer slammed Colorado Avalanche forward Eric Messier into the boards, injuring Messier’s shoulder in a senseless attack that temporarily mitigated memories of the senseless attacks on America on Sept. 11. Colorado won the game 3-1. In Toronto, Maple Leafs’ center Darcy Tucker did his part to distract fans from the seemingly random brutality of a chaotic world by blindsiding Ottawa’s Karel Rachunek, leaving the Senator defenseman motionless on the ice for 10 minutes. Ottawa squeaked out a 5-4 win. Rachunek was taken off on a stretcher. “The disquieting images of New York and Washington are forever encased on the minds of millions, but at some point, we have to let ourselves escape those images,” Tucker said in a post-game interview. “But I will say this: Whether people perpetrate violence against others for political reasons or religious reasons, it’s unjustifiable and inherently wrong,” Tucker added that he went after Rachune for entirely different reasons. “He was standing there,” Tucker explained. Off the ice, fans in Canada and the United States shared a visceral sense of relief that professional hockey had returned, and that the games would furnish, no matter how fleetingly, some relief from the terrible events of September. “I’ll never forget what happened last month, but coming here to the game with my boy acts as a salve for our emotional scars,” said Maple Leafs’ fan Steve Karnocko, as he watched the game with his 7-year-old son, Mario. “We may have more scars yet to come – I don’t know what’s going to happen in the coming days and weeks – but it’s my hope that my son won’t have to grow up in an world riddled with violen… Oh c’mon, Corson! You gonna take that bullshit from Muckalt? Deck the bastard!” Added Calgary Flames left winger Jeff Cowan, who in the opening period got into a brawl with Edmonton Oilers defenseman Steve Staois. “Even though I was out there on the ice tonight, safely ensconced in an environment far removed from the troubles of society, I could not help but be haunted by the words of John Lennon as I attempted to pull (Staois’) jersey over his head and knock his lights out. ‘Imagine there’s no countries, It isn’t hard to do. Nothing to kill or die for, And no religion too. Imagine all the people, Living life in peace.” Cown and Staois were both penalized with five-minute fighting majors. Calgary won the game 1-0. '"
      ]
     },
     "execution_count": 106,
     "metadata": {},
     "output_type": "execute_result"
    }
   ],
   "source": [
    "satire.body_content[30]"
   ]
  },
  {
   "cell_type": "code",
   "execution_count": null,
   "metadata": {},
   "outputs": [],
   "source": []
  }
 ],
 "metadata": {
  "kernelspec": {
   "display_name": "Python 3",
   "language": "python",
   "name": "python3"
  },
  "language_info": {
   "codemirror_mode": {
    "name": "ipython",
    "version": 3
   },
   "file_extension": ".py",
   "mimetype": "text/x-python",
   "name": "python",
   "nbconvert_exporter": "python",
   "pygments_lexer": "ipython3",
   "version": "3.7.1"
  },
  "toc": {
   "base_numbering": 1,
   "nav_menu": {},
   "number_sections": true,
   "sideBar": true,
   "skip_h1_title": false,
   "title_cell": "Table of Contents",
   "title_sidebar": "Contents",
   "toc_cell": false,
   "toc_position": {},
   "toc_section_display": true,
   "toc_window_display": false
  }
 },
 "nbformat": 4,
 "nbformat_minor": 2
}
