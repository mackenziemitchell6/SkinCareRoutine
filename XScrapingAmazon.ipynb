{
 "cells": [
  {
   "cell_type": "code",
   "execution_count": 1,
   "metadata": {},
   "outputs": [],
   "source": [
    "import requests\n",
    "import pandas as pd\n",
    "import numpy as np\n",
    "import matplotlib.pyplot as plt\n",
    "import seaborn as sns\n",
    "%matplotlib inline\n",
    "from bs4 import BeautifulSoup\n",
    "import pickle"
   ]
  },
  {
   "cell_type": "code",
   "execution_count": 8,
   "metadata": {},
   "outputs": [],
   "source": [
    "nykkadict=[]\n",
    "for i in range(0,507)\n",
    "    response=requests.get('https://www.nykaa.com/skin/c/8377?page_no={}'.format(i))\n",
    "    soup=BeautifulSoup(response.content,'html.parser')\n",
    "    products=soup.findAll('h2',{'title':True})\n",
    "    for p in products:\n",
    "        nykkadict.append({'prodName':p.text,})"
   ]
  },
  {
   "cell_type": "code",
   "execution_count": 14,
   "metadata": {},
   "outputs": [
    {
     "name": "stdout",
     "output_type": "stream",
     "text": [
      "₹679 \n",
      "₹360 \n",
      "₹740 \n",
      "₹259 \n",
      "₹249 \n",
      "₹280 \n",
      "₹248 \n",
      "₹45 \n",
      "₹56 \n",
      "₹114 \n",
      "₹100 \n",
      "₹390 \n",
      "₹150 \n",
      "₹975 \n",
      "₹100 \n",
      "₹325 \n",
      "₹220 \n",
      "₹175 \n",
      "₹120 \n",
      "₹1950 \n"
     ]
    }
   ],
   "source": [
    "nn=soup.findAll('span',{'class':'post-card__content-price-offer'})\n",
    "for n in nn:\n",
    "    print(n.text)"
   ]
  },
  {
   "cell_type": "code",
   "execution_count": null,
   "metadata": {},
   "outputs": [],
   "source": []
  }
 ],
 "metadata": {
  "kernelspec": {
   "display_name": "Python 3",
   "language": "python",
   "name": "python3"
  },
  "language_info": {
   "codemirror_mode": {
    "name": "ipython",
    "version": 3
   },
   "file_extension": ".py",
   "mimetype": "text/x-python",
   "name": "python",
   "nbconvert_exporter": "python",
   "pygments_lexer": "ipython3",
   "version": "3.7.3"
  }
 },
 "nbformat": 4,
 "nbformat_minor": 2
}
